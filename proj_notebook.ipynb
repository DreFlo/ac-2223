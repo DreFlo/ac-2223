{
 "cells": [
  {
   "cell_type": "code",
   "execution_count": 719,
   "id": "7b77a989",
   "metadata": {
    "scrolled": true
   },
   "outputs": [],
   "source": [
    "import pandas as pd\n",
    "import os\n",
    "import seaborn as sb\n",
    "import datetime\n",
    "import numpy as np\n",
    "import matplotlib.pyplot as plt\n",
    "from sklearn.tree import DecisionTreeClassifier\n",
    "from sklearn.model_selection import train_test_split\n",
    "from sklearn import metrics"
   ]
  },
  {
   "cell_type": "markdown",
   "id": "64228076",
   "metadata": {},
   "source": [
    "# Load Data"
   ]
  },
  {
   "cell_type": "code",
   "execution_count": 720,
   "id": "f5f0b5f4",
   "metadata": {},
   "outputs": [],
   "source": [
    "client_df = pd.read_csv('.\\\\ficheiros_competicao_dev\\\\client.csv', sep=';', low_memory=False)\n",
    "\n",
    "account_df = pd.read_csv('.\\\\ficheiros_competicao_dev\\\\account.csv', sep=';', low_memory=False)\n",
    "\n",
    "trans_dev_df = pd.read_csv('.\\\\ficheiros_competicao_dev\\\\trans_dev.csv', sep=';', low_memory=False)\n",
    "\n",
    "loan_dev_df = pd.read_csv('.\\\\ficheiros_competicao_dev\\\\loan_dev.csv', sep=';', low_memory=False)\n",
    "\n",
    "card_dev_df = pd.read_csv('.\\\\ficheiros_competicao_dev\\\\card_dev.csv', sep=';', low_memory=False)\n",
    "\n",
    "disp_df = pd.read_csv('.\\\\ficheiros_competicao_dev\\\\disp.csv', sep=';', low_memory=False)\n",
    "\n",
    "district_df = pd.read_csv('.\\\\ficheiros_competicao_dev\\\\district.csv', sep=';', low_memory=False, na_values='?')"
   ]
  },
  {
   "cell_type": "markdown",
   "id": "08a9e2a5",
   "metadata": {},
   "source": [
    "# Domain Analysis"
   ]
  },
  {
   "cell_type": "markdown",
   "id": "bdf7ae94",
   "metadata": {},
   "source": [
    "## Business Understanding"
   ]
  },
  {
   "cell_type": "markdown",
   "id": "5919f623",
   "metadata": {},
   "source": [
    "### End User Requirements"
   ]
  },
  {
   "cell_type": "markdown",
   "id": "25fec16d",
   "metadata": {},
   "source": [
    "The end user requires a system to determine which clients are and are not capable of paying of the loans they seek to make of the end user."
   ]
  },
  {
   "cell_type": "markdown",
   "id": "d80ac790",
   "metadata": {},
   "source": [
    "### Business Goals"
   ]
  },
  {
   "cell_type": "markdown",
   "id": "36ab537c",
   "metadata": {},
   "source": [
    "In this problem the positive case is a client that cannot pay a loan. The business goal is to create a system to:\n",
    "- Reduce the amount of loan attributions to clients who will default on the loan\n",
    "- Mantain the amount of loan attributions to clients who can fulfill the loan"
   ]
  },
  {
   "cell_type": "markdown",
   "id": "83c43d54",
   "metadata": {},
   "source": [
    "### Data Mining Goals"
   ]
  },
  {
   "cell_type": "markdown",
   "id": "a9d2fe04",
   "metadata": {},
   "source": [
    "From the business goals we can determine that the goal of the model is to avoid granting a loan to a client who cannot pay it back, minimize false negatives so we must optimze for recall."
   ]
  },
  {
   "cell_type": "markdown",
   "id": "14629deb",
   "metadata": {},
   "source": [
    "## Data Understanding"
   ]
  },
  {
   "cell_type": "markdown",
   "id": "028b39b6",
   "metadata": {},
   "source": [
    "### Loans"
   ]
  },
  {
   "cell_type": "code",
   "execution_count": 721,
   "id": "ba0a307e",
   "metadata": {},
   "outputs": [
    {
     "data": {
      "text/plain": [
       "85.97560975609755"
      ]
     },
     "execution_count": 721,
     "metadata": {},
     "output_type": "execute_result"
    }
   ],
   "source": [
    "len(loan_dev_df[loan_dev_df['status'] == 1]) / len(loan_dev_df) * 100"
   ]
  },
  {
   "cell_type": "markdown",
   "id": "326bffac",
   "metadata": {},
   "source": [
    "Around 86% of loans in the dataset have been payed off, so accuracy is not the best measure to optimize for."
   ]
  },
  {
   "cell_type": "code",
   "execution_count": 722,
   "id": "7e08bbca",
   "metadata": {},
   "outputs": [
    {
     "data": {
      "text/plain": [
       "<AxesSubplot:xlabel='status', ylabel='amount'>"
      ]
     },
     "execution_count": 722,
     "metadata": {},
     "output_type": "execute_result"
    },
    {
     "data": {
      "image/png": "[encoded data removed]",
      "text/plain": [
       "<Figure size 432x288 with 1 Axes>"
      ]
     },
     "metadata": {
      "needs_background": "light"
     },
     "output_type": "display_data"
    }
   ],
   "source": [
    "sb.violinplot(x='status', y='amount', data=loan_dev_df, hue='status')"
   ]
  },
  {
   "cell_type": "markdown",
   "id": "09e77896",
   "metadata": {},
   "source": [
    "We can see a larger amount of the loans over 100,000 are not payed off."
   ]
  },
  {
   "cell_type": "markdown",
   "id": "b6cff7c1",
   "metadata": {},
   "source": [
    "# Data Treatment"
   ]
  },
  {
   "cell_type": "markdown",
   "id": "5872a7dd",
   "metadata": {},
   "source": [
    "## Whitespace Removal"
   ]
  },
  {
   "cell_type": "code",
   "execution_count": 723,
   "id": "33fe85f7",
   "metadata": {},
   "outputs": [],
   "source": [
    "district_df.rename(columns=lambda x: x.strip(), inplace=True)"
   ]
  },
  {
   "cell_type": "markdown",
   "id": "2de9b061",
   "metadata": {},
   "source": [
    "## Missing Values"
   ]
  },
  {
   "cell_type": "markdown",
   "id": "621fb2ba",
   "metadata": {},
   "source": [
    "### Acount"
   ]
  },
  {
   "cell_type": "code",
   "execution_count": 724,
   "id": "a6dabfae",
   "metadata": {},
   "outputs": [
    {
     "data": {
      "text/plain": [
       "account_id     0\n",
       "district_id    0\n",
       "frequency      0\n",
       "date           0\n",
       "dtype: int64"
      ]
     },
     "execution_count": 724,
     "metadata": {},
     "output_type": "execute_result"
    }
   ],
   "source": [
    "account_df.isnull().sum()"
   ]
  },
  {
   "cell_type": "markdown",
   "id": "658737de",
   "metadata": {},
   "source": [
    "No missing values on **account_df**"
   ]
  },
  {
   "cell_type": "markdown",
   "id": "52e0fc54",
   "metadata": {},
   "source": [
    "### Client"
   ]
  },
  {
   "cell_type": "code",
   "execution_count": 725,
   "id": "b5a489f1",
   "metadata": {},
   "outputs": [
    {
     "data": {
      "text/plain": [
       "client_id       0\n",
       "birth_number    0\n",
       "district_id     0\n",
       "dtype: int64"
      ]
     },
     "execution_count": 725,
     "metadata": {},
     "output_type": "execute_result"
    }
   ],
   "source": [
    "client_df.isnull().sum()"
   ]
  },
  {
   "cell_type": "markdown",
   "id": "f1bc9910",
   "metadata": {},
   "source": [
    "No missing values on **client_df**"
   ]
  },
  {
   "cell_type": "markdown",
   "id": "0f132f47",
   "metadata": {},
   "source": [
    "### Loans"
   ]
  },
  {
   "cell_type": "code",
   "execution_count": 726,
   "id": "a30a2819",
   "metadata": {},
   "outputs": [
    {
     "data": {
      "text/plain": [
       "loan_id       0\n",
       "account_id    0\n",
       "date          0\n",
       "amount        0\n",
       "duration      0\n",
       "payments      0\n",
       "status        0\n",
       "dtype: int64"
      ]
     },
     "execution_count": 726,
     "metadata": {},
     "output_type": "execute_result"
    }
   ],
   "source": [
    "loan_dev_df.isnull().sum()"
   ]
  },
  {
   "cell_type": "markdown",
   "id": "e604bab8",
   "metadata": {},
   "source": [
    "No missing values on **loan_dev_df**"
   ]
  },
  {
   "cell_type": "markdown",
   "id": "a62a883a",
   "metadata": {},
   "source": [
    "### Transactions"
   ]
  },
  {
   "cell_type": "code",
   "execution_count": 727,
   "id": "688c481e",
   "metadata": {},
   "outputs": [
    {
     "data": {
      "text/plain": [
       "trans_id           0\n",
       "account_id         0\n",
       "date               0\n",
       "type               0\n",
       "operation      70761\n",
       "amount             0\n",
       "balance            0\n",
       "k_symbol      185244\n",
       "bank          299443\n",
       "account       294456\n",
       "dtype: int64"
      ]
     },
     "execution_count": 727,
     "metadata": {},
     "output_type": "execute_result"
    }
   ],
   "source": [
    "trans_dev_df.isnull().sum()"
   ]
  },
  {
   "cell_type": "markdown",
   "id": "6cb13ea7",
   "metadata": {},
   "source": [
    "There are missing values on **trans_dev_df**"
   ]
  },
  {
   "cell_type": "markdown",
   "id": "d8547af9",
   "metadata": {},
   "source": [
    "#### Operation"
   ]
  },
  {
   "cell_type": "code",
   "execution_count": 728,
   "id": "146488ca",
   "metadata": {},
   "outputs": [
    {
     "data": {
      "text/plain": [
       "withdrawal in cash              165270\n",
       "remittance to another bank       70737\n",
       "credit in cash                   62202\n",
       "collection from another bank     26505\n",
       "credit card withdrawal            1210\n",
       "Name: operation, dtype: int64"
      ]
     },
     "execution_count": 728,
     "metadata": {},
     "output_type": "execute_result"
    }
   ],
   "source": [
    "trans_dev_df['operation'].value_counts()"
   ]
  },
  {
   "cell_type": "code",
   "execution_count": 729,
   "id": "68ad3be0",
   "metadata": {},
   "outputs": [
    {
     "data": {
      "text/plain": [
       "17.838083113805663"
      ]
     },
     "execution_count": 729,
     "metadata": {},
     "output_type": "execute_result"
    }
   ],
   "source": [
    "len(trans_dev_df[trans_dev_df['operation'].isnull()]) / len(trans_dev_df['operation']) * 100"
   ]
  },
  {
   "cell_type": "markdown",
   "id": "eea626bc",
   "metadata": {},
   "source": [
    "There is a significant number of null values in the operations column. These will be replaced by 'N/A'."
   ]
  },
  {
   "cell_type": "code",
   "execution_count": 730,
   "id": "5d2fec97",
   "metadata": {},
   "outputs": [],
   "source": [
    "trans_dev_df['operation'].fillna('N/A', inplace=True)"
   ]
  },
  {
   "cell_type": "code",
   "execution_count": 731,
   "id": "319834df",
   "metadata": {},
   "outputs": [
    {
     "data": {
      "text/plain": [
       "withdrawal in cash              165270\n",
       "N/A                              70761\n",
       "remittance to another bank       70737\n",
       "credit in cash                   62202\n",
       "collection from another bank     26505\n",
       "credit card withdrawal            1210\n",
       "Name: operation, dtype: int64"
      ]
     },
     "execution_count": 731,
     "metadata": {},
     "output_type": "execute_result"
    }
   ],
   "source": [
    "trans_dev_df['operation'].value_counts()"
   ]
  },
  {
   "cell_type": "markdown",
   "id": "c71a7072",
   "metadata": {},
   "source": [
    "#### K Symbol"
   ]
  },
  {
   "cell_type": "code",
   "execution_count": 732,
   "id": "40416d8c",
   "metadata": {},
   "outputs": [
    {
     "data": {
      "text/plain": [
       "interest credited                        70761\n",
       "payment for statement                    58377\n",
       "household                                42839\n",
       "                                         19065\n",
       "old-age pension                          13502\n",
       "insurrance payment                        6592\n",
       "sanction interest if negative balance      305\n",
       "Name: k_symbol, dtype: int64"
      ]
     },
     "execution_count": 732,
     "metadata": {},
     "output_type": "execute_result"
    }
   ],
   "source": [
    "trans_dev_df['k_symbol'].value_counts()"
   ]
  },
  {
   "cell_type": "markdown",
   "id": "1c04ffb5",
   "metadata": {},
   "source": [
    "There are many empty string values. It is assumed these mean the transaction type wasn't registered and they will be treated the same as null values."
   ]
  },
  {
   "cell_type": "code",
   "execution_count": 733,
   "id": "227136db",
   "metadata": {},
   "outputs": [
    {
     "data": {
      "text/plain": [
       "N/A                                      204309\n",
       "interest credited                         70761\n",
       "payment for statement                     58377\n",
       "household                                 42839\n",
       "old-age pension                           13502\n",
       "insurrance payment                         6592\n",
       "sanction interest if negative balance       305\n",
       "Name: k_symbol, dtype: int64"
      ]
     },
     "execution_count": 733,
     "metadata": {},
     "output_type": "execute_result"
    }
   ],
   "source": [
    "def remove_empty_values_k_symbol(k):\n",
    "    if isinstance(k, float):\n",
    "        return'N/A'\n",
    "    elif isinstance(k, str) and k.strip() == '':\n",
    "        return 'N/A'\n",
    "    else:\n",
    "        return k\n",
    "\n",
    "trans_dev_df['k_symbol'] = trans_dev_df['k_symbol'].apply(remove_empty_values_k_symbol)\n",
    "\n",
    "trans_dev_df['k_symbol'].value_counts()"
   ]
  },
  {
   "cell_type": "markdown",
   "id": "bf9fb775",
   "metadata": {},
   "source": [
    "#### Bank"
   ]
  },
  {
   "cell_type": "code",
   "execution_count": 734,
   "id": "b5e0da26",
   "metadata": {},
   "outputs": [
    {
     "data": {
      "text/plain": [
       "ST    8114\n",
       "GH    7886\n",
       "EF    7878\n",
       "AB    7666\n",
       "UV    7618\n",
       "OP    7595\n",
       "IJ    7536\n",
       "YZ    7471\n",
       "QR    7413\n",
       "KL    7397\n",
       "WX    7033\n",
       "CD    7009\n",
       "MN    6626\n",
       "Name: bank, dtype: int64"
      ]
     },
     "execution_count": 734,
     "metadata": {},
     "output_type": "execute_result"
    }
   ],
   "source": [
    "trans_dev_df['bank'].value_counts()"
   ]
  },
  {
   "cell_type": "markdown",
   "id": "fabff64f",
   "metadata": {},
   "source": [
    "There aren't any empty strings. Null values will be replaced by unknown."
   ]
  },
  {
   "cell_type": "code",
   "execution_count": 735,
   "id": "d24b420f",
   "metadata": {},
   "outputs": [],
   "source": [
    "trans_dev_df['bank'].fillna('Unknown', inplace=True)"
   ]
  },
  {
   "cell_type": "code",
   "execution_count": 736,
   "id": "14a73363",
   "metadata": {},
   "outputs": [
    {
     "data": {
      "text/plain": [
       "Unknown    299443\n",
       "ST           8114\n",
       "GH           7886\n",
       "EF           7878\n",
       "AB           7666\n",
       "UV           7618\n",
       "OP           7595\n",
       "IJ           7536\n",
       "YZ           7471\n",
       "QR           7413\n",
       "KL           7397\n",
       "WX           7033\n",
       "CD           7009\n",
       "MN           6626\n",
       "Name: bank, dtype: int64"
      ]
     },
     "execution_count": 736,
     "metadata": {},
     "output_type": "execute_result"
    }
   ],
   "source": [
    "trans_dev_df['bank'].value_counts()"
   ]
  },
  {
   "cell_type": "markdown",
   "id": "ac452db3",
   "metadata": {},
   "source": [
    "#### Account"
   ]
  },
  {
   "cell_type": "code",
   "execution_count": 737,
   "id": "fa3c19c1",
   "metadata": {},
   "outputs": [
    {
     "data": {
      "text/plain": [
       "0.0           4987\n",
       "15916598.0      48\n",
       "62457513.0      48\n",
       "6149286.0       48\n",
       "42988401.0      48\n",
       "              ... \n",
       "99218499.0       1\n",
       "54261672.0       1\n",
       "28306174.0       1\n",
       "91523855.0       1\n",
       "53761804.0       1\n",
       "Name: account, Length: 4536, dtype: int64"
      ]
     },
     "execution_count": 737,
     "metadata": {},
     "output_type": "execute_result"
    }
   ],
   "source": [
    "trans_dev_df['account'].value_counts()"
   ]
  },
  {
   "cell_type": "markdown",
   "id": "4100f80b",
   "metadata": {},
   "source": [
    "There are many transactions to an account **0**. This will be treated as a transaction to an unknown account."
   ]
  },
  {
   "cell_type": "code",
   "execution_count": 738,
   "id": "7db79109",
   "metadata": {},
   "outputs": [],
   "source": [
    "trans_dev_df['account'].fillna(0, inplace=True)"
   ]
  },
  {
   "cell_type": "code",
   "execution_count": 739,
   "id": "6c0929f4",
   "metadata": {},
   "outputs": [
    {
     "data": {
      "text/plain": [
       "0.0           299443\n",
       "30300313.0        48\n",
       "37906074.0        48\n",
       "45134812.0        48\n",
       "15916598.0        48\n",
       "               ...  \n",
       "99218499.0         1\n",
       "54261672.0         1\n",
       "28306174.0         1\n",
       "91523855.0         1\n",
       "53761804.0         1\n",
       "Name: account, Length: 4536, dtype: int64"
      ]
     },
     "execution_count": 739,
     "metadata": {},
     "output_type": "execute_result"
    }
   ],
   "source": [
    "trans_dev_df['account'].value_counts()"
   ]
  },
  {
   "cell_type": "markdown",
   "id": "d0cbf6d8",
   "metadata": {},
   "source": [
    "### Cards"
   ]
  },
  {
   "cell_type": "code",
   "execution_count": 740,
   "id": "7c5dd6f6",
   "metadata": {},
   "outputs": [
    {
     "data": {
      "text/plain": [
       "card_id    0\n",
       "disp_id    0\n",
       "type       0\n",
       "issued     0\n",
       "dtype: int64"
      ]
     },
     "execution_count": 740,
     "metadata": {},
     "output_type": "execute_result"
    }
   ],
   "source": [
    "card_dev_df.isnull().sum()"
   ]
  },
  {
   "cell_type": "markdown",
   "id": "a1c04f77",
   "metadata": {},
   "source": [
    "There are no missing values in **card_dev_df**"
   ]
  },
  {
   "cell_type": "markdown",
   "id": "070d443a",
   "metadata": {},
   "source": [
    "### Disposition"
   ]
  },
  {
   "cell_type": "code",
   "execution_count": 741,
   "id": "1d02736b",
   "metadata": {},
   "outputs": [
    {
     "data": {
      "text/plain": [
       "disp_id       0\n",
       "client_id     0\n",
       "account_id    0\n",
       "type          0\n",
       "dtype: int64"
      ]
     },
     "execution_count": 741,
     "metadata": {},
     "output_type": "execute_result"
    }
   ],
   "source": [
    "disp_df.isnull().sum()"
   ]
  },
  {
   "cell_type": "markdown",
   "id": "7e60b69a",
   "metadata": {},
   "source": [
    "There are no missing values in **disp_df**"
   ]
  },
  {
   "cell_type": "markdown",
   "id": "9243df78",
   "metadata": {},
   "source": [
    "### District"
   ]
  },
  {
   "cell_type": "code",
   "execution_count": 742,
   "id": "050a3364",
   "metadata": {},
   "outputs": [
    {
     "data": {
      "text/plain": [
       "code                                                0\n",
       "name                                                0\n",
       "region                                              0\n",
       "no. of inhabitants                                  0\n",
       "no. of municipalities with inhabitants < 499        0\n",
       "no. of municipalities with inhabitants 500-1999     0\n",
       "no. of municipalities with inhabitants 2000-9999    0\n",
       "no. of municipalities with inhabitants >10000       0\n",
       "no. of cities                                       0\n",
       "ratio of urban inhabitants                          0\n",
       "average salary                                      0\n",
       "unemploymant rate '95                               1\n",
       "unemploymant rate '96                               0\n",
       "no. of enterpreneurs per 1000 inhabitants           0\n",
       "no. of commited crimes '95                          1\n",
       "no. of commited crimes '96                          0\n",
       "dtype: int64"
      ]
     },
     "execution_count": 742,
     "metadata": {},
     "output_type": "execute_result"
    }
   ],
   "source": [
    "district_df.isnull().sum()"
   ]
  },
  {
   "cell_type": "markdown",
   "id": "6dc72143",
   "metadata": {},
   "source": [
    "There are missing values in **district_df**"
   ]
  },
  {
   "cell_type": "code",
   "execution_count": 743,
   "id": "4b7b07d2",
   "metadata": {},
   "outputs": [
    {
     "data": {
      "text/html": [
       "<div>\n",
       "<style scoped>\n",
       "    .dataframe tbody tr th:only-of-type {\n",
       "        vertical-align: middle;\n",
       "    }\n",
       "\n",
       "    .dataframe tbody tr th {\n",
       "        vertical-align: top;\n",
       "    }\n",
       "\n",
       "    .dataframe thead th {\n",
       "        text-align: right;\n",
       "    }\n",
       "</style>\n",
       "<table border=\"1\" class=\"dataframe\">\n",
       "  <thead>\n",
       "    <tr style=\"text-align: right;\">\n",
       "      <th></th>\n",
       "      <th>code</th>\n",
       "      <th>name</th>\n",
       "      <th>region</th>\n",
       "      <th>no. of inhabitants</th>\n",
       "      <th>no. of municipalities with inhabitants &lt; 499</th>\n",
       "      <th>no. of municipalities with inhabitants 500-1999</th>\n",
       "      <th>no. of municipalities with inhabitants 2000-9999</th>\n",
       "      <th>no. of municipalities with inhabitants &gt;10000</th>\n",
       "      <th>no. of cities</th>\n",
       "      <th>ratio of urban inhabitants</th>\n",
       "      <th>average salary</th>\n",
       "      <th>unemploymant rate '95</th>\n",
       "      <th>unemploymant rate '96</th>\n",
       "      <th>no. of enterpreneurs per 1000 inhabitants</th>\n",
       "      <th>no. of commited crimes '95</th>\n",
       "      <th>no. of commited crimes '96</th>\n",
       "    </tr>\n",
       "  </thead>\n",
       "  <tbody>\n",
       "    <tr>\n",
       "      <th>68</th>\n",
       "      <td>69</td>\n",
       "      <td>Jesenik</td>\n",
       "      <td>north Moravia</td>\n",
       "      <td>42821</td>\n",
       "      <td>4</td>\n",
       "      <td>13</td>\n",
       "      <td>5</td>\n",
       "      <td>1</td>\n",
       "      <td>3</td>\n",
       "      <td>48.4</td>\n",
       "      <td>8173</td>\n",
       "      <td>NaN</td>\n",
       "      <td>7.01</td>\n",
       "      <td>124</td>\n",
       "      <td>NaN</td>\n",
       "      <td>1358</td>\n",
       "    </tr>\n",
       "  </tbody>\n",
       "</table>\n",
       "</div>"
      ],
      "text/plain": [
       "    code     name         region  no. of inhabitants  \\\n",
       "68    69  Jesenik  north Moravia               42821   \n",
       "\n",
       "    no. of municipalities with inhabitants < 499  \\\n",
       "68                                             4   \n",
       "\n",
       "    no. of municipalities with inhabitants 500-1999  \\\n",
       "68                                               13   \n",
       "\n",
       "    no. of municipalities with inhabitants 2000-9999  \\\n",
       "68                                                 5   \n",
       "\n",
       "    no. of municipalities with inhabitants >10000  no. of cities  \\\n",
       "68                                              1              3   \n",
       "\n",
       "    ratio of urban inhabitants  average salary  unemploymant rate '95  \\\n",
       "68                        48.4            8173                    NaN   \n",
       "\n",
       "    unemploymant rate '96  no. of enterpreneurs per 1000 inhabitants  \\\n",
       "68                   7.01                                        124   \n",
       "\n",
       "    no. of commited crimes '95  no. of commited crimes '96  \n",
       "68                         NaN                        1358  "
      ]
     },
     "execution_count": 743,
     "metadata": {},
     "output_type": "execute_result"
    }
   ],
   "source": [
    "district_df[district_df['unemploymant rate \\'95'].isnull()]"
   ]
  },
  {
   "cell_type": "markdown",
   "id": "c1ab2484",
   "metadata": {},
   "source": [
    "Both null values com from the district of Jesenik."
   ]
  },
  {
   "cell_type": "markdown",
   "id": "454aab6c",
   "metadata": {},
   "source": [
    "We will replace the null values by finding the mean values for the region in 1995 and 1996 and inferring the 1995 values for Jesenik from the 1996 values."
   ]
  },
  {
   "cell_type": "code",
   "execution_count": 744,
   "id": "e1646876",
   "metadata": {},
   "outputs": [],
   "source": [
    "unemp_rate_96_mean = district_df[district_df['region'] == 'north Moravia']['unemploymant rate \\'96'].median()\n",
    "\n",
    "unemp_rate_95_mean = district_df[district_df['region'] == 'north Moravia']['unemploymant rate \\'95'].median()\n",
    "\n",
    "unemp_rate_96_jes = district_df.iloc[68]['unemploymant rate \\'96']\n",
    "\n",
    "predicted_unemp_rate_95_jes = (unemp_rate_95_mean/unemp_rate_96_mean) * unemp_rate_96_jes\n",
    "\n",
    "district_df['unemploymant rate \\'95'].fillna(predicted_unemp_rate_95_jes, inplace=True)\n",
    "\n",
    "crimes_96_mean = district_df[district_df['region'] == 'north Moravia']['no. of commited crimes \\'96'].median()\n",
    "\n",
    "crimes_95_mean = district_df[district_df['region'] == 'north Moravia']['no. of commited crimes \\'95'].median()\n",
    "\n",
    "crimes_96_jes = district_df.iloc[68]['no. of commited crimes \\'96']\n",
    "\n",
    "predicted_crimes_95_jes = (crimes_95_mean/crimes_96_mean) * crimes_96_jes\n",
    "\n",
    "district_df['no. of commited crimes \\'95'].fillna(predicted_crimes_95_jes, inplace=True)"
   ]
  },
  {
   "cell_type": "markdown",
   "id": "845097b1",
   "metadata": {},
   "source": [
    "## Date Functions"
   ]
  },
  {
   "cell_type": "code",
   "execution_count": 745,
   "id": "8e484447",
   "metadata": {},
   "outputs": [],
   "source": [
    "# Format birth number to date (DD-MM-YY) <- may need to change formatting for algorithms\n",
    "def get_formatted_date(date_number):\n",
    "    date_number_string = str(date_number)\n",
    "    return date_number_string[4:6] + '/' + str(int(date_number_string[2:4]) % 50) + '/' + '19' + date_number_string[0:2]\n",
    "\n",
    "# Get client sex from birth number (MM > 50 => sex == 'F')\n",
    "def get_client_sex_from_birth_number(date_number):\n",
    "    return 'F' if int(str(date_number)[2:4]) >= 51 else 'M'\n",
    "\n",
    "def get_season_from_Date(date_string):\n",
    "    date_string_str = str(date_string)\n",
    "    day = int(date_string_str[8:10])\n",
    "    month = int(date_string_str[5:7])\n",
    "    year = int(date_string_str[0:4])\n",
    "\n",
    "    winterStart = datetime.datetime(year, 12, 22)\n",
    "    springStart = datetime.datetime(year, 3, 20)\n",
    "    summerStart = datetime.datetime(year, 6, 21)\n",
    "    autumnStart = datetime.datetime(year, 9, 22)\n",
    "\n",
    "    if ((month <= 3 and day <= 20) or (month >= 12 and day > 22)):\n",
    "        return \"winter\"\n",
    "    elif (date_string < summerStart):\n",
    "        return \"spring\"\n",
    "    elif (date_string < autumnStart) : \n",
    "        return \"summer\"\n",
    "    elif (date_string < winterStart) :\n",
    "        return \"autumn\"\n",
    "\n",
    "    return \"FAILEDSEASON\""
   ]
  },
  {
   "cell_type": "markdown",
   "id": "5b60dafe",
   "metadata": {},
   "source": [
    "## Format dates and determine client sex"
   ]
  },
  {
   "cell_type": "code",
   "execution_count": 746,
   "id": "60b9eade",
   "metadata": {},
   "outputs": [
    {
     "name": "stderr",
     "output_type": "stream",
     "text": [
      "c:\\Users\\jljoa\\anaconda3\\lib\\site-packages\\pandas\\core\\tools\\datetimes.py:1047: UserWarning: Parsing '14/10/1993' in DD/MM/YYYY format. Provide format or specify infer_datetime_format=True for consistent parsing.\n",
      "  cache_array = _maybe_cache(arg, format, cache, convert_listlike)\n",
      "c:\\Users\\jljoa\\anaconda3\\lib\\site-packages\\pandas\\core\\tools\\datetimes.py:1047: UserWarning: Parsing '15/10/1993' in DD/MM/YYYY format. Provide format or specify infer_datetime_format=True for consistent parsing.\n",
      "  cache_array = _maybe_cache(arg, format, cache, convert_listlike)\n",
      "c:\\Users\\jljoa\\anaconda3\\lib\\site-packages\\pandas\\core\\tools\\datetimes.py:1047: UserWarning: Parsing '16/10/1993' in DD/MM/YYYY format. Provide format or specify infer_datetime_format=True for consistent parsing.\n",
      "  cache_array = _maybe_cache(arg, format, cache, convert_listlike)\n",
      "c:\\Users\\jljoa\\anaconda3\\lib\\site-packages\\pandas\\core\\tools\\datetimes.py:1047: UserWarning: Parsing '17/10/1993' in DD/MM/YYYY format. Provide format or specify infer_datetime_format=True for consistent parsing.\n",
      "  cache_array = _maybe_cache(arg, format, cache, convert_listlike)\n",
      "c:\\Users\\jljoa\\anaconda3\\lib\\site-packages\\pandas\\core\\tools\\datetimes.py:1047: UserWarning: Parsing '18/10/1993' in DD/MM/YYYY format. Provide format or specify infer_datetime_format=True for consistent parsing.\n",
      "  cache_array = _maybe_cache(arg, format, cache, convert_listlike)\n",
      "c:\\Users\\jljoa\\anaconda3\\lib\\site-packages\\pandas\\core\\tools\\datetimes.py:1047: UserWarning: Parsing '19/10/1993' in DD/MM/YYYY format. Provide format or specify infer_datetime_format=True for consistent parsing.\n",
      "  cache_array = _maybe_cache(arg, format, cache, convert_listlike)\n",
      "c:\\Users\\jljoa\\anaconda3\\lib\\site-packages\\pandas\\core\\tools\\datetimes.py:1047: UserWarning: Parsing '20/10/1993' in DD/MM/YYYY format. Provide format or specify infer_datetime_format=True for consistent parsing.\n",
      "  cache_array = _maybe_cache(arg, format, cache, convert_listlike)\n",
      "c:\\Users\\jljoa\\anaconda3\\lib\\site-packages\\pandas\\core\\tools\\datetimes.py:1047: UserWarning: Parsing '21/10/1993' in DD/MM/YYYY format. Provide format or specify infer_datetime_format=True for consistent parsing.\n",
      "  cache_array = _maybe_cache(arg, format, cache, convert_listlike)\n",
      "c:\\Users\\jljoa\\anaconda3\\lib\\site-packages\\pandas\\core\\tools\\datetimes.py:1047: UserWarning: Parsing '22/10/1993' in DD/MM/YYYY format. Provide format or specify infer_datetime_format=True for consistent parsing.\n",
      "  cache_array = _maybe_cache(arg, format, cache, convert_listlike)\n",
      "c:\\Users\\jljoa\\anaconda3\\lib\\site-packages\\pandas\\core\\tools\\datetimes.py:1047: UserWarning: Parsing '23/10/1993' in DD/MM/YYYY format. Provide format or specify infer_datetime_format=True for consistent parsing.\n",
      "  cache_array = _maybe_cache(arg, format, cache, convert_listlike)\n",
      "c:\\Users\\jljoa\\anaconda3\\lib\\site-packages\\pandas\\core\\tools\\datetimes.py:1047: UserWarning: Parsing '25/10/1993' in DD/MM/YYYY format. Provide format or specify infer_datetime_format=True for consistent parsing.\n",
      "  cache_array = _maybe_cache(arg, format, cache, convert_listlike)\n",
      "c:\\Users\\jljoa\\anaconda3\\lib\\site-packages\\pandas\\core\\tools\\datetimes.py:1047: UserWarning: Parsing '26/10/1993' in DD/MM/YYYY format. Provide format or specify infer_datetime_format=True for consistent parsing.\n",
      "  cache_array = _maybe_cache(arg, format, cache, convert_listlike)\n",
      "c:\\Users\\jljoa\\anaconda3\\lib\\site-packages\\pandas\\core\\tools\\datetimes.py:1047: UserWarning: Parsing '27/10/1993' in DD/MM/YYYY format. Provide format or specify infer_datetime_format=True for consistent parsing.\n",
      "  cache_array = _maybe_cache(arg, format, cache, convert_listlike)\n",
      "c:\\Users\\jljoa\\anaconda3\\lib\\site-packages\\pandas\\core\\tools\\datetimes.py:1047: UserWarning: Parsing '28/10/1993' in DD/MM/YYYY format. Provide format or specify infer_datetime_format=True for consistent parsing.\n",
      "  cache_array = _maybe_cache(arg, format, cache, convert_listlike)\n",
      "c:\\Users\\jljoa\\anaconda3\\lib\\site-packages\\pandas\\core\\tools\\datetimes.py:1047: UserWarning: Parsing '30/10/1993' in DD/MM/YYYY format. Provide format or specify infer_datetime_format=True for consistent parsing.\n",
      "  cache_array = _maybe_cache(arg, format, cache, convert_listlike)\n",
      "c:\\Users\\jljoa\\anaconda3\\lib\\site-packages\\pandas\\core\\tools\\datetimes.py:1047: UserWarning: Parsing '13/11/1993' in DD/MM/YYYY format. Provide format or specify infer_datetime_format=True for consistent parsing.\n",
      "  cache_array = _maybe_cache(arg, format, cache, convert_listlike)\n",
      "c:\\Users\\jljoa\\anaconda3\\lib\\site-packages\\pandas\\core\\tools\\datetimes.py:1047: UserWarning: Parsing '14/11/1993' in DD/MM/YYYY format. Provide format or specify infer_datetime_format=True for consistent parsing.\n",
      "  cache_array = _maybe_cache(arg, format, cache, convert_listlike)\n",
      "c:\\Users\\jljoa\\anaconda3\\lib\\site-packages\\pandas\\core\\tools\\datetimes.py:1047: UserWarning: Parsing '15/11/1993' in DD/MM/YYYY format. Provide format or specify infer_datetime_format=True for consistent parsing.\n",
      "  cache_array = _maybe_cache(arg, format, cache, convert_listlike)\n",
      "c:\\Users\\jljoa\\anaconda3\\lib\\site-packages\\pandas\\core\\tools\\datetimes.py:1047: UserWarning: Parsing '16/11/1993' in DD/MM/YYYY format. Provide format or specify infer_datetime_format=True for consistent parsing.\n",
      "  cache_array = _maybe_cache(arg, format, cache, convert_listlike)\n",
      "c:\\Users\\jljoa\\anaconda3\\lib\\site-packages\\pandas\\core\\tools\\datetimes.py:1047: UserWarning: Parsing '17/11/1993' in DD/MM/YYYY format. Provide format or specify infer_datetime_format=True for consistent parsing.\n",
      "  cache_array = _maybe_cache(arg, format, cache, convert_listlike)\n",
      "c:\\Users\\jljoa\\anaconda3\\lib\\site-packages\\pandas\\core\\tools\\datetimes.py:1047: UserWarning: Parsing '18/11/1993' in DD/MM/YYYY format. Provide format or specify infer_datetime_format=True for consistent parsing.\n",
      "  cache_array = _maybe_cache(arg, format, cache, convert_listlike)\n",
      "c:\\Users\\jljoa\\anaconda3\\lib\\site-packages\\pandas\\core\\tools\\datetimes.py:1047: UserWarning: Parsing '20/11/1993' in DD/MM/YYYY format. Provide format or specify infer_datetime_format=True for consistent parsing.\n",
      "  cache_array = _maybe_cache(arg, format, cache, convert_listlike)\n",
      "c:\\Users\\jljoa\\anaconda3\\lib\\site-packages\\pandas\\core\\tools\\datetimes.py:1047: UserWarning: Parsing '21/11/1993' in DD/MM/YYYY format. Provide format or specify infer_datetime_format=True for consistent parsing.\n",
      "  cache_array = _maybe_cache(arg, format, cache, convert_listlike)\n",
      "c:\\Users\\jljoa\\anaconda3\\lib\\site-packages\\pandas\\core\\tools\\datetimes.py:1047: UserWarning: Parsing '22/11/1993' in DD/MM/YYYY format. Provide format or specify infer_datetime_format=True for consistent parsing.\n",
      "  cache_array = _maybe_cache(arg, format, cache, convert_listlike)\n",
      "c:\\Users\\jljoa\\anaconda3\\lib\\site-packages\\pandas\\core\\tools\\datetimes.py:1047: UserWarning: Parsing '23/11/1993' in DD/MM/YYYY format. Provide format or specify infer_datetime_format=True for consistent parsing.\n",
      "  cache_array = _maybe_cache(arg, format, cache, convert_listlike)\n",
      "c:\\Users\\jljoa\\anaconda3\\lib\\site-packages\\pandas\\core\\tools\\datetimes.py:1047: UserWarning: Parsing '24/11/1993' in DD/MM/YYYY format. Provide format or specify infer_datetime_format=True for consistent parsing.\n",
      "  cache_array = _maybe_cache(arg, format, cache, convert_listlike)\n",
      "c:\\Users\\jljoa\\anaconda3\\lib\\site-packages\\pandas\\core\\tools\\datetimes.py:1047: UserWarning: Parsing '25/11/1993' in DD/MM/YYYY format. Provide format or specify infer_datetime_format=True for consistent parsing.\n",
      "  cache_array = _maybe_cache(arg, format, cache, convert_listlike)\n",
      "c:\\Users\\jljoa\\anaconda3\\lib\\site-packages\\pandas\\core\\tools\\datetimes.py:1047: UserWarning: Parsing '26/11/1993' in DD/MM/YYYY format. Provide format or specify infer_datetime_format=True for consistent parsing.\n",
      "  cache_array = _maybe_cache(arg, format, cache, convert_listlike)\n",
      "c:\\Users\\jljoa\\anaconda3\\lib\\site-packages\\pandas\\core\\tools\\datetimes.py:1047: UserWarning: Parsing '27/11/1993' in DD/MM/YYYY format. Provide format or specify infer_datetime_format=True for consistent parsing.\n",
      "  cache_array = _maybe_cache(arg, format, cache, convert_listlike)\n",
      "c:\\Users\\jljoa\\anaconda3\\lib\\site-packages\\pandas\\core\\tools\\datetimes.py:1047: UserWarning: Parsing '28/11/1993' in DD/MM/YYYY format. Provide format or specify infer_datetime_format=True for consistent parsing.\n",
      "  cache_array = _maybe_cache(arg, format, cache, convert_listlike)\n",
      "c:\\Users\\jljoa\\anaconda3\\lib\\site-packages\\pandas\\core\\tools\\datetimes.py:1047: UserWarning: Parsing '29/11/1993' in DD/MM/YYYY format. Provide format or specify infer_datetime_format=True for consistent parsing.\n",
      "  cache_array = _maybe_cache(arg, format, cache, convert_listlike)\n",
      "c:\\Users\\jljoa\\anaconda3\\lib\\site-packages\\pandas\\core\\tools\\datetimes.py:1047: UserWarning: Parsing '13/12/1993' in DD/MM/YYYY format. Provide format or specify infer_datetime_format=True for consistent parsing.\n",
      "  cache_array = _maybe_cache(arg, format, cache, convert_listlike)\n",
      "c:\\Users\\jljoa\\anaconda3\\lib\\site-packages\\pandas\\core\\tools\\datetimes.py:1047: UserWarning: Parsing '14/12/1993' in DD/MM/YYYY format. Provide format or specify infer_datetime_format=True for consistent parsing.\n",
      "  cache_array = _maybe_cache(arg, format, cache, convert_listlike)\n",
      "c:\\Users\\jljoa\\anaconda3\\lib\\site-packages\\pandas\\core\\tools\\datetimes.py:1047: UserWarning: Parsing '15/12/1993' in DD/MM/YYYY format. Provide format or specify infer_datetime_format=True for consistent parsing.\n",
      "  cache_array = _maybe_cache(arg, format, cache, convert_listlike)\n",
      "c:\\Users\\jljoa\\anaconda3\\lib\\site-packages\\pandas\\core\\tools\\datetimes.py:1047: UserWarning: Parsing '16/12/1993' in DD/MM/YYYY format. Provide format or specify infer_datetime_format=True for consistent parsing.\n",
      "  cache_array = _maybe_cache(arg, format, cache, convert_listlike)\n",
      "c:\\Users\\jljoa\\anaconda3\\lib\\site-packages\\pandas\\core\\tools\\datetimes.py:1047: UserWarning: Parsing '17/12/1993' in DD/MM/YYYY format. Provide format or specify infer_datetime_format=True for consistent parsing.\n",
      "  cache_array = _maybe_cache(arg, format, cache, convert_listlike)\n",
      "c:\\Users\\jljoa\\anaconda3\\lib\\site-packages\\pandas\\core\\tools\\datetimes.py:1047: UserWarning: Parsing '18/12/1993' in DD/MM/YYYY format. Provide format or specify infer_datetime_format=True for consistent parsing.\n",
      "  cache_array = _maybe_cache(arg, format, cache, convert_listlike)\n",
      "c:\\Users\\jljoa\\anaconda3\\lib\\site-packages\\pandas\\core\\tools\\datetimes.py:1047: UserWarning: Parsing '19/12/1993' in DD/MM/YYYY format. Provide format or specify infer_datetime_format=True for consistent parsing.\n",
      "  cache_array = _maybe_cache(arg, format, cache, convert_listlike)\n",
      "c:\\Users\\jljoa\\anaconda3\\lib\\site-packages\\pandas\\core\\tools\\datetimes.py:1047: UserWarning: Parsing '20/12/1993' in DD/MM/YYYY format. Provide format or specify infer_datetime_format=True for consistent parsing.\n",
      "  cache_array = _maybe_cache(arg, format, cache, convert_listlike)\n",
      "c:\\Users\\jljoa\\anaconda3\\lib\\site-packages\\pandas\\core\\tools\\datetimes.py:1047: UserWarning: Parsing '21/12/1993' in DD/MM/YYYY format. Provide format or specify infer_datetime_format=True for consistent parsing.\n",
      "  cache_array = _maybe_cache(arg, format, cache, convert_listlike)\n",
      "c:\\Users\\jljoa\\anaconda3\\lib\\site-packages\\pandas\\core\\tools\\datetimes.py:1047: UserWarning: Parsing '22/12/1993' in DD/MM/YYYY format. Provide format or specify infer_datetime_format=True for consistent parsing.\n",
      "  cache_array = _maybe_cache(arg, format, cache, convert_listlike)\n",
      "c:\\Users\\jljoa\\anaconda3\\lib\\site-packages\\pandas\\core\\tools\\datetimes.py:1047: UserWarning: Parsing '23/12/1993' in DD/MM/YYYY format. Provide format or specify infer_datetime_format=True for consistent parsing.\n",
      "  cache_array = _maybe_cache(arg, format, cache, convert_listlike)\n",
      "c:\\Users\\jljoa\\anaconda3\\lib\\site-packages\\pandas\\core\\tools\\datetimes.py:1047: UserWarning: Parsing '24/12/1993' in DD/MM/YYYY format. Provide format or specify infer_datetime_format=True for consistent parsing.\n",
      "  cache_array = _maybe_cache(arg, format, cache, convert_listlike)\n",
      "c:\\Users\\jljoa\\anaconda3\\lib\\site-packages\\pandas\\core\\tools\\datetimes.py:1047: UserWarning: Parsing '25/12/1993' in DD/MM/YYYY format. Provide format or specify infer_datetime_format=True for consistent parsing.\n",
      "  cache_array = _maybe_cache(arg, format, cache, convert_listlike)\n",
      "c:\\Users\\jljoa\\anaconda3\\lib\\site-packages\\pandas\\core\\tools\\datetimes.py:1047: UserWarning: Parsing '27/12/1993' in DD/MM/YYYY format. Provide format or specify infer_datetime_format=True for consistent parsing.\n",
      "  cache_array = _maybe_cache(arg, format, cache, convert_listlike)\n",
      "c:\\Users\\jljoa\\anaconda3\\lib\\site-packages\\pandas\\core\\tools\\datetimes.py:1047: UserWarning: Parsing '28/12/1993' in DD/MM/YYYY format. Provide format or specify infer_datetime_format=True for consistent parsing.\n",
      "  cache_array = _maybe_cache(arg, format, cache, convert_listlike)\n",
      "c:\\Users\\jljoa\\anaconda3\\lib\\site-packages\\pandas\\core\\tools\\datetimes.py:1047: UserWarning: Parsing '29/12/1993' in DD/MM/YYYY format. Provide format or specify infer_datetime_format=True for consistent parsing.\n",
      "  cache_array = _maybe_cache(arg, format, cache, convert_listlike)\n",
      "c:\\Users\\jljoa\\anaconda3\\lib\\site-packages\\pandas\\core\\tools\\datetimes.py:1047: UserWarning: Parsing '30/12/1993' in DD/MM/YYYY format. Provide format or specify infer_datetime_format=True for consistent parsing.\n",
      "  cache_array = _maybe_cache(arg, format, cache, convert_listlike)\n",
      "c:\\Users\\jljoa\\anaconda3\\lib\\site-packages\\pandas\\core\\tools\\datetimes.py:1047: UserWarning: Parsing '13/10/1994' in DD/MM/YYYY format. Provide format or specify infer_datetime_format=True for consistent parsing.\n",
      "  cache_array = _maybe_cache(arg, format, cache, convert_listlike)\n",
      "c:\\Users\\jljoa\\anaconda3\\lib\\site-packages\\pandas\\core\\tools\\datetimes.py:1047: UserWarning: Parsing '15/10/1994' in DD/MM/YYYY format. Provide format or specify infer_datetime_format=True for consistent parsing.\n",
      "  cache_array = _maybe_cache(arg, format, cache, convert_listlike)\n",
      "c:\\Users\\jljoa\\anaconda3\\lib\\site-packages\\pandas\\core\\tools\\datetimes.py:1047: UserWarning: Parsing '16/10/1994' in DD/MM/YYYY format. Provide format or specify infer_datetime_format=True for consistent parsing.\n",
      "  cache_array = _maybe_cache(arg, format, cache, convert_listlike)\n",
      "c:\\Users\\jljoa\\anaconda3\\lib\\site-packages\\pandas\\core\\tools\\datetimes.py:1047: UserWarning: Parsing '17/10/1994' in DD/MM/YYYY format. Provide format or specify infer_datetime_format=True for consistent parsing.\n",
      "  cache_array = _maybe_cache(arg, format, cache, convert_listlike)\n",
      "c:\\Users\\jljoa\\anaconda3\\lib\\site-packages\\pandas\\core\\tools\\datetimes.py:1047: UserWarning: Parsing '18/10/1994' in DD/MM/YYYY format. Provide format or specify infer_datetime_format=True for consistent parsing.\n",
      "  cache_array = _maybe_cache(arg, format, cache, convert_listlike)\n",
      "c:\\Users\\jljoa\\anaconda3\\lib\\site-packages\\pandas\\core\\tools\\datetimes.py:1047: UserWarning: Parsing '19/10/1994' in DD/MM/YYYY format. Provide format or specify infer_datetime_format=True for consistent parsing.\n",
      "  cache_array = _maybe_cache(arg, format, cache, convert_listlike)\n",
      "c:\\Users\\jljoa\\anaconda3\\lib\\site-packages\\pandas\\core\\tools\\datetimes.py:1047: UserWarning: Parsing '21/10/1994' in DD/MM/YYYY format. Provide format or specify infer_datetime_format=True for consistent parsing.\n",
      "  cache_array = _maybe_cache(arg, format, cache, convert_listlike)\n",
      "c:\\Users\\jljoa\\anaconda3\\lib\\site-packages\\pandas\\core\\tools\\datetimes.py:1047: UserWarning: Parsing '22/10/1994' in DD/MM/YYYY format. Provide format or specify infer_datetime_format=True for consistent parsing.\n",
      "  cache_array = _maybe_cache(arg, format, cache, convert_listlike)\n",
      "c:\\Users\\jljoa\\anaconda3\\lib\\site-packages\\pandas\\core\\tools\\datetimes.py:1047: UserWarning: Parsing '23/10/1994' in DD/MM/YYYY format. Provide format or specify infer_datetime_format=True for consistent parsing.\n",
      "  cache_array = _maybe_cache(arg, format, cache, convert_listlike)\n",
      "c:\\Users\\jljoa\\anaconda3\\lib\\site-packages\\pandas\\core\\tools\\datetimes.py:1047: UserWarning: Parsing '24/10/1994' in DD/MM/YYYY format. Provide format or specify infer_datetime_format=True for consistent parsing.\n",
      "  cache_array = _maybe_cache(arg, format, cache, convert_listlike)\n",
      "c:\\Users\\jljoa\\anaconda3\\lib\\site-packages\\pandas\\core\\tools\\datetimes.py:1047: UserWarning: Parsing '25/10/1994' in DD/MM/YYYY format. Provide format or specify infer_datetime_format=True for consistent parsing.\n",
      "  cache_array = _maybe_cache(arg, format, cache, convert_listlike)\n",
      "c:\\Users\\jljoa\\anaconda3\\lib\\site-packages\\pandas\\core\\tools\\datetimes.py:1047: UserWarning: Parsing '27/10/1994' in DD/MM/YYYY format. Provide format or specify infer_datetime_format=True for consistent parsing.\n",
      "  cache_array = _maybe_cache(arg, format, cache, convert_listlike)\n",
      "c:\\Users\\jljoa\\anaconda3\\lib\\site-packages\\pandas\\core\\tools\\datetimes.py:1047: UserWarning: Parsing '28/10/1994' in DD/MM/YYYY format. Provide format or specify infer_datetime_format=True for consistent parsing.\n",
      "  cache_array = _maybe_cache(arg, format, cache, convert_listlike)\n",
      "c:\\Users\\jljoa\\anaconda3\\lib\\site-packages\\pandas\\core\\tools\\datetimes.py:1047: UserWarning: Parsing '29/10/1994' in DD/MM/YYYY format. Provide format or specify infer_datetime_format=True for consistent parsing.\n",
      "  cache_array = _maybe_cache(arg, format, cache, convert_listlike)\n",
      "c:\\Users\\jljoa\\anaconda3\\lib\\site-packages\\pandas\\core\\tools\\datetimes.py:1047: UserWarning: Parsing '30/10/1994' in DD/MM/YYYY format. Provide format or specify infer_datetime_format=True for consistent parsing.\n",
      "  cache_array = _maybe_cache(arg, format, cache, convert_listlike)\n",
      "c:\\Users\\jljoa\\anaconda3\\lib\\site-packages\\pandas\\core\\tools\\datetimes.py:1047: UserWarning: Parsing '13/11/1994' in DD/MM/YYYY format. Provide format or specify infer_datetime_format=True for consistent parsing.\n",
      "  cache_array = _maybe_cache(arg, format, cache, convert_listlike)\n",
      "c:\\Users\\jljoa\\anaconda3\\lib\\site-packages\\pandas\\core\\tools\\datetimes.py:1047: UserWarning: Parsing '15/11/1994' in DD/MM/YYYY format. Provide format or specify infer_datetime_format=True for consistent parsing.\n",
      "  cache_array = _maybe_cache(arg, format, cache, convert_listlike)\n",
      "c:\\Users\\jljoa\\anaconda3\\lib\\site-packages\\pandas\\core\\tools\\datetimes.py:1047: UserWarning: Parsing '17/11/1994' in DD/MM/YYYY format. Provide format or specify infer_datetime_format=True for consistent parsing.\n",
      "  cache_array = _maybe_cache(arg, format, cache, convert_listlike)\n",
      "c:\\Users\\jljoa\\anaconda3\\lib\\site-packages\\pandas\\core\\tools\\datetimes.py:1047: UserWarning: Parsing '21/11/1994' in DD/MM/YYYY format. Provide format or specify infer_datetime_format=True for consistent parsing.\n",
      "  cache_array = _maybe_cache(arg, format, cache, convert_listlike)\n",
      "c:\\Users\\jljoa\\anaconda3\\lib\\site-packages\\pandas\\core\\tools\\datetimes.py:1047: UserWarning: Parsing '22/11/1994' in DD/MM/YYYY format. Provide format or specify infer_datetime_format=True for consistent parsing.\n",
      "  cache_array = _maybe_cache(arg, format, cache, convert_listlike)\n",
      "c:\\Users\\jljoa\\anaconda3\\lib\\site-packages\\pandas\\core\\tools\\datetimes.py:1047: UserWarning: Parsing '23/11/1994' in DD/MM/YYYY format. Provide format or specify infer_datetime_format=True for consistent parsing.\n",
      "  cache_array = _maybe_cache(arg, format, cache, convert_listlike)\n",
      "c:\\Users\\jljoa\\anaconda3\\lib\\site-packages\\pandas\\core\\tools\\datetimes.py:1047: UserWarning: Parsing '24/11/1994' in DD/MM/YYYY format. Provide format or specify infer_datetime_format=True for consistent parsing.\n",
      "  cache_array = _maybe_cache(arg, format, cache, convert_listlike)\n",
      "c:\\Users\\jljoa\\anaconda3\\lib\\site-packages\\pandas\\core\\tools\\datetimes.py:1047: UserWarning: Parsing '25/11/1994' in DD/MM/YYYY format. Provide format or specify infer_datetime_format=True for consistent parsing.\n",
      "  cache_array = _maybe_cache(arg, format, cache, convert_listlike)\n",
      "c:\\Users\\jljoa\\anaconda3\\lib\\site-packages\\pandas\\core\\tools\\datetimes.py:1047: UserWarning: Parsing '26/11/1994' in DD/MM/YYYY format. Provide format or specify infer_datetime_format=True for consistent parsing.\n",
      "  cache_array = _maybe_cache(arg, format, cache, convert_listlike)\n",
      "c:\\Users\\jljoa\\anaconda3\\lib\\site-packages\\pandas\\core\\tools\\datetimes.py:1047: UserWarning: Parsing '27/11/1994' in DD/MM/YYYY format. Provide format or specify infer_datetime_format=True for consistent parsing.\n",
      "  cache_array = _maybe_cache(arg, format, cache, convert_listlike)\n",
      "c:\\Users\\jljoa\\anaconda3\\lib\\site-packages\\pandas\\core\\tools\\datetimes.py:1047: UserWarning: Parsing '28/11/1994' in DD/MM/YYYY format. Provide format or specify infer_datetime_format=True for consistent parsing.\n",
      "  cache_array = _maybe_cache(arg, format, cache, convert_listlike)\n",
      "c:\\Users\\jljoa\\anaconda3\\lib\\site-packages\\pandas\\core\\tools\\datetimes.py:1047: UserWarning: Parsing '17/12/1994' in DD/MM/YYYY format. Provide format or specify infer_datetime_format=True for consistent parsing.\n",
      "  cache_array = _maybe_cache(arg, format, cache, convert_listlike)\n",
      "c:\\Users\\jljoa\\anaconda3\\lib\\site-packages\\pandas\\core\\tools\\datetimes.py:1047: UserWarning: Parsing '18/12/1994' in DD/MM/YYYY format. Provide format or specify infer_datetime_format=True for consistent parsing.\n",
      "  cache_array = _maybe_cache(arg, format, cache, convert_listlike)\n",
      "c:\\Users\\jljoa\\anaconda3\\lib\\site-packages\\pandas\\core\\tools\\datetimes.py:1047: UserWarning: Parsing '19/12/1994' in DD/MM/YYYY format. Provide format or specify infer_datetime_format=True for consistent parsing.\n",
      "  cache_array = _maybe_cache(arg, format, cache, convert_listlike)\n",
      "c:\\Users\\jljoa\\anaconda3\\lib\\site-packages\\pandas\\core\\tools\\datetimes.py:1047: UserWarning: Parsing '20/12/1994' in DD/MM/YYYY format. Provide format or specify infer_datetime_format=True for consistent parsing.\n",
      "  cache_array = _maybe_cache(arg, format, cache, convert_listlike)\n",
      "c:\\Users\\jljoa\\anaconda3\\lib\\site-packages\\pandas\\core\\tools\\datetimes.py:1047: UserWarning: Parsing '22/12/1994' in DD/MM/YYYY format. Provide format or specify infer_datetime_format=True for consistent parsing.\n",
      "  cache_array = _maybe_cache(arg, format, cache, convert_listlike)\n",
      "c:\\Users\\jljoa\\anaconda3\\lib\\site-packages\\pandas\\core\\tools\\datetimes.py:1047: UserWarning: Parsing '23/12/1994' in DD/MM/YYYY format. Provide format or specify infer_datetime_format=True for consistent parsing.\n",
      "  cache_array = _maybe_cache(arg, format, cache, convert_listlike)\n",
      "c:\\Users\\jljoa\\anaconda3\\lib\\site-packages\\pandas\\core\\tools\\datetimes.py:1047: UserWarning: Parsing '24/12/1994' in DD/MM/YYYY format. Provide format or specify infer_datetime_format=True for consistent parsing.\n",
      "  cache_array = _maybe_cache(arg, format, cache, convert_listlike)\n",
      "c:\\Users\\jljoa\\anaconda3\\lib\\site-packages\\pandas\\core\\tools\\datetimes.py:1047: UserWarning: Parsing '25/12/1994' in DD/MM/YYYY format. Provide format or specify infer_datetime_format=True for consistent parsing.\n",
      "  cache_array = _maybe_cache(arg, format, cache, convert_listlike)\n",
      "c:\\Users\\jljoa\\anaconda3\\lib\\site-packages\\pandas\\core\\tools\\datetimes.py:1047: UserWarning: Parsing '27/12/1994' in DD/MM/YYYY format. Provide format or specify infer_datetime_format=True for consistent parsing.\n",
      "  cache_array = _maybe_cache(arg, format, cache, convert_listlike)\n",
      "c:\\Users\\jljoa\\anaconda3\\lib\\site-packages\\pandas\\core\\tools\\datetimes.py:1047: UserWarning: Parsing '13/10/1995' in DD/MM/YYYY format. Provide format or specify infer_datetime_format=True for consistent parsing.\n",
      "  cache_array = _maybe_cache(arg, format, cache, convert_listlike)\n",
      "c:\\Users\\jljoa\\anaconda3\\lib\\site-packages\\pandas\\core\\tools\\datetimes.py:1047: UserWarning: Parsing '14/10/1995' in DD/MM/YYYY format. Provide format or specify infer_datetime_format=True for consistent parsing.\n",
      "  cache_array = _maybe_cache(arg, format, cache, convert_listlike)\n",
      "c:\\Users\\jljoa\\anaconda3\\lib\\site-packages\\pandas\\core\\tools\\datetimes.py:1047: UserWarning: Parsing '15/10/1995' in DD/MM/YYYY format. Provide format or specify infer_datetime_format=True for consistent parsing.\n",
      "  cache_array = _maybe_cache(arg, format, cache, convert_listlike)\n",
      "c:\\Users\\jljoa\\anaconda3\\lib\\site-packages\\pandas\\core\\tools\\datetimes.py:1047: UserWarning: Parsing '16/10/1995' in DD/MM/YYYY format. Provide format or specify infer_datetime_format=True for consistent parsing.\n",
      "  cache_array = _maybe_cache(arg, format, cache, convert_listlike)\n",
      "c:\\Users\\jljoa\\anaconda3\\lib\\site-packages\\pandas\\core\\tools\\datetimes.py:1047: UserWarning: Parsing '17/10/1995' in DD/MM/YYYY format. Provide format or specify infer_datetime_format=True for consistent parsing.\n",
      "  cache_array = _maybe_cache(arg, format, cache, convert_listlike)\n",
      "c:\\Users\\jljoa\\anaconda3\\lib\\site-packages\\pandas\\core\\tools\\datetimes.py:1047: UserWarning: Parsing '18/10/1995' in DD/MM/YYYY format. Provide format or specify infer_datetime_format=True for consistent parsing.\n",
      "  cache_array = _maybe_cache(arg, format, cache, convert_listlike)\n",
      "c:\\Users\\jljoa\\anaconda3\\lib\\site-packages\\pandas\\core\\tools\\datetimes.py:1047: UserWarning: Parsing '19/10/1995' in DD/MM/YYYY format. Provide format or specify infer_datetime_format=True for consistent parsing.\n",
      "  cache_array = _maybe_cache(arg, format, cache, convert_listlike)\n",
      "c:\\Users\\jljoa\\anaconda3\\lib\\site-packages\\pandas\\core\\tools\\datetimes.py:1047: UserWarning: Parsing '20/10/1995' in DD/MM/YYYY format. Provide format or specify infer_datetime_format=True for consistent parsing.\n",
      "  cache_array = _maybe_cache(arg, format, cache, convert_listlike)\n",
      "c:\\Users\\jljoa\\anaconda3\\lib\\site-packages\\pandas\\core\\tools\\datetimes.py:1047: UserWarning: Parsing '21/10/1995' in DD/MM/YYYY format. Provide format or specify infer_datetime_format=True for consistent parsing.\n",
      "  cache_array = _maybe_cache(arg, format, cache, convert_listlike)\n",
      "c:\\Users\\jljoa\\anaconda3\\lib\\site-packages\\pandas\\core\\tools\\datetimes.py:1047: UserWarning: Parsing '22/10/1995' in DD/MM/YYYY format. Provide format or specify infer_datetime_format=True for consistent parsing.\n",
      "  cache_array = _maybe_cache(arg, format, cache, convert_listlike)\n",
      "c:\\Users\\jljoa\\anaconda3\\lib\\site-packages\\pandas\\core\\tools\\datetimes.py:1047: UserWarning: Parsing '23/10/1995' in DD/MM/YYYY format. Provide format or specify infer_datetime_format=True for consistent parsing.\n",
      "  cache_array = _maybe_cache(arg, format, cache, convert_listlike)\n",
      "c:\\Users\\jljoa\\anaconda3\\lib\\site-packages\\pandas\\core\\tools\\datetimes.py:1047: UserWarning: Parsing '24/10/1995' in DD/MM/YYYY format. Provide format or specify infer_datetime_format=True for consistent parsing.\n",
      "  cache_array = _maybe_cache(arg, format, cache, convert_listlike)\n",
      "c:\\Users\\jljoa\\anaconda3\\lib\\site-packages\\pandas\\core\\tools\\datetimes.py:1047: UserWarning: Parsing '25/10/1995' in DD/MM/YYYY format. Provide format or specify infer_datetime_format=True for consistent parsing.\n",
      "  cache_array = _maybe_cache(arg, format, cache, convert_listlike)\n",
      "c:\\Users\\jljoa\\anaconda3\\lib\\site-packages\\pandas\\core\\tools\\datetimes.py:1047: UserWarning: Parsing '26/10/1995' in DD/MM/YYYY format. Provide format or specify infer_datetime_format=True for consistent parsing.\n",
      "  cache_array = _maybe_cache(arg, format, cache, convert_listlike)\n",
      "c:\\Users\\jljoa\\anaconda3\\lib\\site-packages\\pandas\\core\\tools\\datetimes.py:1047: UserWarning: Parsing '27/10/1995' in DD/MM/YYYY format. Provide format or specify infer_datetime_format=True for consistent parsing.\n",
      "  cache_array = _maybe_cache(arg, format, cache, convert_listlike)\n",
      "c:\\Users\\jljoa\\anaconda3\\lib\\site-packages\\pandas\\core\\tools\\datetimes.py:1047: UserWarning: Parsing '28/10/1995' in DD/MM/YYYY format. Provide format or specify infer_datetime_format=True for consistent parsing.\n",
      "  cache_array = _maybe_cache(arg, format, cache, convert_listlike)\n",
      "c:\\Users\\jljoa\\anaconda3\\lib\\site-packages\\pandas\\core\\tools\\datetimes.py:1047: UserWarning: Parsing '29/10/1995' in DD/MM/YYYY format. Provide format or specify infer_datetime_format=True for consistent parsing.\n",
      "  cache_array = _maybe_cache(arg, format, cache, convert_listlike)\n",
      "c:\\Users\\jljoa\\anaconda3\\lib\\site-packages\\pandas\\core\\tools\\datetimes.py:1047: UserWarning: Parsing '30/10/1995' in DD/MM/YYYY format. Provide format or specify infer_datetime_format=True for consistent parsing.\n",
      "  cache_array = _maybe_cache(arg, format, cache, convert_listlike)\n",
      "c:\\Users\\jljoa\\anaconda3\\lib\\site-packages\\pandas\\core\\tools\\datetimes.py:1047: UserWarning: Parsing '14/11/1995' in DD/MM/YYYY format. Provide format or specify infer_datetime_format=True for consistent parsing.\n",
      "  cache_array = _maybe_cache(arg, format, cache, convert_listlike)\n",
      "c:\\Users\\jljoa\\anaconda3\\lib\\site-packages\\pandas\\core\\tools\\datetimes.py:1047: UserWarning: Parsing '15/11/1995' in DD/MM/YYYY format. Provide format or specify infer_datetime_format=True for consistent parsing.\n",
      "  cache_array = _maybe_cache(arg, format, cache, convert_listlike)\n",
      "c:\\Users\\jljoa\\anaconda3\\lib\\site-packages\\pandas\\core\\tools\\datetimes.py:1047: UserWarning: Parsing '16/11/1995' in DD/MM/YYYY format. Provide format or specify infer_datetime_format=True for consistent parsing.\n",
      "  cache_array = _maybe_cache(arg, format, cache, convert_listlike)\n",
      "c:\\Users\\jljoa\\anaconda3\\lib\\site-packages\\pandas\\core\\tools\\datetimes.py:1047: UserWarning: Parsing '17/11/1995' in DD/MM/YYYY format. Provide format or specify infer_datetime_format=True for consistent parsing.\n",
      "  cache_array = _maybe_cache(arg, format, cache, convert_listlike)\n",
      "c:\\Users\\jljoa\\anaconda3\\lib\\site-packages\\pandas\\core\\tools\\datetimes.py:1047: UserWarning: Parsing '18/11/1995' in DD/MM/YYYY format. Provide format or specify infer_datetime_format=True for consistent parsing.\n",
      "  cache_array = _maybe_cache(arg, format, cache, convert_listlike)\n",
      "c:\\Users\\jljoa\\anaconda3\\lib\\site-packages\\pandas\\core\\tools\\datetimes.py:1047: UserWarning: Parsing '19/11/1995' in DD/MM/YYYY format. Provide format or specify infer_datetime_format=True for consistent parsing.\n",
      "  cache_array = _maybe_cache(arg, format, cache, convert_listlike)\n",
      "c:\\Users\\jljoa\\anaconda3\\lib\\site-packages\\pandas\\core\\tools\\datetimes.py:1047: UserWarning: Parsing '20/11/1995' in DD/MM/YYYY format. Provide format or specify infer_datetime_format=True for consistent parsing.\n",
      "  cache_array = _maybe_cache(arg, format, cache, convert_listlike)\n",
      "c:\\Users\\jljoa\\anaconda3\\lib\\site-packages\\pandas\\core\\tools\\datetimes.py:1047: UserWarning: Parsing '21/11/1995' in DD/MM/YYYY format. Provide format or specify infer_datetime_format=True for consistent parsing.\n",
      "  cache_array = _maybe_cache(arg, format, cache, convert_listlike)\n",
      "c:\\Users\\jljoa\\anaconda3\\lib\\site-packages\\pandas\\core\\tools\\datetimes.py:1047: UserWarning: Parsing '22/11/1995' in DD/MM/YYYY format. Provide format or specify infer_datetime_format=True for consistent parsing.\n",
      "  cache_array = _maybe_cache(arg, format, cache, convert_listlike)\n",
      "c:\\Users\\jljoa\\anaconda3\\lib\\site-packages\\pandas\\core\\tools\\datetimes.py:1047: UserWarning: Parsing '23/11/1995' in DD/MM/YYYY format. Provide format or specify infer_datetime_format=True for consistent parsing.\n",
      "  cache_array = _maybe_cache(arg, format, cache, convert_listlike)\n",
      "c:\\Users\\jljoa\\anaconda3\\lib\\site-packages\\pandas\\core\\tools\\datetimes.py:1047: UserWarning: Parsing '25/11/1995' in DD/MM/YYYY format. Provide format or specify infer_datetime_format=True for consistent parsing.\n",
      "  cache_array = _maybe_cache(arg, format, cache, convert_listlike)\n",
      "c:\\Users\\jljoa\\anaconda3\\lib\\site-packages\\pandas\\core\\tools\\datetimes.py:1047: UserWarning: Parsing '26/11/1995' in DD/MM/YYYY format. Provide format or specify infer_datetime_format=True for consistent parsing.\n",
      "  cache_array = _maybe_cache(arg, format, cache, convert_listlike)\n",
      "c:\\Users\\jljoa\\anaconda3\\lib\\site-packages\\pandas\\core\\tools\\datetimes.py:1047: UserWarning: Parsing '27/11/1995' in DD/MM/YYYY format. Provide format or specify infer_datetime_format=True for consistent parsing.\n",
      "  cache_array = _maybe_cache(arg, format, cache, convert_listlike)\n",
      "c:\\Users\\jljoa\\anaconda3\\lib\\site-packages\\pandas\\core\\tools\\datetimes.py:1047: UserWarning: Parsing '28/11/1995' in DD/MM/YYYY format. Provide format or specify infer_datetime_format=True for consistent parsing.\n",
      "  cache_array = _maybe_cache(arg, format, cache, convert_listlike)\n",
      "c:\\Users\\jljoa\\anaconda3\\lib\\site-packages\\pandas\\core\\tools\\datetimes.py:1047: UserWarning: Parsing '29/11/1995' in DD/MM/YYYY format. Provide format or specify infer_datetime_format=True for consistent parsing.\n",
      "  cache_array = _maybe_cache(arg, format, cache, convert_listlike)\n",
      "c:\\Users\\jljoa\\anaconda3\\lib\\site-packages\\pandas\\core\\tools\\datetimes.py:1047: UserWarning: Parsing '13/12/1995' in DD/MM/YYYY format. Provide format or specify infer_datetime_format=True for consistent parsing.\n",
      "  cache_array = _maybe_cache(arg, format, cache, convert_listlike)\n",
      "c:\\Users\\jljoa\\anaconda3\\lib\\site-packages\\pandas\\core\\tools\\datetimes.py:1047: UserWarning: Parsing '14/12/1995' in DD/MM/YYYY format. Provide format or specify infer_datetime_format=True for consistent parsing.\n",
      "  cache_array = _maybe_cache(arg, format, cache, convert_listlike)\n",
      "c:\\Users\\jljoa\\anaconda3\\lib\\site-packages\\pandas\\core\\tools\\datetimes.py:1047: UserWarning: Parsing '15/12/1995' in DD/MM/YYYY format. Provide format or specify infer_datetime_format=True for consistent parsing.\n",
      "  cache_array = _maybe_cache(arg, format, cache, convert_listlike)\n",
      "c:\\Users\\jljoa\\anaconda3\\lib\\site-packages\\pandas\\core\\tools\\datetimes.py:1047: UserWarning: Parsing '16/12/1995' in DD/MM/YYYY format. Provide format or specify infer_datetime_format=True for consistent parsing.\n",
      "  cache_array = _maybe_cache(arg, format, cache, convert_listlike)\n",
      "c:\\Users\\jljoa\\anaconda3\\lib\\site-packages\\pandas\\core\\tools\\datetimes.py:1047: UserWarning: Parsing '17/12/1995' in DD/MM/YYYY format. Provide format or specify infer_datetime_format=True for consistent parsing.\n",
      "  cache_array = _maybe_cache(arg, format, cache, convert_listlike)\n",
      "c:\\Users\\jljoa\\anaconda3\\lib\\site-packages\\pandas\\core\\tools\\datetimes.py:1047: UserWarning: Parsing '18/12/1995' in DD/MM/YYYY format. Provide format or specify infer_datetime_format=True for consistent parsing.\n",
      "  cache_array = _maybe_cache(arg, format, cache, convert_listlike)\n",
      "c:\\Users\\jljoa\\anaconda3\\lib\\site-packages\\pandas\\core\\tools\\datetimes.py:1047: UserWarning: Parsing '19/12/1995' in DD/MM/YYYY format. Provide format or specify infer_datetime_format=True for consistent parsing.\n",
      "  cache_array = _maybe_cache(arg, format, cache, convert_listlike)\n",
      "c:\\Users\\jljoa\\anaconda3\\lib\\site-packages\\pandas\\core\\tools\\datetimes.py:1047: UserWarning: Parsing '20/12/1995' in DD/MM/YYYY format. Provide format or specify infer_datetime_format=True for consistent parsing.\n",
      "  cache_array = _maybe_cache(arg, format, cache, convert_listlike)\n",
      "c:\\Users\\jljoa\\anaconda3\\lib\\site-packages\\pandas\\core\\tools\\datetimes.py:1047: UserWarning: Parsing '21/12/1995' in DD/MM/YYYY format. Provide format or specify infer_datetime_format=True for consistent parsing.\n",
      "  cache_array = _maybe_cache(arg, format, cache, convert_listlike)\n",
      "c:\\Users\\jljoa\\anaconda3\\lib\\site-packages\\pandas\\core\\tools\\datetimes.py:1047: UserWarning: Parsing '22/12/1995' in DD/MM/YYYY format. Provide format or specify infer_datetime_format=True for consistent parsing.\n",
      "  cache_array = _maybe_cache(arg, format, cache, convert_listlike)\n",
      "c:\\Users\\jljoa\\anaconda3\\lib\\site-packages\\pandas\\core\\tools\\datetimes.py:1047: UserWarning: Parsing '24/12/1995' in DD/MM/YYYY format. Provide format or specify infer_datetime_format=True for consistent parsing.\n",
      "  cache_array = _maybe_cache(arg, format, cache, convert_listlike)\n",
      "c:\\Users\\jljoa\\anaconda3\\lib\\site-packages\\pandas\\core\\tools\\datetimes.py:1047: UserWarning: Parsing '25/12/1995' in DD/MM/YYYY format. Provide format or specify infer_datetime_format=True for consistent parsing.\n",
      "  cache_array = _maybe_cache(arg, format, cache, convert_listlike)\n",
      "c:\\Users\\jljoa\\anaconda3\\lib\\site-packages\\pandas\\core\\tools\\datetimes.py:1047: UserWarning: Parsing '27/12/1995' in DD/MM/YYYY format. Provide format or specify infer_datetime_format=True for consistent parsing.\n",
      "  cache_array = _maybe_cache(arg, format, cache, convert_listlike)\n",
      "c:\\Users\\jljoa\\anaconda3\\lib\\site-packages\\pandas\\core\\tools\\datetimes.py:1047: UserWarning: Parsing '29/12/1995' in DD/MM/YYYY format. Provide format or specify infer_datetime_format=True for consistent parsing.\n",
      "  cache_array = _maybe_cache(arg, format, cache, convert_listlike)\n",
      "c:\\Users\\jljoa\\anaconda3\\lib\\site-packages\\pandas\\core\\tools\\datetimes.py:1047: UserWarning: Parsing '30/12/1995' in DD/MM/YYYY format. Provide format or specify infer_datetime_format=True for consistent parsing.\n",
      "  cache_array = _maybe_cache(arg, format, cache, convert_listlike)\n",
      "c:\\Users\\jljoa\\anaconda3\\lib\\site-packages\\pandas\\core\\tools\\datetimes.py:1047: UserWarning: Parsing '13/10/1996' in DD/MM/YYYY format. Provide format or specify infer_datetime_format=True for consistent parsing.\n",
      "  cache_array = _maybe_cache(arg, format, cache, convert_listlike)\n",
      "c:\\Users\\jljoa\\anaconda3\\lib\\site-packages\\pandas\\core\\tools\\datetimes.py:1047: UserWarning: Parsing '14/10/1996' in DD/MM/YYYY format. Provide format or specify infer_datetime_format=True for consistent parsing.\n",
      "  cache_array = _maybe_cache(arg, format, cache, convert_listlike)\n",
      "c:\\Users\\jljoa\\anaconda3\\lib\\site-packages\\pandas\\core\\tools\\datetimes.py:1047: UserWarning: Parsing '15/10/1996' in DD/MM/YYYY format. Provide format or specify infer_datetime_format=True for consistent parsing.\n",
      "  cache_array = _maybe_cache(arg, format, cache, convert_listlike)\n",
      "c:\\Users\\jljoa\\anaconda3\\lib\\site-packages\\pandas\\core\\tools\\datetimes.py:1047: UserWarning: Parsing '16/10/1996' in DD/MM/YYYY format. Provide format or specify infer_datetime_format=True for consistent parsing.\n",
      "  cache_array = _maybe_cache(arg, format, cache, convert_listlike)\n",
      "c:\\Users\\jljoa\\anaconda3\\lib\\site-packages\\pandas\\core\\tools\\datetimes.py:1047: UserWarning: Parsing '17/10/1996' in DD/MM/YYYY format. Provide format or specify infer_datetime_format=True for consistent parsing.\n",
      "  cache_array = _maybe_cache(arg, format, cache, convert_listlike)\n",
      "c:\\Users\\jljoa\\anaconda3\\lib\\site-packages\\pandas\\core\\tools\\datetimes.py:1047: UserWarning: Parsing '18/10/1996' in DD/MM/YYYY format. Provide format or specify infer_datetime_format=True for consistent parsing.\n",
      "  cache_array = _maybe_cache(arg, format, cache, convert_listlike)\n",
      "c:\\Users\\jljoa\\anaconda3\\lib\\site-packages\\pandas\\core\\tools\\datetimes.py:1047: UserWarning: Parsing '19/10/1996' in DD/MM/YYYY format. Provide format or specify infer_datetime_format=True for consistent parsing.\n",
      "  cache_array = _maybe_cache(arg, format, cache, convert_listlike)\n",
      "c:\\Users\\jljoa\\anaconda3\\lib\\site-packages\\pandas\\core\\tools\\datetimes.py:1047: UserWarning: Parsing '20/10/1996' in DD/MM/YYYY format. Provide format or specify infer_datetime_format=True for consistent parsing.\n",
      "  cache_array = _maybe_cache(arg, format, cache, convert_listlike)\n",
      "c:\\Users\\jljoa\\anaconda3\\lib\\site-packages\\pandas\\core\\tools\\datetimes.py:1047: UserWarning: Parsing '21/10/1996' in DD/MM/YYYY format. Provide format or specify infer_datetime_format=True for consistent parsing.\n",
      "  cache_array = _maybe_cache(arg, format, cache, convert_listlike)\n",
      "c:\\Users\\jljoa\\anaconda3\\lib\\site-packages\\pandas\\core\\tools\\datetimes.py:1047: UserWarning: Parsing '22/10/1996' in DD/MM/YYYY format. Provide format or specify infer_datetime_format=True for consistent parsing.\n",
      "  cache_array = _maybe_cache(arg, format, cache, convert_listlike)\n",
      "c:\\Users\\jljoa\\anaconda3\\lib\\site-packages\\pandas\\core\\tools\\datetimes.py:1047: UserWarning: Parsing '23/10/1996' in DD/MM/YYYY format. Provide format or specify infer_datetime_format=True for consistent parsing.\n",
      "  cache_array = _maybe_cache(arg, format, cache, convert_listlike)\n",
      "c:\\Users\\jljoa\\anaconda3\\lib\\site-packages\\pandas\\core\\tools\\datetimes.py:1047: UserWarning: Parsing '24/10/1996' in DD/MM/YYYY format. Provide format or specify infer_datetime_format=True for consistent parsing.\n",
      "  cache_array = _maybe_cache(arg, format, cache, convert_listlike)\n",
      "c:\\Users\\jljoa\\anaconda3\\lib\\site-packages\\pandas\\core\\tools\\datetimes.py:1047: UserWarning: Parsing '25/10/1996' in DD/MM/YYYY format. Provide format or specify infer_datetime_format=True for consistent parsing.\n",
      "  cache_array = _maybe_cache(arg, format, cache, convert_listlike)\n",
      "c:\\Users\\jljoa\\anaconda3\\lib\\site-packages\\pandas\\core\\tools\\datetimes.py:1047: UserWarning: Parsing '26/10/1996' in DD/MM/YYYY format. Provide format or specify infer_datetime_format=True for consistent parsing.\n",
      "  cache_array = _maybe_cache(arg, format, cache, convert_listlike)\n",
      "c:\\Users\\jljoa\\anaconda3\\lib\\site-packages\\pandas\\core\\tools\\datetimes.py:1047: UserWarning: Parsing '27/10/1996' in DD/MM/YYYY format. Provide format or specify infer_datetime_format=True for consistent parsing.\n",
      "  cache_array = _maybe_cache(arg, format, cache, convert_listlike)\n",
      "c:\\Users\\jljoa\\anaconda3\\lib\\site-packages\\pandas\\core\\tools\\datetimes.py:1047: UserWarning: Parsing '28/10/1996' in DD/MM/YYYY format. Provide format or specify infer_datetime_format=True for consistent parsing.\n",
      "  cache_array = _maybe_cache(arg, format, cache, convert_listlike)\n",
      "c:\\Users\\jljoa\\anaconda3\\lib\\site-packages\\pandas\\core\\tools\\datetimes.py:1047: UserWarning: Parsing '29/10/1996' in DD/MM/YYYY format. Provide format or specify infer_datetime_format=True for consistent parsing.\n",
      "  cache_array = _maybe_cache(arg, format, cache, convert_listlike)\n",
      "c:\\Users\\jljoa\\anaconda3\\lib\\site-packages\\pandas\\core\\tools\\datetimes.py:1047: UserWarning: Parsing '30/10/1996' in DD/MM/YYYY format. Provide format or specify infer_datetime_format=True for consistent parsing.\n",
      "  cache_array = _maybe_cache(arg, format, cache, convert_listlike)\n",
      "c:\\Users\\jljoa\\anaconda3\\lib\\site-packages\\pandas\\core\\tools\\datetimes.py:1047: UserWarning: Parsing '13/11/1996' in DD/MM/YYYY format. Provide format or specify infer_datetime_format=True for consistent parsing.\n",
      "  cache_array = _maybe_cache(arg, format, cache, convert_listlike)\n",
      "c:\\Users\\jljoa\\anaconda3\\lib\\site-packages\\pandas\\core\\tools\\datetimes.py:1047: UserWarning: Parsing '14/11/1996' in DD/MM/YYYY format. Provide format or specify infer_datetime_format=True for consistent parsing.\n",
      "  cache_array = _maybe_cache(arg, format, cache, convert_listlike)\n",
      "c:\\Users\\jljoa\\anaconda3\\lib\\site-packages\\pandas\\core\\tools\\datetimes.py:1047: UserWarning: Parsing '15/11/1996' in DD/MM/YYYY format. Provide format or specify infer_datetime_format=True for consistent parsing.\n",
      "  cache_array = _maybe_cache(arg, format, cache, convert_listlike)\n",
      "c:\\Users\\jljoa\\anaconda3\\lib\\site-packages\\pandas\\core\\tools\\datetimes.py:1047: UserWarning: Parsing '16/11/1996' in DD/MM/YYYY format. Provide format or specify infer_datetime_format=True for consistent parsing.\n",
      "  cache_array = _maybe_cache(arg, format, cache, convert_listlike)\n",
      "c:\\Users\\jljoa\\anaconda3\\lib\\site-packages\\pandas\\core\\tools\\datetimes.py:1047: UserWarning: Parsing '17/11/1996' in DD/MM/YYYY format. Provide format or specify infer_datetime_format=True for consistent parsing.\n",
      "  cache_array = _maybe_cache(arg, format, cache, convert_listlike)\n",
      "c:\\Users\\jljoa\\anaconda3\\lib\\site-packages\\pandas\\core\\tools\\datetimes.py:1047: UserWarning: Parsing '18/11/1996' in DD/MM/YYYY format. Provide format or specify infer_datetime_format=True for consistent parsing.\n",
      "  cache_array = _maybe_cache(arg, format, cache, convert_listlike)\n",
      "c:\\Users\\jljoa\\anaconda3\\lib\\site-packages\\pandas\\core\\tools\\datetimes.py:1047: UserWarning: Parsing '19/11/1996' in DD/MM/YYYY format. Provide format or specify infer_datetime_format=True for consistent parsing.\n",
      "  cache_array = _maybe_cache(arg, format, cache, convert_listlike)\n",
      "c:\\Users\\jljoa\\anaconda3\\lib\\site-packages\\pandas\\core\\tools\\datetimes.py:1047: UserWarning: Parsing '20/11/1996' in DD/MM/YYYY format. Provide format or specify infer_datetime_format=True for consistent parsing.\n",
      "  cache_array = _maybe_cache(arg, format, cache, convert_listlike)\n",
      "c:\\Users\\jljoa\\anaconda3\\lib\\site-packages\\pandas\\core\\tools\\datetimes.py:1047: UserWarning: Parsing '21/11/1996' in DD/MM/YYYY format. Provide format or specify infer_datetime_format=True for consistent parsing.\n",
      "  cache_array = _maybe_cache(arg, format, cache, convert_listlike)\n",
      "c:\\Users\\jljoa\\anaconda3\\lib\\site-packages\\pandas\\core\\tools\\datetimes.py:1047: UserWarning: Parsing '22/11/1996' in DD/MM/YYYY format. Provide format or specify infer_datetime_format=True for consistent parsing.\n",
      "  cache_array = _maybe_cache(arg, format, cache, convert_listlike)\n",
      "c:\\Users\\jljoa\\anaconda3\\lib\\site-packages\\pandas\\core\\tools\\datetimes.py:1047: UserWarning: Parsing '23/11/1996' in DD/MM/YYYY format. Provide format or specify infer_datetime_format=True for consistent parsing.\n",
      "  cache_array = _maybe_cache(arg, format, cache, convert_listlike)\n",
      "c:\\Users\\jljoa\\anaconda3\\lib\\site-packages\\pandas\\core\\tools\\datetimes.py:1047: UserWarning: Parsing '24/11/1996' in DD/MM/YYYY format. Provide format or specify infer_datetime_format=True for consistent parsing.\n",
      "  cache_array = _maybe_cache(arg, format, cache, convert_listlike)\n",
      "c:\\Users\\jljoa\\anaconda3\\lib\\site-packages\\pandas\\core\\tools\\datetimes.py:1047: UserWarning: Parsing '25/11/1996' in DD/MM/YYYY format. Provide format or specify infer_datetime_format=True for consistent parsing.\n",
      "  cache_array = _maybe_cache(arg, format, cache, convert_listlike)\n",
      "c:\\Users\\jljoa\\anaconda3\\lib\\site-packages\\pandas\\core\\tools\\datetimes.py:1047: UserWarning: Parsing '26/11/1996' in DD/MM/YYYY format. Provide format or specify infer_datetime_format=True for consistent parsing.\n",
      "  cache_array = _maybe_cache(arg, format, cache, convert_listlike)\n",
      "c:\\Users\\jljoa\\anaconda3\\lib\\site-packages\\pandas\\core\\tools\\datetimes.py:1047: UserWarning: Parsing '27/11/1996' in DD/MM/YYYY format. Provide format or specify infer_datetime_format=True for consistent parsing.\n",
      "  cache_array = _maybe_cache(arg, format, cache, convert_listlike)\n",
      "c:\\Users\\jljoa\\anaconda3\\lib\\site-packages\\pandas\\core\\tools\\datetimes.py:1047: UserWarning: Parsing '29/11/1996' in DD/MM/YYYY format. Provide format or specify infer_datetime_format=True for consistent parsing.\n",
      "  cache_array = _maybe_cache(arg, format, cache, convert_listlike)\n",
      "c:\\Users\\jljoa\\anaconda3\\lib\\site-packages\\pandas\\core\\tools\\datetimes.py:1047: UserWarning: Parsing '13/12/1996' in DD/MM/YYYY format. Provide format or specify infer_datetime_format=True for consistent parsing.\n",
      "  cache_array = _maybe_cache(arg, format, cache, convert_listlike)\n",
      "c:\\Users\\jljoa\\anaconda3\\lib\\site-packages\\pandas\\core\\tools\\datetimes.py:1047: UserWarning: Parsing '14/12/1996' in DD/MM/YYYY format. Provide format or specify infer_datetime_format=True for consistent parsing.\n",
      "  cache_array = _maybe_cache(arg, format, cache, convert_listlike)\n",
      "c:\\Users\\jljoa\\anaconda3\\lib\\site-packages\\pandas\\core\\tools\\datetimes.py:1047: UserWarning: Parsing '15/12/1996' in DD/MM/YYYY format. Provide format or specify infer_datetime_format=True for consistent parsing.\n",
      "  cache_array = _maybe_cache(arg, format, cache, convert_listlike)\n",
      "c:\\Users\\jljoa\\anaconda3\\lib\\site-packages\\pandas\\core\\tools\\datetimes.py:1047: UserWarning: Parsing '16/12/1996' in DD/MM/YYYY format. Provide format or specify infer_datetime_format=True for consistent parsing.\n",
      "  cache_array = _maybe_cache(arg, format, cache, convert_listlike)\n",
      "c:\\Users\\jljoa\\anaconda3\\lib\\site-packages\\pandas\\core\\tools\\datetimes.py:1047: UserWarning: Parsing '17/12/1996' in DD/MM/YYYY format. Provide format or specify infer_datetime_format=True for consistent parsing.\n",
      "  cache_array = _maybe_cache(arg, format, cache, convert_listlike)\n",
      "c:\\Users\\jljoa\\anaconda3\\lib\\site-packages\\pandas\\core\\tools\\datetimes.py:1047: UserWarning: Parsing '18/12/1996' in DD/MM/YYYY format. Provide format or specify infer_datetime_format=True for consistent parsing.\n",
      "  cache_array = _maybe_cache(arg, format, cache, convert_listlike)\n",
      "c:\\Users\\jljoa\\anaconda3\\lib\\site-packages\\pandas\\core\\tools\\datetimes.py:1047: UserWarning: Parsing '19/12/1996' in DD/MM/YYYY format. Provide format or specify infer_datetime_format=True for consistent parsing.\n",
      "  cache_array = _maybe_cache(arg, format, cache, convert_listlike)\n",
      "c:\\Users\\jljoa\\anaconda3\\lib\\site-packages\\pandas\\core\\tools\\datetimes.py:1047: UserWarning: Parsing '20/12/1996' in DD/MM/YYYY format. Provide format or specify infer_datetime_format=True for consistent parsing.\n",
      "  cache_array = _maybe_cache(arg, format, cache, convert_listlike)\n",
      "c:\\Users\\jljoa\\anaconda3\\lib\\site-packages\\pandas\\core\\tools\\datetimes.py:1047: UserWarning: Parsing '21/12/1996' in DD/MM/YYYY format. Provide format or specify infer_datetime_format=True for consistent parsing.\n",
      "  cache_array = _maybe_cache(arg, format, cache, convert_listlike)\n",
      "c:\\Users\\jljoa\\anaconda3\\lib\\site-packages\\pandas\\core\\tools\\datetimes.py:1047: UserWarning: Parsing '22/12/1996' in DD/MM/YYYY format. Provide format or specify infer_datetime_format=True for consistent parsing.\n",
      "  cache_array = _maybe_cache(arg, format, cache, convert_listlike)\n",
      "c:\\Users\\jljoa\\anaconda3\\lib\\site-packages\\pandas\\core\\tools\\datetimes.py:1047: UserWarning: Parsing '23/12/1996' in DD/MM/YYYY format. Provide format or specify infer_datetime_format=True for consistent parsing.\n",
      "  cache_array = _maybe_cache(arg, format, cache, convert_listlike)\n",
      "c:\\Users\\jljoa\\anaconda3\\lib\\site-packages\\pandas\\core\\tools\\datetimes.py:1047: UserWarning: Parsing '24/12/1996' in DD/MM/YYYY format. Provide format or specify infer_datetime_format=True for consistent parsing.\n",
      "  cache_array = _maybe_cache(arg, format, cache, convert_listlike)\n",
      "c:\\Users\\jljoa\\anaconda3\\lib\\site-packages\\pandas\\core\\tools\\datetimes.py:1047: UserWarning: Parsing '25/12/1996' in DD/MM/YYYY format. Provide format or specify infer_datetime_format=True for consistent parsing.\n",
      "  cache_array = _maybe_cache(arg, format, cache, convert_listlike)\n",
      "c:\\Users\\jljoa\\anaconda3\\lib\\site-packages\\pandas\\core\\tools\\datetimes.py:1047: UserWarning: Parsing '26/12/1996' in DD/MM/YYYY format. Provide format or specify infer_datetime_format=True for consistent parsing.\n",
      "  cache_array = _maybe_cache(arg, format, cache, convert_listlike)\n",
      "c:\\Users\\jljoa\\anaconda3\\lib\\site-packages\\pandas\\core\\tools\\datetimes.py:1047: UserWarning: Parsing '27/12/1996' in DD/MM/YYYY format. Provide format or specify infer_datetime_format=True for consistent parsing.\n",
      "  cache_array = _maybe_cache(arg, format, cache, convert_listlike)\n",
      "c:\\Users\\jljoa\\anaconda3\\lib\\site-packages\\pandas\\core\\tools\\datetimes.py:1047: UserWarning: Parsing '28/12/1996' in DD/MM/YYYY format. Provide format or specify infer_datetime_format=True for consistent parsing.\n",
      "  cache_array = _maybe_cache(arg, format, cache, convert_listlike)\n",
      "c:\\Users\\jljoa\\anaconda3\\lib\\site-packages\\pandas\\core\\tools\\datetimes.py:1047: UserWarning: Parsing '29/12/1996' in DD/MM/YYYY format. Provide format or specify infer_datetime_format=True for consistent parsing.\n",
      "  cache_array = _maybe_cache(arg, format, cache, convert_listlike)\n",
      "c:\\Users\\jljoa\\anaconda3\\lib\\site-packages\\pandas\\core\\tools\\datetimes.py:1047: UserWarning: Parsing '30/12/1996' in DD/MM/YYYY format. Provide format or specify infer_datetime_format=True for consistent parsing.\n",
      "  cache_array = _maybe_cache(arg, format, cache, convert_listlike)\n",
      "c:\\Users\\jljoa\\anaconda3\\lib\\site-packages\\pandas\\core\\tools\\datetimes.py:1047: UserWarning: Parsing '13/10/1997' in DD/MM/YYYY format. Provide format or specify infer_datetime_format=True for consistent parsing.\n",
      "  cache_array = _maybe_cache(arg, format, cache, convert_listlike)\n",
      "c:\\Users\\jljoa\\anaconda3\\lib\\site-packages\\pandas\\core\\tools\\datetimes.py:1047: UserWarning: Parsing '14/10/1997' in DD/MM/YYYY format. Provide format or specify infer_datetime_format=True for consistent parsing.\n",
      "  cache_array = _maybe_cache(arg, format, cache, convert_listlike)\n",
      "c:\\Users\\jljoa\\anaconda3\\lib\\site-packages\\pandas\\core\\tools\\datetimes.py:1047: UserWarning: Parsing '15/10/1997' in DD/MM/YYYY format. Provide format or specify infer_datetime_format=True for consistent parsing.\n",
      "  cache_array = _maybe_cache(arg, format, cache, convert_listlike)\n",
      "c:\\Users\\jljoa\\anaconda3\\lib\\site-packages\\pandas\\core\\tools\\datetimes.py:1047: UserWarning: Parsing '16/10/1997' in DD/MM/YYYY format. Provide format or specify infer_datetime_format=True for consistent parsing.\n",
      "  cache_array = _maybe_cache(arg, format, cache, convert_listlike)\n",
      "c:\\Users\\jljoa\\anaconda3\\lib\\site-packages\\pandas\\core\\tools\\datetimes.py:1047: UserWarning: Parsing '17/10/1997' in DD/MM/YYYY format. Provide format or specify infer_datetime_format=True for consistent parsing.\n",
      "  cache_array = _maybe_cache(arg, format, cache, convert_listlike)\n",
      "c:\\Users\\jljoa\\anaconda3\\lib\\site-packages\\pandas\\core\\tools\\datetimes.py:1047: UserWarning: Parsing '18/10/1997' in DD/MM/YYYY format. Provide format or specify infer_datetime_format=True for consistent parsing.\n",
      "  cache_array = _maybe_cache(arg, format, cache, convert_listlike)\n",
      "c:\\Users\\jljoa\\anaconda3\\lib\\site-packages\\pandas\\core\\tools\\datetimes.py:1047: UserWarning: Parsing '19/10/1997' in DD/MM/YYYY format. Provide format or specify infer_datetime_format=True for consistent parsing.\n",
      "  cache_array = _maybe_cache(arg, format, cache, convert_listlike)\n",
      "c:\\Users\\jljoa\\anaconda3\\lib\\site-packages\\pandas\\core\\tools\\datetimes.py:1047: UserWarning: Parsing '20/10/1997' in DD/MM/YYYY format. Provide format or specify infer_datetime_format=True for consistent parsing.\n",
      "  cache_array = _maybe_cache(arg, format, cache, convert_listlike)\n",
      "c:\\Users\\jljoa\\anaconda3\\lib\\site-packages\\pandas\\core\\tools\\datetimes.py:1047: UserWarning: Parsing '21/10/1997' in DD/MM/YYYY format. Provide format or specify infer_datetime_format=True for consistent parsing.\n",
      "  cache_array = _maybe_cache(arg, format, cache, convert_listlike)\n",
      "c:\\Users\\jljoa\\anaconda3\\lib\\site-packages\\pandas\\core\\tools\\datetimes.py:1047: UserWarning: Parsing '22/10/1997' in DD/MM/YYYY format. Provide format or specify infer_datetime_format=True for consistent parsing.\n",
      "  cache_array = _maybe_cache(arg, format, cache, convert_listlike)\n",
      "c:\\Users\\jljoa\\anaconda3\\lib\\site-packages\\pandas\\core\\tools\\datetimes.py:1047: UserWarning: Parsing '23/10/1997' in DD/MM/YYYY format. Provide format or specify infer_datetime_format=True for consistent parsing.\n",
      "  cache_array = _maybe_cache(arg, format, cache, convert_listlike)\n",
      "c:\\Users\\jljoa\\anaconda3\\lib\\site-packages\\pandas\\core\\tools\\datetimes.py:1047: UserWarning: Parsing '24/10/1997' in DD/MM/YYYY format. Provide format or specify infer_datetime_format=True for consistent parsing.\n",
      "  cache_array = _maybe_cache(arg, format, cache, convert_listlike)\n",
      "c:\\Users\\jljoa\\anaconda3\\lib\\site-packages\\pandas\\core\\tools\\datetimes.py:1047: UserWarning: Parsing '25/10/1997' in DD/MM/YYYY format. Provide format or specify infer_datetime_format=True for consistent parsing.\n",
      "  cache_array = _maybe_cache(arg, format, cache, convert_listlike)\n",
      "c:\\Users\\jljoa\\anaconda3\\lib\\site-packages\\pandas\\core\\tools\\datetimes.py:1047: UserWarning: Parsing '26/10/1997' in DD/MM/YYYY format. Provide format or specify infer_datetime_format=True for consistent parsing.\n",
      "  cache_array = _maybe_cache(arg, format, cache, convert_listlike)\n",
      "c:\\Users\\jljoa\\anaconda3\\lib\\site-packages\\pandas\\core\\tools\\datetimes.py:1047: UserWarning: Parsing '27/10/1997' in DD/MM/YYYY format. Provide format or specify infer_datetime_format=True for consistent parsing.\n",
      "  cache_array = _maybe_cache(arg, format, cache, convert_listlike)\n",
      "c:\\Users\\jljoa\\anaconda3\\lib\\site-packages\\pandas\\core\\tools\\datetimes.py:1047: UserWarning: Parsing '28/10/1997' in DD/MM/YYYY format. Provide format or specify infer_datetime_format=True for consistent parsing.\n",
      "  cache_array = _maybe_cache(arg, format, cache, convert_listlike)\n",
      "c:\\Users\\jljoa\\anaconda3\\lib\\site-packages\\pandas\\core\\tools\\datetimes.py:1047: UserWarning: Parsing '29/10/1997' in DD/MM/YYYY format. Provide format or specify infer_datetime_format=True for consistent parsing.\n",
      "  cache_array = _maybe_cache(arg, format, cache, convert_listlike)\n",
      "c:\\Users\\jljoa\\anaconda3\\lib\\site-packages\\pandas\\core\\tools\\datetimes.py:1047: UserWarning: Parsing '30/10/1997' in DD/MM/YYYY format. Provide format or specify infer_datetime_format=True for consistent parsing.\n",
      "  cache_array = _maybe_cache(arg, format, cache, convert_listlike)\n",
      "c:\\Users\\jljoa\\anaconda3\\lib\\site-packages\\pandas\\core\\tools\\datetimes.py:1047: UserWarning: Parsing '13/11/1997' in DD/MM/YYYY format. Provide format or specify infer_datetime_format=True for consistent parsing.\n",
      "  cache_array = _maybe_cache(arg, format, cache, convert_listlike)\n",
      "c:\\Users\\jljoa\\anaconda3\\lib\\site-packages\\pandas\\core\\tools\\datetimes.py:1047: UserWarning: Parsing '14/11/1997' in DD/MM/YYYY format. Provide format or specify infer_datetime_format=True for consistent parsing.\n",
      "  cache_array = _maybe_cache(arg, format, cache, convert_listlike)\n",
      "c:\\Users\\jljoa\\anaconda3\\lib\\site-packages\\pandas\\core\\tools\\datetimes.py:1047: UserWarning: Parsing '15/11/1997' in DD/MM/YYYY format. Provide format or specify infer_datetime_format=True for consistent parsing.\n",
      "  cache_array = _maybe_cache(arg, format, cache, convert_listlike)\n",
      "c:\\Users\\jljoa\\anaconda3\\lib\\site-packages\\pandas\\core\\tools\\datetimes.py:1047: UserWarning: Parsing '16/11/1997' in DD/MM/YYYY format. Provide format or specify infer_datetime_format=True for consistent parsing.\n",
      "  cache_array = _maybe_cache(arg, format, cache, convert_listlike)\n",
      "c:\\Users\\jljoa\\anaconda3\\lib\\site-packages\\pandas\\core\\tools\\datetimes.py:1047: UserWarning: Parsing '17/11/1997' in DD/MM/YYYY format. Provide format or specify infer_datetime_format=True for consistent parsing.\n",
      "  cache_array = _maybe_cache(arg, format, cache, convert_listlike)\n",
      "c:\\Users\\jljoa\\anaconda3\\lib\\site-packages\\pandas\\core\\tools\\datetimes.py:1047: UserWarning: Parsing '18/11/1997' in DD/MM/YYYY format. Provide format or specify infer_datetime_format=True for consistent parsing.\n",
      "  cache_array = _maybe_cache(arg, format, cache, convert_listlike)\n",
      "c:\\Users\\jljoa\\anaconda3\\lib\\site-packages\\pandas\\core\\tools\\datetimes.py:1047: UserWarning: Parsing '20/11/1997' in DD/MM/YYYY format. Provide format or specify infer_datetime_format=True for consistent parsing.\n",
      "  cache_array = _maybe_cache(arg, format, cache, convert_listlike)\n",
      "c:\\Users\\jljoa\\anaconda3\\lib\\site-packages\\pandas\\core\\tools\\datetimes.py:1047: UserWarning: Parsing '21/11/1997' in DD/MM/YYYY format. Provide format or specify infer_datetime_format=True for consistent parsing.\n",
      "  cache_array = _maybe_cache(arg, format, cache, convert_listlike)\n",
      "c:\\Users\\jljoa\\anaconda3\\lib\\site-packages\\pandas\\core\\tools\\datetimes.py:1047: UserWarning: Parsing '22/11/1997' in DD/MM/YYYY format. Provide format or specify infer_datetime_format=True for consistent parsing.\n",
      "  cache_array = _maybe_cache(arg, format, cache, convert_listlike)\n",
      "c:\\Users\\jljoa\\anaconda3\\lib\\site-packages\\pandas\\core\\tools\\datetimes.py:1047: UserWarning: Parsing '23/11/1997' in DD/MM/YYYY format. Provide format or specify infer_datetime_format=True for consistent parsing.\n",
      "  cache_array = _maybe_cache(arg, format, cache, convert_listlike)\n",
      "c:\\Users\\jljoa\\anaconda3\\lib\\site-packages\\pandas\\core\\tools\\datetimes.py:1047: UserWarning: Parsing '24/11/1997' in DD/MM/YYYY format. Provide format or specify infer_datetime_format=True for consistent parsing.\n",
      "  cache_array = _maybe_cache(arg, format, cache, convert_listlike)\n",
      "c:\\Users\\jljoa\\anaconda3\\lib\\site-packages\\pandas\\core\\tools\\datetimes.py:1047: UserWarning: Parsing '25/11/1997' in DD/MM/YYYY format. Provide format or specify infer_datetime_format=True for consistent parsing.\n",
      "  cache_array = _maybe_cache(arg, format, cache, convert_listlike)\n",
      "c:\\Users\\jljoa\\anaconda3\\lib\\site-packages\\pandas\\core\\tools\\datetimes.py:1047: UserWarning: Parsing '27/11/1997' in DD/MM/YYYY format. Provide format or specify infer_datetime_format=True for consistent parsing.\n",
      "  cache_array = _maybe_cache(arg, format, cache, convert_listlike)\n",
      "c:\\Users\\jljoa\\anaconda3\\lib\\site-packages\\pandas\\core\\tools\\datetimes.py:1047: UserWarning: Parsing '28/11/1997' in DD/MM/YYYY format. Provide format or specify infer_datetime_format=True for consistent parsing.\n",
      "  cache_array = _maybe_cache(arg, format, cache, convert_listlike)\n",
      "c:\\Users\\jljoa\\anaconda3\\lib\\site-packages\\pandas\\core\\tools\\datetimes.py:1047: UserWarning: Parsing '29/11/1997' in DD/MM/YYYY format. Provide format or specify infer_datetime_format=True for consistent parsing.\n",
      "  cache_array = _maybe_cache(arg, format, cache, convert_listlike)\n",
      "c:\\Users\\jljoa\\anaconda3\\lib\\site-packages\\pandas\\core\\tools\\datetimes.py:1047: UserWarning: Parsing '13/12/1997' in DD/MM/YYYY format. Provide format or specify infer_datetime_format=True for consistent parsing.\n",
      "  cache_array = _maybe_cache(arg, format, cache, convert_listlike)\n",
      "c:\\Users\\jljoa\\anaconda3\\lib\\site-packages\\pandas\\core\\tools\\datetimes.py:1047: UserWarning: Parsing '15/12/1997' in DD/MM/YYYY format. Provide format or specify infer_datetime_format=True for consistent parsing.\n",
      "  cache_array = _maybe_cache(arg, format, cache, convert_listlike)\n",
      "c:\\Users\\jljoa\\anaconda3\\lib\\site-packages\\pandas\\core\\tools\\datetimes.py:1047: UserWarning: Parsing '16/12/1997' in DD/MM/YYYY format. Provide format or specify infer_datetime_format=True for consistent parsing.\n",
      "  cache_array = _maybe_cache(arg, format, cache, convert_listlike)\n",
      "c:\\Users\\jljoa\\anaconda3\\lib\\site-packages\\pandas\\core\\tools\\datetimes.py:1047: UserWarning: Parsing '17/12/1997' in DD/MM/YYYY format. Provide format or specify infer_datetime_format=True for consistent parsing.\n",
      "  cache_array = _maybe_cache(arg, format, cache, convert_listlike)\n",
      "c:\\Users\\jljoa\\anaconda3\\lib\\site-packages\\pandas\\core\\tools\\datetimes.py:1047: UserWarning: Parsing '18/12/1997' in DD/MM/YYYY format. Provide format or specify infer_datetime_format=True for consistent parsing.\n",
      "  cache_array = _maybe_cache(arg, format, cache, convert_listlike)\n",
      "c:\\Users\\jljoa\\anaconda3\\lib\\site-packages\\pandas\\core\\tools\\datetimes.py:1047: UserWarning: Parsing '19/12/1997' in DD/MM/YYYY format. Provide format or specify infer_datetime_format=True for consistent parsing.\n",
      "  cache_array = _maybe_cache(arg, format, cache, convert_listlike)\n",
      "c:\\Users\\jljoa\\anaconda3\\lib\\site-packages\\pandas\\core\\tools\\datetimes.py:1047: UserWarning: Parsing '20/12/1997' in DD/MM/YYYY format. Provide format or specify infer_datetime_format=True for consistent parsing.\n",
      "  cache_array = _maybe_cache(arg, format, cache, convert_listlike)\n",
      "c:\\Users\\jljoa\\anaconda3\\lib\\site-packages\\pandas\\core\\tools\\datetimes.py:1047: UserWarning: Parsing '21/12/1997' in DD/MM/YYYY format. Provide format or specify infer_datetime_format=True for consistent parsing.\n",
      "  cache_array = _maybe_cache(arg, format, cache, convert_listlike)\n",
      "c:\\Users\\jljoa\\anaconda3\\lib\\site-packages\\pandas\\core\\tools\\datetimes.py:1047: UserWarning: Parsing '22/12/1997' in DD/MM/YYYY format. Provide format or specify infer_datetime_format=True for consistent parsing.\n",
      "  cache_array = _maybe_cache(arg, format, cache, convert_listlike)\n",
      "c:\\Users\\jljoa\\anaconda3\\lib\\site-packages\\pandas\\core\\tools\\datetimes.py:1047: UserWarning: Parsing '23/12/1997' in DD/MM/YYYY format. Provide format or specify infer_datetime_format=True for consistent parsing.\n",
      "  cache_array = _maybe_cache(arg, format, cache, convert_listlike)\n",
      "c:\\Users\\jljoa\\anaconda3\\lib\\site-packages\\pandas\\core\\tools\\datetimes.py:1047: UserWarning: Parsing '25/12/1997' in DD/MM/YYYY format. Provide format or specify infer_datetime_format=True for consistent parsing.\n",
      "  cache_array = _maybe_cache(arg, format, cache, convert_listlike)\n",
      "c:\\Users\\jljoa\\anaconda3\\lib\\site-packages\\pandas\\core\\tools\\datetimes.py:1047: UserWarning: Parsing '26/12/1997' in DD/MM/YYYY format. Provide format or specify infer_datetime_format=True for consistent parsing.\n",
      "  cache_array = _maybe_cache(arg, format, cache, convert_listlike)\n",
      "c:\\Users\\jljoa\\anaconda3\\lib\\site-packages\\pandas\\core\\tools\\datetimes.py:1047: UserWarning: Parsing '27/12/1997' in DD/MM/YYYY format. Provide format or specify infer_datetime_format=True for consistent parsing.\n",
      "  cache_array = _maybe_cache(arg, format, cache, convert_listlike)\n",
      "c:\\Users\\jljoa\\anaconda3\\lib\\site-packages\\pandas\\core\\tools\\datetimes.py:1047: UserWarning: Parsing '28/12/1997' in DD/MM/YYYY format. Provide format or specify infer_datetime_format=True for consistent parsing.\n",
      "  cache_array = _maybe_cache(arg, format, cache, convert_listlike)\n",
      "c:\\Users\\jljoa\\anaconda3\\lib\\site-packages\\pandas\\core\\tools\\datetimes.py:1047: UserWarning: Parsing '29/12/1997' in DD/MM/YYYY format. Provide format or specify infer_datetime_format=True for consistent parsing.\n",
      "  cache_array = _maybe_cache(arg, format, cache, convert_listlike)\n",
      "C:\\Users\\jljoa\\AppData\\Local\\Temp\\ipykernel_22888\\948663611.py:19: UserWarning: Parsing '13/10/1993' in DD/MM/YYYY format. Provide format or specify infer_datetime_format=True for consistent parsing.\n",
      "  loan_dev_df['date'] = pd.to_datetime(loan_dev_df['date'].apply(get_formatted_date), infer_datetime_format=True)\n",
      "C:\\Users\\jljoa\\AppData\\Local\\Temp\\ipykernel_22888\\948663611.py:19: UserWarning: Parsing '22/11/1993' in DD/MM/YYYY format. Provide format or specify infer_datetime_format=True for consistent parsing.\n",
      "  loan_dev_df['date'] = pd.to_datetime(loan_dev_df['date'].apply(get_formatted_date), infer_datetime_format=True)\n",
      "C:\\Users\\jljoa\\AppData\\Local\\Temp\\ipykernel_22888\\948663611.py:19: UserWarning: Parsing '13/12/1993' in DD/MM/YYYY format. Provide format or specify infer_datetime_format=True for consistent parsing.\n",
      "  loan_dev_df['date'] = pd.to_datetime(loan_dev_df['date'].apply(get_formatted_date), infer_datetime_format=True)\n",
      "C:\\Users\\jljoa\\AppData\\Local\\Temp\\ipykernel_22888\\948663611.py:19: UserWarning: Parsing '16/12/1993' in DD/MM/YYYY format. Provide format or specify infer_datetime_format=True for consistent parsing.\n",
      "  loan_dev_df['date'] = pd.to_datetime(loan_dev_df['date'].apply(get_formatted_date), infer_datetime_format=True)\n",
      "C:\\Users\\jljoa\\AppData\\Local\\Temp\\ipykernel_22888\\948663611.py:19: UserWarning: Parsing '21/12/1993' in DD/MM/YYYY format. Provide format or specify infer_datetime_format=True for consistent parsing.\n",
      "  loan_dev_df['date'] = pd.to_datetime(loan_dev_df['date'].apply(get_formatted_date), infer_datetime_format=True)\n",
      "C:\\Users\\jljoa\\AppData\\Local\\Temp\\ipykernel_22888\\948663611.py:19: UserWarning: Parsing '23/12/1993' in DD/MM/YYYY format. Provide format or specify infer_datetime_format=True for consistent parsing.\n",
      "  loan_dev_df['date'] = pd.to_datetime(loan_dev_df['date'].apply(get_formatted_date), infer_datetime_format=True)\n",
      "C:\\Users\\jljoa\\AppData\\Local\\Temp\\ipykernel_22888\\948663611.py:19: UserWarning: Parsing '25/10/1994' in DD/MM/YYYY format. Provide format or specify infer_datetime_format=True for consistent parsing.\n",
      "  loan_dev_df['date'] = pd.to_datetime(loan_dev_df['date'].apply(get_formatted_date), infer_datetime_format=True)\n",
      "C:\\Users\\jljoa\\AppData\\Local\\Temp\\ipykernel_22888\\948663611.py:19: UserWarning: Parsing '28/10/1994' in DD/MM/YYYY format. Provide format or specify infer_datetime_format=True for consistent parsing.\n",
      "  loan_dev_df['date'] = pd.to_datetime(loan_dev_df['date'].apply(get_formatted_date), infer_datetime_format=True)\n",
      "C:\\Users\\jljoa\\AppData\\Local\\Temp\\ipykernel_22888\\948663611.py:19: UserWarning: Parsing '30/10/1994' in DD/MM/YYYY format. Provide format or specify infer_datetime_format=True for consistent parsing.\n",
      "  loan_dev_df['date'] = pd.to_datetime(loan_dev_df['date'].apply(get_formatted_date), infer_datetime_format=True)\n",
      "C:\\Users\\jljoa\\AppData\\Local\\Temp\\ipykernel_22888\\948663611.py:19: UserWarning: Parsing '19/11/1994' in DD/MM/YYYY format. Provide format or specify infer_datetime_format=True for consistent parsing.\n",
      "  loan_dev_df['date'] = pd.to_datetime(loan_dev_df['date'].apply(get_formatted_date), infer_datetime_format=True)\n",
      "C:\\Users\\jljoa\\AppData\\Local\\Temp\\ipykernel_22888\\948663611.py:19: UserWarning: Parsing '19/12/1994' in DD/MM/YYYY format. Provide format or specify infer_datetime_format=True for consistent parsing.\n",
      "  loan_dev_df['date'] = pd.to_datetime(loan_dev_df['date'].apply(get_formatted_date), infer_datetime_format=True)\n",
      "C:\\Users\\jljoa\\AppData\\Local\\Temp\\ipykernel_22888\\948663611.py:19: UserWarning: Parsing '20/12/1994' in DD/MM/YYYY format. Provide format or specify infer_datetime_format=True for consistent parsing.\n",
      "  loan_dev_df['date'] = pd.to_datetime(loan_dev_df['date'].apply(get_formatted_date), infer_datetime_format=True)\n",
      "C:\\Users\\jljoa\\AppData\\Local\\Temp\\ipykernel_22888\\948663611.py:19: UserWarning: Parsing '21/12/1994' in DD/MM/YYYY format. Provide format or specify infer_datetime_format=True for consistent parsing.\n",
      "  loan_dev_df['date'] = pd.to_datetime(loan_dev_df['date'].apply(get_formatted_date), infer_datetime_format=True)\n",
      "C:\\Users\\jljoa\\AppData\\Local\\Temp\\ipykernel_22888\\948663611.py:19: UserWarning: Parsing '14/10/1995' in DD/MM/YYYY format. Provide format or specify infer_datetime_format=True for consistent parsing.\n",
      "  loan_dev_df['date'] = pd.to_datetime(loan_dev_df['date'].apply(get_formatted_date), infer_datetime_format=True)\n",
      "C:\\Users\\jljoa\\AppData\\Local\\Temp\\ipykernel_22888\\948663611.py:19: UserWarning: Parsing '20/10/1995' in DD/MM/YYYY format. Provide format or specify infer_datetime_format=True for consistent parsing.\n",
      "  loan_dev_df['date'] = pd.to_datetime(loan_dev_df['date'].apply(get_formatted_date), infer_datetime_format=True)\n",
      "C:\\Users\\jljoa\\AppData\\Local\\Temp\\ipykernel_22888\\948663611.py:19: UserWarning: Parsing '28/10/1995' in DD/MM/YYYY format. Provide format or specify infer_datetime_format=True for consistent parsing.\n",
      "  loan_dev_df['date'] = pd.to_datetime(loan_dev_df['date'].apply(get_formatted_date), infer_datetime_format=True)\n",
      "C:\\Users\\jljoa\\AppData\\Local\\Temp\\ipykernel_22888\\948663611.py:19: UserWarning: Parsing '29/10/1995' in DD/MM/YYYY format. Provide format or specify infer_datetime_format=True for consistent parsing.\n",
      "  loan_dev_df['date'] = pd.to_datetime(loan_dev_df['date'].apply(get_formatted_date), infer_datetime_format=True)\n",
      "C:\\Users\\jljoa\\AppData\\Local\\Temp\\ipykernel_22888\\948663611.py:19: UserWarning: Parsing '31/10/1995' in DD/MM/YYYY format. Provide format or specify infer_datetime_format=True for consistent parsing.\n",
      "  loan_dev_df['date'] = pd.to_datetime(loan_dev_df['date'].apply(get_formatted_date), infer_datetime_format=True)\n",
      "C:\\Users\\jljoa\\AppData\\Local\\Temp\\ipykernel_22888\\948663611.py:19: UserWarning: Parsing '18/11/1995' in DD/MM/YYYY format. Provide format or specify infer_datetime_format=True for consistent parsing.\n",
      "  loan_dev_df['date'] = pd.to_datetime(loan_dev_df['date'].apply(get_formatted_date), infer_datetime_format=True)\n",
      "C:\\Users\\jljoa\\AppData\\Local\\Temp\\ipykernel_22888\\948663611.py:19: UserWarning: Parsing '22/11/1995' in DD/MM/YYYY format. Provide format or specify infer_datetime_format=True for consistent parsing.\n",
      "  loan_dev_df['date'] = pd.to_datetime(loan_dev_df['date'].apply(get_formatted_date), infer_datetime_format=True)\n",
      "C:\\Users\\jljoa\\AppData\\Local\\Temp\\ipykernel_22888\\948663611.py:19: UserWarning: Parsing '23/11/1995' in DD/MM/YYYY format. Provide format or specify infer_datetime_format=True for consistent parsing.\n",
      "  loan_dev_df['date'] = pd.to_datetime(loan_dev_df['date'].apply(get_formatted_date), infer_datetime_format=True)\n",
      "C:\\Users\\jljoa\\AppData\\Local\\Temp\\ipykernel_22888\\948663611.py:19: UserWarning: Parsing '28/11/1995' in DD/MM/YYYY format. Provide format or specify infer_datetime_format=True for consistent parsing.\n",
      "  loan_dev_df['date'] = pd.to_datetime(loan_dev_df['date'].apply(get_formatted_date), infer_datetime_format=True)\n",
      "C:\\Users\\jljoa\\AppData\\Local\\Temp\\ipykernel_22888\\948663611.py:19: UserWarning: Parsing '16/12/1995' in DD/MM/YYYY format. Provide format or specify infer_datetime_format=True for consistent parsing.\n",
      "  loan_dev_df['date'] = pd.to_datetime(loan_dev_df['date'].apply(get_formatted_date), infer_datetime_format=True)\n",
      "C:\\Users\\jljoa\\AppData\\Local\\Temp\\ipykernel_22888\\948663611.py:19: UserWarning: Parsing '18/12/1995' in DD/MM/YYYY format. Provide format or specify infer_datetime_format=True for consistent parsing.\n",
      "  loan_dev_df['date'] = pd.to_datetime(loan_dev_df['date'].apply(get_formatted_date), infer_datetime_format=True)\n",
      "C:\\Users\\jljoa\\AppData\\Local\\Temp\\ipykernel_22888\\948663611.py:19: UserWarning: Parsing '25/12/1995' in DD/MM/YYYY format. Provide format or specify infer_datetime_format=True for consistent parsing.\n",
      "  loan_dev_df['date'] = pd.to_datetime(loan_dev_df['date'].apply(get_formatted_date), infer_datetime_format=True)\n",
      "C:\\Users\\jljoa\\AppData\\Local\\Temp\\ipykernel_22888\\948663611.py:19: UserWarning: Parsing '31/12/1995' in DD/MM/YYYY format. Provide format or specify infer_datetime_format=True for consistent parsing.\n",
      "  loan_dev_df['date'] = pd.to_datetime(loan_dev_df['date'].apply(get_formatted_date), infer_datetime_format=True)\n",
      "C:\\Users\\jljoa\\AppData\\Local\\Temp\\ipykernel_22888\\948663611.py:19: UserWarning: Parsing '16/10/1996' in DD/MM/YYYY format. Provide format or specify infer_datetime_format=True for consistent parsing.\n",
      "  loan_dev_df['date'] = pd.to_datetime(loan_dev_df['date'].apply(get_formatted_date), infer_datetime_format=True)\n",
      "C:\\Users\\jljoa\\AppData\\Local\\Temp\\ipykernel_22888\\948663611.py:19: UserWarning: Parsing '20/10/1996' in DD/MM/YYYY format. Provide format or specify infer_datetime_format=True for consistent parsing.\n",
      "  loan_dev_df['date'] = pd.to_datetime(loan_dev_df['date'].apply(get_formatted_date), infer_datetime_format=True)\n",
      "C:\\Users\\jljoa\\AppData\\Local\\Temp\\ipykernel_22888\\948663611.py:19: UserWarning: Parsing '23/10/1996' in DD/MM/YYYY format. Provide format or specify infer_datetime_format=True for consistent parsing.\n",
      "  loan_dev_df['date'] = pd.to_datetime(loan_dev_df['date'].apply(get_formatted_date), infer_datetime_format=True)\n",
      "C:\\Users\\jljoa\\AppData\\Local\\Temp\\ipykernel_22888\\948663611.py:19: UserWarning: Parsing '24/10/1996' in DD/MM/YYYY format. Provide format or specify infer_datetime_format=True for consistent parsing.\n",
      "  loan_dev_df['date'] = pd.to_datetime(loan_dev_df['date'].apply(get_formatted_date), infer_datetime_format=True)\n",
      "C:\\Users\\jljoa\\AppData\\Local\\Temp\\ipykernel_22888\\948663611.py:19: UserWarning: Parsing '29/10/1996' in DD/MM/YYYY format. Provide format or specify infer_datetime_format=True for consistent parsing.\n",
      "  loan_dev_df['date'] = pd.to_datetime(loan_dev_df['date'].apply(get_formatted_date), infer_datetime_format=True)\n",
      "C:\\Users\\jljoa\\AppData\\Local\\Temp\\ipykernel_22888\\948663611.py:19: UserWarning: Parsing '31/10/1996' in DD/MM/YYYY format. Provide format or specify infer_datetime_format=True for consistent parsing.\n",
      "  loan_dev_df['date'] = pd.to_datetime(loan_dev_df['date'].apply(get_formatted_date), infer_datetime_format=True)\n",
      "C:\\Users\\jljoa\\AppData\\Local\\Temp\\ipykernel_22888\\948663611.py:19: UserWarning: Parsing '15/11/1996' in DD/MM/YYYY format. Provide format or specify infer_datetime_format=True for consistent parsing.\n",
      "  loan_dev_df['date'] = pd.to_datetime(loan_dev_df['date'].apply(get_formatted_date), infer_datetime_format=True)\n",
      "C:\\Users\\jljoa\\AppData\\Local\\Temp\\ipykernel_22888\\948663611.py:19: UserWarning: Parsing '18/11/1996' in DD/MM/YYYY format. Provide format or specify infer_datetime_format=True for consistent parsing.\n",
      "  loan_dev_df['date'] = pd.to_datetime(loan_dev_df['date'].apply(get_formatted_date), infer_datetime_format=True)\n",
      "C:\\Users\\jljoa\\AppData\\Local\\Temp\\ipykernel_22888\\948663611.py:19: UserWarning: Parsing '19/11/1996' in DD/MM/YYYY format. Provide format or specify infer_datetime_format=True for consistent parsing.\n",
      "  loan_dev_df['date'] = pd.to_datetime(loan_dev_df['date'].apply(get_formatted_date), infer_datetime_format=True)\n",
      "C:\\Users\\jljoa\\AppData\\Local\\Temp\\ipykernel_22888\\948663611.py:19: UserWarning: Parsing '22/11/1996' in DD/MM/YYYY format. Provide format or specify infer_datetime_format=True for consistent parsing.\n",
      "  loan_dev_df['date'] = pd.to_datetime(loan_dev_df['date'].apply(get_formatted_date), infer_datetime_format=True)\n",
      "C:\\Users\\jljoa\\AppData\\Local\\Temp\\ipykernel_22888\\948663611.py:19: UserWarning: Parsing '25/11/1996' in DD/MM/YYYY format. Provide format or specify infer_datetime_format=True for consistent parsing.\n",
      "  loan_dev_df['date'] = pd.to_datetime(loan_dev_df['date'].apply(get_formatted_date), infer_datetime_format=True)\n",
      "C:\\Users\\jljoa\\AppData\\Local\\Temp\\ipykernel_22888\\948663611.py:19: UserWarning: Parsing '28/11/1996' in DD/MM/YYYY format. Provide format or specify infer_datetime_format=True for consistent parsing.\n",
      "  loan_dev_df['date'] = pd.to_datetime(loan_dev_df['date'].apply(get_formatted_date), infer_datetime_format=True)\n",
      "C:\\Users\\jljoa\\AppData\\Local\\Temp\\ipykernel_22888\\948663611.py:19: UserWarning: Parsing '15/12/1996' in DD/MM/YYYY format. Provide format or specify infer_datetime_format=True for consistent parsing.\n",
      "  loan_dev_df['date'] = pd.to_datetime(loan_dev_df['date'].apply(get_formatted_date), infer_datetime_format=True)\n",
      "C:\\Users\\jljoa\\AppData\\Local\\Temp\\ipykernel_22888\\948663611.py:19: UserWarning: Parsing '21/12/1996' in DD/MM/YYYY format. Provide format or specify infer_datetime_format=True for consistent parsing.\n",
      "  loan_dev_df['date'] = pd.to_datetime(loan_dev_df['date'].apply(get_formatted_date), infer_datetime_format=True)\n",
      "C:\\Users\\jljoa\\AppData\\Local\\Temp\\ipykernel_22888\\948663611.py:19: UserWarning: Parsing '25/12/1996' in DD/MM/YYYY format. Provide format or specify infer_datetime_format=True for consistent parsing.\n",
      "  loan_dev_df['date'] = pd.to_datetime(loan_dev_df['date'].apply(get_formatted_date), infer_datetime_format=True)\n",
      "C:\\Users\\jljoa\\AppData\\Local\\Temp\\ipykernel_22888\\948663611.py:19: UserWarning: Parsing '27/12/1996' in DD/MM/YYYY format. Provide format or specify infer_datetime_format=True for consistent parsing.\n",
      "  loan_dev_df['date'] = pd.to_datetime(loan_dev_df['date'].apply(get_formatted_date), infer_datetime_format=True)\n",
      "C:\\Users\\jljoa\\AppData\\Local\\Temp\\ipykernel_22888\\948663611.py:21: UserWarning: Parsing '21/10/1994' in DD/MM/YYYY format. Provide format or specify infer_datetime_format=True for consistent parsing.\n",
      "  card_dev_df['issued'] = pd.to_datetime(card_dev_df['issued'].apply(get_formatted_date), infer_datetime_format=True)\n",
      "C:\\Users\\jljoa\\AppData\\Local\\Temp\\ipykernel_22888\\948663611.py:21: UserWarning: Parsing '24/11/1994' in DD/MM/YYYY format. Provide format or specify infer_datetime_format=True for consistent parsing.\n",
      "  card_dev_df['issued'] = pd.to_datetime(card_dev_df['issued'].apply(get_formatted_date), infer_datetime_format=True)\n",
      "C:\\Users\\jljoa\\AppData\\Local\\Temp\\ipykernel_22888\\948663611.py:21: UserWarning: Parsing '25/12/1994' in DD/MM/YYYY format. Provide format or specify infer_datetime_format=True for consistent parsing.\n",
      "  card_dev_df['issued'] = pd.to_datetime(card_dev_df['issued'].apply(get_formatted_date), infer_datetime_format=True)\n",
      "C:\\Users\\jljoa\\AppData\\Local\\Temp\\ipykernel_22888\\948663611.py:21: UserWarning: Parsing '30/12/1994' in DD/MM/YYYY format. Provide format or specify infer_datetime_format=True for consistent parsing.\n",
      "  card_dev_df['issued'] = pd.to_datetime(card_dev_df['issued'].apply(get_formatted_date), infer_datetime_format=True)\n",
      "C:\\Users\\jljoa\\AppData\\Local\\Temp\\ipykernel_22888\\948663611.py:21: UserWarning: Parsing '22/10/1995' in DD/MM/YYYY format. Provide format or specify infer_datetime_format=True for consistent parsing.\n",
      "  card_dev_df['issued'] = pd.to_datetime(card_dev_df['issued'].apply(get_formatted_date), infer_datetime_format=True)\n",
      "C:\\Users\\jljoa\\AppData\\Local\\Temp\\ipykernel_22888\\948663611.py:21: UserWarning: Parsing '24/10/1995' in DD/MM/YYYY format. Provide format or specify infer_datetime_format=True for consistent parsing.\n",
      "  card_dev_df['issued'] = pd.to_datetime(card_dev_df['issued'].apply(get_formatted_date), infer_datetime_format=True)\n",
      "C:\\Users\\jljoa\\AppData\\Local\\Temp\\ipykernel_22888\\948663611.py:21: UserWarning: Parsing '13/11/1995' in DD/MM/YYYY format. Provide format or specify infer_datetime_format=True for consistent parsing.\n",
      "  card_dev_df['issued'] = pd.to_datetime(card_dev_df['issued'].apply(get_formatted_date), infer_datetime_format=True)\n",
      "C:\\Users\\jljoa\\AppData\\Local\\Temp\\ipykernel_22888\\948663611.py:21: UserWarning: Parsing '16/11/1995' in DD/MM/YYYY format. Provide format or specify infer_datetime_format=True for consistent parsing.\n",
      "  card_dev_df['issued'] = pd.to_datetime(card_dev_df['issued'].apply(get_formatted_date), infer_datetime_format=True)\n",
      "C:\\Users\\jljoa\\AppData\\Local\\Temp\\ipykernel_22888\\948663611.py:21: UserWarning: Parsing '20/11/1995' in DD/MM/YYYY format. Provide format or specify infer_datetime_format=True for consistent parsing.\n",
      "  card_dev_df['issued'] = pd.to_datetime(card_dev_df['issued'].apply(get_formatted_date), infer_datetime_format=True)\n",
      "C:\\Users\\jljoa\\AppData\\Local\\Temp\\ipykernel_22888\\948663611.py:21: UserWarning: Parsing '22/11/1995' in DD/MM/YYYY format. Provide format or specify infer_datetime_format=True for consistent parsing.\n",
      "  card_dev_df['issued'] = pd.to_datetime(card_dev_df['issued'].apply(get_formatted_date), infer_datetime_format=True)\n",
      "C:\\Users\\jljoa\\AppData\\Local\\Temp\\ipykernel_22888\\948663611.py:21: UserWarning: Parsing '15/12/1995' in DD/MM/YYYY format. Provide format or specify infer_datetime_format=True for consistent parsing.\n",
      "  card_dev_df['issued'] = pd.to_datetime(card_dev_df['issued'].apply(get_formatted_date), infer_datetime_format=True)\n",
      "C:\\Users\\jljoa\\AppData\\Local\\Temp\\ipykernel_22888\\948663611.py:21: UserWarning: Parsing '25/12/1995' in DD/MM/YYYY format. Provide format or specify infer_datetime_format=True for consistent parsing.\n",
      "  card_dev_df['issued'] = pd.to_datetime(card_dev_df['issued'].apply(get_formatted_date), infer_datetime_format=True)\n",
      "C:\\Users\\jljoa\\AppData\\Local\\Temp\\ipykernel_22888\\948663611.py:21: UserWarning: Parsing '30/12/1995' in DD/MM/YYYY format. Provide format or specify infer_datetime_format=True for consistent parsing.\n",
      "  card_dev_df['issued'] = pd.to_datetime(card_dev_df['issued'].apply(get_formatted_date), infer_datetime_format=True)\n",
      "C:\\Users\\jljoa\\AppData\\Local\\Temp\\ipykernel_22888\\948663611.py:21: UserWarning: Parsing '31/12/1995' in DD/MM/YYYY format. Provide format or specify infer_datetime_format=True for consistent parsing.\n",
      "  card_dev_df['issued'] = pd.to_datetime(card_dev_df['issued'].apply(get_formatted_date), infer_datetime_format=True)\n",
      "C:\\Users\\jljoa\\AppData\\Local\\Temp\\ipykernel_22888\\948663611.py:21: UserWarning: Parsing '13/10/1996' in DD/MM/YYYY format. Provide format or specify infer_datetime_format=True for consistent parsing.\n",
      "  card_dev_df['issued'] = pd.to_datetime(card_dev_df['issued'].apply(get_formatted_date), infer_datetime_format=True)\n",
      "C:\\Users\\jljoa\\AppData\\Local\\Temp\\ipykernel_22888\\948663611.py:21: UserWarning: Parsing '14/10/1996' in DD/MM/YYYY format. Provide format or specify infer_datetime_format=True for consistent parsing.\n",
      "  card_dev_df['issued'] = pd.to_datetime(card_dev_df['issued'].apply(get_formatted_date), infer_datetime_format=True)\n",
      "C:\\Users\\jljoa\\AppData\\Local\\Temp\\ipykernel_22888\\948663611.py:21: UserWarning: Parsing '19/10/1996' in DD/MM/YYYY format. Provide format or specify infer_datetime_format=True for consistent parsing.\n",
      "  card_dev_df['issued'] = pd.to_datetime(card_dev_df['issued'].apply(get_formatted_date), infer_datetime_format=True)\n",
      "C:\\Users\\jljoa\\AppData\\Local\\Temp\\ipykernel_22888\\948663611.py:21: UserWarning: Parsing '21/10/1996' in DD/MM/YYYY format. Provide format or specify infer_datetime_format=True for consistent parsing.\n",
      "  card_dev_df['issued'] = pd.to_datetime(card_dev_df['issued'].apply(get_formatted_date), infer_datetime_format=True)\n",
      "C:\\Users\\jljoa\\AppData\\Local\\Temp\\ipykernel_22888\\948663611.py:21: UserWarning: Parsing '25/10/1996' in DD/MM/YYYY format. Provide format or specify infer_datetime_format=True for consistent parsing.\n",
      "  card_dev_df['issued'] = pd.to_datetime(card_dev_df['issued'].apply(get_formatted_date), infer_datetime_format=True)\n",
      "C:\\Users\\jljoa\\AppData\\Local\\Temp\\ipykernel_22888\\948663611.py:21: UserWarning: Parsing '27/10/1996' in DD/MM/YYYY format. Provide format or specify infer_datetime_format=True for consistent parsing.\n",
      "  card_dev_df['issued'] = pd.to_datetime(card_dev_df['issued'].apply(get_formatted_date), infer_datetime_format=True)\n",
      "C:\\Users\\jljoa\\AppData\\Local\\Temp\\ipykernel_22888\\948663611.py:21: UserWarning: Parsing '28/10/1996' in DD/MM/YYYY format. Provide format or specify infer_datetime_format=True for consistent parsing.\n",
      "  card_dev_df['issued'] = pd.to_datetime(card_dev_df['issued'].apply(get_formatted_date), infer_datetime_format=True)\n",
      "C:\\Users\\jljoa\\AppData\\Local\\Temp\\ipykernel_22888\\948663611.py:21: UserWarning: Parsing '30/10/1996' in DD/MM/YYYY format. Provide format or specify infer_datetime_format=True for consistent parsing.\n",
      "  card_dev_df['issued'] = pd.to_datetime(card_dev_df['issued'].apply(get_formatted_date), infer_datetime_format=True)\n",
      "C:\\Users\\jljoa\\AppData\\Local\\Temp\\ipykernel_22888\\948663611.py:21: UserWarning: Parsing '31/10/1996' in DD/MM/YYYY format. Provide format or specify infer_datetime_format=True for consistent parsing.\n",
      "  card_dev_df['issued'] = pd.to_datetime(card_dev_df['issued'].apply(get_formatted_date), infer_datetime_format=True)\n",
      "C:\\Users\\jljoa\\AppData\\Local\\Temp\\ipykernel_22888\\948663611.py:21: UserWarning: Parsing '14/11/1996' in DD/MM/YYYY format. Provide format or specify infer_datetime_format=True for consistent parsing.\n",
      "  card_dev_df['issued'] = pd.to_datetime(card_dev_df['issued'].apply(get_formatted_date), infer_datetime_format=True)\n",
      "C:\\Users\\jljoa\\AppData\\Local\\Temp\\ipykernel_22888\\948663611.py:21: UserWarning: Parsing '20/11/1996' in DD/MM/YYYY format. Provide format or specify infer_datetime_format=True for consistent parsing.\n",
      "  card_dev_df['issued'] = pd.to_datetime(card_dev_df['issued'].apply(get_formatted_date), infer_datetime_format=True)\n",
      "C:\\Users\\jljoa\\AppData\\Local\\Temp\\ipykernel_22888\\948663611.py:21: UserWarning: Parsing '23/11/1996' in DD/MM/YYYY format. Provide format or specify infer_datetime_format=True for consistent parsing.\n",
      "  card_dev_df['issued'] = pd.to_datetime(card_dev_df['issued'].apply(get_formatted_date), infer_datetime_format=True)\n",
      "C:\\Users\\jljoa\\AppData\\Local\\Temp\\ipykernel_22888\\948663611.py:21: UserWarning: Parsing '26/11/1996' in DD/MM/YYYY format. Provide format or specify infer_datetime_format=True for consistent parsing.\n",
      "  card_dev_df['issued'] = pd.to_datetime(card_dev_df['issued'].apply(get_formatted_date), infer_datetime_format=True)\n",
      "C:\\Users\\jljoa\\AppData\\Local\\Temp\\ipykernel_22888\\948663611.py:21: UserWarning: Parsing '13/12/1996' in DD/MM/YYYY format. Provide format or specify infer_datetime_format=True for consistent parsing.\n",
      "  card_dev_df['issued'] = pd.to_datetime(card_dev_df['issued'].apply(get_formatted_date), infer_datetime_format=True)\n",
      "C:\\Users\\jljoa\\AppData\\Local\\Temp\\ipykernel_22888\\948663611.py:21: UserWarning: Parsing '23/12/1996' in DD/MM/YYYY format. Provide format or specify infer_datetime_format=True for consistent parsing.\n",
      "  card_dev_df['issued'] = pd.to_datetime(card_dev_df['issued'].apply(get_formatted_date), infer_datetime_format=True)\n",
      "C:\\Users\\jljoa\\AppData\\Local\\Temp\\ipykernel_22888\\948663611.py:21: UserWarning: Parsing '27/12/1996' in DD/MM/YYYY format. Provide format or specify infer_datetime_format=True for consistent parsing.\n",
      "  card_dev_df['issued'] = pd.to_datetime(card_dev_df['issued'].apply(get_formatted_date), infer_datetime_format=True)\n",
      "C:\\Users\\jljoa\\AppData\\Local\\Temp\\ipykernel_22888\\948663611.py:21: UserWarning: Parsing '29/12/1996' in DD/MM/YYYY format. Provide format or specify infer_datetime_format=True for consistent parsing.\n",
      "  card_dev_df['issued'] = pd.to_datetime(card_dev_df['issued'].apply(get_formatted_date), infer_datetime_format=True)\n",
      "C:\\Users\\jljoa\\AppData\\Local\\Temp\\ipykernel_22888\\948663611.py:21: UserWarning: Parsing '31/12/1996' in DD/MM/YYYY format. Provide format or specify infer_datetime_format=True for consistent parsing.\n",
      "  card_dev_df['issued'] = pd.to_datetime(card_dev_df['issued'].apply(get_formatted_date), infer_datetime_format=True)\n"
     ]
    }
   ],
   "source": [
    "# Format client birthday and determine sex\n",
    "\n",
    "client_df['birthday'] = pd.to_datetime(client_df['birth_number'].apply(get_formatted_date), infer_datetime_format=True)\n",
    "\n",
    "client_df['sex'] = client_df['birth_number'].apply(get_client_sex_from_birth_number)\n",
    "\n",
    "client_df = client_df.drop(columns=['birth_number'])\n",
    "\n",
    "# Format other dates\n",
    "\n",
    "account_df['acc_creation_date'] = pd.to_datetime(account_df['date'].apply(get_formatted_date), infer_datetime_format=True)\n",
    "\n",
    "account_df = account_df.drop(columns=['date'])\n",
    "\n",
    "trans_dev_df['trans_date'] = pd.to_datetime(trans_dev_df['date'].apply(get_formatted_date), infer_datetime_format=True)\n",
    "\n",
    "trans_dev_df = trans_dev_df.drop(columns=['date'])\n",
    "\n",
    "loan_dev_df['date'] = pd.to_datetime(loan_dev_df['date'].apply(get_formatted_date), infer_datetime_format=True)\n",
    "\n",
    "card_dev_df['issued'] = pd.to_datetime(card_dev_df['issued'].apply(get_formatted_date), infer_datetime_format=True)"
   ]
  },
  {
   "cell_type": "markdown",
   "id": "c275a899",
   "metadata": {},
   "source": [
    "# Join Data"
   ]
  },
  {
   "cell_type": "markdown",
   "id": "c9d2ea80",
   "metadata": {},
   "source": [
    "Data must all be displayed in one dataset."
   ]
  },
  {
   "cell_type": "markdown",
   "id": "00cb260c",
   "metadata": {},
   "source": [
    "## Join Account and Disposition"
   ]
  },
  {
   "cell_type": "code",
   "execution_count": 747,
   "id": "35c141cc",
   "metadata": {},
   "outputs": [
    {
     "data": {
      "text/html": [
       "<div>\n",
       "<style scoped>\n",
       "    .dataframe tbody tr th:only-of-type {\n",
       "        vertical-align: middle;\n",
       "    }\n",
       "\n",
       "    .dataframe tbody tr th {\n",
       "        vertical-align: top;\n",
       "    }\n",
       "\n",
       "    .dataframe thead th {\n",
       "        text-align: right;\n",
       "    }\n",
       "</style>\n",
       "<table border=\"1\" class=\"dataframe\">\n",
       "  <thead>\n",
       "    <tr style=\"text-align: right;\">\n",
       "      <th></th>\n",
       "      <th>account_id</th>\n",
       "      <th>district_id</th>\n",
       "      <th>issuance_freq</th>\n",
       "      <th>acc_creation_date</th>\n",
       "      <th>disp_id</th>\n",
       "      <th>client_id</th>\n",
       "      <th>shared</th>\n",
       "    </tr>\n",
       "  </thead>\n",
       "  <tbody>\n",
       "    <tr>\n",
       "      <th>0</th>\n",
       "      <td>576</td>\n",
       "      <td>55</td>\n",
       "      <td>monthly issuance</td>\n",
       "      <td>1993-01-01</td>\n",
       "      <td>692</td>\n",
       "      <td>692</td>\n",
       "      <td>1</td>\n",
       "    </tr>\n",
       "    <tr>\n",
       "      <th>2</th>\n",
       "      <td>3818</td>\n",
       "      <td>74</td>\n",
       "      <td>monthly issuance</td>\n",
       "      <td>1993-01-01</td>\n",
       "      <td>4601</td>\n",
       "      <td>4601</td>\n",
       "      <td>1</td>\n",
       "    </tr>\n",
       "    <tr>\n",
       "      <th>4</th>\n",
       "      <td>704</td>\n",
       "      <td>55</td>\n",
       "      <td>monthly issuance</td>\n",
       "      <td>1993-01-01</td>\n",
       "      <td>844</td>\n",
       "      <td>844</td>\n",
       "      <td>1</td>\n",
       "    </tr>\n",
       "    <tr>\n",
       "      <th>6</th>\n",
       "      <td>2378</td>\n",
       "      <td>16</td>\n",
       "      <td>monthly issuance</td>\n",
       "      <td>1993-01-01</td>\n",
       "      <td>2873</td>\n",
       "      <td>2873</td>\n",
       "      <td>0</td>\n",
       "    </tr>\n",
       "    <tr>\n",
       "      <th>7</th>\n",
       "      <td>2632</td>\n",
       "      <td>24</td>\n",
       "      <td>monthly issuance</td>\n",
       "      <td>1993-02-01</td>\n",
       "      <td>3177</td>\n",
       "      <td>3177</td>\n",
       "      <td>0</td>\n",
       "    </tr>\n",
       "  </tbody>\n",
       "</table>\n",
       "</div>"
      ],
      "text/plain": [
       "   account_id  district_id     issuance_freq acc_creation_date  disp_id  \\\n",
       "0         576           55  monthly issuance        1993-01-01      692   \n",
       "2        3818           74  monthly issuance        1993-01-01     4601   \n",
       "4         704           55  monthly issuance        1993-01-01      844   \n",
       "6        2378           16  monthly issuance        1993-01-01     2873   \n",
       "7        2632           24  monthly issuance        1993-02-01     3177   \n",
       "\n",
       "   client_id  shared  \n",
       "0        692       1  \n",
       "2       4601       1  \n",
       "4        844       1  \n",
       "6       2873       0  \n",
       "7       3177       0  "
      ]
     },
     "execution_count": 747,
     "metadata": {},
     "output_type": "execute_result"
    }
   ],
   "source": [
    "joined_df = account_df.merge(disp_df, on='account_id', how='inner', suffixes=['', '_disp'])\n",
    "\n",
    "joined_df.rename(columns={\n",
    "    'type': 'account_type',\n",
    "    'frequency': 'issuance_freq'\n",
    "}, inplace=True)\n",
    "\n",
    "# Determine if account is shared or not\n",
    "owner_number_account = joined_df['account_id'].value_counts()\n",
    "\n",
    "joined_df['shared'] = joined_df.apply(lambda row: 1 if owner_number_account[row['account_id']] > 1 else 0, axis=1)\n",
    "\n",
    "# Drop rows with disponents so there are no duplicated account rows\n",
    "joined_df.drop(joined_df[joined_df['account_type'] == 'DISPONENT'].index, inplace=True)\n",
    "\n",
    "# Drop account_type and disp_id column\n",
    "joined_df.drop(columns=['account_type'], inplace=True)\n",
    "\n",
    "joined_df.head()"
   ]
  },
  {
   "cell_type": "markdown",
   "id": "8c7e16e6",
   "metadata": {},
   "source": [
    "## Join Clients"
   ]
  },
  {
   "cell_type": "code",
   "execution_count": 748,
   "id": "22cd7eca",
   "metadata": {},
   "outputs": [
    {
     "data": {
      "text/html": [
       "<div>\n",
       "<style scoped>\n",
       "    .dataframe tbody tr th:only-of-type {\n",
       "        vertical-align: middle;\n",
       "    }\n",
       "\n",
       "    .dataframe tbody tr th {\n",
       "        vertical-align: top;\n",
       "    }\n",
       "\n",
       "    .dataframe thead th {\n",
       "        text-align: right;\n",
       "    }\n",
       "</style>\n",
       "<table border=\"1\" class=\"dataframe\">\n",
       "  <thead>\n",
       "    <tr style=\"text-align: right;\">\n",
       "      <th></th>\n",
       "      <th>account_id</th>\n",
       "      <th>district_id</th>\n",
       "      <th>issuance_freq</th>\n",
       "      <th>acc_creation_date</th>\n",
       "      <th>disp_id</th>\n",
       "      <th>shared</th>\n",
       "      <th>district_id_client</th>\n",
       "      <th>birthday</th>\n",
       "      <th>sex</th>\n",
       "    </tr>\n",
       "  </thead>\n",
       "  <tbody>\n",
       "    <tr>\n",
       "      <th>0</th>\n",
       "      <td>576</td>\n",
       "      <td>55</td>\n",
       "      <td>monthly issuance</td>\n",
       "      <td>1993-01-01</td>\n",
       "      <td>692</td>\n",
       "      <td>1</td>\n",
       "      <td>74</td>\n",
       "      <td>1936-01-11</td>\n",
       "      <td>F</td>\n",
       "    </tr>\n",
       "    <tr>\n",
       "      <th>1</th>\n",
       "      <td>3818</td>\n",
       "      <td>74</td>\n",
       "      <td>monthly issuance</td>\n",
       "      <td>1993-01-01</td>\n",
       "      <td>4601</td>\n",
       "      <td>1</td>\n",
       "      <td>1</td>\n",
       "      <td>1935-04-02</td>\n",
       "      <td>M</td>\n",
       "    </tr>\n",
       "    <tr>\n",
       "      <th>2</th>\n",
       "      <td>704</td>\n",
       "      <td>55</td>\n",
       "      <td>monthly issuance</td>\n",
       "      <td>1993-01-01</td>\n",
       "      <td>844</td>\n",
       "      <td>1</td>\n",
       "      <td>22</td>\n",
       "      <td>1945-01-14</td>\n",
       "      <td>M</td>\n",
       "    </tr>\n",
       "    <tr>\n",
       "      <th>3</th>\n",
       "      <td>2378</td>\n",
       "      <td>16</td>\n",
       "      <td>monthly issuance</td>\n",
       "      <td>1993-01-01</td>\n",
       "      <td>2873</td>\n",
       "      <td>0</td>\n",
       "      <td>16</td>\n",
       "      <td>1975-03-24</td>\n",
       "      <td>F</td>\n",
       "    </tr>\n",
       "    <tr>\n",
       "      <th>4</th>\n",
       "      <td>2632</td>\n",
       "      <td>24</td>\n",
       "      <td>monthly issuance</td>\n",
       "      <td>1993-02-01</td>\n",
       "      <td>3177</td>\n",
       "      <td>0</td>\n",
       "      <td>24</td>\n",
       "      <td>1938-08-12</td>\n",
       "      <td>M</td>\n",
       "    </tr>\n",
       "  </tbody>\n",
       "</table>\n",
       "</div>"
      ],
      "text/plain": [
       "   account_id  district_id     issuance_freq acc_creation_date  disp_id  \\\n",
       "0         576           55  monthly issuance        1993-01-01      692   \n",
       "1        3818           74  monthly issuance        1993-01-01     4601   \n",
       "2         704           55  monthly issuance        1993-01-01      844   \n",
       "3        2378           16  monthly issuance        1993-01-01     2873   \n",
       "4        2632           24  monthly issuance        1993-02-01     3177   \n",
       "\n",
       "   shared  district_id_client   birthday sex  \n",
       "0       1                  74 1936-01-11   F  \n",
       "1       1                   1 1935-04-02   M  \n",
       "2       1                  22 1945-01-14   M  \n",
       "3       0                  16 1975-03-24   F  \n",
       "4       0                  24 1938-08-12   M  "
      ]
     },
     "execution_count": 748,
     "metadata": {},
     "output_type": "execute_result"
    }
   ],
   "source": [
    "joined_df = joined_df.merge(client_df, on='client_id', how='left', suffixes=['', '_client'])\n",
    "\n",
    "joined_df.drop(columns=['client_id'], inplace=True)\n",
    "\n",
    "joined_df.head()"
   ]
  },
  {
   "cell_type": "markdown",
   "id": "eab9cfbd",
   "metadata": {},
   "source": [
    "## Join District"
   ]
  },
  {
   "cell_type": "markdown",
   "id": "6d613f10",
   "metadata": {},
   "source": [
    "There are currently two District ids in the dataset for each row. We are going to join on the client's district id since we surmise this information will be more relevant to wheter they pay off the loan or not than the district the account was regitered on."
   ]
  },
  {
   "cell_type": "code",
   "execution_count": 749,
   "id": "5bbae4ae",
   "metadata": {},
   "outputs": [
    {
     "data": {
      "text/html": [
       "<div>\n",
       "<style scoped>\n",
       "    .dataframe tbody tr th:only-of-type {\n",
       "        vertical-align: middle;\n",
       "    }\n",
       "\n",
       "    .dataframe tbody tr th {\n",
       "        vertical-align: top;\n",
       "    }\n",
       "\n",
       "    .dataframe thead th {\n",
       "        text-align: right;\n",
       "    }\n",
       "</style>\n",
       "<table border=\"1\" class=\"dataframe\">\n",
       "  <thead>\n",
       "    <tr style=\"text-align: right;\">\n",
       "      <th></th>\n",
       "      <th>account_id</th>\n",
       "      <th>issuance_freq</th>\n",
       "      <th>acc_creation_date</th>\n",
       "      <th>disp_id</th>\n",
       "      <th>shared</th>\n",
       "      <th>birthday</th>\n",
       "      <th>sex</th>\n",
       "      <th>district_code</th>\n",
       "      <th>district_name</th>\n",
       "      <th>region</th>\n",
       "      <th>...</th>\n",
       "      <th>no. of municipalities with inhabitants 2000-9999</th>\n",
       "      <th>no. of municipalities with inhabitants &gt;10000</th>\n",
       "      <th>no. of cities</th>\n",
       "      <th>ratio of urban inhabitants</th>\n",
       "      <th>average salary</th>\n",
       "      <th>unemploymant rate '95</th>\n",
       "      <th>unemploymant rate '96</th>\n",
       "      <th>no. of enterpreneurs per 1000 inhabitants</th>\n",
       "      <th>no. of commited crimes '95</th>\n",
       "      <th>no. of commited crimes '96</th>\n",
       "    </tr>\n",
       "  </thead>\n",
       "  <tbody>\n",
       "    <tr>\n",
       "      <th>0</th>\n",
       "      <td>576</td>\n",
       "      <td>monthly issuance</td>\n",
       "      <td>1993-01-01</td>\n",
       "      <td>692</td>\n",
       "      <td>1</td>\n",
       "      <td>1936-01-11</td>\n",
       "      <td>F</td>\n",
       "      <td>74</td>\n",
       "      <td>Ostrava - mesto</td>\n",
       "      <td>north Moravia</td>\n",
       "      <td>...</td>\n",
       "      <td>0</td>\n",
       "      <td>1</td>\n",
       "      <td>1</td>\n",
       "      <td>100.0</td>\n",
       "      <td>10673</td>\n",
       "      <td>4.75</td>\n",
       "      <td>5.44</td>\n",
       "      <td>100</td>\n",
       "      <td>18782.0</td>\n",
       "      <td>18347</td>\n",
       "    </tr>\n",
       "    <tr>\n",
       "      <th>1</th>\n",
       "      <td>2484</td>\n",
       "      <td>monthly issuance</td>\n",
       "      <td>1993-03-01</td>\n",
       "      <td>2999</td>\n",
       "      <td>0</td>\n",
       "      <td>1979-03-24</td>\n",
       "      <td>F</td>\n",
       "      <td>74</td>\n",
       "      <td>Ostrava - mesto</td>\n",
       "      <td>north Moravia</td>\n",
       "      <td>...</td>\n",
       "      <td>0</td>\n",
       "      <td>1</td>\n",
       "      <td>1</td>\n",
       "      <td>100.0</td>\n",
       "      <td>10673</td>\n",
       "      <td>4.75</td>\n",
       "      <td>5.44</td>\n",
       "      <td>100</td>\n",
       "      <td>18782.0</td>\n",
       "      <td>18347</td>\n",
       "    </tr>\n",
       "    <tr>\n",
       "      <th>2</th>\n",
       "      <td>1338</td>\n",
       "      <td>monthly issuance</td>\n",
       "      <td>1993-11-01</td>\n",
       "      <td>1619</td>\n",
       "      <td>1</td>\n",
       "      <td>1942-01-27</td>\n",
       "      <td>F</td>\n",
       "      <td>74</td>\n",
       "      <td>Ostrava - mesto</td>\n",
       "      <td>north Moravia</td>\n",
       "      <td>...</td>\n",
       "      <td>0</td>\n",
       "      <td>1</td>\n",
       "      <td>1</td>\n",
       "      <td>100.0</td>\n",
       "      <td>10673</td>\n",
       "      <td>4.75</td>\n",
       "      <td>5.44</td>\n",
       "      <td>100</td>\n",
       "      <td>18782.0</td>\n",
       "      <td>18347</td>\n",
       "    </tr>\n",
       "    <tr>\n",
       "      <th>3</th>\n",
       "      <td>1179</td>\n",
       "      <td>monthly issuance</td>\n",
       "      <td>1993-01-23</td>\n",
       "      <td>1419</td>\n",
       "      <td>1</td>\n",
       "      <td>1918-01-25</td>\n",
       "      <td>F</td>\n",
       "      <td>74</td>\n",
       "      <td>Ostrava - mesto</td>\n",
       "      <td>north Moravia</td>\n",
       "      <td>...</td>\n",
       "      <td>0</td>\n",
       "      <td>1</td>\n",
       "      <td>1</td>\n",
       "      <td>100.0</td>\n",
       "      <td>10673</td>\n",
       "      <td>4.75</td>\n",
       "      <td>5.44</td>\n",
       "      <td>100</td>\n",
       "      <td>18782.0</td>\n",
       "      <td>18347</td>\n",
       "    </tr>\n",
       "    <tr>\n",
       "      <th>4</th>\n",
       "      <td>1649</td>\n",
       "      <td>monthly issuance</td>\n",
       "      <td>1993-01-26</td>\n",
       "      <td>1999</td>\n",
       "      <td>0</td>\n",
       "      <td>1982-02-10</td>\n",
       "      <td>F</td>\n",
       "      <td>74</td>\n",
       "      <td>Ostrava - mesto</td>\n",
       "      <td>north Moravia</td>\n",
       "      <td>...</td>\n",
       "      <td>0</td>\n",
       "      <td>1</td>\n",
       "      <td>1</td>\n",
       "      <td>100.0</td>\n",
       "      <td>10673</td>\n",
       "      <td>4.75</td>\n",
       "      <td>5.44</td>\n",
       "      <td>100</td>\n",
       "      <td>18782.0</td>\n",
       "      <td>18347</td>\n",
       "    </tr>\n",
       "  </tbody>\n",
       "</table>\n",
       "<p>5 rows × 23 columns</p>\n",
       "</div>"
      ],
      "text/plain": [
       "   account_id     issuance_freq acc_creation_date  disp_id  shared   birthday  \\\n",
       "0         576  monthly issuance        1993-01-01      692       1 1936-01-11   \n",
       "1        2484  monthly issuance        1993-03-01     2999       0 1979-03-24   \n",
       "2        1338  monthly issuance        1993-11-01     1619       1 1942-01-27   \n",
       "3        1179  monthly issuance        1993-01-23     1419       1 1918-01-25   \n",
       "4        1649  monthly issuance        1993-01-26     1999       0 1982-02-10   \n",
       "\n",
       "  sex  district_code    district_name         region  ...  \\\n",
       "0   F             74  Ostrava - mesto  north Moravia  ...   \n",
       "1   F             74  Ostrava - mesto  north Moravia  ...   \n",
       "2   F             74  Ostrava - mesto  north Moravia  ...   \n",
       "3   F             74  Ostrava - mesto  north Moravia  ...   \n",
       "4   F             74  Ostrava - mesto  north Moravia  ...   \n",
       "\n",
       "   no. of municipalities with inhabitants 2000-9999  \\\n",
       "0                                                 0   \n",
       "1                                                 0   \n",
       "2                                                 0   \n",
       "3                                                 0   \n",
       "4                                                 0   \n",
       "\n",
       "   no. of municipalities with inhabitants >10000  no. of cities  \\\n",
       "0                                              1              1   \n",
       "1                                              1              1   \n",
       "2                                              1              1   \n",
       "3                                              1              1   \n",
       "4                                              1              1   \n",
       "\n",
       "   ratio of urban inhabitants  average salary  unemploymant rate '95  \\\n",
       "0                       100.0           10673                   4.75   \n",
       "1                       100.0           10673                   4.75   \n",
       "2                       100.0           10673                   4.75   \n",
       "3                       100.0           10673                   4.75   \n",
       "4                       100.0           10673                   4.75   \n",
       "\n",
       "   unemploymant rate '96  no. of enterpreneurs per 1000 inhabitants  \\\n",
       "0                   5.44                                        100   \n",
       "1                   5.44                                        100   \n",
       "2                   5.44                                        100   \n",
       "3                   5.44                                        100   \n",
       "4                   5.44                                        100   \n",
       "\n",
       "   no. of commited crimes '95  no. of commited crimes '96  \n",
       "0                     18782.0                       18347  \n",
       "1                     18782.0                       18347  \n",
       "2                     18782.0                       18347  \n",
       "3                     18782.0                       18347  \n",
       "4                     18782.0                       18347  \n",
       "\n",
       "[5 rows x 23 columns]"
      ]
     },
     "execution_count": 749,
     "metadata": {},
     "output_type": "execute_result"
    }
   ],
   "source": [
    "joined_df = joined_df.merge(district_df, left_on='district_id_client', right_on='code', how='inner', suffixes=['', '_district'])\n",
    "\n",
    "joined_df.rename(columns={\n",
    "    'code': 'district_code',\n",
    "    'name': 'district_name'\n",
    "}, inplace=True)\n",
    "\n",
    "joined_df.drop(columns=['district_id', 'district_id_client'], inplace=True)\n",
    "\n",
    "joined_df.head()"
   ]
  },
  {
   "cell_type": "markdown",
   "id": "755e1e50",
   "metadata": {},
   "source": [
    "## Join Loan"
   ]
  },
  {
   "cell_type": "code",
   "execution_count": 750,
   "id": "d50a234b",
   "metadata": {},
   "outputs": [
    {
     "data": {
      "text/html": [
       "<div>\n",
       "<style scoped>\n",
       "    .dataframe tbody tr th:only-of-type {\n",
       "        vertical-align: middle;\n",
       "    }\n",
       "\n",
       "    .dataframe tbody tr th {\n",
       "        vertical-align: top;\n",
       "    }\n",
       "\n",
       "    .dataframe thead th {\n",
       "        text-align: right;\n",
       "    }\n",
       "</style>\n",
       "<table border=\"1\" class=\"dataframe\">\n",
       "  <thead>\n",
       "    <tr style=\"text-align: right;\">\n",
       "      <th></th>\n",
       "      <th>account_id</th>\n",
       "      <th>issuance_freq</th>\n",
       "      <th>acc_creation_date</th>\n",
       "      <th>disp_id</th>\n",
       "      <th>shared</th>\n",
       "      <th>birthday</th>\n",
       "      <th>sex</th>\n",
       "      <th>district_code</th>\n",
       "      <th>district_name</th>\n",
       "      <th>region</th>\n",
       "      <th>...</th>\n",
       "      <th>unemploymant rate '96</th>\n",
       "      <th>no. of enterpreneurs per 1000 inhabitants</th>\n",
       "      <th>no. of commited crimes '95</th>\n",
       "      <th>no. of commited crimes '96</th>\n",
       "      <th>loan_date</th>\n",
       "      <th>amount</th>\n",
       "      <th>duration</th>\n",
       "      <th>payments</th>\n",
       "      <th>status</th>\n",
       "      <th>season_on_loan</th>\n",
       "    </tr>\n",
       "  </thead>\n",
       "  <tbody>\n",
       "    <tr>\n",
       "      <th>0</th>\n",
       "      <td>1787</td>\n",
       "      <td>weekly issuance</td>\n",
       "      <td>1993-03-22</td>\n",
       "      <td>2166</td>\n",
       "      <td>0</td>\n",
       "      <td>1947-07-22</td>\n",
       "      <td>F</td>\n",
       "      <td>30</td>\n",
       "      <td>Sokolov</td>\n",
       "      <td>west Bohemia</td>\n",
       "      <td>...</td>\n",
       "      <td>3.67</td>\n",
       "      <td>100</td>\n",
       "      <td>2985.0</td>\n",
       "      <td>2804</td>\n",
       "      <td>1993-05-07</td>\n",
       "      <td>96396</td>\n",
       "      <td>12</td>\n",
       "      <td>8033</td>\n",
       "      <td>-1</td>\n",
       "      <td>spring</td>\n",
       "    </tr>\n",
       "    <tr>\n",
       "      <th>1</th>\n",
       "      <td>1801</td>\n",
       "      <td>monthly issuance</td>\n",
       "      <td>1993-02-13</td>\n",
       "      <td>2181</td>\n",
       "      <td>0</td>\n",
       "      <td>1968-07-22</td>\n",
       "      <td>M</td>\n",
       "      <td>46</td>\n",
       "      <td>Nachod</td>\n",
       "      <td>east Bohemia</td>\n",
       "      <td>...</td>\n",
       "      <td>2.31</td>\n",
       "      <td>117</td>\n",
       "      <td>2854.0</td>\n",
       "      <td>2618</td>\n",
       "      <td>1993-11-07</td>\n",
       "      <td>165960</td>\n",
       "      <td>36</td>\n",
       "      <td>4610</td>\n",
       "      <td>1</td>\n",
       "      <td>autumn</td>\n",
       "    </tr>\n",
       "    <tr>\n",
       "      <th>2</th>\n",
       "      <td>9188</td>\n",
       "      <td>monthly issuance</td>\n",
       "      <td>1993-08-02</td>\n",
       "      <td>11006</td>\n",
       "      <td>0</td>\n",
       "      <td>1936-06-02</td>\n",
       "      <td>M</td>\n",
       "      <td>45</td>\n",
       "      <td>Jicin</td>\n",
       "      <td>east Bohemia</td>\n",
       "      <td>...</td>\n",
       "      <td>2.89</td>\n",
       "      <td>132</td>\n",
       "      <td>2080.0</td>\n",
       "      <td>2122</td>\n",
       "      <td>1993-07-28</td>\n",
       "      <td>127080</td>\n",
       "      <td>60</td>\n",
       "      <td>2118</td>\n",
       "      <td>1</td>\n",
       "      <td>summer</td>\n",
       "    </tr>\n",
       "    <tr>\n",
       "      <th>3</th>\n",
       "      <td>1843</td>\n",
       "      <td>monthly issuance</td>\n",
       "      <td>1993-01-30</td>\n",
       "      <td>2235</td>\n",
       "      <td>0</td>\n",
       "      <td>1940-04-20</td>\n",
       "      <td>F</td>\n",
       "      <td>14</td>\n",
       "      <td>Ceske Budejovice</td>\n",
       "      <td>south Bohemia</td>\n",
       "      <td>...</td>\n",
       "      <td>1.71</td>\n",
       "      <td>135</td>\n",
       "      <td>6604.0</td>\n",
       "      <td>6295</td>\n",
       "      <td>1993-03-08</td>\n",
       "      <td>105804</td>\n",
       "      <td>36</td>\n",
       "      <td>2939</td>\n",
       "      <td>1</td>\n",
       "      <td>winter</td>\n",
       "    </tr>\n",
       "    <tr>\n",
       "      <th>4</th>\n",
       "      <td>11013</td>\n",
       "      <td>weekly issuance</td>\n",
       "      <td>1993-02-14</td>\n",
       "      <td>13231</td>\n",
       "      <td>0</td>\n",
       "      <td>1978-09-07</td>\n",
       "      <td>M</td>\n",
       "      <td>63</td>\n",
       "      <td>Vyskov</td>\n",
       "      <td>south Moravia</td>\n",
       "      <td>...</td>\n",
       "      <td>4.52</td>\n",
       "      <td>110</td>\n",
       "      <td>1562.0</td>\n",
       "      <td>1460</td>\n",
       "      <td>1993-06-09</td>\n",
       "      <td>274740</td>\n",
       "      <td>60</td>\n",
       "      <td>4579</td>\n",
       "      <td>1</td>\n",
       "      <td>spring</td>\n",
       "    </tr>\n",
       "  </tbody>\n",
       "</table>\n",
       "<p>5 rows × 29 columns</p>\n",
       "</div>"
      ],
      "text/plain": [
       "   account_id     issuance_freq acc_creation_date  disp_id  shared   birthday  \\\n",
       "0        1787   weekly issuance        1993-03-22     2166       0 1947-07-22   \n",
       "1        1801  monthly issuance        1993-02-13     2181       0 1968-07-22   \n",
       "2        9188  monthly issuance        1993-08-02    11006       0 1936-06-02   \n",
       "3        1843  monthly issuance        1993-01-30     2235       0 1940-04-20   \n",
       "4       11013   weekly issuance        1993-02-14    13231       0 1978-09-07   \n",
       "\n",
       "  sex  district_code     district_name         region  ...  \\\n",
       "0   F             30           Sokolov   west Bohemia  ...   \n",
       "1   M             46            Nachod   east Bohemia  ...   \n",
       "2   M             45             Jicin   east Bohemia  ...   \n",
       "3   F             14  Ceske Budejovice  south Bohemia  ...   \n",
       "4   M             63            Vyskov  south Moravia  ...   \n",
       "\n",
       "   unemploymant rate '96  no. of enterpreneurs per 1000 inhabitants  \\\n",
       "0                   3.67                                        100   \n",
       "1                   2.31                                        117   \n",
       "2                   2.89                                        132   \n",
       "3                   1.71                                        135   \n",
       "4                   4.52                                        110   \n",
       "\n",
       "   no. of commited crimes '95  no. of commited crimes '96  loan_date  amount  \\\n",
       "0                      2985.0                        2804 1993-05-07   96396   \n",
       "1                      2854.0                        2618 1993-11-07  165960   \n",
       "2                      2080.0                        2122 1993-07-28  127080   \n",
       "3                      6604.0                        6295 1993-03-08  105804   \n",
       "4                      1562.0                        1460 1993-06-09  274740   \n",
       "\n",
       "   duration  payments  status  season_on_loan  \n",
       "0        12      8033      -1          spring  \n",
       "1        36      4610       1          autumn  \n",
       "2        60      2118       1          summer  \n",
       "3        36      2939       1          winter  \n",
       "4        60      4579       1          spring  \n",
       "\n",
       "[5 rows x 29 columns]"
      ]
     },
     "execution_count": 750,
     "metadata": {},
     "output_type": "execute_result"
    }
   ],
   "source": [
    "joined_df = joined_df.merge(loan_dev_df, on='account_id', how='right', suffixes=['', '_loan'])\n",
    "\n",
    "joined_df.drop(columns=['loan_id'], inplace=True)\n",
    "\n",
    "joined_df.rename(columns={\n",
    "    'date': 'loan_date'\n",
    "}, inplace=True)\n",
    "\n",
    "# Add seasons\n",
    "joined_df['season_on_loan'] = joined_df['loan_date'].apply(get_season_from_Date)\n",
    "\n",
    "joined_df.head(100)"
   ]
  },
  {
   "cell_type": "markdown",
   "id": "18cbedc9",
   "metadata": {},
   "source": [
    "## Determine account owner age on loan request"
   ]
  },
  {
   "cell_type": "code",
   "execution_count": 751,
   "id": "7e83ec86",
   "metadata": {},
   "outputs": [
    {
     "data": {
      "text/html": [
       "<div>\n",
       "<style scoped>\n",
       "    .dataframe tbody tr th:only-of-type {\n",
       "        vertical-align: middle;\n",
       "    }\n",
       "\n",
       "    .dataframe tbody tr th {\n",
       "        vertical-align: top;\n",
       "    }\n",
       "\n",
       "    .dataframe thead th {\n",
       "        text-align: right;\n",
       "    }\n",
       "</style>\n",
       "<table border=\"1\" class=\"dataframe\">\n",
       "  <thead>\n",
       "    <tr style=\"text-align: right;\">\n",
       "      <th></th>\n",
       "      <th>account_id</th>\n",
       "      <th>issuance_freq</th>\n",
       "      <th>acc_creation_date</th>\n",
       "      <th>disp_id</th>\n",
       "      <th>shared</th>\n",
       "      <th>sex</th>\n",
       "      <th>district_code</th>\n",
       "      <th>district_name</th>\n",
       "      <th>region</th>\n",
       "      <th>no. of inhabitants</th>\n",
       "      <th>...</th>\n",
       "      <th>no. of enterpreneurs per 1000 inhabitants</th>\n",
       "      <th>no. of commited crimes '95</th>\n",
       "      <th>no. of commited crimes '96</th>\n",
       "      <th>loan_date</th>\n",
       "      <th>amount</th>\n",
       "      <th>duration</th>\n",
       "      <th>payments</th>\n",
       "      <th>status</th>\n",
       "      <th>season_on_loan</th>\n",
       "      <th>age_on_loan_request</th>\n",
       "    </tr>\n",
       "  </thead>\n",
       "  <tbody>\n",
       "    <tr>\n",
       "      <th>0</th>\n",
       "      <td>1787</td>\n",
       "      <td>weekly issuance</td>\n",
       "      <td>1993-03-22</td>\n",
       "      <td>2166</td>\n",
       "      <td>0</td>\n",
       "      <td>F</td>\n",
       "      <td>30</td>\n",
       "      <td>Sokolov</td>\n",
       "      <td>west Bohemia</td>\n",
       "      <td>94812</td>\n",
       "      <td>...</td>\n",
       "      <td>100</td>\n",
       "      <td>2985.0</td>\n",
       "      <td>2804</td>\n",
       "      <td>1993-05-07</td>\n",
       "      <td>96396</td>\n",
       "      <td>12</td>\n",
       "      <td>8033</td>\n",
       "      <td>-1</td>\n",
       "      <td>spring</td>\n",
       "      <td>45.794233</td>\n",
       "    </tr>\n",
       "    <tr>\n",
       "      <th>1</th>\n",
       "      <td>1801</td>\n",
       "      <td>monthly issuance</td>\n",
       "      <td>1993-02-13</td>\n",
       "      <td>2181</td>\n",
       "      <td>0</td>\n",
       "      <td>M</td>\n",
       "      <td>46</td>\n",
       "      <td>Nachod</td>\n",
       "      <td>east Bohemia</td>\n",
       "      <td>112709</td>\n",
       "      <td>...</td>\n",
       "      <td>117</td>\n",
       "      <td>2854.0</td>\n",
       "      <td>2618</td>\n",
       "      <td>1993-11-07</td>\n",
       "      <td>165960</td>\n",
       "      <td>36</td>\n",
       "      <td>4610</td>\n",
       "      <td>1</td>\n",
       "      <td>autumn</td>\n",
       "      <td>25.295523</td>\n",
       "    </tr>\n",
       "    <tr>\n",
       "      <th>2</th>\n",
       "      <td>9188</td>\n",
       "      <td>monthly issuance</td>\n",
       "      <td>1993-08-02</td>\n",
       "      <td>11006</td>\n",
       "      <td>0</td>\n",
       "      <td>M</td>\n",
       "      <td>45</td>\n",
       "      <td>Jicin</td>\n",
       "      <td>east Bohemia</td>\n",
       "      <td>77917</td>\n",
       "      <td>...</td>\n",
       "      <td>132</td>\n",
       "      <td>2080.0</td>\n",
       "      <td>2122</td>\n",
       "      <td>1993-07-28</td>\n",
       "      <td>127080</td>\n",
       "      <td>60</td>\n",
       "      <td>2118</td>\n",
       "      <td>1</td>\n",
       "      <td>summer</td>\n",
       "      <td>57.153809</td>\n",
       "    </tr>\n",
       "    <tr>\n",
       "      <th>3</th>\n",
       "      <td>1843</td>\n",
       "      <td>monthly issuance</td>\n",
       "      <td>1993-01-30</td>\n",
       "      <td>2235</td>\n",
       "      <td>0</td>\n",
       "      <td>F</td>\n",
       "      <td>14</td>\n",
       "      <td>Ceske Budejovice</td>\n",
       "      <td>south Bohemia</td>\n",
       "      <td>177686</td>\n",
       "      <td>...</td>\n",
       "      <td>135</td>\n",
       "      <td>6604.0</td>\n",
       "      <td>6295</td>\n",
       "      <td>1993-03-08</td>\n",
       "      <td>105804</td>\n",
       "      <td>36</td>\n",
       "      <td>2939</td>\n",
       "      <td>1</td>\n",
       "      <td>winter</td>\n",
       "      <td>52.882674</td>\n",
       "    </tr>\n",
       "    <tr>\n",
       "      <th>4</th>\n",
       "      <td>11013</td>\n",
       "      <td>weekly issuance</td>\n",
       "      <td>1993-02-14</td>\n",
       "      <td>13231</td>\n",
       "      <td>0</td>\n",
       "      <td>M</td>\n",
       "      <td>63</td>\n",
       "      <td>Vyskov</td>\n",
       "      <td>south Moravia</td>\n",
       "      <td>86513</td>\n",
       "      <td>...</td>\n",
       "      <td>110</td>\n",
       "      <td>1562.0</td>\n",
       "      <td>1460</td>\n",
       "      <td>1993-06-09</td>\n",
       "      <td>274740</td>\n",
       "      <td>60</td>\n",
       "      <td>4579</td>\n",
       "      <td>1</td>\n",
       "      <td>spring</td>\n",
       "      <td>14.754581</td>\n",
       "    </tr>\n",
       "  </tbody>\n",
       "</table>\n",
       "<p>5 rows × 29 columns</p>\n",
       "</div>"
      ],
      "text/plain": [
       "   account_id     issuance_freq acc_creation_date  disp_id  shared sex  \\\n",
       "0        1787   weekly issuance        1993-03-22     2166       0   F   \n",
       "1        1801  monthly issuance        1993-02-13     2181       0   M   \n",
       "2        9188  monthly issuance        1993-08-02    11006       0   M   \n",
       "3        1843  monthly issuance        1993-01-30     2235       0   F   \n",
       "4       11013   weekly issuance        1993-02-14    13231       0   M   \n",
       "\n",
       "   district_code     district_name         region  no. of inhabitants  ...  \\\n",
       "0             30           Sokolov   west Bohemia               94812  ...   \n",
       "1             46            Nachod   east Bohemia              112709  ...   \n",
       "2             45             Jicin   east Bohemia               77917  ...   \n",
       "3             14  Ceske Budejovice  south Bohemia              177686  ...   \n",
       "4             63            Vyskov  south Moravia               86513  ...   \n",
       "\n",
       "   no. of enterpreneurs per 1000 inhabitants  no. of commited crimes '95  \\\n",
       "0                                        100                      2985.0   \n",
       "1                                        117                      2854.0   \n",
       "2                                        132                      2080.0   \n",
       "3                                        135                      6604.0   \n",
       "4                                        110                      1562.0   \n",
       "\n",
       "   no. of commited crimes '96  loan_date  amount  duration  payments  status  \\\n",
       "0                        2804 1993-05-07   96396        12      8033      -1   \n",
       "1                        2618 1993-11-07  165960        36      4610       1   \n",
       "2                        2122 1993-07-28  127080        60      2118       1   \n",
       "3                        6295 1993-03-08  105804        36      2939       1   \n",
       "4                        1460 1993-06-09  274740        60      4579       1   \n",
       "\n",
       "   season_on_loan  age_on_loan_request  \n",
       "0          spring            45.794233  \n",
       "1          autumn            25.295523  \n",
       "2          summer            57.153809  \n",
       "3          winter            52.882674  \n",
       "4          spring            14.754581  \n",
       "\n",
       "[5 rows x 29 columns]"
      ]
     },
     "execution_count": 751,
     "metadata": {},
     "output_type": "execute_result"
    }
   ],
   "source": [
    "joined_df['age_on_loan_request'] = joined_df.apply(lambda row: (row['loan_date'] - row['birthday'])/np.timedelta64(1, 'Y'), axis=1)\n",
    "\n",
    "joined_df.drop(columns=['birthday'], inplace=True)\n",
    "\n",
    "joined_df.head()"
   ]
  },
  {
   "cell_type": "markdown",
   "id": "3ff5217a",
   "metadata": {},
   "source": [
    "## Join Cards"
   ]
  },
  {
   "cell_type": "markdown",
   "id": "0f00e278",
   "metadata": {},
   "source": [
    "There are a lot of clients without cards so simply joining the datasets would result in a large amount of null values. Instead we will record the card score attached to each account giving more weight to *classic* and *gold* cards. This is done beacause to have access to better credit cards the client must have a history of making and paying of loans in time.(Weights may change)"
   ]
  },
  {
   "cell_type": "code",
   "execution_count": 752,
   "id": "ff6494df",
   "metadata": {},
   "outputs": [
    {
     "data": {
      "text/html": [
       "<div>\n",
       "<style scoped>\n",
       "    .dataframe tbody tr th:only-of-type {\n",
       "        vertical-align: middle;\n",
       "    }\n",
       "\n",
       "    .dataframe tbody tr th {\n",
       "        vertical-align: top;\n",
       "    }\n",
       "\n",
       "    .dataframe thead th {\n",
       "        text-align: right;\n",
       "    }\n",
       "</style>\n",
       "<table border=\"1\" class=\"dataframe\">\n",
       "  <thead>\n",
       "    <tr style=\"text-align: right;\">\n",
       "      <th></th>\n",
       "      <th>account_id</th>\n",
       "      <th>issuance_freq</th>\n",
       "      <th>acc_creation_date</th>\n",
       "      <th>disp_id</th>\n",
       "      <th>shared</th>\n",
       "      <th>sex</th>\n",
       "      <th>district_code</th>\n",
       "      <th>district_name</th>\n",
       "      <th>region</th>\n",
       "      <th>no. of inhabitants</th>\n",
       "      <th>...</th>\n",
       "      <th>no. of commited crimes '95</th>\n",
       "      <th>no. of commited crimes '96</th>\n",
       "      <th>loan_date</th>\n",
       "      <th>amount</th>\n",
       "      <th>duration</th>\n",
       "      <th>payments</th>\n",
       "      <th>status</th>\n",
       "      <th>season_on_loan</th>\n",
       "      <th>age_on_loan_request</th>\n",
       "      <th>card_score</th>\n",
       "    </tr>\n",
       "  </thead>\n",
       "  <tbody>\n",
       "    <tr>\n",
       "      <th>0</th>\n",
       "      <td>1787</td>\n",
       "      <td>weekly issuance</td>\n",
       "      <td>1993-03-22</td>\n",
       "      <td>2166</td>\n",
       "      <td>0</td>\n",
       "      <td>F</td>\n",
       "      <td>30</td>\n",
       "      <td>Sokolov</td>\n",
       "      <td>west Bohemia</td>\n",
       "      <td>94812</td>\n",
       "      <td>...</td>\n",
       "      <td>2985.0</td>\n",
       "      <td>2804</td>\n",
       "      <td>1993-05-07</td>\n",
       "      <td>96396</td>\n",
       "      <td>12</td>\n",
       "      <td>8033</td>\n",
       "      <td>-1</td>\n",
       "      <td>spring</td>\n",
       "      <td>45.794233</td>\n",
       "      <td>0</td>\n",
       "    </tr>\n",
       "    <tr>\n",
       "      <th>1</th>\n",
       "      <td>1801</td>\n",
       "      <td>monthly issuance</td>\n",
       "      <td>1993-02-13</td>\n",
       "      <td>2181</td>\n",
       "      <td>0</td>\n",
       "      <td>M</td>\n",
       "      <td>46</td>\n",
       "      <td>Nachod</td>\n",
       "      <td>east Bohemia</td>\n",
       "      <td>112709</td>\n",
       "      <td>...</td>\n",
       "      <td>2854.0</td>\n",
       "      <td>2618</td>\n",
       "      <td>1993-11-07</td>\n",
       "      <td>165960</td>\n",
       "      <td>36</td>\n",
       "      <td>4610</td>\n",
       "      <td>1</td>\n",
       "      <td>autumn</td>\n",
       "      <td>25.295523</td>\n",
       "      <td>0</td>\n",
       "    </tr>\n",
       "    <tr>\n",
       "      <th>2</th>\n",
       "      <td>9188</td>\n",
       "      <td>monthly issuance</td>\n",
       "      <td>1993-08-02</td>\n",
       "      <td>11006</td>\n",
       "      <td>0</td>\n",
       "      <td>M</td>\n",
       "      <td>45</td>\n",
       "      <td>Jicin</td>\n",
       "      <td>east Bohemia</td>\n",
       "      <td>77917</td>\n",
       "      <td>...</td>\n",
       "      <td>2080.0</td>\n",
       "      <td>2122</td>\n",
       "      <td>1993-07-28</td>\n",
       "      <td>127080</td>\n",
       "      <td>60</td>\n",
       "      <td>2118</td>\n",
       "      <td>1</td>\n",
       "      <td>summer</td>\n",
       "      <td>57.153809</td>\n",
       "      <td>0</td>\n",
       "    </tr>\n",
       "    <tr>\n",
       "      <th>3</th>\n",
       "      <td>1843</td>\n",
       "      <td>monthly issuance</td>\n",
       "      <td>1993-01-30</td>\n",
       "      <td>2235</td>\n",
       "      <td>0</td>\n",
       "      <td>F</td>\n",
       "      <td>14</td>\n",
       "      <td>Ceske Budejovice</td>\n",
       "      <td>south Bohemia</td>\n",
       "      <td>177686</td>\n",
       "      <td>...</td>\n",
       "      <td>6604.0</td>\n",
       "      <td>6295</td>\n",
       "      <td>1993-03-08</td>\n",
       "      <td>105804</td>\n",
       "      <td>36</td>\n",
       "      <td>2939</td>\n",
       "      <td>1</td>\n",
       "      <td>winter</td>\n",
       "      <td>52.882674</td>\n",
       "      <td>0</td>\n",
       "    </tr>\n",
       "    <tr>\n",
       "      <th>4</th>\n",
       "      <td>11013</td>\n",
       "      <td>weekly issuance</td>\n",
       "      <td>1993-02-14</td>\n",
       "      <td>13231</td>\n",
       "      <td>0</td>\n",
       "      <td>M</td>\n",
       "      <td>63</td>\n",
       "      <td>Vyskov</td>\n",
       "      <td>south Moravia</td>\n",
       "      <td>86513</td>\n",
       "      <td>...</td>\n",
       "      <td>1562.0</td>\n",
       "      <td>1460</td>\n",
       "      <td>1993-06-09</td>\n",
       "      <td>274740</td>\n",
       "      <td>60</td>\n",
       "      <td>4579</td>\n",
       "      <td>1</td>\n",
       "      <td>spring</td>\n",
       "      <td>14.754581</td>\n",
       "      <td>0</td>\n",
       "    </tr>\n",
       "  </tbody>\n",
       "</table>\n",
       "<p>5 rows × 30 columns</p>\n",
       "</div>"
      ],
      "text/plain": [
       "   account_id     issuance_freq acc_creation_date  disp_id  shared sex  \\\n",
       "0        1787   weekly issuance        1993-03-22     2166       0   F   \n",
       "1        1801  monthly issuance        1993-02-13     2181       0   M   \n",
       "2        9188  monthly issuance        1993-08-02    11006       0   M   \n",
       "3        1843  monthly issuance        1993-01-30     2235       0   F   \n",
       "4       11013   weekly issuance        1993-02-14    13231       0   M   \n",
       "\n",
       "   district_code     district_name         region  no. of inhabitants  ...  \\\n",
       "0             30           Sokolov   west Bohemia               94812  ...   \n",
       "1             46            Nachod   east Bohemia              112709  ...   \n",
       "2             45             Jicin   east Bohemia               77917  ...   \n",
       "3             14  Ceske Budejovice  south Bohemia              177686  ...   \n",
       "4             63            Vyskov  south Moravia               86513  ...   \n",
       "\n",
       "   no. of commited crimes '95  no. of commited crimes '96  loan_date  amount  \\\n",
       "0                      2985.0                        2804 1993-05-07   96396   \n",
       "1                      2854.0                        2618 1993-11-07  165960   \n",
       "2                      2080.0                        2122 1993-07-28  127080   \n",
       "3                      6604.0                        6295 1993-03-08  105804   \n",
       "4                      1562.0                        1460 1993-06-09  274740   \n",
       "\n",
       "   duration  payments  status  season_on_loan  age_on_loan_request  card_score  \n",
       "0        12      8033      -1          spring            45.794233           0  \n",
       "1        36      4610       1          autumn            25.295523           0  \n",
       "2        60      2118       1          summer            57.153809           0  \n",
       "3        36      2939       1          winter            52.882674           0  \n",
       "4        60      4579       1          spring            14.754581           0  \n",
       "\n",
       "[5 rows x 30 columns]"
      ]
     },
     "execution_count": 752,
     "metadata": {},
     "output_type": "execute_result"
    }
   ],
   "source": [
    "card_disp_df = card_dev_df.merge(disp_df, on='disp_id', how='inner', suffixes=['_card', '_disp'])\n",
    "\n",
    "cards_per_user_df = card_disp_df.groupby(['account_id', 'type_card']).size().unstack(fill_value=0)\n",
    "\n",
    "joined_df = joined_df.merge(cards_per_user_df, on='account_id', how='left', suffixes=['', ''])\n",
    "\n",
    "joined_df.fillna(0, inplace=True)\n",
    "\n",
    "joined_df['card_score'] = (joined_df['junior'] + joined_df['classic'] * 3 + joined_df['gold'] * 10).astype(int)\n",
    "\n",
    "joined_df.drop(columns=['junior', 'classic', 'gold'], inplace=True)\n",
    "\n",
    "joined_df.head()"
   ]
  },
  {
   "cell_type": "markdown",
   "id": "b961cce3",
   "metadata": {},
   "source": [
    "## Join Transactions"
   ]
  },
  {
   "cell_type": "code",
   "execution_count": 753,
   "id": "e12db79a",
   "metadata": {},
   "outputs": [
    {
     "data": {
      "text/html": [
       "<div>\n",
       "<style scoped>\n",
       "    .dataframe tbody tr th:only-of-type {\n",
       "        vertical-align: middle;\n",
       "    }\n",
       "\n",
       "    .dataframe tbody tr th {\n",
       "        vertical-align: top;\n",
       "    }\n",
       "\n",
       "    .dataframe thead th {\n",
       "        text-align: right;\n",
       "    }\n",
       "</style>\n",
       "<table border=\"1\" class=\"dataframe\">\n",
       "  <thead>\n",
       "    <tr style=\"text-align: right;\">\n",
       "      <th></th>\n",
       "      <th>account_id</th>\n",
       "      <th>issuance_freq</th>\n",
       "      <th>acc_creation_date</th>\n",
       "      <th>disp_id</th>\n",
       "      <th>shared</th>\n",
       "      <th>sex</th>\n",
       "      <th>district_code</th>\n",
       "      <th>district_name</th>\n",
       "      <th>region</th>\n",
       "      <th>no. of inhabitants</th>\n",
       "      <th>...</th>\n",
       "      <th>no. of commited crimes '96</th>\n",
       "      <th>loan_date</th>\n",
       "      <th>amount</th>\n",
       "      <th>duration</th>\n",
       "      <th>payments</th>\n",
       "      <th>status</th>\n",
       "      <th>season_on_loan</th>\n",
       "      <th>age_on_loan_request</th>\n",
       "      <th>card_score</th>\n",
       "      <th>balance_at_loan</th>\n",
       "    </tr>\n",
       "  </thead>\n",
       "  <tbody>\n",
       "    <tr>\n",
       "      <th>0</th>\n",
       "      <td>1787</td>\n",
       "      <td>weekly issuance</td>\n",
       "      <td>1993-03-22</td>\n",
       "      <td>2166</td>\n",
       "      <td>0</td>\n",
       "      <td>F</td>\n",
       "      <td>30</td>\n",
       "      <td>Sokolov</td>\n",
       "      <td>west Bohemia</td>\n",
       "      <td>94812</td>\n",
       "      <td>...</td>\n",
       "      <td>2804</td>\n",
       "      <td>1993-05-07</td>\n",
       "      <td>96396</td>\n",
       "      <td>12</td>\n",
       "      <td>8033</td>\n",
       "      <td>-1</td>\n",
       "      <td>spring</td>\n",
       "      <td>45.794233</td>\n",
       "      <td>0</td>\n",
       "      <td>11000.0</td>\n",
       "    </tr>\n",
       "    <tr>\n",
       "      <th>1</th>\n",
       "      <td>1801</td>\n",
       "      <td>monthly issuance</td>\n",
       "      <td>1993-02-13</td>\n",
       "      <td>2181</td>\n",
       "      <td>0</td>\n",
       "      <td>M</td>\n",
       "      <td>46</td>\n",
       "      <td>Nachod</td>\n",
       "      <td>east Bohemia</td>\n",
       "      <td>112709</td>\n",
       "      <td>...</td>\n",
       "      <td>2618</td>\n",
       "      <td>1993-11-07</td>\n",
       "      <td>165960</td>\n",
       "      <td>36</td>\n",
       "      <td>4610</td>\n",
       "      <td>1</td>\n",
       "      <td>autumn</td>\n",
       "      <td>25.295523</td>\n",
       "      <td>0</td>\n",
       "      <td>52208.9</td>\n",
       "    </tr>\n",
       "    <tr>\n",
       "      <th>2</th>\n",
       "      <td>9188</td>\n",
       "      <td>monthly issuance</td>\n",
       "      <td>1993-08-02</td>\n",
       "      <td>11006</td>\n",
       "      <td>0</td>\n",
       "      <td>M</td>\n",
       "      <td>45</td>\n",
       "      <td>Jicin</td>\n",
       "      <td>east Bohemia</td>\n",
       "      <td>77917</td>\n",
       "      <td>...</td>\n",
       "      <td>2122</td>\n",
       "      <td>1993-07-28</td>\n",
       "      <td>127080</td>\n",
       "      <td>60</td>\n",
       "      <td>2118</td>\n",
       "      <td>1</td>\n",
       "      <td>summer</td>\n",
       "      <td>57.153809</td>\n",
       "      <td>0</td>\n",
       "      <td>20272.8</td>\n",
       "    </tr>\n",
       "    <tr>\n",
       "      <th>3</th>\n",
       "      <td>1843</td>\n",
       "      <td>monthly issuance</td>\n",
       "      <td>1993-01-30</td>\n",
       "      <td>2235</td>\n",
       "      <td>0</td>\n",
       "      <td>F</td>\n",
       "      <td>14</td>\n",
       "      <td>Ceske Budejovice</td>\n",
       "      <td>south Bohemia</td>\n",
       "      <td>177686</td>\n",
       "      <td>...</td>\n",
       "      <td>6295</td>\n",
       "      <td>1993-03-08</td>\n",
       "      <td>105804</td>\n",
       "      <td>36</td>\n",
       "      <td>2939</td>\n",
       "      <td>1</td>\n",
       "      <td>winter</td>\n",
       "      <td>52.882674</td>\n",
       "      <td>0</td>\n",
       "      <td>40164.0</td>\n",
       "    </tr>\n",
       "    <tr>\n",
       "      <th>4</th>\n",
       "      <td>11013</td>\n",
       "      <td>weekly issuance</td>\n",
       "      <td>1993-02-14</td>\n",
       "      <td>13231</td>\n",
       "      <td>0</td>\n",
       "      <td>M</td>\n",
       "      <td>63</td>\n",
       "      <td>Vyskov</td>\n",
       "      <td>south Moravia</td>\n",
       "      <td>86513</td>\n",
       "      <td>...</td>\n",
       "      <td>1460</td>\n",
       "      <td>1993-06-09</td>\n",
       "      <td>274740</td>\n",
       "      <td>60</td>\n",
       "      <td>4579</td>\n",
       "      <td>1</td>\n",
       "      <td>spring</td>\n",
       "      <td>14.754581</td>\n",
       "      <td>0</td>\n",
       "      <td>59527.1</td>\n",
       "    </tr>\n",
       "  </tbody>\n",
       "</table>\n",
       "<p>5 rows × 31 columns</p>\n",
       "</div>"
      ],
      "text/plain": [
       "   account_id     issuance_freq acc_creation_date  disp_id  shared sex  \\\n",
       "0        1787   weekly issuance        1993-03-22     2166       0   F   \n",
       "1        1801  monthly issuance        1993-02-13     2181       0   M   \n",
       "2        9188  monthly issuance        1993-08-02    11006       0   M   \n",
       "3        1843  monthly issuance        1993-01-30     2235       0   F   \n",
       "4       11013   weekly issuance        1993-02-14    13231       0   M   \n",
       "\n",
       "   district_code     district_name         region  no. of inhabitants  ...  \\\n",
       "0             30           Sokolov   west Bohemia               94812  ...   \n",
       "1             46            Nachod   east Bohemia              112709  ...   \n",
       "2             45             Jicin   east Bohemia               77917  ...   \n",
       "3             14  Ceske Budejovice  south Bohemia              177686  ...   \n",
       "4             63            Vyskov  south Moravia               86513  ...   \n",
       "\n",
       "   no. of commited crimes '96  loan_date  amount  duration  payments  status  \\\n",
       "0                        2804 1993-05-07   96396        12      8033      -1   \n",
       "1                        2618 1993-11-07  165960        36      4610       1   \n",
       "2                        2122 1993-07-28  127080        60      2118       1   \n",
       "3                        6295 1993-03-08  105804        36      2939       1   \n",
       "4                        1460 1993-06-09  274740        60      4579       1   \n",
       "\n",
       "   season_on_loan  age_on_loan_request  card_score  balance_at_loan  \n",
       "0          spring            45.794233           0          11000.0  \n",
       "1          autumn            25.295523           0          52208.9  \n",
       "2          summer            57.153809           0          20272.8  \n",
       "3          winter            52.882674           0          40164.0  \n",
       "4          spring            14.754581           0          59527.1  \n",
       "\n",
       "[5 rows x 31 columns]"
      ]
     },
     "execution_count": 753,
     "metadata": {},
     "output_type": "execute_result"
    }
   ],
   "source": [
    "account_balance_df = trans_dev_df[['account_id', 'balance', 'trans_date']]\n",
    "\n",
    "def find_balance_at_date(joined_df_row):\n",
    "    account_balances = account_balance_df[account_balance_df['account_id'] == joined_df_row['account_id']]\n",
    "    \n",
    "    account_balances['days_since_trans'] = account_balances.apply(lambda row: (joined_df_row['loan_date'] - row['trans_date']), axis=1)\n",
    "\n",
    "    account_balances = account_balances[account_balances['days_since_trans'] >= pd.Timedelta(0)]\n",
    "\n",
    "    account_balances = account_balances[account_balances['days_since_trans'] == account_balances['days_since_trans'].min()]\n",
    "\n",
    "    if (len(account_balances.index) >= 1):\n",
    "        return account_balances.iloc[0]['balance']\n",
    "    else:\n",
    "        return 0\n",
    "\n",
    "joined_df['balance_at_loan'] = joined_df.apply(find_balance_at_date, axis=1)\n",
    "\n",
    "joined_df.head()"
   ]
  },
  {
   "cell_type": "markdown",
   "id": "1ff8bb4b",
   "metadata": {},
   "source": [
    "## Set Correct Data Types"
   ]
  },
  {
   "cell_type": "code",
   "execution_count": 754,
   "id": "f8cd4826",
   "metadata": {},
   "outputs": [],
   "source": [
    "joined_df['shared'] = joined_df['shared'].astype('bool')"
   ]
  },
  {
   "cell_type": "code",
   "execution_count": 755,
   "id": "efafbb91",
   "metadata": {},
   "outputs": [],
   "source": [
    "joined_df['status'] = joined_df['status'].apply(lambda x: 1 if x == 1 else 0)\n",
    "joined_df['status'] = joined_df['status'].astype('bool')"
   ]
  },
  {
   "cell_type": "code",
   "execution_count": 756,
   "id": "4ad78fe5",
   "metadata": {},
   "outputs": [],
   "source": [
    "joined_df.drop(columns=['district_name', 'account_id', 'disp_id'], inplace=True)"
   ]
  },
  {
   "cell_type": "markdown",
   "id": "7aa91567",
   "metadata": {},
   "source": [
    "# Feature Selection"
   ]
  },
  {
   "cell_type": "markdown",
   "id": "2add662f",
   "metadata": {},
   "source": [
    "### Remove Categorical Values"
   ]
  },
  {
   "cell_type": "code",
   "execution_count": 757,
   "id": "f25064b1",
   "metadata": {},
   "outputs": [],
   "source": [
    "cat = ['sex', 'region', 'issuance_freq']\n",
    "\n",
    "joined_df[cat] = joined_df[cat].astype('category')\n",
    "\n",
    "joined_df[cat] = joined_df[cat].apply(lambda x : x.cat.codes)"
   ]
  },
  {
   "cell_type": "code",
   "execution_count": 758,
   "id": "0f4b41a0",
   "metadata": {},
   "outputs": [
    {
     "data": {
      "text/plain": [
       "<AxesSubplot:>"
      ]
     },
     "execution_count": 758,
     "metadata": {},
     "output_type": "execute_result"
    },
    {
     "data": {
      "image/png": "[encoded data removed]",
      "text/plain": [
       "<Figure size 432x288 with 2 Axes>"
      ]
     },
     "metadata": {
      "needs_background": "light"
     },
     "output_type": "display_data"
    }
   ],
   "source": [
    "sb.heatmap(joined_df.corr())"
   ]
  },
  {
   "cell_type": "code",
   "execution_count": null,
   "id": "fd15cd06",
   "metadata": {},
   "outputs": [],
   "source": []
  },
  {
   "cell_type": "code",
   "execution_count": 759,
   "id": "b31cdd75",
   "metadata": {},
   "outputs": [
    {
     "data": {
      "text/plain": [
       "issuance_freq                                     issuance_freq                                       1.000000\n",
       "ratio of urban inhabitants                        ratio of urban inhabitants                          1.000000\n",
       "card_score                                        card_score                                          1.000000\n",
       "age_on_loan_request                               age_on_loan_request                                 1.000000\n",
       "status                                            status                                              1.000000\n",
       "payments                                          payments                                            1.000000\n",
       "duration                                          duration                                            1.000000\n",
       "amount                                            amount                                              1.000000\n",
       "no. of commited crimes '96                        no. of commited crimes '96                          1.000000\n",
       "no. of commited crimes '95                        no. of commited crimes '95                          1.000000\n",
       "no. of enterpreneurs per 1000 inhabitants         no. of enterpreneurs per 1000 inhabitants           1.000000\n",
       "unemploymant rate '96                             unemploymant rate '96                               1.000000\n",
       "shared                                            shared                                              1.000000\n",
       "average salary                                    average salary                                      1.000000\n",
       "unemploymant rate '95                             unemploymant rate '95                               1.000000\n",
       "balance_at_loan                                   balance_at_loan                                     1.000000\n",
       "no. of municipalities with inhabitants < 499      no. of municipalities with inhabitants < 499        1.000000\n",
       "sex                                               sex                                                 1.000000\n",
       "district_code                                     district_code                                       1.000000\n",
       "no. of municipalities with inhabitants >10000     no. of municipalities with inhabitants >10000       1.000000\n",
       "region                                            region                                              1.000000\n",
       "no. of inhabitants                                no. of inhabitants                                  1.000000\n",
       "no. of municipalities with inhabitants 2000-9999  no. of municipalities with inhabitants 2000-9999    1.000000\n",
       "no. of municipalities with inhabitants 500-1999   no. of municipalities with inhabitants 500-1999     1.000000\n",
       "no. of cities                                     no. of cities                                       1.000000\n",
       "no. of commited crimes '96                        no. of commited crimes '95                          0.999671\n",
       "no. of commited crimes '95                        no. of commited crimes '96                          0.999671\n",
       "                                                  no. of inhabitants                                  0.995893\n",
       "no. of inhabitants                                no. of commited crimes '95                          0.995893\n",
       "no. of commited crimes '96                        no. of inhabitants                                  0.994748\n",
       "no. of inhabitants                                no. of commited crimes '96                          0.994748\n",
       "unemploymant rate '96                             unemploymant rate '95                               0.990580\n",
       "unemploymant rate '95                             unemploymant rate '96                               0.990580\n",
       "no. of inhabitants                                average salary                                      0.910692\n",
       "average salary                                    no. of inhabitants                                  0.910692\n",
       "no. of commited crimes '95                        average salary                                      0.907755\n",
       "average salary                                    no. of commited crimes '95                          0.907755\n",
       "no. of commited crimes '96                        average salary                                      0.902414\n",
       "average salary                                    no. of commited crimes '96                          0.902414\n",
       "dtype: float64"
      ]
     },
     "execution_count": 759,
     "metadata": {},
     "output_type": "execute_result"
    }
   ],
   "source": [
    "corr = joined_df.corr()\n",
    "\n",
    "corr = corr[abs(corr) >= 0.9]\n",
    "\n",
    "corr.unstack().sort_values(ascending=False).dropna()"
   ]
  },
  {
   "cell_type": "markdown",
   "id": "aa5d1a1f",
   "metadata": {},
   "source": [
    "# Algorithms"
   ]
  },
  {
   "cell_type": "code",
   "execution_count": 760,
   "id": "a33620c1",
   "metadata": {},
   "outputs": [
    {
     "name": "stdout",
     "output_type": "stream",
     "text": [
      "Index(['issuance_freq', 'acc_creation_date', 'shared', 'sex', 'district_code',\n",
      "       'region', 'no. of inhabitants',\n",
      "       'no. of municipalities with inhabitants < 499',\n",
      "       'no. of municipalities with inhabitants 500-1999',\n",
      "       'no. of municipalities with inhabitants 2000-9999',\n",
      "       'no. of municipalities with inhabitants >10000', 'no. of cities',\n",
      "       'ratio of urban inhabitants', 'average salary', 'unemploymant rate '95',\n",
      "       'unemploymant rate '96', 'no. of enterpreneurs per 1000 inhabitants',\n",
      "       'no. of commited crimes '95', 'no. of commited crimes '96', 'loan_date',\n",
      "       'amount', 'duration', 'payments', 'status', 'season_on_loan',\n",
      "       'age_on_loan_request', 'card_score', 'balance_at_loan'],\n",
      "      dtype='object')\n"
     ]
    }
   ],
   "source": [
    "print(joined_df.columns)"
   ]
  },
  {
   "cell_type": "code",
   "execution_count": 761,
   "id": "cace7cfd",
   "metadata": {},
   "outputs": [
    {
     "name": "stdout",
     "output_type": "stream",
     "text": [
      "issuance_freq                                                 int8\n",
      "acc_creation_date                                   datetime64[ns]\n",
      "shared                                                        bool\n",
      "sex                                                           int8\n",
      "district_code                                                int64\n",
      "region                                                        int8\n",
      "no. of inhabitants                                           int64\n",
      "no. of municipalities with inhabitants < 499                 int64\n",
      "no. of municipalities with inhabitants 500-1999              int64\n",
      "no. of municipalities with inhabitants 2000-9999             int64\n",
      "no. of municipalities with inhabitants >10000                int64\n",
      "no. of cities                                                int64\n",
      "ratio of urban inhabitants                                 float64\n",
      "average salary                                               int64\n",
      "unemploymant rate '95                                      float64\n",
      "unemploymant rate '96                                      float64\n",
      "no. of enterpreneurs per 1000 inhabitants                    int64\n",
      "no. of commited crimes '95                                 float64\n",
      "no. of commited crimes '96                                   int64\n",
      "loan_date                                           datetime64[ns]\n",
      "amount                                                       int64\n",
      "duration                                                     int64\n",
      "payments                                                     int64\n",
      "status                                                        bool\n",
      "season_on_loan                                              object\n",
      "age_on_loan_request                                        float64\n",
      "card_score                                                   int32\n",
      "balance_at_loan                                            float64\n",
      "dtype: object\n"
     ]
    }
   ],
   "source": [
    "print(joined_df.dtypes)"
   ]
  },
  {
   "cell_type": "code",
   "execution_count": 762,
   "id": "d705785d",
   "metadata": {},
   "outputs": [],
   "source": [
    "features = [\n",
    "    'shared',\n",
    "    'no. of municipalities with inhabitants < 499',\n",
    "    'no. of municipalities with inhabitants 500-1999',\n",
    "    'no. of municipalities with inhabitants 2000-9999',\n",
    "    'no. of municipalities with inhabitants >10000', \n",
    "    'no. of cities',\n",
    "    'ratio of urban inhabitants', \n",
    "    'average salary', \n",
    "    'unemploymant rate \\'96', \n",
    "    'no. of enterpreneurs per 1000 inhabitants',\n",
    "    'amount', \n",
    "    'duration', \n",
    "    'payments',\n",
    "    'age_on_loan_request',\n",
    "    'card_score', \n",
    "    'balance_at_loan',\n",
    "    'issuance_freq',\n",
    "    'sex', \n",
    "    'district_code',\n",
    "    'region',\n",
    "    ]\n",
    "    \n",
    "target = 'status'"
   ]
  },
  {
   "cell_type": "code",
   "execution_count": 763,
   "id": "b68af59e",
   "metadata": {},
   "outputs": [],
   "source": [
    "X = joined_df[features]\n",
    "y = joined_df[target]"
   ]
  },
  {
   "cell_type": "code",
   "execution_count": 764,
   "id": "f3578526",
   "metadata": {},
   "outputs": [],
   "source": [
    "# Split dataset into training set and test set\n",
    "X_train, X_test, y_train, y_test = train_test_split(X, y, test_size=0.3, random_state=1, stratify=y) # 70% training and 30% test\n"
   ]
  },
  {
   "cell_type": "code",
   "execution_count": 765,
   "id": "cad928ea",
   "metadata": {},
   "outputs": [],
   "source": [
    "# Create Decision Tree classifer object\n",
    "clf = DecisionTreeClassifier()\n",
    "\n",
    "# Train Decision Tree Classifer\n",
    "clf = clf.fit(X_train,y_train)\n",
    "\n",
    "#Predict the response for test dataset\n",
    "y_pred = clf.predict(X_test)"
   ]
  },
  {
   "cell_type": "code",
   "execution_count": 766,
   "id": "3088ef88",
   "metadata": {},
   "outputs": [
    {
     "name": "stdout",
     "output_type": "stream",
     "text": [
      "Recall: 0.9411764705882353\n"
     ]
    }
   ],
   "source": [
    "print(\"Recall:\",metrics.recall_score(y_test, y_pred))"
   ]
  },
  {
   "cell_type": "code",
   "execution_count": 767,
   "id": "a69b5251",
   "metadata": {},
   "outputs": [
    {
     "data": {
      "image/png": "[encoded data removed]",
      "text/plain": [
       "<Figure size 1800x1440 with 1 Axes>"
      ]
     },
     "metadata": {
      "needs_background": "light"
     },
     "output_type": "display_data"
    }
   ],
   "source": [
    "from sklearn import tree\n",
    "\n",
    "fig = plt.figure(figsize=(25,20))\n",
    "_ = tree.plot_tree(clf, \n",
    "                   feature_names=features,  \n",
    "                   class_names=target,\n",
    "                   filled=True)\n"
   ]
  },
  {
   "cell_type": "code",
   "execution_count": 768,
   "id": "843a7525",
   "metadata": {},
   "outputs": [
    {
     "ename": "ModuleNotFoundError",
     "evalue": "No module named 'graphviz'",
     "output_type": "error",
     "traceback": [
      "\u001b[1;31m---------------------------------------------------------------------------\u001b[0m",
      "\u001b[1;31mModuleNotFoundError\u001b[0m                       Traceback (most recent call last)",
      "\u001b[1;32mc:\\Users\\jljoa\\OneDrive\\Documentos\\Cadeiras\\4_1S\\AC\\ac-2223\\proj_notebook.ipynb Cell 108\u001b[0m in \u001b[0;36m<cell line: 1>\u001b[1;34m()\u001b[0m\n\u001b[1;32m----> <a href='vscode-notebook-cell:/c%3A/Users/jljoa/OneDrive/Documentos/Cadeiras/4_1S/AC/ac-2223/proj_notebook.ipynb#Y425sZmlsZQ%3D%3D?line=0'>1</a>\u001b[0m \u001b[39mimport\u001b[39;00m \u001b[39mgraphviz\u001b[39;00m\n\u001b[0;32m      <a href='vscode-notebook-cell:/c%3A/Users/jljoa/OneDrive/Documentos/Cadeiras/4_1S/AC/ac-2223/proj_notebook.ipynb#Y425sZmlsZQ%3D%3D?line=1'>2</a>\u001b[0m \u001b[39m# DOT data\u001b[39;00m\n\u001b[0;32m      <a href='vscode-notebook-cell:/c%3A/Users/jljoa/OneDrive/Documentos/Cadeiras/4_1S/AC/ac-2223/proj_notebook.ipynb#Y425sZmlsZQ%3D%3D?line=2'>3</a>\u001b[0m dot_data \u001b[39m=\u001b[39m tree\u001b[39m.\u001b[39mexport_graphviz(clf, out_file\u001b[39m=\u001b[39m\u001b[39mNone\u001b[39;00m, \n\u001b[0;32m      <a href='vscode-notebook-cell:/c%3A/Users/jljoa/OneDrive/Documentos/Cadeiras/4_1S/AC/ac-2223/proj_notebook.ipynb#Y425sZmlsZQ%3D%3D?line=3'>4</a>\u001b[0m                                 feature_names\u001b[39m=\u001b[39mfeatures,  \n\u001b[0;32m      <a href='vscode-notebook-cell:/c%3A/Users/jljoa/OneDrive/Documentos/Cadeiras/4_1S/AC/ac-2223/proj_notebook.ipynb#Y425sZmlsZQ%3D%3D?line=4'>5</a>\u001b[0m                                 class_names\u001b[39m=\u001b[39mtarget,\n\u001b[0;32m      <a href='vscode-notebook-cell:/c%3A/Users/jljoa/OneDrive/Documentos/Cadeiras/4_1S/AC/ac-2223/proj_notebook.ipynb#Y425sZmlsZQ%3D%3D?line=5'>6</a>\u001b[0m                                 filled\u001b[39m=\u001b[39m\u001b[39mTrue\u001b[39;00m)\n",
      "\u001b[1;31mModuleNotFoundError\u001b[0m: No module named 'graphviz'"
     ]
    }
   ],
   "source": [
    "import graphviz\n",
    "# DOT data\n",
    "dot_data = tree.export_graphviz(clf, out_file=None, \n",
    "                                feature_names=features,  \n",
    "                                class_names=target,\n",
    "                                filled=True)\n",
    "\n",
    "# Draw graph\n",
    "graph = graphviz.Source(dot_data, format=\"png\") \n",
    "graph\n"
   ]
  }
 ],
 "metadata": {
  "kernelspec": {
   "display_name": "Python 3.10.4 64-bit",
   "language": "python",
   "name": "python3"
  },
  "language_info": {
   "codemirror_mode": {
    "name": "ipython",
    "version": 3
   },
   "file_extension": ".py",
   "mimetype": "text/x-python",
   "name": "python",
   "nbconvert_exporter": "python",
   "pygments_lexer": "ipython3",
   "version": "3.10.4"
  },
  "vscode": {
   "interpreter": {
    "hash": "6847c98a8f86b01c6a19c518cd2f366693b80566b266804d5ca763cbb223f52b"
   }
  }
 },
 "nbformat": 4,
 "nbformat_minor": 5
}
