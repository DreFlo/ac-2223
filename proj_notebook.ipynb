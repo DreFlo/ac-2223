{
 "cells": [
  {
   "cell_type": "code",
   "execution_count": 395,
   "id": "7b77a989",
   "metadata": {
    "scrolled": true
   },
   "outputs": [],
   "source": [
    "import pandas as pd\n",
    "import os\n",
    "import seaborn as sb\n",
    "import datetime\n",
    "import numpy as np\n",
    "import matplotlib.pyplot as plt\n",
    "from sklearn.tree import DecisionTreeClassifier\n",
    "from sklearn.model_selection import train_test_split\n",
    "from sklearn import metrics"
   ]
  },
  {
   "cell_type": "markdown",
   "id": "64228076",
   "metadata": {},
   "source": [
    "# Load Data"
   ]
  },
  {
   "cell_type": "code",
   "execution_count": 396,
   "id": "f5f0b5f4",
   "metadata": {},
   "outputs": [],
   "source": [
    "client_df = pd.read_csv('.\\\\ficheiros_competicao_dev\\\\client.csv', sep=';', low_memory=False)\n",
    "\n",
    "account_df = pd.read_csv('.\\\\ficheiros_competicao_dev\\\\account.csv', sep=';', low_memory=False)\n",
    "\n",
    "trans_dev_df = pd.read_csv('.\\\\ficheiros_competicao_dev\\\\trans_dev.csv', sep=';', low_memory=False)\n",
    "\n",
    "loan_dev_df = pd.read_csv('.\\\\ficheiros_competicao_dev\\\\loan_dev.csv', sep=';', low_memory=False)\n",
    "\n",
    "card_dev_df = pd.read_csv('.\\\\ficheiros_competicao_dev\\\\card_dev.csv', sep=';', low_memory=False)\n",
    "\n",
    "disp_df = pd.read_csv('.\\\\ficheiros_competicao_dev\\\\disp.csv', sep=';', low_memory=False)\n",
    "\n",
    "district_df = pd.read_csv('.\\\\ficheiros_competicao_dev\\\\district.csv', sep=';', low_memory=False, na_values='?')"
   ]
  },
  {
   "cell_type": "markdown",
   "id": "08a9e2a5",
   "metadata": {},
   "source": [
    "# Domain Analysis"
   ]
  },
  {
   "cell_type": "markdown",
   "id": "bdf7ae94",
   "metadata": {},
   "source": [
    "## Business Understanding"
   ]
  },
  {
   "cell_type": "markdown",
   "id": "5919f623",
   "metadata": {},
   "source": [
    "### End User Requirements"
   ]
  },
  {
   "cell_type": "markdown",
   "id": "25fec16d",
   "metadata": {},
   "source": [
    "The end user requires a system to determine which clients are and are not capable of paying of the loans they seek to make of the end user."
   ]
  },
  {
   "cell_type": "markdown",
   "id": "d80ac790",
   "metadata": {},
   "source": [
    "### Business Goals"
   ]
  },
  {
   "cell_type": "markdown",
   "id": "36ab537c",
   "metadata": {},
   "source": [
    "In this problem the positive case is a client that cannot pay a loan. The business goal is to create a system to:\n",
    "- Reduce the amount of loan attributions to clients who will default on the loan\n",
    "- Mantain the amount of loan attributions to clients who can fulfill the loan"
   ]
  },
  {
   "cell_type": "markdown",
   "id": "83c43d54",
   "metadata": {},
   "source": [
    "### Data Mining Goals"
   ]
  },
  {
   "cell_type": "markdown",
   "id": "a9d2fe04",
   "metadata": {},
   "source": [
    "From the business goals we can determine that the goal of the model is to avoid granting a loan to a client who cannot pay it back, minimize false negatives so we must optimze for recall."
   ]
  },
  {
   "cell_type": "markdown",
   "id": "14629deb",
   "metadata": {},
   "source": [
    "## Data Understanding"
   ]
  },
  {
   "cell_type": "markdown",
   "id": "028b39b6",
   "metadata": {},
   "source": [
    "### Loans"
   ]
  },
  {
   "cell_type": "code",
   "execution_count": 397,
   "id": "ba0a307e",
   "metadata": {},
   "outputs": [
    {
     "data": {
      "text/plain": [
       "85.97560975609755"
      ]
     },
     "execution_count": 397,
     "metadata": {},
     "output_type": "execute_result"
    }
   ],
   "source": [
    "len(loan_dev_df[loan_dev_df['status'] == 1]) / len(loan_dev_df) * 100"
   ]
  },
  {
   "cell_type": "markdown",
   "id": "326bffac",
   "metadata": {},
   "source": [
    "Around 86% of loans in the dataset have been payed off, so accuracy is not the best measure to optimize for."
   ]
  },
  {
   "cell_type": "code",
   "execution_count": 398,
   "id": "7e08bbca",
   "metadata": {},
   "outputs": [
    {
     "data": {
      "text/plain": [
       "<AxesSubplot:xlabel='status', ylabel='amount'>"
      ]
     },
     "execution_count": 398,
     "metadata": {},
     "output_type": "execute_result"
    },
    {
     "data": {
      "image/png": "[encoded data removed]",
      "text/plain": [
       "<Figure size 432x288 with 1 Axes>"
      ]
     },
     "metadata": {
      "needs_background": "light"
     },
     "output_type": "display_data"
    }
   ],
   "source": [
    "sb.violinplot(x='status', y='amount', data=loan_dev_df, hue='status')"
   ]
  },
  {
   "cell_type": "markdown",
   "id": "09e77896",
   "metadata": {},
   "source": [
    "We can see a larger amount of the loans over 100,000 are not payed off."
   ]
  },
  {
   "cell_type": "markdown",
   "id": "b6cff7c1",
   "metadata": {},
   "source": [
    "# Data Treatment"
   ]
  },
  {
   "cell_type": "markdown",
   "id": "5872a7dd",
   "metadata": {},
   "source": [
    "## Whitespace Removal"
   ]
  },
  {
   "cell_type": "code",
   "execution_count": 399,
   "id": "33fe85f7",
   "metadata": {},
   "outputs": [],
   "source": [
    "district_df.rename(columns=lambda x: x.strip(), inplace=True)"
   ]
  },
  {
   "cell_type": "markdown",
   "id": "2de9b061",
   "metadata": {},
   "source": [
    "## Missing Values"
   ]
  },
  {
   "cell_type": "markdown",
   "id": "621fb2ba",
   "metadata": {},
   "source": [
    "### Acount"
   ]
  },
  {
   "cell_type": "code",
   "execution_count": 400,
   "id": "a6dabfae",
   "metadata": {},
   "outputs": [
    {
     "data": {
      "text/plain": [
       "account_id     0\n",
       "district_id    0\n",
       "frequency      0\n",
       "date           0\n",
       "dtype: int64"
      ]
     },
     "execution_count": 400,
     "metadata": {},
     "output_type": "execute_result"
    }
   ],
   "source": [
    "account_df.isnull().sum()"
   ]
  },
  {
   "cell_type": "markdown",
   "id": "658737de",
   "metadata": {},
   "source": [
    "No missing values on **account_df**"
   ]
  },
  {
   "cell_type": "markdown",
   "id": "52e0fc54",
   "metadata": {},
   "source": [
    "### Client"
   ]
  },
  {
   "cell_type": "code",
   "execution_count": 401,
   "id": "b5a489f1",
   "metadata": {},
   "outputs": [
    {
     "data": {
      "text/plain": [
       "client_id       0\n",
       "birth_number    0\n",
       "district_id     0\n",
       "dtype: int64"
      ]
     },
     "execution_count": 401,
     "metadata": {},
     "output_type": "execute_result"
    }
   ],
   "source": [
    "client_df.isnull().sum()"
   ]
  },
  {
   "cell_type": "markdown",
   "id": "f1bc9910",
   "metadata": {},
   "source": [
    "No missing values on **client_df**"
   ]
  },
  {
   "cell_type": "markdown",
   "id": "0f132f47",
   "metadata": {},
   "source": [
    "### Loans"
   ]
  },
  {
   "cell_type": "code",
   "execution_count": 402,
   "id": "a30a2819",
   "metadata": {},
   "outputs": [
    {
     "data": {
      "text/plain": [
       "loan_id       0\n",
       "account_id    0\n",
       "date          0\n",
       "amount        0\n",
       "duration      0\n",
       "payments      0\n",
       "status        0\n",
       "dtype: int64"
      ]
     },
     "execution_count": 402,
     "metadata": {},
     "output_type": "execute_result"
    }
   ],
   "source": [
    "loan_dev_df.isnull().sum()"
   ]
  },
  {
   "cell_type": "markdown",
   "id": "e604bab8",
   "metadata": {},
   "source": [
    "No missing values on **loan_dev_df**"
   ]
  },
  {
   "cell_type": "markdown",
   "id": "a62a883a",
   "metadata": {},
   "source": [
    "### Transactions"
   ]
  },
  {
   "cell_type": "code",
   "execution_count": 403,
   "id": "688c481e",
   "metadata": {},
   "outputs": [
    {
     "data": {
      "text/plain": [
       "trans_id           0\n",
       "account_id         0\n",
       "date               0\n",
       "type               0\n",
       "operation      70761\n",
       "amount             0\n",
       "balance            0\n",
       "k_symbol      185244\n",
       "bank          299443\n",
       "account       294456\n",
       "dtype: int64"
      ]
     },
     "execution_count": 403,
     "metadata": {},
     "output_type": "execute_result"
    }
   ],
   "source": [
    "trans_dev_df.isnull().sum()"
   ]
  },
  {
   "cell_type": "markdown",
   "id": "6cb13ea7",
   "metadata": {},
   "source": [
    "There are missing values on **trans_dev_df**"
   ]
  },
  {
   "cell_type": "markdown",
   "id": "d8547af9",
   "metadata": {},
   "source": [
    "#### Operation"
   ]
  },
  {
   "cell_type": "code",
   "execution_count": 404,
   "id": "146488ca",
   "metadata": {},
   "outputs": [
    {
     "data": {
      "text/plain": [
       "withdrawal in cash              165270\n",
       "remittance to another bank       70737\n",
       "credit in cash                   62202\n",
       "collection from another bank     26505\n",
       "credit card withdrawal            1210\n",
       "Name: operation, dtype: int64"
      ]
     },
     "execution_count": 404,
     "metadata": {},
     "output_type": "execute_result"
    }
   ],
   "source": [
    "trans_dev_df['operation'].value_counts()"
   ]
  },
  {
   "cell_type": "code",
   "execution_count": 405,
   "id": "68ad3be0",
   "metadata": {},
   "outputs": [
    {
     "data": {
      "text/plain": [
       "17.838083113805663"
      ]
     },
     "execution_count": 405,
     "metadata": {},
     "output_type": "execute_result"
    }
   ],
   "source": [
    "len(trans_dev_df[trans_dev_df['operation'].isnull()]) / len(trans_dev_df['operation']) * 100"
   ]
  },
  {
   "cell_type": "markdown",
   "id": "eea626bc",
   "metadata": {},
   "source": [
    "There is a significant number of null values in the operations column. These will be replaced by 'N/A'."
   ]
  },
  {
   "cell_type": "code",
   "execution_count": 406,
   "id": "5d2fec97",
   "metadata": {},
   "outputs": [],
   "source": [
    "trans_dev_df['operation'].fillna('N/A', inplace=True)"
   ]
  },
  {
   "cell_type": "code",
   "execution_count": 407,
   "id": "319834df",
   "metadata": {},
   "outputs": [
    {
     "data": {
      "text/plain": [
       "withdrawal in cash              165270\n",
       "N/A                              70761\n",
       "remittance to another bank       70737\n",
       "credit in cash                   62202\n",
       "collection from another bank     26505\n",
       "credit card withdrawal            1210\n",
       "Name: operation, dtype: int64"
      ]
     },
     "execution_count": 407,
     "metadata": {},
     "output_type": "execute_result"
    }
   ],
   "source": [
    "trans_dev_df['operation'].value_counts()"
   ]
  },
  {
   "cell_type": "markdown",
   "id": "c71a7072",
   "metadata": {},
   "source": [
    "#### K Symbol"
   ]
  },
  {
   "cell_type": "code",
   "execution_count": 408,
   "id": "40416d8c",
   "metadata": {},
   "outputs": [
    {
     "data": {
      "text/plain": [
       "interest credited                        70761\n",
       "payment for statement                    58377\n",
       "household                                42839\n",
       "                                         19065\n",
       "old-age pension                          13502\n",
       "insurrance payment                        6592\n",
       "sanction interest if negative balance      305\n",
       "Name: k_symbol, dtype: int64"
      ]
     },
     "execution_count": 408,
     "metadata": {},
     "output_type": "execute_result"
    }
   ],
   "source": [
    "trans_dev_df['k_symbol'].value_counts()"
   ]
  },
  {
   "cell_type": "markdown",
   "id": "1c04ffb5",
   "metadata": {},
   "source": [
    "There are many empty string values. It is assumed these mean the transaction type wasn't registered and they will be treated the same as null values."
   ]
  },
  {
   "cell_type": "code",
   "execution_count": 409,
   "id": "227136db",
   "metadata": {},
   "outputs": [
    {
     "data": {
      "text/plain": [
       "N/A                                      204309\n",
       "interest credited                         70761\n",
       "payment for statement                     58377\n",
       "household                                 42839\n",
       "old-age pension                           13502\n",
       "insurrance payment                         6592\n",
       "sanction interest if negative balance       305\n",
       "Name: k_symbol, dtype: int64"
      ]
     },
     "execution_count": 409,
     "metadata": {},
     "output_type": "execute_result"
    }
   ],
   "source": [
    "def remove_empty_values_k_symbol(k):\n",
    "    if isinstance(k, float):\n",
    "        return'N/A'\n",
    "    elif isinstance(k, str) and k.strip() == '':\n",
    "        return 'N/A'\n",
    "    else:\n",
    "        return k\n",
    "\n",
    "trans_dev_df['k_symbol'] = trans_dev_df['k_symbol'].apply(remove_empty_values_k_symbol)\n",
    "\n",
    "trans_dev_df['k_symbol'].value_counts()"
   ]
  },
  {
   "cell_type": "markdown",
   "id": "bf9fb775",
   "metadata": {},
   "source": [
    "#### Bank"
   ]
  },
  {
   "cell_type": "code",
   "execution_count": 410,
   "id": "b5e0da26",
   "metadata": {},
   "outputs": [
    {
     "data": {
      "text/plain": [
       "ST    8114\n",
       "GH    7886\n",
       "EF    7878\n",
       "AB    7666\n",
       "UV    7618\n",
       "OP    7595\n",
       "IJ    7536\n",
       "YZ    7471\n",
       "QR    7413\n",
       "KL    7397\n",
       "WX    7033\n",
       "CD    7009\n",
       "MN    6626\n",
       "Name: bank, dtype: int64"
      ]
     },
     "execution_count": 410,
     "metadata": {},
     "output_type": "execute_result"
    }
   ],
   "source": [
    "trans_dev_df['bank'].value_counts()"
   ]
  },
  {
   "cell_type": "markdown",
   "id": "fabff64f",
   "metadata": {},
   "source": [
    "There aren't any empty strings. Null values will be replaced by unknown."
   ]
  },
  {
   "cell_type": "code",
   "execution_count": 411,
   "id": "d24b420f",
   "metadata": {},
   "outputs": [],
   "source": [
    "trans_dev_df['bank'].fillna('Unknown', inplace=True)"
   ]
  },
  {
   "cell_type": "code",
   "execution_count": 412,
   "id": "14a73363",
   "metadata": {},
   "outputs": [
    {
     "data": {
      "text/plain": [
       "Unknown    299443\n",
       "ST           8114\n",
       "GH           7886\n",
       "EF           7878\n",
       "AB           7666\n",
       "UV           7618\n",
       "OP           7595\n",
       "IJ           7536\n",
       "YZ           7471\n",
       "QR           7413\n",
       "KL           7397\n",
       "WX           7033\n",
       "CD           7009\n",
       "MN           6626\n",
       "Name: bank, dtype: int64"
      ]
     },
     "execution_count": 412,
     "metadata": {},
     "output_type": "execute_result"
    }
   ],
   "source": [
    "trans_dev_df['bank'].value_counts()"
   ]
  },
  {
   "cell_type": "markdown",
   "id": "ac452db3",
   "metadata": {},
   "source": [
    "#### Account"
   ]
  },
  {
   "cell_type": "code",
   "execution_count": 413,
   "id": "fa3c19c1",
   "metadata": {},
   "outputs": [
    {
     "data": {
      "text/plain": [
       "0.0           4987\n",
       "15916598.0      48\n",
       "62457513.0      48\n",
       "6149286.0       48\n",
       "42988401.0      48\n",
       "              ... \n",
       "99218499.0       1\n",
       "54261672.0       1\n",
       "28306174.0       1\n",
       "91523855.0       1\n",
       "53761804.0       1\n",
       "Name: account, Length: 4536, dtype: int64"
      ]
     },
     "execution_count": 413,
     "metadata": {},
     "output_type": "execute_result"
    }
   ],
   "source": [
    "trans_dev_df['account'].value_counts()"
   ]
  },
  {
   "cell_type": "markdown",
   "id": "4100f80b",
   "metadata": {},
   "source": [
    "There are many transactions to an account **0**. This will be treated as a transaction to an unknown account."
   ]
  },
  {
   "cell_type": "code",
   "execution_count": 414,
   "id": "7db79109",
   "metadata": {},
   "outputs": [],
   "source": [
    "trans_dev_df['account'].fillna(0, inplace=True)"
   ]
  },
  {
   "cell_type": "code",
   "execution_count": 415,
   "id": "6c0929f4",
   "metadata": {},
   "outputs": [
    {
     "data": {
      "text/plain": [
       "0.0           299443\n",
       "30300313.0        48\n",
       "37906074.0        48\n",
       "45134812.0        48\n",
       "15916598.0        48\n",
       "               ...  \n",
       "99218499.0         1\n",
       "54261672.0         1\n",
       "28306174.0         1\n",
       "91523855.0         1\n",
       "53761804.0         1\n",
       "Name: account, Length: 4536, dtype: int64"
      ]
     },
     "execution_count": 415,
     "metadata": {},
     "output_type": "execute_result"
    }
   ],
   "source": [
    "trans_dev_df['account'].value_counts()"
   ]
  },
  {
   "cell_type": "markdown",
   "id": "d0cbf6d8",
   "metadata": {},
   "source": [
    "### Cards"
   ]
  },
  {
   "cell_type": "code",
   "execution_count": 416,
   "id": "7c5dd6f6",
   "metadata": {},
   "outputs": [
    {
     "data": {
      "text/plain": [
       "card_id    0\n",
       "disp_id    0\n",
       "type       0\n",
       "issued     0\n",
       "dtype: int64"
      ]
     },
     "execution_count": 416,
     "metadata": {},
     "output_type": "execute_result"
    }
   ],
   "source": [
    "card_dev_df.isnull().sum()"
   ]
  },
  {
   "cell_type": "markdown",
   "id": "a1c04f77",
   "metadata": {},
   "source": [
    "There are no missing values in **card_dev_df**"
   ]
  },
  {
   "cell_type": "markdown",
   "id": "070d443a",
   "metadata": {},
   "source": [
    "### Disposition"
   ]
  },
  {
   "cell_type": "code",
   "execution_count": 417,
   "id": "1d02736b",
   "metadata": {},
   "outputs": [
    {
     "data": {
      "text/plain": [
       "disp_id       0\n",
       "client_id     0\n",
       "account_id    0\n",
       "type          0\n",
       "dtype: int64"
      ]
     },
     "execution_count": 417,
     "metadata": {},
     "output_type": "execute_result"
    }
   ],
   "source": [
    "disp_df.isnull().sum()"
   ]
  },
  {
   "cell_type": "markdown",
   "id": "7e60b69a",
   "metadata": {},
   "source": [
    "There are no missing values in **disp_df**"
   ]
  },
  {
   "cell_type": "markdown",
   "id": "9243df78",
   "metadata": {},
   "source": [
    "### District"
   ]
  },
  {
   "cell_type": "code",
   "execution_count": 418,
   "id": "050a3364",
   "metadata": {},
   "outputs": [
    {
     "data": {
      "text/plain": [
       "code                                                0\n",
       "name                                                0\n",
       "region                                              0\n",
       "no. of inhabitants                                  0\n",
       "no. of municipalities with inhabitants < 499        0\n",
       "no. of municipalities with inhabitants 500-1999     0\n",
       "no. of municipalities with inhabitants 2000-9999    0\n",
       "no. of municipalities with inhabitants >10000       0\n",
       "no. of cities                                       0\n",
       "ratio of urban inhabitants                          0\n",
       "average salary                                      0\n",
       "unemploymant rate '95                               1\n",
       "unemploymant rate '96                               0\n",
       "no. of enterpreneurs per 1000 inhabitants           0\n",
       "no. of commited crimes '95                          1\n",
       "no. of commited crimes '96                          0\n",
       "dtype: int64"
      ]
     },
     "execution_count": 418,
     "metadata": {},
     "output_type": "execute_result"
    }
   ],
   "source": [
    "district_df.isnull().sum()"
   ]
  },
  {
   "cell_type": "markdown",
   "id": "6dc72143",
   "metadata": {},
   "source": [
    "There are missing values in **district_df**"
   ]
  },
  {
   "cell_type": "code",
   "execution_count": 419,
   "id": "4b7b07d2",
   "metadata": {},
   "outputs": [
    {
     "data": {
      "text/html": [
       "<div>\n",
       "<style scoped>\n",
       "    .dataframe tbody tr th:only-of-type {\n",
       "        vertical-align: middle;\n",
       "    }\n",
       "\n",
       "    .dataframe tbody tr th {\n",
       "        vertical-align: top;\n",
       "    }\n",
       "\n",
       "    .dataframe thead th {\n",
       "        text-align: right;\n",
       "    }\n",
       "</style>\n",
       "<table border=\"1\" class=\"dataframe\">\n",
       "  <thead>\n",
       "    <tr style=\"text-align: right;\">\n",
       "      <th></th>\n",
       "      <th>code</th>\n",
       "      <th>name</th>\n",
       "      <th>region</th>\n",
       "      <th>no. of inhabitants</th>\n",
       "      <th>no. of municipalities with inhabitants &lt; 499</th>\n",
       "      <th>no. of municipalities with inhabitants 500-1999</th>\n",
       "      <th>no. of municipalities with inhabitants 2000-9999</th>\n",
       "      <th>no. of municipalities with inhabitants &gt;10000</th>\n",
       "      <th>no. of cities</th>\n",
       "      <th>ratio of urban inhabitants</th>\n",
       "      <th>average salary</th>\n",
       "      <th>unemploymant rate '95</th>\n",
       "      <th>unemploymant rate '96</th>\n",
       "      <th>no. of enterpreneurs per 1000 inhabitants</th>\n",
       "      <th>no. of commited crimes '95</th>\n",
       "      <th>no. of commited crimes '96</th>\n",
       "    </tr>\n",
       "  </thead>\n",
       "  <tbody>\n",
       "    <tr>\n",
       "      <th>68</th>\n",
       "      <td>69</td>\n",
       "      <td>Jesenik</td>\n",
       "      <td>north Moravia</td>\n",
       "      <td>42821</td>\n",
       "      <td>4</td>\n",
       "      <td>13</td>\n",
       "      <td>5</td>\n",
       "      <td>1</td>\n",
       "      <td>3</td>\n",
       "      <td>48.4</td>\n",
       "      <td>8173</td>\n",
       "      <td>NaN</td>\n",
       "      <td>7.01</td>\n",
       "      <td>124</td>\n",
       "      <td>NaN</td>\n",
       "      <td>1358</td>\n",
       "    </tr>\n",
       "  </tbody>\n",
       "</table>\n",
       "</div>"
      ],
      "text/plain": [
       "    code     name         region  no. of inhabitants  \\\n",
       "68    69  Jesenik  north Moravia               42821   \n",
       "\n",
       "    no. of municipalities with inhabitants < 499  \\\n",
       "68                                             4   \n",
       "\n",
       "    no. of municipalities with inhabitants 500-1999  \\\n",
       "68                                               13   \n",
       "\n",
       "    no. of municipalities with inhabitants 2000-9999  \\\n",
       "68                                                 5   \n",
       "\n",
       "    no. of municipalities with inhabitants >10000  no. of cities  \\\n",
       "68                                              1              3   \n",
       "\n",
       "    ratio of urban inhabitants  average salary  unemploymant rate '95  \\\n",
       "68                        48.4            8173                    NaN   \n",
       "\n",
       "    unemploymant rate '96  no. of enterpreneurs per 1000 inhabitants  \\\n",
       "68                   7.01                                        124   \n",
       "\n",
       "    no. of commited crimes '95  no. of commited crimes '96  \n",
       "68                         NaN                        1358  "
      ]
     },
     "execution_count": 419,
     "metadata": {},
     "output_type": "execute_result"
    }
   ],
   "source": [
    "district_df[district_df['unemploymant rate \\'95'].isnull()]"
   ]
  },
  {
   "cell_type": "markdown",
   "id": "c1ab2484",
   "metadata": {},
   "source": [
    "Both null values com from the district of Jesenik."
   ]
  },
  {
   "cell_type": "markdown",
   "id": "454aab6c",
   "metadata": {},
   "source": [
    "We will replace the null values by finding the mean values for the region in 1995 and 1996 and inferring the 1995 values for Jesenik from the 1996 values."
   ]
  },
  {
   "cell_type": "code",
   "execution_count": 420,
   "id": "e1646876",
   "metadata": {},
   "outputs": [],
   "source": [
    "unemp_rate_96_mean = district_df[district_df['region'] == 'north Moravia']['unemploymant rate \\'96'].median()\n",
    "\n",
    "unemp_rate_95_mean = district_df[district_df['region'] == 'north Moravia']['unemploymant rate \\'95'].median()\n",
    "\n",
    "unemp_rate_96_jes = district_df.iloc[68]['unemploymant rate \\'96']\n",
    "\n",
    "predicted_unemp_rate_95_jes = (unemp_rate_95_mean/unemp_rate_96_mean) * unemp_rate_96_jes\n",
    "\n",
    "district_df['unemploymant rate \\'95'].fillna(predicted_unemp_rate_95_jes, inplace=True)\n",
    "\n",
    "crimes_96_mean = district_df[district_df['region'] == 'north Moravia']['no. of commited crimes \\'96'].median()\n",
    "\n",
    "crimes_95_mean = district_df[district_df['region'] == 'north Moravia']['no. of commited crimes \\'95'].median()\n",
    "\n",
    "crimes_96_jes = district_df.iloc[68]['no. of commited crimes \\'96']\n",
    "\n",
    "predicted_crimes_95_jes = (crimes_95_mean/crimes_96_mean) * crimes_96_jes\n",
    "\n",
    "district_df['no. of commited crimes \\'95'].fillna(predicted_crimes_95_jes, inplace=True)"
   ]
  },
  {
   "cell_type": "markdown",
   "id": "845097b1",
   "metadata": {},
   "source": [
    "## Date Functions"
   ]
  },
  {
   "cell_type": "code",
   "execution_count": 421,
   "id": "8e484447",
   "metadata": {},
   "outputs": [],
   "source": [
    "# Format birth number to date (DD-MM-YY) <- may need to change formatting for algorithms\n",
    "def get_formatted_date(date_number):\n",
    "    date_number_string = str(date_number)\n",
    "    return date_number_string[4:6] + '/' + str(int(date_number_string[2:4]) % 50) + '/' + '19' + date_number_string[0:2]\n",
    "\n",
    "# Get client sex from birth number (MM > 50 => sex == 'F')\n",
    "def get_client_sex_from_birth_number(date_number):\n",
    "    return 'F' if int(str(date_number)[2:4]) >= 51 else 'M'\n",
    "\n",
    "def get_season_from_Date(date_string):\n",
    "    date_string_str = str(date_string)\n",
    "    day = int(date_string_str[8:10])\n",
    "    month = int(date_string_str[5:7])\n",
    "    year = int(date_string_str[0:4])\n",
    "\n",
    "    winterStart = datetime.datetime(year, 12, 22)\n",
    "    springStart = datetime.datetime(year, 3, 20)\n",
    "    summerStart = datetime.datetime(year, 6, 21)\n",
    "    autumnStart = datetime.datetime(year, 9, 22)\n",
    "\n",
    "    if ((month <= 3 and day <= 20) or (month >= 12 and day > 22)):\n",
    "        return \"winter\"\n",
    "    elif (date_string < summerStart):\n",
    "        return \"spring\"\n",
    "    elif (date_string < autumnStart) : \n",
    "        return \"summer\"\n",
    "    elif (date_string < winterStart) :\n",
    "        return \"autumn\"\n",
    "\n",
    "    return \"FAILEDSEASON\""
   ]
  },
  {
   "cell_type": "markdown",
   "id": "5b60dafe",
   "metadata": {},
   "source": [
    "## Format dates and determine client sex"
   ]
  },
  {
   "cell_type": "code",
   "execution_count": 422,
   "id": "60b9eade",
   "metadata": {},
   "outputs": [
    {
     "name": "stderr",
     "output_type": "stream",
     "text": [
      "c:\\Users\\jljoa\\anaconda3\\lib\\site-packages\\pandas\\core\\tools\\datetimes.py:1047: UserWarning:\n",
      "\n",
      "Parsing '14/10/1993' in DD/MM/YYYY format. Provide format or specify infer_datetime_format=True for consistent parsing.\n",
      "\n",
      "c:\\Users\\jljoa\\anaconda3\\lib\\site-packages\\pandas\\core\\tools\\datetimes.py:1047: UserWarning:\n",
      "\n",
      "Parsing '15/10/1993' in DD/MM/YYYY format. Provide format or specify infer_datetime_format=True for consistent parsing.\n",
      "\n",
      "c:\\Users\\jljoa\\anaconda3\\lib\\site-packages\\pandas\\core\\tools\\datetimes.py:1047: UserWarning:\n",
      "\n",
      "Parsing '16/10/1993' in DD/MM/YYYY format. Provide format or specify infer_datetime_format=True for consistent parsing.\n",
      "\n",
      "c:\\Users\\jljoa\\anaconda3\\lib\\site-packages\\pandas\\core\\tools\\datetimes.py:1047: UserWarning:\n",
      "\n",
      "Parsing '17/10/1993' in DD/MM/YYYY format. Provide format or specify infer_datetime_format=True for consistent parsing.\n",
      "\n",
      "c:\\Users\\jljoa\\anaconda3\\lib\\site-packages\\pandas\\core\\tools\\datetimes.py:1047: UserWarning:\n",
      "\n",
      "Parsing '18/10/1993' in DD/MM/YYYY format. Provide format or specify infer_datetime_format=True for consistent parsing.\n",
      "\n",
      "c:\\Users\\jljoa\\anaconda3\\lib\\site-packages\\pandas\\core\\tools\\datetimes.py:1047: UserWarning:\n",
      "\n",
      "Parsing '19/10/1993' in DD/MM/YYYY format. Provide format or specify infer_datetime_format=True for consistent parsing.\n",
      "\n",
      "c:\\Users\\jljoa\\anaconda3\\lib\\site-packages\\pandas\\core\\tools\\datetimes.py:1047: UserWarning:\n",
      "\n",
      "Parsing '20/10/1993' in DD/MM/YYYY format. Provide format or specify infer_datetime_format=True for consistent parsing.\n",
      "\n",
      "c:\\Users\\jljoa\\anaconda3\\lib\\site-packages\\pandas\\core\\tools\\datetimes.py:1047: UserWarning:\n",
      "\n",
      "Parsing '21/10/1993' in DD/MM/YYYY format. Provide format or specify infer_datetime_format=True for consistent parsing.\n",
      "\n",
      "c:\\Users\\jljoa\\anaconda3\\lib\\site-packages\\pandas\\core\\tools\\datetimes.py:1047: UserWarning:\n",
      "\n",
      "Parsing '22/10/1993' in DD/MM/YYYY format. Provide format or specify infer_datetime_format=True for consistent parsing.\n",
      "\n",
      "c:\\Users\\jljoa\\anaconda3\\lib\\site-packages\\pandas\\core\\tools\\datetimes.py:1047: UserWarning:\n",
      "\n",
      "Parsing '23/10/1993' in DD/MM/YYYY format. Provide format or specify infer_datetime_format=True for consistent parsing.\n",
      "\n",
      "c:\\Users\\jljoa\\anaconda3\\lib\\site-packages\\pandas\\core\\tools\\datetimes.py:1047: UserWarning:\n",
      "\n",
      "Parsing '25/10/1993' in DD/MM/YYYY format. Provide format or specify infer_datetime_format=True for consistent parsing.\n",
      "\n",
      "c:\\Users\\jljoa\\anaconda3\\lib\\site-packages\\pandas\\core\\tools\\datetimes.py:1047: UserWarning:\n",
      "\n",
      "Parsing '26/10/1993' in DD/MM/YYYY format. Provide format or specify infer_datetime_format=True for consistent parsing.\n",
      "\n",
      "c:\\Users\\jljoa\\anaconda3\\lib\\site-packages\\pandas\\core\\tools\\datetimes.py:1047: UserWarning:\n",
      "\n",
      "Parsing '27/10/1993' in DD/MM/YYYY format. Provide format or specify infer_datetime_format=True for consistent parsing.\n",
      "\n",
      "c:\\Users\\jljoa\\anaconda3\\lib\\site-packages\\pandas\\core\\tools\\datetimes.py:1047: UserWarning:\n",
      "\n",
      "Parsing '28/10/1993' in DD/MM/YYYY format. Provide format or specify infer_datetime_format=True for consistent parsing.\n",
      "\n",
      "c:\\Users\\jljoa\\anaconda3\\lib\\site-packages\\pandas\\core\\tools\\datetimes.py:1047: UserWarning:\n",
      "\n",
      "Parsing '30/10/1993' in DD/MM/YYYY format. Provide format or specify infer_datetime_format=True for consistent parsing.\n",
      "\n",
      "c:\\Users\\jljoa\\anaconda3\\lib\\site-packages\\pandas\\core\\tools\\datetimes.py:1047: UserWarning:\n",
      "\n",
      "Parsing '13/11/1993' in DD/MM/YYYY format. Provide format or specify infer_datetime_format=True for consistent parsing.\n",
      "\n",
      "c:\\Users\\jljoa\\anaconda3\\lib\\site-packages\\pandas\\core\\tools\\datetimes.py:1047: UserWarning:\n",
      "\n",
      "Parsing '14/11/1993' in DD/MM/YYYY format. Provide format or specify infer_datetime_format=True for consistent parsing.\n",
      "\n",
      "c:\\Users\\jljoa\\anaconda3\\lib\\site-packages\\pandas\\core\\tools\\datetimes.py:1047: UserWarning:\n",
      "\n",
      "Parsing '15/11/1993' in DD/MM/YYYY format. Provide format or specify infer_datetime_format=True for consistent parsing.\n",
      "\n",
      "c:\\Users\\jljoa\\anaconda3\\lib\\site-packages\\pandas\\core\\tools\\datetimes.py:1047: UserWarning:\n",
      "\n",
      "Parsing '16/11/1993' in DD/MM/YYYY format. Provide format or specify infer_datetime_format=True for consistent parsing.\n",
      "\n",
      "c:\\Users\\jljoa\\anaconda3\\lib\\site-packages\\pandas\\core\\tools\\datetimes.py:1047: UserWarning:\n",
      "\n",
      "Parsing '17/11/1993' in DD/MM/YYYY format. Provide format or specify infer_datetime_format=True for consistent parsing.\n",
      "\n",
      "c:\\Users\\jljoa\\anaconda3\\lib\\site-packages\\pandas\\core\\tools\\datetimes.py:1047: UserWarning:\n",
      "\n",
      "Parsing '18/11/1993' in DD/MM/YYYY format. Provide format or specify infer_datetime_format=True for consistent parsing.\n",
      "\n",
      "c:\\Users\\jljoa\\anaconda3\\lib\\site-packages\\pandas\\core\\tools\\datetimes.py:1047: UserWarning:\n",
      "\n",
      "Parsing '20/11/1993' in DD/MM/YYYY format. Provide format or specify infer_datetime_format=True for consistent parsing.\n",
      "\n",
      "c:\\Users\\jljoa\\anaconda3\\lib\\site-packages\\pandas\\core\\tools\\datetimes.py:1047: UserWarning:\n",
      "\n",
      "Parsing '21/11/1993' in DD/MM/YYYY format. Provide format or specify infer_datetime_format=True for consistent parsing.\n",
      "\n",
      "c:\\Users\\jljoa\\anaconda3\\lib\\site-packages\\pandas\\core\\tools\\datetimes.py:1047: UserWarning:\n",
      "\n",
      "Parsing '22/11/1993' in DD/MM/YYYY format. Provide format or specify infer_datetime_format=True for consistent parsing.\n",
      "\n",
      "c:\\Users\\jljoa\\anaconda3\\lib\\site-packages\\pandas\\core\\tools\\datetimes.py:1047: UserWarning:\n",
      "\n",
      "Parsing '23/11/1993' in DD/MM/YYYY format. Provide format or specify infer_datetime_format=True for consistent parsing.\n",
      "\n",
      "c:\\Users\\jljoa\\anaconda3\\lib\\site-packages\\pandas\\core\\tools\\datetimes.py:1047: UserWarning:\n",
      "\n",
      "Parsing '24/11/1993' in DD/MM/YYYY format. Provide format or specify infer_datetime_format=True for consistent parsing.\n",
      "\n",
      "c:\\Users\\jljoa\\anaconda3\\lib\\site-packages\\pandas\\core\\tools\\datetimes.py:1047: UserWarning:\n",
      "\n",
      "Parsing '25/11/1993' in DD/MM/YYYY format. Provide format or specify infer_datetime_format=True for consistent parsing.\n",
      "\n",
      "c:\\Users\\jljoa\\anaconda3\\lib\\site-packages\\pandas\\core\\tools\\datetimes.py:1047: UserWarning:\n",
      "\n",
      "Parsing '26/11/1993' in DD/MM/YYYY format. Provide format or specify infer_datetime_format=True for consistent parsing.\n",
      "\n",
      "c:\\Users\\jljoa\\anaconda3\\lib\\site-packages\\pandas\\core\\tools\\datetimes.py:1047: UserWarning:\n",
      "\n",
      "Parsing '27/11/1993' in DD/MM/YYYY format. Provide format or specify infer_datetime_format=True for consistent parsing.\n",
      "\n",
      "c:\\Users\\jljoa\\anaconda3\\lib\\site-packages\\pandas\\core\\tools\\datetimes.py:1047: UserWarning:\n",
      "\n",
      "Parsing '28/11/1993' in DD/MM/YYYY format. Provide format or specify infer_datetime_format=True for consistent parsing.\n",
      "\n",
      "c:\\Users\\jljoa\\anaconda3\\lib\\site-packages\\pandas\\core\\tools\\datetimes.py:1047: UserWarning:\n",
      "\n",
      "Parsing '29/11/1993' in DD/MM/YYYY format. Provide format or specify infer_datetime_format=True for consistent parsing.\n",
      "\n",
      "c:\\Users\\jljoa\\anaconda3\\lib\\site-packages\\pandas\\core\\tools\\datetimes.py:1047: UserWarning:\n",
      "\n",
      "Parsing '13/12/1993' in DD/MM/YYYY format. Provide format or specify infer_datetime_format=True for consistent parsing.\n",
      "\n",
      "c:\\Users\\jljoa\\anaconda3\\lib\\site-packages\\pandas\\core\\tools\\datetimes.py:1047: UserWarning:\n",
      "\n",
      "Parsing '14/12/1993' in DD/MM/YYYY format. Provide format or specify infer_datetime_format=True for consistent parsing.\n",
      "\n",
      "c:\\Users\\jljoa\\anaconda3\\lib\\site-packages\\pandas\\core\\tools\\datetimes.py:1047: UserWarning:\n",
      "\n",
      "Parsing '15/12/1993' in DD/MM/YYYY format. Provide format or specify infer_datetime_format=True for consistent parsing.\n",
      "\n",
      "c:\\Users\\jljoa\\anaconda3\\lib\\site-packages\\pandas\\core\\tools\\datetimes.py:1047: UserWarning:\n",
      "\n",
      "Parsing '16/12/1993' in DD/MM/YYYY format. Provide format or specify infer_datetime_format=True for consistent parsing.\n",
      "\n",
      "c:\\Users\\jljoa\\anaconda3\\lib\\site-packages\\pandas\\core\\tools\\datetimes.py:1047: UserWarning:\n",
      "\n",
      "Parsing '17/12/1993' in DD/MM/YYYY format. Provide format or specify infer_datetime_format=True for consistent parsing.\n",
      "\n",
      "c:\\Users\\jljoa\\anaconda3\\lib\\site-packages\\pandas\\core\\tools\\datetimes.py:1047: UserWarning:\n",
      "\n",
      "Parsing '18/12/1993' in DD/MM/YYYY format. Provide format or specify infer_datetime_format=True for consistent parsing.\n",
      "\n",
      "c:\\Users\\jljoa\\anaconda3\\lib\\site-packages\\pandas\\core\\tools\\datetimes.py:1047: UserWarning:\n",
      "\n",
      "Parsing '19/12/1993' in DD/MM/YYYY format. Provide format or specify infer_datetime_format=True for consistent parsing.\n",
      "\n",
      "c:\\Users\\jljoa\\anaconda3\\lib\\site-packages\\pandas\\core\\tools\\datetimes.py:1047: UserWarning:\n",
      "\n",
      "Parsing '20/12/1993' in DD/MM/YYYY format. Provide format or specify infer_datetime_format=True for consistent parsing.\n",
      "\n",
      "c:\\Users\\jljoa\\anaconda3\\lib\\site-packages\\pandas\\core\\tools\\datetimes.py:1047: UserWarning:\n",
      "\n",
      "Parsing '21/12/1993' in DD/MM/YYYY format. Provide format or specify infer_datetime_format=True for consistent parsing.\n",
      "\n",
      "c:\\Users\\jljoa\\anaconda3\\lib\\site-packages\\pandas\\core\\tools\\datetimes.py:1047: UserWarning:\n",
      "\n",
      "Parsing '22/12/1993' in DD/MM/YYYY format. Provide format or specify infer_datetime_format=True for consistent parsing.\n",
      "\n",
      "c:\\Users\\jljoa\\anaconda3\\lib\\site-packages\\pandas\\core\\tools\\datetimes.py:1047: UserWarning:\n",
      "\n",
      "Parsing '23/12/1993' in DD/MM/YYYY format. Provide format or specify infer_datetime_format=True for consistent parsing.\n",
      "\n",
      "c:\\Users\\jljoa\\anaconda3\\lib\\site-packages\\pandas\\core\\tools\\datetimes.py:1047: UserWarning:\n",
      "\n",
      "Parsing '24/12/1993' in DD/MM/YYYY format. Provide format or specify infer_datetime_format=True for consistent parsing.\n",
      "\n",
      "c:\\Users\\jljoa\\anaconda3\\lib\\site-packages\\pandas\\core\\tools\\datetimes.py:1047: UserWarning:\n",
      "\n",
      "Parsing '25/12/1993' in DD/MM/YYYY format. Provide format or specify infer_datetime_format=True for consistent parsing.\n",
      "\n",
      "c:\\Users\\jljoa\\anaconda3\\lib\\site-packages\\pandas\\core\\tools\\datetimes.py:1047: UserWarning:\n",
      "\n",
      "Parsing '27/12/1993' in DD/MM/YYYY format. Provide format or specify infer_datetime_format=True for consistent parsing.\n",
      "\n",
      "c:\\Users\\jljoa\\anaconda3\\lib\\site-packages\\pandas\\core\\tools\\datetimes.py:1047: UserWarning:\n",
      "\n",
      "Parsing '28/12/1993' in DD/MM/YYYY format. Provide format or specify infer_datetime_format=True for consistent parsing.\n",
      "\n",
      "c:\\Users\\jljoa\\anaconda3\\lib\\site-packages\\pandas\\core\\tools\\datetimes.py:1047: UserWarning:\n",
      "\n",
      "Parsing '29/12/1993' in DD/MM/YYYY format. Provide format or specify infer_datetime_format=True for consistent parsing.\n",
      "\n",
      "c:\\Users\\jljoa\\anaconda3\\lib\\site-packages\\pandas\\core\\tools\\datetimes.py:1047: UserWarning:\n",
      "\n",
      "Parsing '30/12/1993' in DD/MM/YYYY format. Provide format or specify infer_datetime_format=True for consistent parsing.\n",
      "\n",
      "c:\\Users\\jljoa\\anaconda3\\lib\\site-packages\\pandas\\core\\tools\\datetimes.py:1047: UserWarning:\n",
      "\n",
      "Parsing '13/10/1994' in DD/MM/YYYY format. Provide format or specify infer_datetime_format=True for consistent parsing.\n",
      "\n",
      "c:\\Users\\jljoa\\anaconda3\\lib\\site-packages\\pandas\\core\\tools\\datetimes.py:1047: UserWarning:\n",
      "\n",
      "Parsing '15/10/1994' in DD/MM/YYYY format. Provide format or specify infer_datetime_format=True for consistent parsing.\n",
      "\n",
      "c:\\Users\\jljoa\\anaconda3\\lib\\site-packages\\pandas\\core\\tools\\datetimes.py:1047: UserWarning:\n",
      "\n",
      "Parsing '16/10/1994' in DD/MM/YYYY format. Provide format or specify infer_datetime_format=True for consistent parsing.\n",
      "\n",
      "c:\\Users\\jljoa\\anaconda3\\lib\\site-packages\\pandas\\core\\tools\\datetimes.py:1047: UserWarning:\n",
      "\n",
      "Parsing '17/10/1994' in DD/MM/YYYY format. Provide format or specify infer_datetime_format=True for consistent parsing.\n",
      "\n",
      "c:\\Users\\jljoa\\anaconda3\\lib\\site-packages\\pandas\\core\\tools\\datetimes.py:1047: UserWarning:\n",
      "\n",
      "Parsing '18/10/1994' in DD/MM/YYYY format. Provide format or specify infer_datetime_format=True for consistent parsing.\n",
      "\n",
      "c:\\Users\\jljoa\\anaconda3\\lib\\site-packages\\pandas\\core\\tools\\datetimes.py:1047: UserWarning:\n",
      "\n",
      "Parsing '19/10/1994' in DD/MM/YYYY format. Provide format or specify infer_datetime_format=True for consistent parsing.\n",
      "\n",
      "c:\\Users\\jljoa\\anaconda3\\lib\\site-packages\\pandas\\core\\tools\\datetimes.py:1047: UserWarning:\n",
      "\n",
      "Parsing '21/10/1994' in DD/MM/YYYY format. Provide format or specify infer_datetime_format=True for consistent parsing.\n",
      "\n",
      "c:\\Users\\jljoa\\anaconda3\\lib\\site-packages\\pandas\\core\\tools\\datetimes.py:1047: UserWarning:\n",
      "\n",
      "Parsing '22/10/1994' in DD/MM/YYYY format. Provide format or specify infer_datetime_format=True for consistent parsing.\n",
      "\n",
      "c:\\Users\\jljoa\\anaconda3\\lib\\site-packages\\pandas\\core\\tools\\datetimes.py:1047: UserWarning:\n",
      "\n",
      "Parsing '23/10/1994' in DD/MM/YYYY format. Provide format or specify infer_datetime_format=True for consistent parsing.\n",
      "\n",
      "c:\\Users\\jljoa\\anaconda3\\lib\\site-packages\\pandas\\core\\tools\\datetimes.py:1047: UserWarning:\n",
      "\n",
      "Parsing '24/10/1994' in DD/MM/YYYY format. Provide format or specify infer_datetime_format=True for consistent parsing.\n",
      "\n",
      "c:\\Users\\jljoa\\anaconda3\\lib\\site-packages\\pandas\\core\\tools\\datetimes.py:1047: UserWarning:\n",
      "\n",
      "Parsing '25/10/1994' in DD/MM/YYYY format. Provide format or specify infer_datetime_format=True for consistent parsing.\n",
      "\n",
      "c:\\Users\\jljoa\\anaconda3\\lib\\site-packages\\pandas\\core\\tools\\datetimes.py:1047: UserWarning:\n",
      "\n",
      "Parsing '27/10/1994' in DD/MM/YYYY format. Provide format or specify infer_datetime_format=True for consistent parsing.\n",
      "\n",
      "c:\\Users\\jljoa\\anaconda3\\lib\\site-packages\\pandas\\core\\tools\\datetimes.py:1047: UserWarning:\n",
      "\n",
      "Parsing '28/10/1994' in DD/MM/YYYY format. Provide format or specify infer_datetime_format=True for consistent parsing.\n",
      "\n",
      "c:\\Users\\jljoa\\anaconda3\\lib\\site-packages\\pandas\\core\\tools\\datetimes.py:1047: UserWarning:\n",
      "\n",
      "Parsing '29/10/1994' in DD/MM/YYYY format. Provide format or specify infer_datetime_format=True for consistent parsing.\n",
      "\n",
      "c:\\Users\\jljoa\\anaconda3\\lib\\site-packages\\pandas\\core\\tools\\datetimes.py:1047: UserWarning:\n",
      "\n",
      "Parsing '30/10/1994' in DD/MM/YYYY format. Provide format or specify infer_datetime_format=True for consistent parsing.\n",
      "\n",
      "c:\\Users\\jljoa\\anaconda3\\lib\\site-packages\\pandas\\core\\tools\\datetimes.py:1047: UserWarning:\n",
      "\n",
      "Parsing '13/11/1994' in DD/MM/YYYY format. Provide format or specify infer_datetime_format=True for consistent parsing.\n",
      "\n",
      "c:\\Users\\jljoa\\anaconda3\\lib\\site-packages\\pandas\\core\\tools\\datetimes.py:1047: UserWarning:\n",
      "\n",
      "Parsing '15/11/1994' in DD/MM/YYYY format. Provide format or specify infer_datetime_format=True for consistent parsing.\n",
      "\n",
      "c:\\Users\\jljoa\\anaconda3\\lib\\site-packages\\pandas\\core\\tools\\datetimes.py:1047: UserWarning:\n",
      "\n",
      "Parsing '17/11/1994' in DD/MM/YYYY format. Provide format or specify infer_datetime_format=True for consistent parsing.\n",
      "\n",
      "c:\\Users\\jljoa\\anaconda3\\lib\\site-packages\\pandas\\core\\tools\\datetimes.py:1047: UserWarning:\n",
      "\n",
      "Parsing '21/11/1994' in DD/MM/YYYY format. Provide format or specify infer_datetime_format=True for consistent parsing.\n",
      "\n",
      "c:\\Users\\jljoa\\anaconda3\\lib\\site-packages\\pandas\\core\\tools\\datetimes.py:1047: UserWarning:\n",
      "\n",
      "Parsing '22/11/1994' in DD/MM/YYYY format. Provide format or specify infer_datetime_format=True for consistent parsing.\n",
      "\n",
      "c:\\Users\\jljoa\\anaconda3\\lib\\site-packages\\pandas\\core\\tools\\datetimes.py:1047: UserWarning:\n",
      "\n",
      "Parsing '23/11/1994' in DD/MM/YYYY format. Provide format or specify infer_datetime_format=True for consistent parsing.\n",
      "\n",
      "c:\\Users\\jljoa\\anaconda3\\lib\\site-packages\\pandas\\core\\tools\\datetimes.py:1047: UserWarning:\n",
      "\n",
      "Parsing '24/11/1994' in DD/MM/YYYY format. Provide format or specify infer_datetime_format=True for consistent parsing.\n",
      "\n",
      "c:\\Users\\jljoa\\anaconda3\\lib\\site-packages\\pandas\\core\\tools\\datetimes.py:1047: UserWarning:\n",
      "\n",
      "Parsing '25/11/1994' in DD/MM/YYYY format. Provide format or specify infer_datetime_format=True for consistent parsing.\n",
      "\n",
      "c:\\Users\\jljoa\\anaconda3\\lib\\site-packages\\pandas\\core\\tools\\datetimes.py:1047: UserWarning:\n",
      "\n",
      "Parsing '26/11/1994' in DD/MM/YYYY format. Provide format or specify infer_datetime_format=True for consistent parsing.\n",
      "\n",
      "c:\\Users\\jljoa\\anaconda3\\lib\\site-packages\\pandas\\core\\tools\\datetimes.py:1047: UserWarning:\n",
      "\n",
      "Parsing '27/11/1994' in DD/MM/YYYY format. Provide format or specify infer_datetime_format=True for consistent parsing.\n",
      "\n",
      "c:\\Users\\jljoa\\anaconda3\\lib\\site-packages\\pandas\\core\\tools\\datetimes.py:1047: UserWarning:\n",
      "\n",
      "Parsing '28/11/1994' in DD/MM/YYYY format. Provide format or specify infer_datetime_format=True for consistent parsing.\n",
      "\n",
      "c:\\Users\\jljoa\\anaconda3\\lib\\site-packages\\pandas\\core\\tools\\datetimes.py:1047: UserWarning:\n",
      "\n",
      "Parsing '17/12/1994' in DD/MM/YYYY format. Provide format or specify infer_datetime_format=True for consistent parsing.\n",
      "\n",
      "c:\\Users\\jljoa\\anaconda3\\lib\\site-packages\\pandas\\core\\tools\\datetimes.py:1047: UserWarning:\n",
      "\n",
      "Parsing '18/12/1994' in DD/MM/YYYY format. Provide format or specify infer_datetime_format=True for consistent parsing.\n",
      "\n",
      "c:\\Users\\jljoa\\anaconda3\\lib\\site-packages\\pandas\\core\\tools\\datetimes.py:1047: UserWarning:\n",
      "\n",
      "Parsing '19/12/1994' in DD/MM/YYYY format. Provide format or specify infer_datetime_format=True for consistent parsing.\n",
      "\n",
      "c:\\Users\\jljoa\\anaconda3\\lib\\site-packages\\pandas\\core\\tools\\datetimes.py:1047: UserWarning:\n",
      "\n",
      "Parsing '20/12/1994' in DD/MM/YYYY format. Provide format or specify infer_datetime_format=True for consistent parsing.\n",
      "\n",
      "c:\\Users\\jljoa\\anaconda3\\lib\\site-packages\\pandas\\core\\tools\\datetimes.py:1047: UserWarning:\n",
      "\n",
      "Parsing '22/12/1994' in DD/MM/YYYY format. Provide format or specify infer_datetime_format=True for consistent parsing.\n",
      "\n",
      "c:\\Users\\jljoa\\anaconda3\\lib\\site-packages\\pandas\\core\\tools\\datetimes.py:1047: UserWarning:\n",
      "\n",
      "Parsing '23/12/1994' in DD/MM/YYYY format. Provide format or specify infer_datetime_format=True for consistent parsing.\n",
      "\n",
      "c:\\Users\\jljoa\\anaconda3\\lib\\site-packages\\pandas\\core\\tools\\datetimes.py:1047: UserWarning:\n",
      "\n",
      "Parsing '24/12/1994' in DD/MM/YYYY format. Provide format or specify infer_datetime_format=True for consistent parsing.\n",
      "\n",
      "c:\\Users\\jljoa\\anaconda3\\lib\\site-packages\\pandas\\core\\tools\\datetimes.py:1047: UserWarning:\n",
      "\n",
      "Parsing '25/12/1994' in DD/MM/YYYY format. Provide format or specify infer_datetime_format=True for consistent parsing.\n",
      "\n",
      "c:\\Users\\jljoa\\anaconda3\\lib\\site-packages\\pandas\\core\\tools\\datetimes.py:1047: UserWarning:\n",
      "\n",
      "Parsing '27/12/1994' in DD/MM/YYYY format. Provide format or specify infer_datetime_format=True for consistent parsing.\n",
      "\n",
      "c:\\Users\\jljoa\\anaconda3\\lib\\site-packages\\pandas\\core\\tools\\datetimes.py:1047: UserWarning:\n",
      "\n",
      "Parsing '13/10/1995' in DD/MM/YYYY format. Provide format or specify infer_datetime_format=True for consistent parsing.\n",
      "\n",
      "c:\\Users\\jljoa\\anaconda3\\lib\\site-packages\\pandas\\core\\tools\\datetimes.py:1047: UserWarning:\n",
      "\n",
      "Parsing '14/10/1995' in DD/MM/YYYY format. Provide format or specify infer_datetime_format=True for consistent parsing.\n",
      "\n",
      "c:\\Users\\jljoa\\anaconda3\\lib\\site-packages\\pandas\\core\\tools\\datetimes.py:1047: UserWarning:\n",
      "\n",
      "Parsing '15/10/1995' in DD/MM/YYYY format. Provide format or specify infer_datetime_format=True for consistent parsing.\n",
      "\n",
      "c:\\Users\\jljoa\\anaconda3\\lib\\site-packages\\pandas\\core\\tools\\datetimes.py:1047: UserWarning:\n",
      "\n",
      "Parsing '16/10/1995' in DD/MM/YYYY format. Provide format or specify infer_datetime_format=True for consistent parsing.\n",
      "\n",
      "c:\\Users\\jljoa\\anaconda3\\lib\\site-packages\\pandas\\core\\tools\\datetimes.py:1047: UserWarning:\n",
      "\n",
      "Parsing '17/10/1995' in DD/MM/YYYY format. Provide format or specify infer_datetime_format=True for consistent parsing.\n",
      "\n",
      "c:\\Users\\jljoa\\anaconda3\\lib\\site-packages\\pandas\\core\\tools\\datetimes.py:1047: UserWarning:\n",
      "\n",
      "Parsing '18/10/1995' in DD/MM/YYYY format. Provide format or specify infer_datetime_format=True for consistent parsing.\n",
      "\n",
      "c:\\Users\\jljoa\\anaconda3\\lib\\site-packages\\pandas\\core\\tools\\datetimes.py:1047: UserWarning:\n",
      "\n",
      "Parsing '19/10/1995' in DD/MM/YYYY format. Provide format or specify infer_datetime_format=True for consistent parsing.\n",
      "\n",
      "c:\\Users\\jljoa\\anaconda3\\lib\\site-packages\\pandas\\core\\tools\\datetimes.py:1047: UserWarning:\n",
      "\n",
      "Parsing '20/10/1995' in DD/MM/YYYY format. Provide format or specify infer_datetime_format=True for consistent parsing.\n",
      "\n",
      "c:\\Users\\jljoa\\anaconda3\\lib\\site-packages\\pandas\\core\\tools\\datetimes.py:1047: UserWarning:\n",
      "\n",
      "Parsing '21/10/1995' in DD/MM/YYYY format. Provide format or specify infer_datetime_format=True for consistent parsing.\n",
      "\n",
      "c:\\Users\\jljoa\\anaconda3\\lib\\site-packages\\pandas\\core\\tools\\datetimes.py:1047: UserWarning:\n",
      "\n",
      "Parsing '22/10/1995' in DD/MM/YYYY format. Provide format or specify infer_datetime_format=True for consistent parsing.\n",
      "\n",
      "c:\\Users\\jljoa\\anaconda3\\lib\\site-packages\\pandas\\core\\tools\\datetimes.py:1047: UserWarning:\n",
      "\n",
      "Parsing '23/10/1995' in DD/MM/YYYY format. Provide format or specify infer_datetime_format=True for consistent parsing.\n",
      "\n",
      "c:\\Users\\jljoa\\anaconda3\\lib\\site-packages\\pandas\\core\\tools\\datetimes.py:1047: UserWarning:\n",
      "\n",
      "Parsing '24/10/1995' in DD/MM/YYYY format. Provide format or specify infer_datetime_format=True for consistent parsing.\n",
      "\n",
      "c:\\Users\\jljoa\\anaconda3\\lib\\site-packages\\pandas\\core\\tools\\datetimes.py:1047: UserWarning:\n",
      "\n",
      "Parsing '25/10/1995' in DD/MM/YYYY format. Provide format or specify infer_datetime_format=True for consistent parsing.\n",
      "\n",
      "c:\\Users\\jljoa\\anaconda3\\lib\\site-packages\\pandas\\core\\tools\\datetimes.py:1047: UserWarning:\n",
      "\n",
      "Parsing '26/10/1995' in DD/MM/YYYY format. Provide format or specify infer_datetime_format=True for consistent parsing.\n",
      "\n",
      "c:\\Users\\jljoa\\anaconda3\\lib\\site-packages\\pandas\\core\\tools\\datetimes.py:1047: UserWarning:\n",
      "\n",
      "Parsing '27/10/1995' in DD/MM/YYYY format. Provide format or specify infer_datetime_format=True for consistent parsing.\n",
      "\n",
      "c:\\Users\\jljoa\\anaconda3\\lib\\site-packages\\pandas\\core\\tools\\datetimes.py:1047: UserWarning:\n",
      "\n",
      "Parsing '28/10/1995' in DD/MM/YYYY format. Provide format or specify infer_datetime_format=True for consistent parsing.\n",
      "\n",
      "c:\\Users\\jljoa\\anaconda3\\lib\\site-packages\\pandas\\core\\tools\\datetimes.py:1047: UserWarning:\n",
      "\n",
      "Parsing '29/10/1995' in DD/MM/YYYY format. Provide format or specify infer_datetime_format=True for consistent parsing.\n",
      "\n",
      "c:\\Users\\jljoa\\anaconda3\\lib\\site-packages\\pandas\\core\\tools\\datetimes.py:1047: UserWarning:\n",
      "\n",
      "Parsing '30/10/1995' in DD/MM/YYYY format. Provide format or specify infer_datetime_format=True for consistent parsing.\n",
      "\n",
      "c:\\Users\\jljoa\\anaconda3\\lib\\site-packages\\pandas\\core\\tools\\datetimes.py:1047: UserWarning:\n",
      "\n",
      "Parsing '14/11/1995' in DD/MM/YYYY format. Provide format or specify infer_datetime_format=True for consistent parsing.\n",
      "\n",
      "c:\\Users\\jljoa\\anaconda3\\lib\\site-packages\\pandas\\core\\tools\\datetimes.py:1047: UserWarning:\n",
      "\n",
      "Parsing '15/11/1995' in DD/MM/YYYY format. Provide format or specify infer_datetime_format=True for consistent parsing.\n",
      "\n",
      "c:\\Users\\jljoa\\anaconda3\\lib\\site-packages\\pandas\\core\\tools\\datetimes.py:1047: UserWarning:\n",
      "\n",
      "Parsing '16/11/1995' in DD/MM/YYYY format. Provide format or specify infer_datetime_format=True for consistent parsing.\n",
      "\n",
      "c:\\Users\\jljoa\\anaconda3\\lib\\site-packages\\pandas\\core\\tools\\datetimes.py:1047: UserWarning:\n",
      "\n",
      "Parsing '17/11/1995' in DD/MM/YYYY format. Provide format or specify infer_datetime_format=True for consistent parsing.\n",
      "\n",
      "c:\\Users\\jljoa\\anaconda3\\lib\\site-packages\\pandas\\core\\tools\\datetimes.py:1047: UserWarning:\n",
      "\n",
      "Parsing '18/11/1995' in DD/MM/YYYY format. Provide format or specify infer_datetime_format=True for consistent parsing.\n",
      "\n",
      "c:\\Users\\jljoa\\anaconda3\\lib\\site-packages\\pandas\\core\\tools\\datetimes.py:1047: UserWarning:\n",
      "\n",
      "Parsing '19/11/1995' in DD/MM/YYYY format. Provide format or specify infer_datetime_format=True for consistent parsing.\n",
      "\n",
      "c:\\Users\\jljoa\\anaconda3\\lib\\site-packages\\pandas\\core\\tools\\datetimes.py:1047: UserWarning:\n",
      "\n",
      "Parsing '20/11/1995' in DD/MM/YYYY format. Provide format or specify infer_datetime_format=True for consistent parsing.\n",
      "\n",
      "c:\\Users\\jljoa\\anaconda3\\lib\\site-packages\\pandas\\core\\tools\\datetimes.py:1047: UserWarning:\n",
      "\n",
      "Parsing '21/11/1995' in DD/MM/YYYY format. Provide format or specify infer_datetime_format=True for consistent parsing.\n",
      "\n",
      "c:\\Users\\jljoa\\anaconda3\\lib\\site-packages\\pandas\\core\\tools\\datetimes.py:1047: UserWarning:\n",
      "\n",
      "Parsing '22/11/1995' in DD/MM/YYYY format. Provide format or specify infer_datetime_format=True for consistent parsing.\n",
      "\n",
      "c:\\Users\\jljoa\\anaconda3\\lib\\site-packages\\pandas\\core\\tools\\datetimes.py:1047: UserWarning:\n",
      "\n",
      "Parsing '23/11/1995' in DD/MM/YYYY format. Provide format or specify infer_datetime_format=True for consistent parsing.\n",
      "\n",
      "c:\\Users\\jljoa\\anaconda3\\lib\\site-packages\\pandas\\core\\tools\\datetimes.py:1047: UserWarning:\n",
      "\n",
      "Parsing '25/11/1995' in DD/MM/YYYY format. Provide format or specify infer_datetime_format=True for consistent parsing.\n",
      "\n",
      "c:\\Users\\jljoa\\anaconda3\\lib\\site-packages\\pandas\\core\\tools\\datetimes.py:1047: UserWarning:\n",
      "\n",
      "Parsing '26/11/1995' in DD/MM/YYYY format. Provide format or specify infer_datetime_format=True for consistent parsing.\n",
      "\n",
      "c:\\Users\\jljoa\\anaconda3\\lib\\site-packages\\pandas\\core\\tools\\datetimes.py:1047: UserWarning:\n",
      "\n",
      "Parsing '27/11/1995' in DD/MM/YYYY format. Provide format or specify infer_datetime_format=True for consistent parsing.\n",
      "\n",
      "c:\\Users\\jljoa\\anaconda3\\lib\\site-packages\\pandas\\core\\tools\\datetimes.py:1047: UserWarning:\n",
      "\n",
      "Parsing '28/11/1995' in DD/MM/YYYY format. Provide format or specify infer_datetime_format=True for consistent parsing.\n",
      "\n",
      "c:\\Users\\jljoa\\anaconda3\\lib\\site-packages\\pandas\\core\\tools\\datetimes.py:1047: UserWarning:\n",
      "\n",
      "Parsing '29/11/1995' in DD/MM/YYYY format. Provide format or specify infer_datetime_format=True for consistent parsing.\n",
      "\n",
      "c:\\Users\\jljoa\\anaconda3\\lib\\site-packages\\pandas\\core\\tools\\datetimes.py:1047: UserWarning:\n",
      "\n",
      "Parsing '13/12/1995' in DD/MM/YYYY format. Provide format or specify infer_datetime_format=True for consistent parsing.\n",
      "\n",
      "c:\\Users\\jljoa\\anaconda3\\lib\\site-packages\\pandas\\core\\tools\\datetimes.py:1047: UserWarning:\n",
      "\n",
      "Parsing '14/12/1995' in DD/MM/YYYY format. Provide format or specify infer_datetime_format=True for consistent parsing.\n",
      "\n",
      "c:\\Users\\jljoa\\anaconda3\\lib\\site-packages\\pandas\\core\\tools\\datetimes.py:1047: UserWarning:\n",
      "\n",
      "Parsing '15/12/1995' in DD/MM/YYYY format. Provide format or specify infer_datetime_format=True for consistent parsing.\n",
      "\n",
      "c:\\Users\\jljoa\\anaconda3\\lib\\site-packages\\pandas\\core\\tools\\datetimes.py:1047: UserWarning:\n",
      "\n",
      "Parsing '16/12/1995' in DD/MM/YYYY format. Provide format or specify infer_datetime_format=True for consistent parsing.\n",
      "\n",
      "c:\\Users\\jljoa\\anaconda3\\lib\\site-packages\\pandas\\core\\tools\\datetimes.py:1047: UserWarning:\n",
      "\n",
      "Parsing '17/12/1995' in DD/MM/YYYY format. Provide format or specify infer_datetime_format=True for consistent parsing.\n",
      "\n",
      "c:\\Users\\jljoa\\anaconda3\\lib\\site-packages\\pandas\\core\\tools\\datetimes.py:1047: UserWarning:\n",
      "\n",
      "Parsing '18/12/1995' in DD/MM/YYYY format. Provide format or specify infer_datetime_format=True for consistent parsing.\n",
      "\n",
      "c:\\Users\\jljoa\\anaconda3\\lib\\site-packages\\pandas\\core\\tools\\datetimes.py:1047: UserWarning:\n",
      "\n",
      "Parsing '19/12/1995' in DD/MM/YYYY format. Provide format or specify infer_datetime_format=True for consistent parsing.\n",
      "\n",
      "c:\\Users\\jljoa\\anaconda3\\lib\\site-packages\\pandas\\core\\tools\\datetimes.py:1047: UserWarning:\n",
      "\n",
      "Parsing '20/12/1995' in DD/MM/YYYY format. Provide format or specify infer_datetime_format=True for consistent parsing.\n",
      "\n",
      "c:\\Users\\jljoa\\anaconda3\\lib\\site-packages\\pandas\\core\\tools\\datetimes.py:1047: UserWarning:\n",
      "\n",
      "Parsing '21/12/1995' in DD/MM/YYYY format. Provide format or specify infer_datetime_format=True for consistent parsing.\n",
      "\n",
      "c:\\Users\\jljoa\\anaconda3\\lib\\site-packages\\pandas\\core\\tools\\datetimes.py:1047: UserWarning:\n",
      "\n",
      "Parsing '22/12/1995' in DD/MM/YYYY format. Provide format or specify infer_datetime_format=True for consistent parsing.\n",
      "\n",
      "c:\\Users\\jljoa\\anaconda3\\lib\\site-packages\\pandas\\core\\tools\\datetimes.py:1047: UserWarning:\n",
      "\n",
      "Parsing '24/12/1995' in DD/MM/YYYY format. Provide format or specify infer_datetime_format=True for consistent parsing.\n",
      "\n",
      "c:\\Users\\jljoa\\anaconda3\\lib\\site-packages\\pandas\\core\\tools\\datetimes.py:1047: UserWarning:\n",
      "\n",
      "Parsing '25/12/1995' in DD/MM/YYYY format. Provide format or specify infer_datetime_format=True for consistent parsing.\n",
      "\n",
      "c:\\Users\\jljoa\\anaconda3\\lib\\site-packages\\pandas\\core\\tools\\datetimes.py:1047: UserWarning:\n",
      "\n",
      "Parsing '27/12/1995' in DD/MM/YYYY format. Provide format or specify infer_datetime_format=True for consistent parsing.\n",
      "\n",
      "c:\\Users\\jljoa\\anaconda3\\lib\\site-packages\\pandas\\core\\tools\\datetimes.py:1047: UserWarning:\n",
      "\n",
      "Parsing '29/12/1995' in DD/MM/YYYY format. Provide format or specify infer_datetime_format=True for consistent parsing.\n",
      "\n",
      "c:\\Users\\jljoa\\anaconda3\\lib\\site-packages\\pandas\\core\\tools\\datetimes.py:1047: UserWarning:\n",
      "\n",
      "Parsing '30/12/1995' in DD/MM/YYYY format. Provide format or specify infer_datetime_format=True for consistent parsing.\n",
      "\n",
      "c:\\Users\\jljoa\\anaconda3\\lib\\site-packages\\pandas\\core\\tools\\datetimes.py:1047: UserWarning:\n",
      "\n",
      "Parsing '13/10/1996' in DD/MM/YYYY format. Provide format or specify infer_datetime_format=True for consistent parsing.\n",
      "\n",
      "c:\\Users\\jljoa\\anaconda3\\lib\\site-packages\\pandas\\core\\tools\\datetimes.py:1047: UserWarning:\n",
      "\n",
      "Parsing '14/10/1996' in DD/MM/YYYY format. Provide format or specify infer_datetime_format=True for consistent parsing.\n",
      "\n",
      "c:\\Users\\jljoa\\anaconda3\\lib\\site-packages\\pandas\\core\\tools\\datetimes.py:1047: UserWarning:\n",
      "\n",
      "Parsing '15/10/1996' in DD/MM/YYYY format. Provide format or specify infer_datetime_format=True for consistent parsing.\n",
      "\n",
      "c:\\Users\\jljoa\\anaconda3\\lib\\site-packages\\pandas\\core\\tools\\datetimes.py:1047: UserWarning:\n",
      "\n",
      "Parsing '16/10/1996' in DD/MM/YYYY format. Provide format or specify infer_datetime_format=True for consistent parsing.\n",
      "\n",
      "c:\\Users\\jljoa\\anaconda3\\lib\\site-packages\\pandas\\core\\tools\\datetimes.py:1047: UserWarning:\n",
      "\n",
      "Parsing '17/10/1996' in DD/MM/YYYY format. Provide format or specify infer_datetime_format=True for consistent parsing.\n",
      "\n",
      "c:\\Users\\jljoa\\anaconda3\\lib\\site-packages\\pandas\\core\\tools\\datetimes.py:1047: UserWarning:\n",
      "\n",
      "Parsing '18/10/1996' in DD/MM/YYYY format. Provide format or specify infer_datetime_format=True for consistent parsing.\n",
      "\n",
      "c:\\Users\\jljoa\\anaconda3\\lib\\site-packages\\pandas\\core\\tools\\datetimes.py:1047: UserWarning:\n",
      "\n",
      "Parsing '19/10/1996' in DD/MM/YYYY format. Provide format or specify infer_datetime_format=True for consistent parsing.\n",
      "\n",
      "c:\\Users\\jljoa\\anaconda3\\lib\\site-packages\\pandas\\core\\tools\\datetimes.py:1047: UserWarning:\n",
      "\n",
      "Parsing '20/10/1996' in DD/MM/YYYY format. Provide format or specify infer_datetime_format=True for consistent parsing.\n",
      "\n",
      "c:\\Users\\jljoa\\anaconda3\\lib\\site-packages\\pandas\\core\\tools\\datetimes.py:1047: UserWarning:\n",
      "\n",
      "Parsing '21/10/1996' in DD/MM/YYYY format. Provide format or specify infer_datetime_format=True for consistent parsing.\n",
      "\n",
      "c:\\Users\\jljoa\\anaconda3\\lib\\site-packages\\pandas\\core\\tools\\datetimes.py:1047: UserWarning:\n",
      "\n",
      "Parsing '22/10/1996' in DD/MM/YYYY format. Provide format or specify infer_datetime_format=True for consistent parsing.\n",
      "\n",
      "c:\\Users\\jljoa\\anaconda3\\lib\\site-packages\\pandas\\core\\tools\\datetimes.py:1047: UserWarning:\n",
      "\n",
      "Parsing '23/10/1996' in DD/MM/YYYY format. Provide format or specify infer_datetime_format=True for consistent parsing.\n",
      "\n",
      "c:\\Users\\jljoa\\anaconda3\\lib\\site-packages\\pandas\\core\\tools\\datetimes.py:1047: UserWarning:\n",
      "\n",
      "Parsing '24/10/1996' in DD/MM/YYYY format. Provide format or specify infer_datetime_format=True for consistent parsing.\n",
      "\n",
      "c:\\Users\\jljoa\\anaconda3\\lib\\site-packages\\pandas\\core\\tools\\datetimes.py:1047: UserWarning:\n",
      "\n",
      "Parsing '25/10/1996' in DD/MM/YYYY format. Provide format or specify infer_datetime_format=True for consistent parsing.\n",
      "\n",
      "c:\\Users\\jljoa\\anaconda3\\lib\\site-packages\\pandas\\core\\tools\\datetimes.py:1047: UserWarning:\n",
      "\n",
      "Parsing '26/10/1996' in DD/MM/YYYY format. Provide format or specify infer_datetime_format=True for consistent parsing.\n",
      "\n",
      "c:\\Users\\jljoa\\anaconda3\\lib\\site-packages\\pandas\\core\\tools\\datetimes.py:1047: UserWarning:\n",
      "\n",
      "Parsing '27/10/1996' in DD/MM/YYYY format. Provide format or specify infer_datetime_format=True for consistent parsing.\n",
      "\n",
      "c:\\Users\\jljoa\\anaconda3\\lib\\site-packages\\pandas\\core\\tools\\datetimes.py:1047: UserWarning:\n",
      "\n",
      "Parsing '28/10/1996' in DD/MM/YYYY format. Provide format or specify infer_datetime_format=True for consistent parsing.\n",
      "\n",
      "c:\\Users\\jljoa\\anaconda3\\lib\\site-packages\\pandas\\core\\tools\\datetimes.py:1047: UserWarning:\n",
      "\n",
      "Parsing '29/10/1996' in DD/MM/YYYY format. Provide format or specify infer_datetime_format=True for consistent parsing.\n",
      "\n",
      "c:\\Users\\jljoa\\anaconda3\\lib\\site-packages\\pandas\\core\\tools\\datetimes.py:1047: UserWarning:\n",
      "\n",
      "Parsing '30/10/1996' in DD/MM/YYYY format. Provide format or specify infer_datetime_format=True for consistent parsing.\n",
      "\n",
      "c:\\Users\\jljoa\\anaconda3\\lib\\site-packages\\pandas\\core\\tools\\datetimes.py:1047: UserWarning:\n",
      "\n",
      "Parsing '13/11/1996' in DD/MM/YYYY format. Provide format or specify infer_datetime_format=True for consistent parsing.\n",
      "\n",
      "c:\\Users\\jljoa\\anaconda3\\lib\\site-packages\\pandas\\core\\tools\\datetimes.py:1047: UserWarning:\n",
      "\n",
      "Parsing '14/11/1996' in DD/MM/YYYY format. Provide format or specify infer_datetime_format=True for consistent parsing.\n",
      "\n",
      "c:\\Users\\jljoa\\anaconda3\\lib\\site-packages\\pandas\\core\\tools\\datetimes.py:1047: UserWarning:\n",
      "\n",
      "Parsing '15/11/1996' in DD/MM/YYYY format. Provide format or specify infer_datetime_format=True for consistent parsing.\n",
      "\n",
      "c:\\Users\\jljoa\\anaconda3\\lib\\site-packages\\pandas\\core\\tools\\datetimes.py:1047: UserWarning:\n",
      "\n",
      "Parsing '16/11/1996' in DD/MM/YYYY format. Provide format or specify infer_datetime_format=True for consistent parsing.\n",
      "\n",
      "c:\\Users\\jljoa\\anaconda3\\lib\\site-packages\\pandas\\core\\tools\\datetimes.py:1047: UserWarning:\n",
      "\n",
      "Parsing '17/11/1996' in DD/MM/YYYY format. Provide format or specify infer_datetime_format=True for consistent parsing.\n",
      "\n",
      "c:\\Users\\jljoa\\anaconda3\\lib\\site-packages\\pandas\\core\\tools\\datetimes.py:1047: UserWarning:\n",
      "\n",
      "Parsing '18/11/1996' in DD/MM/YYYY format. Provide format or specify infer_datetime_format=True for consistent parsing.\n",
      "\n",
      "c:\\Users\\jljoa\\anaconda3\\lib\\site-packages\\pandas\\core\\tools\\datetimes.py:1047: UserWarning:\n",
      "\n",
      "Parsing '19/11/1996' in DD/MM/YYYY format. Provide format or specify infer_datetime_format=True for consistent parsing.\n",
      "\n",
      "c:\\Users\\jljoa\\anaconda3\\lib\\site-packages\\pandas\\core\\tools\\datetimes.py:1047: UserWarning:\n",
      "\n",
      "Parsing '20/11/1996' in DD/MM/YYYY format. Provide format or specify infer_datetime_format=True for consistent parsing.\n",
      "\n",
      "c:\\Users\\jljoa\\anaconda3\\lib\\site-packages\\pandas\\core\\tools\\datetimes.py:1047: UserWarning:\n",
      "\n",
      "Parsing '21/11/1996' in DD/MM/YYYY format. Provide format or specify infer_datetime_format=True for consistent parsing.\n",
      "\n",
      "c:\\Users\\jljoa\\anaconda3\\lib\\site-packages\\pandas\\core\\tools\\datetimes.py:1047: UserWarning:\n",
      "\n",
      "Parsing '22/11/1996' in DD/MM/YYYY format. Provide format or specify infer_datetime_format=True for consistent parsing.\n",
      "\n",
      "c:\\Users\\jljoa\\anaconda3\\lib\\site-packages\\pandas\\core\\tools\\datetimes.py:1047: UserWarning:\n",
      "\n",
      "Parsing '23/11/1996' in DD/MM/YYYY format. Provide format or specify infer_datetime_format=True for consistent parsing.\n",
      "\n",
      "c:\\Users\\jljoa\\anaconda3\\lib\\site-packages\\pandas\\core\\tools\\datetimes.py:1047: UserWarning:\n",
      "\n",
      "Parsing '24/11/1996' in DD/MM/YYYY format. Provide format or specify infer_datetime_format=True for consistent parsing.\n",
      "\n",
      "c:\\Users\\jljoa\\anaconda3\\lib\\site-packages\\pandas\\core\\tools\\datetimes.py:1047: UserWarning:\n",
      "\n",
      "Parsing '25/11/1996' in DD/MM/YYYY format. Provide format or specify infer_datetime_format=True for consistent parsing.\n",
      "\n",
      "c:\\Users\\jljoa\\anaconda3\\lib\\site-packages\\pandas\\core\\tools\\datetimes.py:1047: UserWarning:\n",
      "\n",
      "Parsing '26/11/1996' in DD/MM/YYYY format. Provide format or specify infer_datetime_format=True for consistent parsing.\n",
      "\n",
      "c:\\Users\\jljoa\\anaconda3\\lib\\site-packages\\pandas\\core\\tools\\datetimes.py:1047: UserWarning:\n",
      "\n",
      "Parsing '27/11/1996' in DD/MM/YYYY format. Provide format or specify infer_datetime_format=True for consistent parsing.\n",
      "\n",
      "c:\\Users\\jljoa\\anaconda3\\lib\\site-packages\\pandas\\core\\tools\\datetimes.py:1047: UserWarning:\n",
      "\n",
      "Parsing '29/11/1996' in DD/MM/YYYY format. Provide format or specify infer_datetime_format=True for consistent parsing.\n",
      "\n",
      "c:\\Users\\jljoa\\anaconda3\\lib\\site-packages\\pandas\\core\\tools\\datetimes.py:1047: UserWarning:\n",
      "\n",
      "Parsing '13/12/1996' in DD/MM/YYYY format. Provide format or specify infer_datetime_format=True for consistent parsing.\n",
      "\n",
      "c:\\Users\\jljoa\\anaconda3\\lib\\site-packages\\pandas\\core\\tools\\datetimes.py:1047: UserWarning:\n",
      "\n",
      "Parsing '14/12/1996' in DD/MM/YYYY format. Provide format or specify infer_datetime_format=True for consistent parsing.\n",
      "\n",
      "c:\\Users\\jljoa\\anaconda3\\lib\\site-packages\\pandas\\core\\tools\\datetimes.py:1047: UserWarning:\n",
      "\n",
      "Parsing '15/12/1996' in DD/MM/YYYY format. Provide format or specify infer_datetime_format=True for consistent parsing.\n",
      "\n",
      "c:\\Users\\jljoa\\anaconda3\\lib\\site-packages\\pandas\\core\\tools\\datetimes.py:1047: UserWarning:\n",
      "\n",
      "Parsing '16/12/1996' in DD/MM/YYYY format. Provide format or specify infer_datetime_format=True for consistent parsing.\n",
      "\n",
      "c:\\Users\\jljoa\\anaconda3\\lib\\site-packages\\pandas\\core\\tools\\datetimes.py:1047: UserWarning:\n",
      "\n",
      "Parsing '17/12/1996' in DD/MM/YYYY format. Provide format or specify infer_datetime_format=True for consistent parsing.\n",
      "\n",
      "c:\\Users\\jljoa\\anaconda3\\lib\\site-packages\\pandas\\core\\tools\\datetimes.py:1047: UserWarning:\n",
      "\n",
      "Parsing '18/12/1996' in DD/MM/YYYY format. Provide format or specify infer_datetime_format=True for consistent parsing.\n",
      "\n",
      "c:\\Users\\jljoa\\anaconda3\\lib\\site-packages\\pandas\\core\\tools\\datetimes.py:1047: UserWarning:\n",
      "\n",
      "Parsing '19/12/1996' in DD/MM/YYYY format. Provide format or specify infer_datetime_format=True for consistent parsing.\n",
      "\n",
      "c:\\Users\\jljoa\\anaconda3\\lib\\site-packages\\pandas\\core\\tools\\datetimes.py:1047: UserWarning:\n",
      "\n",
      "Parsing '20/12/1996' in DD/MM/YYYY format. Provide format or specify infer_datetime_format=True for consistent parsing.\n",
      "\n",
      "c:\\Users\\jljoa\\anaconda3\\lib\\site-packages\\pandas\\core\\tools\\datetimes.py:1047: UserWarning:\n",
      "\n",
      "Parsing '21/12/1996' in DD/MM/YYYY format. Provide format or specify infer_datetime_format=True for consistent parsing.\n",
      "\n",
      "c:\\Users\\jljoa\\anaconda3\\lib\\site-packages\\pandas\\core\\tools\\datetimes.py:1047: UserWarning:\n",
      "\n",
      "Parsing '22/12/1996' in DD/MM/YYYY format. Provide format or specify infer_datetime_format=True for consistent parsing.\n",
      "\n",
      "c:\\Users\\jljoa\\anaconda3\\lib\\site-packages\\pandas\\core\\tools\\datetimes.py:1047: UserWarning:\n",
      "\n",
      "Parsing '23/12/1996' in DD/MM/YYYY format. Provide format or specify infer_datetime_format=True for consistent parsing.\n",
      "\n",
      "c:\\Users\\jljoa\\anaconda3\\lib\\site-packages\\pandas\\core\\tools\\datetimes.py:1047: UserWarning:\n",
      "\n",
      "Parsing '24/12/1996' in DD/MM/YYYY format. Provide format or specify infer_datetime_format=True for consistent parsing.\n",
      "\n",
      "c:\\Users\\jljoa\\anaconda3\\lib\\site-packages\\pandas\\core\\tools\\datetimes.py:1047: UserWarning:\n",
      "\n",
      "Parsing '25/12/1996' in DD/MM/YYYY format. Provide format or specify infer_datetime_format=True for consistent parsing.\n",
      "\n",
      "c:\\Users\\jljoa\\anaconda3\\lib\\site-packages\\pandas\\core\\tools\\datetimes.py:1047: UserWarning:\n",
      "\n",
      "Parsing '26/12/1996' in DD/MM/YYYY format. Provide format or specify infer_datetime_format=True for consistent parsing.\n",
      "\n",
      "c:\\Users\\jljoa\\anaconda3\\lib\\site-packages\\pandas\\core\\tools\\datetimes.py:1047: UserWarning:\n",
      "\n",
      "Parsing '27/12/1996' in DD/MM/YYYY format. Provide format or specify infer_datetime_format=True for consistent parsing.\n",
      "\n",
      "c:\\Users\\jljoa\\anaconda3\\lib\\site-packages\\pandas\\core\\tools\\datetimes.py:1047: UserWarning:\n",
      "\n",
      "Parsing '28/12/1996' in DD/MM/YYYY format. Provide format or specify infer_datetime_format=True for consistent parsing.\n",
      "\n",
      "c:\\Users\\jljoa\\anaconda3\\lib\\site-packages\\pandas\\core\\tools\\datetimes.py:1047: UserWarning:\n",
      "\n",
      "Parsing '29/12/1996' in DD/MM/YYYY format. Provide format or specify infer_datetime_format=True for consistent parsing.\n",
      "\n",
      "c:\\Users\\jljoa\\anaconda3\\lib\\site-packages\\pandas\\core\\tools\\datetimes.py:1047: UserWarning:\n",
      "\n",
      "Parsing '30/12/1996' in DD/MM/YYYY format. Provide format or specify infer_datetime_format=True for consistent parsing.\n",
      "\n",
      "c:\\Users\\jljoa\\anaconda3\\lib\\site-packages\\pandas\\core\\tools\\datetimes.py:1047: UserWarning:\n",
      "\n",
      "Parsing '13/10/1997' in DD/MM/YYYY format. Provide format or specify infer_datetime_format=True for consistent parsing.\n",
      "\n",
      "c:\\Users\\jljoa\\anaconda3\\lib\\site-packages\\pandas\\core\\tools\\datetimes.py:1047: UserWarning:\n",
      "\n",
      "Parsing '14/10/1997' in DD/MM/YYYY format. Provide format or specify infer_datetime_format=True for consistent parsing.\n",
      "\n",
      "c:\\Users\\jljoa\\anaconda3\\lib\\site-packages\\pandas\\core\\tools\\datetimes.py:1047: UserWarning:\n",
      "\n",
      "Parsing '15/10/1997' in DD/MM/YYYY format. Provide format or specify infer_datetime_format=True for consistent parsing.\n",
      "\n",
      "c:\\Users\\jljoa\\anaconda3\\lib\\site-packages\\pandas\\core\\tools\\datetimes.py:1047: UserWarning:\n",
      "\n",
      "Parsing '16/10/1997' in DD/MM/YYYY format. Provide format or specify infer_datetime_format=True for consistent parsing.\n",
      "\n",
      "c:\\Users\\jljoa\\anaconda3\\lib\\site-packages\\pandas\\core\\tools\\datetimes.py:1047: UserWarning:\n",
      "\n",
      "Parsing '17/10/1997' in DD/MM/YYYY format. Provide format or specify infer_datetime_format=True for consistent parsing.\n",
      "\n",
      "c:\\Users\\jljoa\\anaconda3\\lib\\site-packages\\pandas\\core\\tools\\datetimes.py:1047: UserWarning:\n",
      "\n",
      "Parsing '18/10/1997' in DD/MM/YYYY format. Provide format or specify infer_datetime_format=True for consistent parsing.\n",
      "\n",
      "c:\\Users\\jljoa\\anaconda3\\lib\\site-packages\\pandas\\core\\tools\\datetimes.py:1047: UserWarning:\n",
      "\n",
      "Parsing '19/10/1997' in DD/MM/YYYY format. Provide format or specify infer_datetime_format=True for consistent parsing.\n",
      "\n",
      "c:\\Users\\jljoa\\anaconda3\\lib\\site-packages\\pandas\\core\\tools\\datetimes.py:1047: UserWarning:\n",
      "\n",
      "Parsing '20/10/1997' in DD/MM/YYYY format. Provide format or specify infer_datetime_format=True for consistent parsing.\n",
      "\n",
      "c:\\Users\\jljoa\\anaconda3\\lib\\site-packages\\pandas\\core\\tools\\datetimes.py:1047: UserWarning:\n",
      "\n",
      "Parsing '21/10/1997' in DD/MM/YYYY format. Provide format or specify infer_datetime_format=True for consistent parsing.\n",
      "\n",
      "c:\\Users\\jljoa\\anaconda3\\lib\\site-packages\\pandas\\core\\tools\\datetimes.py:1047: UserWarning:\n",
      "\n",
      "Parsing '22/10/1997' in DD/MM/YYYY format. Provide format or specify infer_datetime_format=True for consistent parsing.\n",
      "\n",
      "c:\\Users\\jljoa\\anaconda3\\lib\\site-packages\\pandas\\core\\tools\\datetimes.py:1047: UserWarning:\n",
      "\n",
      "Parsing '23/10/1997' in DD/MM/YYYY format. Provide format or specify infer_datetime_format=True for consistent parsing.\n",
      "\n",
      "c:\\Users\\jljoa\\anaconda3\\lib\\site-packages\\pandas\\core\\tools\\datetimes.py:1047: UserWarning:\n",
      "\n",
      "Parsing '24/10/1997' in DD/MM/YYYY format. Provide format or specify infer_datetime_format=True for consistent parsing.\n",
      "\n",
      "c:\\Users\\jljoa\\anaconda3\\lib\\site-packages\\pandas\\core\\tools\\datetimes.py:1047: UserWarning:\n",
      "\n",
      "Parsing '25/10/1997' in DD/MM/YYYY format. Provide format or specify infer_datetime_format=True for consistent parsing.\n",
      "\n",
      "c:\\Users\\jljoa\\anaconda3\\lib\\site-packages\\pandas\\core\\tools\\datetimes.py:1047: UserWarning:\n",
      "\n",
      "Parsing '26/10/1997' in DD/MM/YYYY format. Provide format or specify infer_datetime_format=True for consistent parsing.\n",
      "\n",
      "c:\\Users\\jljoa\\anaconda3\\lib\\site-packages\\pandas\\core\\tools\\datetimes.py:1047: UserWarning:\n",
      "\n",
      "Parsing '27/10/1997' in DD/MM/YYYY format. Provide format or specify infer_datetime_format=True for consistent parsing.\n",
      "\n",
      "c:\\Users\\jljoa\\anaconda3\\lib\\site-packages\\pandas\\core\\tools\\datetimes.py:1047: UserWarning:\n",
      "\n",
      "Parsing '28/10/1997' in DD/MM/YYYY format. Provide format or specify infer_datetime_format=True for consistent parsing.\n",
      "\n",
      "c:\\Users\\jljoa\\anaconda3\\lib\\site-packages\\pandas\\core\\tools\\datetimes.py:1047: UserWarning:\n",
      "\n",
      "Parsing '29/10/1997' in DD/MM/YYYY format. Provide format or specify infer_datetime_format=True for consistent parsing.\n",
      "\n",
      "c:\\Users\\jljoa\\anaconda3\\lib\\site-packages\\pandas\\core\\tools\\datetimes.py:1047: UserWarning:\n",
      "\n",
      "Parsing '30/10/1997' in DD/MM/YYYY format. Provide format or specify infer_datetime_format=True for consistent parsing.\n",
      "\n",
      "c:\\Users\\jljoa\\anaconda3\\lib\\site-packages\\pandas\\core\\tools\\datetimes.py:1047: UserWarning:\n",
      "\n",
      "Parsing '13/11/1997' in DD/MM/YYYY format. Provide format or specify infer_datetime_format=True for consistent parsing.\n",
      "\n",
      "c:\\Users\\jljoa\\anaconda3\\lib\\site-packages\\pandas\\core\\tools\\datetimes.py:1047: UserWarning:\n",
      "\n",
      "Parsing '14/11/1997' in DD/MM/YYYY format. Provide format or specify infer_datetime_format=True for consistent parsing.\n",
      "\n",
      "c:\\Users\\jljoa\\anaconda3\\lib\\site-packages\\pandas\\core\\tools\\datetimes.py:1047: UserWarning:\n",
      "\n",
      "Parsing '15/11/1997' in DD/MM/YYYY format. Provide format or specify infer_datetime_format=True for consistent parsing.\n",
      "\n",
      "c:\\Users\\jljoa\\anaconda3\\lib\\site-packages\\pandas\\core\\tools\\datetimes.py:1047: UserWarning:\n",
      "\n",
      "Parsing '16/11/1997' in DD/MM/YYYY format. Provide format or specify infer_datetime_format=True for consistent parsing.\n",
      "\n",
      "c:\\Users\\jljoa\\anaconda3\\lib\\site-packages\\pandas\\core\\tools\\datetimes.py:1047: UserWarning:\n",
      "\n",
      "Parsing '17/11/1997' in DD/MM/YYYY format. Provide format or specify infer_datetime_format=True for consistent parsing.\n",
      "\n",
      "c:\\Users\\jljoa\\anaconda3\\lib\\site-packages\\pandas\\core\\tools\\datetimes.py:1047: UserWarning:\n",
      "\n",
      "Parsing '18/11/1997' in DD/MM/YYYY format. Provide format or specify infer_datetime_format=True for consistent parsing.\n",
      "\n",
      "c:\\Users\\jljoa\\anaconda3\\lib\\site-packages\\pandas\\core\\tools\\datetimes.py:1047: UserWarning:\n",
      "\n",
      "Parsing '20/11/1997' in DD/MM/YYYY format. Provide format or specify infer_datetime_format=True for consistent parsing.\n",
      "\n",
      "c:\\Users\\jljoa\\anaconda3\\lib\\site-packages\\pandas\\core\\tools\\datetimes.py:1047: UserWarning:\n",
      "\n",
      "Parsing '21/11/1997' in DD/MM/YYYY format. Provide format or specify infer_datetime_format=True for consistent parsing.\n",
      "\n",
      "c:\\Users\\jljoa\\anaconda3\\lib\\site-packages\\pandas\\core\\tools\\datetimes.py:1047: UserWarning:\n",
      "\n",
      "Parsing '22/11/1997' in DD/MM/YYYY format. Provide format or specify infer_datetime_format=True for consistent parsing.\n",
      "\n",
      "c:\\Users\\jljoa\\anaconda3\\lib\\site-packages\\pandas\\core\\tools\\datetimes.py:1047: UserWarning:\n",
      "\n",
      "Parsing '23/11/1997' in DD/MM/YYYY format. Provide format or specify infer_datetime_format=True for consistent parsing.\n",
      "\n",
      "c:\\Users\\jljoa\\anaconda3\\lib\\site-packages\\pandas\\core\\tools\\datetimes.py:1047: UserWarning:\n",
      "\n",
      "Parsing '24/11/1997' in DD/MM/YYYY format. Provide format or specify infer_datetime_format=True for consistent parsing.\n",
      "\n",
      "c:\\Users\\jljoa\\anaconda3\\lib\\site-packages\\pandas\\core\\tools\\datetimes.py:1047: UserWarning:\n",
      "\n",
      "Parsing '25/11/1997' in DD/MM/YYYY format. Provide format or specify infer_datetime_format=True for consistent parsing.\n",
      "\n",
      "c:\\Users\\jljoa\\anaconda3\\lib\\site-packages\\pandas\\core\\tools\\datetimes.py:1047: UserWarning:\n",
      "\n",
      "Parsing '27/11/1997' in DD/MM/YYYY format. Provide format or specify infer_datetime_format=True for consistent parsing.\n",
      "\n",
      "c:\\Users\\jljoa\\anaconda3\\lib\\site-packages\\pandas\\core\\tools\\datetimes.py:1047: UserWarning:\n",
      "\n",
      "Parsing '28/11/1997' in DD/MM/YYYY format. Provide format or specify infer_datetime_format=True for consistent parsing.\n",
      "\n",
      "c:\\Users\\jljoa\\anaconda3\\lib\\site-packages\\pandas\\core\\tools\\datetimes.py:1047: UserWarning:\n",
      "\n",
      "Parsing '29/11/1997' in DD/MM/YYYY format. Provide format or specify infer_datetime_format=True for consistent parsing.\n",
      "\n",
      "c:\\Users\\jljoa\\anaconda3\\lib\\site-packages\\pandas\\core\\tools\\datetimes.py:1047: UserWarning:\n",
      "\n",
      "Parsing '13/12/1997' in DD/MM/YYYY format. Provide format or specify infer_datetime_format=True for consistent parsing.\n",
      "\n",
      "c:\\Users\\jljoa\\anaconda3\\lib\\site-packages\\pandas\\core\\tools\\datetimes.py:1047: UserWarning:\n",
      "\n",
      "Parsing '15/12/1997' in DD/MM/YYYY format. Provide format or specify infer_datetime_format=True for consistent parsing.\n",
      "\n",
      "c:\\Users\\jljoa\\anaconda3\\lib\\site-packages\\pandas\\core\\tools\\datetimes.py:1047: UserWarning:\n",
      "\n",
      "Parsing '16/12/1997' in DD/MM/YYYY format. Provide format or specify infer_datetime_format=True for consistent parsing.\n",
      "\n",
      "c:\\Users\\jljoa\\anaconda3\\lib\\site-packages\\pandas\\core\\tools\\datetimes.py:1047: UserWarning:\n",
      "\n",
      "Parsing '17/12/1997' in DD/MM/YYYY format. Provide format or specify infer_datetime_format=True for consistent parsing.\n",
      "\n",
      "c:\\Users\\jljoa\\anaconda3\\lib\\site-packages\\pandas\\core\\tools\\datetimes.py:1047: UserWarning:\n",
      "\n",
      "Parsing '18/12/1997' in DD/MM/YYYY format. Provide format or specify infer_datetime_format=True for consistent parsing.\n",
      "\n",
      "c:\\Users\\jljoa\\anaconda3\\lib\\site-packages\\pandas\\core\\tools\\datetimes.py:1047: UserWarning:\n",
      "\n",
      "Parsing '19/12/1997' in DD/MM/YYYY format. Provide format or specify infer_datetime_format=True for consistent parsing.\n",
      "\n",
      "c:\\Users\\jljoa\\anaconda3\\lib\\site-packages\\pandas\\core\\tools\\datetimes.py:1047: UserWarning:\n",
      "\n",
      "Parsing '20/12/1997' in DD/MM/YYYY format. Provide format or specify infer_datetime_format=True for consistent parsing.\n",
      "\n",
      "c:\\Users\\jljoa\\anaconda3\\lib\\site-packages\\pandas\\core\\tools\\datetimes.py:1047: UserWarning:\n",
      "\n",
      "Parsing '21/12/1997' in DD/MM/YYYY format. Provide format or specify infer_datetime_format=True for consistent parsing.\n",
      "\n",
      "c:\\Users\\jljoa\\anaconda3\\lib\\site-packages\\pandas\\core\\tools\\datetimes.py:1047: UserWarning:\n",
      "\n",
      "Parsing '22/12/1997' in DD/MM/YYYY format. Provide format or specify infer_datetime_format=True for consistent parsing.\n",
      "\n",
      "c:\\Users\\jljoa\\anaconda3\\lib\\site-packages\\pandas\\core\\tools\\datetimes.py:1047: UserWarning:\n",
      "\n",
      "Parsing '23/12/1997' in DD/MM/YYYY format. Provide format or specify infer_datetime_format=True for consistent parsing.\n",
      "\n",
      "c:\\Users\\jljoa\\anaconda3\\lib\\site-packages\\pandas\\core\\tools\\datetimes.py:1047: UserWarning:\n",
      "\n",
      "Parsing '25/12/1997' in DD/MM/YYYY format. Provide format or specify infer_datetime_format=True for consistent parsing.\n",
      "\n",
      "c:\\Users\\jljoa\\anaconda3\\lib\\site-packages\\pandas\\core\\tools\\datetimes.py:1047: UserWarning:\n",
      "\n",
      "Parsing '26/12/1997' in DD/MM/YYYY format. Provide format or specify infer_datetime_format=True for consistent parsing.\n",
      "\n",
      "c:\\Users\\jljoa\\anaconda3\\lib\\site-packages\\pandas\\core\\tools\\datetimes.py:1047: UserWarning:\n",
      "\n",
      "Parsing '27/12/1997' in DD/MM/YYYY format. Provide format or specify infer_datetime_format=True for consistent parsing.\n",
      "\n",
      "c:\\Users\\jljoa\\anaconda3\\lib\\site-packages\\pandas\\core\\tools\\datetimes.py:1047: UserWarning:\n",
      "\n",
      "Parsing '28/12/1997' in DD/MM/YYYY format. Provide format or specify infer_datetime_format=True for consistent parsing.\n",
      "\n",
      "c:\\Users\\jljoa\\anaconda3\\lib\\site-packages\\pandas\\core\\tools\\datetimes.py:1047: UserWarning:\n",
      "\n",
      "Parsing '29/12/1997' in DD/MM/YYYY format. Provide format or specify infer_datetime_format=True for consistent parsing.\n",
      "\n",
      "C:\\Users\\jljoa\\AppData\\Local\\Temp\\ipykernel_17940\\948663611.py:19: UserWarning:\n",
      "\n",
      "Parsing '13/10/1993' in DD/MM/YYYY format. Provide format or specify infer_datetime_format=True for consistent parsing.\n",
      "\n",
      "C:\\Users\\jljoa\\AppData\\Local\\Temp\\ipykernel_17940\\948663611.py:19: UserWarning:\n",
      "\n",
      "Parsing '22/11/1993' in DD/MM/YYYY format. Provide format or specify infer_datetime_format=True for consistent parsing.\n",
      "\n",
      "C:\\Users\\jljoa\\AppData\\Local\\Temp\\ipykernel_17940\\948663611.py:19: UserWarning:\n",
      "\n",
      "Parsing '13/12/1993' in DD/MM/YYYY format. Provide format or specify infer_datetime_format=True for consistent parsing.\n",
      "\n",
      "C:\\Users\\jljoa\\AppData\\Local\\Temp\\ipykernel_17940\\948663611.py:19: UserWarning:\n",
      "\n",
      "Parsing '16/12/1993' in DD/MM/YYYY format. Provide format or specify infer_datetime_format=True for consistent parsing.\n",
      "\n",
      "C:\\Users\\jljoa\\AppData\\Local\\Temp\\ipykernel_17940\\948663611.py:19: UserWarning:\n",
      "\n",
      "Parsing '21/12/1993' in DD/MM/YYYY format. Provide format or specify infer_datetime_format=True for consistent parsing.\n",
      "\n",
      "C:\\Users\\jljoa\\AppData\\Local\\Temp\\ipykernel_17940\\948663611.py:19: UserWarning:\n",
      "\n",
      "Parsing '23/12/1993' in DD/MM/YYYY format. Provide format or specify infer_datetime_format=True for consistent parsing.\n",
      "\n",
      "C:\\Users\\jljoa\\AppData\\Local\\Temp\\ipykernel_17940\\948663611.py:19: UserWarning:\n",
      "\n",
      "Parsing '25/10/1994' in DD/MM/YYYY format. Provide format or specify infer_datetime_format=True for consistent parsing.\n",
      "\n",
      "C:\\Users\\jljoa\\AppData\\Local\\Temp\\ipykernel_17940\\948663611.py:19: UserWarning:\n",
      "\n",
      "Parsing '28/10/1994' in DD/MM/YYYY format. Provide format or specify infer_datetime_format=True for consistent parsing.\n",
      "\n",
      "C:\\Users\\jljoa\\AppData\\Local\\Temp\\ipykernel_17940\\948663611.py:19: UserWarning:\n",
      "\n",
      "Parsing '30/10/1994' in DD/MM/YYYY format. Provide format or specify infer_datetime_format=True for consistent parsing.\n",
      "\n",
      "C:\\Users\\jljoa\\AppData\\Local\\Temp\\ipykernel_17940\\948663611.py:19: UserWarning:\n",
      "\n",
      "Parsing '19/11/1994' in DD/MM/YYYY format. Provide format or specify infer_datetime_format=True for consistent parsing.\n",
      "\n",
      "C:\\Users\\jljoa\\AppData\\Local\\Temp\\ipykernel_17940\\948663611.py:19: UserWarning:\n",
      "\n",
      "Parsing '19/12/1994' in DD/MM/YYYY format. Provide format or specify infer_datetime_format=True for consistent parsing.\n",
      "\n",
      "C:\\Users\\jljoa\\AppData\\Local\\Temp\\ipykernel_17940\\948663611.py:19: UserWarning:\n",
      "\n",
      "Parsing '20/12/1994' in DD/MM/YYYY format. Provide format or specify infer_datetime_format=True for consistent parsing.\n",
      "\n",
      "C:\\Users\\jljoa\\AppData\\Local\\Temp\\ipykernel_17940\\948663611.py:19: UserWarning:\n",
      "\n",
      "Parsing '21/12/1994' in DD/MM/YYYY format. Provide format or specify infer_datetime_format=True for consistent parsing.\n",
      "\n",
      "C:\\Users\\jljoa\\AppData\\Local\\Temp\\ipykernel_17940\\948663611.py:19: UserWarning:\n",
      "\n",
      "Parsing '14/10/1995' in DD/MM/YYYY format. Provide format or specify infer_datetime_format=True for consistent parsing.\n",
      "\n",
      "C:\\Users\\jljoa\\AppData\\Local\\Temp\\ipykernel_17940\\948663611.py:19: UserWarning:\n",
      "\n",
      "Parsing '20/10/1995' in DD/MM/YYYY format. Provide format or specify infer_datetime_format=True for consistent parsing.\n",
      "\n",
      "C:\\Users\\jljoa\\AppData\\Local\\Temp\\ipykernel_17940\\948663611.py:19: UserWarning:\n",
      "\n",
      "Parsing '28/10/1995' in DD/MM/YYYY format. Provide format or specify infer_datetime_format=True for consistent parsing.\n",
      "\n",
      "C:\\Users\\jljoa\\AppData\\Local\\Temp\\ipykernel_17940\\948663611.py:19: UserWarning:\n",
      "\n",
      "Parsing '29/10/1995' in DD/MM/YYYY format. Provide format or specify infer_datetime_format=True for consistent parsing.\n",
      "\n",
      "C:\\Users\\jljoa\\AppData\\Local\\Temp\\ipykernel_17940\\948663611.py:19: UserWarning:\n",
      "\n",
      "Parsing '31/10/1995' in DD/MM/YYYY format. Provide format or specify infer_datetime_format=True for consistent parsing.\n",
      "\n",
      "C:\\Users\\jljoa\\AppData\\Local\\Temp\\ipykernel_17940\\948663611.py:19: UserWarning:\n",
      "\n",
      "Parsing '18/11/1995' in DD/MM/YYYY format. Provide format or specify infer_datetime_format=True for consistent parsing.\n",
      "\n",
      "C:\\Users\\jljoa\\AppData\\Local\\Temp\\ipykernel_17940\\948663611.py:19: UserWarning:\n",
      "\n",
      "Parsing '22/11/1995' in DD/MM/YYYY format. Provide format or specify infer_datetime_format=True for consistent parsing.\n",
      "\n",
      "C:\\Users\\jljoa\\AppData\\Local\\Temp\\ipykernel_17940\\948663611.py:19: UserWarning:\n",
      "\n",
      "Parsing '23/11/1995' in DD/MM/YYYY format. Provide format or specify infer_datetime_format=True for consistent parsing.\n",
      "\n",
      "C:\\Users\\jljoa\\AppData\\Local\\Temp\\ipykernel_17940\\948663611.py:19: UserWarning:\n",
      "\n",
      "Parsing '28/11/1995' in DD/MM/YYYY format. Provide format or specify infer_datetime_format=True for consistent parsing.\n",
      "\n",
      "C:\\Users\\jljoa\\AppData\\Local\\Temp\\ipykernel_17940\\948663611.py:19: UserWarning:\n",
      "\n",
      "Parsing '16/12/1995' in DD/MM/YYYY format. Provide format or specify infer_datetime_format=True for consistent parsing.\n",
      "\n",
      "C:\\Users\\jljoa\\AppData\\Local\\Temp\\ipykernel_17940\\948663611.py:19: UserWarning:\n",
      "\n",
      "Parsing '18/12/1995' in DD/MM/YYYY format. Provide format or specify infer_datetime_format=True for consistent parsing.\n",
      "\n",
      "C:\\Users\\jljoa\\AppData\\Local\\Temp\\ipykernel_17940\\948663611.py:19: UserWarning:\n",
      "\n",
      "Parsing '25/12/1995' in DD/MM/YYYY format. Provide format or specify infer_datetime_format=True for consistent parsing.\n",
      "\n",
      "C:\\Users\\jljoa\\AppData\\Local\\Temp\\ipykernel_17940\\948663611.py:19: UserWarning:\n",
      "\n",
      "Parsing '31/12/1995' in DD/MM/YYYY format. Provide format or specify infer_datetime_format=True for consistent parsing.\n",
      "\n",
      "C:\\Users\\jljoa\\AppData\\Local\\Temp\\ipykernel_17940\\948663611.py:19: UserWarning:\n",
      "\n",
      "Parsing '16/10/1996' in DD/MM/YYYY format. Provide format or specify infer_datetime_format=True for consistent parsing.\n",
      "\n",
      "C:\\Users\\jljoa\\AppData\\Local\\Temp\\ipykernel_17940\\948663611.py:19: UserWarning:\n",
      "\n",
      "Parsing '20/10/1996' in DD/MM/YYYY format. Provide format or specify infer_datetime_format=True for consistent parsing.\n",
      "\n",
      "C:\\Users\\jljoa\\AppData\\Local\\Temp\\ipykernel_17940\\948663611.py:19: UserWarning:\n",
      "\n",
      "Parsing '23/10/1996' in DD/MM/YYYY format. Provide format or specify infer_datetime_format=True for consistent parsing.\n",
      "\n",
      "C:\\Users\\jljoa\\AppData\\Local\\Temp\\ipykernel_17940\\948663611.py:19: UserWarning:\n",
      "\n",
      "Parsing '24/10/1996' in DD/MM/YYYY format. Provide format or specify infer_datetime_format=True for consistent parsing.\n",
      "\n",
      "C:\\Users\\jljoa\\AppData\\Local\\Temp\\ipykernel_17940\\948663611.py:19: UserWarning:\n",
      "\n",
      "Parsing '29/10/1996' in DD/MM/YYYY format. Provide format or specify infer_datetime_format=True for consistent parsing.\n",
      "\n",
      "C:\\Users\\jljoa\\AppData\\Local\\Temp\\ipykernel_17940\\948663611.py:19: UserWarning:\n",
      "\n",
      "Parsing '31/10/1996' in DD/MM/YYYY format. Provide format or specify infer_datetime_format=True for consistent parsing.\n",
      "\n",
      "C:\\Users\\jljoa\\AppData\\Local\\Temp\\ipykernel_17940\\948663611.py:19: UserWarning:\n",
      "\n",
      "Parsing '15/11/1996' in DD/MM/YYYY format. Provide format or specify infer_datetime_format=True for consistent parsing.\n",
      "\n",
      "C:\\Users\\jljoa\\AppData\\Local\\Temp\\ipykernel_17940\\948663611.py:19: UserWarning:\n",
      "\n",
      "Parsing '18/11/1996' in DD/MM/YYYY format. Provide format or specify infer_datetime_format=True for consistent parsing.\n",
      "\n",
      "C:\\Users\\jljoa\\AppData\\Local\\Temp\\ipykernel_17940\\948663611.py:19: UserWarning:\n",
      "\n",
      "Parsing '19/11/1996' in DD/MM/YYYY format. Provide format or specify infer_datetime_format=True for consistent parsing.\n",
      "\n",
      "C:\\Users\\jljoa\\AppData\\Local\\Temp\\ipykernel_17940\\948663611.py:19: UserWarning:\n",
      "\n",
      "Parsing '22/11/1996' in DD/MM/YYYY format. Provide format or specify infer_datetime_format=True for consistent parsing.\n",
      "\n",
      "C:\\Users\\jljoa\\AppData\\Local\\Temp\\ipykernel_17940\\948663611.py:19: UserWarning:\n",
      "\n",
      "Parsing '25/11/1996' in DD/MM/YYYY format. Provide format or specify infer_datetime_format=True for consistent parsing.\n",
      "\n",
      "C:\\Users\\jljoa\\AppData\\Local\\Temp\\ipykernel_17940\\948663611.py:19: UserWarning:\n",
      "\n",
      "Parsing '28/11/1996' in DD/MM/YYYY format. Provide format or specify infer_datetime_format=True for consistent parsing.\n",
      "\n",
      "C:\\Users\\jljoa\\AppData\\Local\\Temp\\ipykernel_17940\\948663611.py:19: UserWarning:\n",
      "\n",
      "Parsing '15/12/1996' in DD/MM/YYYY format. Provide format or specify infer_datetime_format=True for consistent parsing.\n",
      "\n",
      "C:\\Users\\jljoa\\AppData\\Local\\Temp\\ipykernel_17940\\948663611.py:19: UserWarning:\n",
      "\n",
      "Parsing '21/12/1996' in DD/MM/YYYY format. Provide format or specify infer_datetime_format=True for consistent parsing.\n",
      "\n",
      "C:\\Users\\jljoa\\AppData\\Local\\Temp\\ipykernel_17940\\948663611.py:19: UserWarning:\n",
      "\n",
      "Parsing '25/12/1996' in DD/MM/YYYY format. Provide format or specify infer_datetime_format=True for consistent parsing.\n",
      "\n",
      "C:\\Users\\jljoa\\AppData\\Local\\Temp\\ipykernel_17940\\948663611.py:19: UserWarning:\n",
      "\n",
      "Parsing '27/12/1996' in DD/MM/YYYY format. Provide format or specify infer_datetime_format=True for consistent parsing.\n",
      "\n",
      "C:\\Users\\jljoa\\AppData\\Local\\Temp\\ipykernel_17940\\948663611.py:21: UserWarning:\n",
      "\n",
      "Parsing '21/10/1994' in DD/MM/YYYY format. Provide format or specify infer_datetime_format=True for consistent parsing.\n",
      "\n",
      "C:\\Users\\jljoa\\AppData\\Local\\Temp\\ipykernel_17940\\948663611.py:21: UserWarning:\n",
      "\n",
      "Parsing '24/11/1994' in DD/MM/YYYY format. Provide format or specify infer_datetime_format=True for consistent parsing.\n",
      "\n",
      "C:\\Users\\jljoa\\AppData\\Local\\Temp\\ipykernel_17940\\948663611.py:21: UserWarning:\n",
      "\n",
      "Parsing '25/12/1994' in DD/MM/YYYY format. Provide format or specify infer_datetime_format=True for consistent parsing.\n",
      "\n",
      "C:\\Users\\jljoa\\AppData\\Local\\Temp\\ipykernel_17940\\948663611.py:21: UserWarning:\n",
      "\n",
      "Parsing '30/12/1994' in DD/MM/YYYY format. Provide format or specify infer_datetime_format=True for consistent parsing.\n",
      "\n",
      "C:\\Users\\jljoa\\AppData\\Local\\Temp\\ipykernel_17940\\948663611.py:21: UserWarning:\n",
      "\n",
      "Parsing '22/10/1995' in DD/MM/YYYY format. Provide format or specify infer_datetime_format=True for consistent parsing.\n",
      "\n",
      "C:\\Users\\jljoa\\AppData\\Local\\Temp\\ipykernel_17940\\948663611.py:21: UserWarning:\n",
      "\n",
      "Parsing '24/10/1995' in DD/MM/YYYY format. Provide format or specify infer_datetime_format=True for consistent parsing.\n",
      "\n",
      "C:\\Users\\jljoa\\AppData\\Local\\Temp\\ipykernel_17940\\948663611.py:21: UserWarning:\n",
      "\n",
      "Parsing '13/11/1995' in DD/MM/YYYY format. Provide format or specify infer_datetime_format=True for consistent parsing.\n",
      "\n",
      "C:\\Users\\jljoa\\AppData\\Local\\Temp\\ipykernel_17940\\948663611.py:21: UserWarning:\n",
      "\n",
      "Parsing '16/11/1995' in DD/MM/YYYY format. Provide format or specify infer_datetime_format=True for consistent parsing.\n",
      "\n",
      "C:\\Users\\jljoa\\AppData\\Local\\Temp\\ipykernel_17940\\948663611.py:21: UserWarning:\n",
      "\n",
      "Parsing '20/11/1995' in DD/MM/YYYY format. Provide format or specify infer_datetime_format=True for consistent parsing.\n",
      "\n",
      "C:\\Users\\jljoa\\AppData\\Local\\Temp\\ipykernel_17940\\948663611.py:21: UserWarning:\n",
      "\n",
      "Parsing '22/11/1995' in DD/MM/YYYY format. Provide format or specify infer_datetime_format=True for consistent parsing.\n",
      "\n",
      "C:\\Users\\jljoa\\AppData\\Local\\Temp\\ipykernel_17940\\948663611.py:21: UserWarning:\n",
      "\n",
      "Parsing '15/12/1995' in DD/MM/YYYY format. Provide format or specify infer_datetime_format=True for consistent parsing.\n",
      "\n",
      "C:\\Users\\jljoa\\AppData\\Local\\Temp\\ipykernel_17940\\948663611.py:21: UserWarning:\n",
      "\n",
      "Parsing '25/12/1995' in DD/MM/YYYY format. Provide format or specify infer_datetime_format=True for consistent parsing.\n",
      "\n",
      "C:\\Users\\jljoa\\AppData\\Local\\Temp\\ipykernel_17940\\948663611.py:21: UserWarning:\n",
      "\n",
      "Parsing '30/12/1995' in DD/MM/YYYY format. Provide format or specify infer_datetime_format=True for consistent parsing.\n",
      "\n",
      "C:\\Users\\jljoa\\AppData\\Local\\Temp\\ipykernel_17940\\948663611.py:21: UserWarning:\n",
      "\n",
      "Parsing '31/12/1995' in DD/MM/YYYY format. Provide format or specify infer_datetime_format=True for consistent parsing.\n",
      "\n",
      "C:\\Users\\jljoa\\AppData\\Local\\Temp\\ipykernel_17940\\948663611.py:21: UserWarning:\n",
      "\n",
      "Parsing '13/10/1996' in DD/MM/YYYY format. Provide format or specify infer_datetime_format=True for consistent parsing.\n",
      "\n",
      "C:\\Users\\jljoa\\AppData\\Local\\Temp\\ipykernel_17940\\948663611.py:21: UserWarning:\n",
      "\n",
      "Parsing '14/10/1996' in DD/MM/YYYY format. Provide format or specify infer_datetime_format=True for consistent parsing.\n",
      "\n",
      "C:\\Users\\jljoa\\AppData\\Local\\Temp\\ipykernel_17940\\948663611.py:21: UserWarning:\n",
      "\n",
      "Parsing '19/10/1996' in DD/MM/YYYY format. Provide format or specify infer_datetime_format=True for consistent parsing.\n",
      "\n",
      "C:\\Users\\jljoa\\AppData\\Local\\Temp\\ipykernel_17940\\948663611.py:21: UserWarning:\n",
      "\n",
      "Parsing '21/10/1996' in DD/MM/YYYY format. Provide format or specify infer_datetime_format=True for consistent parsing.\n",
      "\n",
      "C:\\Users\\jljoa\\AppData\\Local\\Temp\\ipykernel_17940\\948663611.py:21: UserWarning:\n",
      "\n",
      "Parsing '25/10/1996' in DD/MM/YYYY format. Provide format or specify infer_datetime_format=True for consistent parsing.\n",
      "\n",
      "C:\\Users\\jljoa\\AppData\\Local\\Temp\\ipykernel_17940\\948663611.py:21: UserWarning:\n",
      "\n",
      "Parsing '27/10/1996' in DD/MM/YYYY format. Provide format or specify infer_datetime_format=True for consistent parsing.\n",
      "\n",
      "C:\\Users\\jljoa\\AppData\\Local\\Temp\\ipykernel_17940\\948663611.py:21: UserWarning:\n",
      "\n",
      "Parsing '28/10/1996' in DD/MM/YYYY format. Provide format or specify infer_datetime_format=True for consistent parsing.\n",
      "\n",
      "C:\\Users\\jljoa\\AppData\\Local\\Temp\\ipykernel_17940\\948663611.py:21: UserWarning:\n",
      "\n",
      "Parsing '30/10/1996' in DD/MM/YYYY format. Provide format or specify infer_datetime_format=True for consistent parsing.\n",
      "\n",
      "C:\\Users\\jljoa\\AppData\\Local\\Temp\\ipykernel_17940\\948663611.py:21: UserWarning:\n",
      "\n",
      "Parsing '31/10/1996' in DD/MM/YYYY format. Provide format or specify infer_datetime_format=True for consistent parsing.\n",
      "\n",
      "C:\\Users\\jljoa\\AppData\\Local\\Temp\\ipykernel_17940\\948663611.py:21: UserWarning:\n",
      "\n",
      "Parsing '14/11/1996' in DD/MM/YYYY format. Provide format or specify infer_datetime_format=True for consistent parsing.\n",
      "\n",
      "C:\\Users\\jljoa\\AppData\\Local\\Temp\\ipykernel_17940\\948663611.py:21: UserWarning:\n",
      "\n",
      "Parsing '20/11/1996' in DD/MM/YYYY format. Provide format or specify infer_datetime_format=True for consistent parsing.\n",
      "\n",
      "C:\\Users\\jljoa\\AppData\\Local\\Temp\\ipykernel_17940\\948663611.py:21: UserWarning:\n",
      "\n",
      "Parsing '23/11/1996' in DD/MM/YYYY format. Provide format or specify infer_datetime_format=True for consistent parsing.\n",
      "\n",
      "C:\\Users\\jljoa\\AppData\\Local\\Temp\\ipykernel_17940\\948663611.py:21: UserWarning:\n",
      "\n",
      "Parsing '26/11/1996' in DD/MM/YYYY format. Provide format or specify infer_datetime_format=True for consistent parsing.\n",
      "\n",
      "C:\\Users\\jljoa\\AppData\\Local\\Temp\\ipykernel_17940\\948663611.py:21: UserWarning:\n",
      "\n",
      "Parsing '13/12/1996' in DD/MM/YYYY format. Provide format or specify infer_datetime_format=True for consistent parsing.\n",
      "\n",
      "C:\\Users\\jljoa\\AppData\\Local\\Temp\\ipykernel_17940\\948663611.py:21: UserWarning:\n",
      "\n",
      "Parsing '23/12/1996' in DD/MM/YYYY format. Provide format or specify infer_datetime_format=True for consistent parsing.\n",
      "\n",
      "C:\\Users\\jljoa\\AppData\\Local\\Temp\\ipykernel_17940\\948663611.py:21: UserWarning:\n",
      "\n",
      "Parsing '27/12/1996' in DD/MM/YYYY format. Provide format or specify infer_datetime_format=True for consistent parsing.\n",
      "\n",
      "C:\\Users\\jljoa\\AppData\\Local\\Temp\\ipykernel_17940\\948663611.py:21: UserWarning:\n",
      "\n",
      "Parsing '29/12/1996' in DD/MM/YYYY format. Provide format or specify infer_datetime_format=True for consistent parsing.\n",
      "\n",
      "C:\\Users\\jljoa\\AppData\\Local\\Temp\\ipykernel_17940\\948663611.py:21: UserWarning:\n",
      "\n",
      "Parsing '31/12/1996' in DD/MM/YYYY format. Provide format or specify infer_datetime_format=True for consistent parsing.\n",
      "\n"
     ]
    }
   ],
   "source": [
    "# Format client birthday and determine sex\n",
    "\n",
    "client_df['birthday'] = pd.to_datetime(client_df['birth_number'].apply(get_formatted_date), infer_datetime_format=True)\n",
    "\n",
    "client_df['sex'] = client_df['birth_number'].apply(get_client_sex_from_birth_number)\n",
    "\n",
    "client_df = client_df.drop(columns=['birth_number'])\n",
    "\n",
    "# Format other dates\n",
    "\n",
    "account_df['acc_creation_date'] = pd.to_datetime(account_df['date'].apply(get_formatted_date), infer_datetime_format=True)\n",
    "\n",
    "account_df = account_df.drop(columns=['date'])\n",
    "\n",
    "trans_dev_df['trans_date'] = pd.to_datetime(trans_dev_df['date'].apply(get_formatted_date), infer_datetime_format=True)\n",
    "\n",
    "trans_dev_df = trans_dev_df.drop(columns=['date'])\n",
    "\n",
    "loan_dev_df['date'] = pd.to_datetime(loan_dev_df['date'].apply(get_formatted_date), infer_datetime_format=True)\n",
    "\n",
    "card_dev_df['issued'] = pd.to_datetime(card_dev_df['issued'].apply(get_formatted_date), infer_datetime_format=True)"
   ]
  },
  {
   "cell_type": "markdown",
   "id": "c275a899",
   "metadata": {},
   "source": [
    "# Join Data"
   ]
  },
  {
   "cell_type": "markdown",
   "id": "c9d2ea80",
   "metadata": {},
   "source": [
    "Data must all be displayed in one dataset."
   ]
  },
  {
   "cell_type": "markdown",
   "id": "00cb260c",
   "metadata": {},
   "source": [
    "## Join Account and Disposition"
   ]
  },
  {
   "cell_type": "code",
   "execution_count": 423,
   "id": "35c141cc",
   "metadata": {},
   "outputs": [
    {
     "data": {
      "text/html": [
       "<div>\n",
       "<style scoped>\n",
       "    .dataframe tbody tr th:only-of-type {\n",
       "        vertical-align: middle;\n",
       "    }\n",
       "\n",
       "    .dataframe tbody tr th {\n",
       "        vertical-align: top;\n",
       "    }\n",
       "\n",
       "    .dataframe thead th {\n",
       "        text-align: right;\n",
       "    }\n",
       "</style>\n",
       "<table border=\"1\" class=\"dataframe\">\n",
       "  <thead>\n",
       "    <tr style=\"text-align: right;\">\n",
       "      <th></th>\n",
       "      <th>account_id</th>\n",
       "      <th>district_id</th>\n",
       "      <th>issuance_freq</th>\n",
       "      <th>acc_creation_date</th>\n",
       "      <th>disp_id</th>\n",
       "      <th>client_id</th>\n",
       "      <th>shared</th>\n",
       "    </tr>\n",
       "  </thead>\n",
       "  <tbody>\n",
       "    <tr>\n",
       "      <th>0</th>\n",
       "      <td>576</td>\n",
       "      <td>55</td>\n",
       "      <td>monthly issuance</td>\n",
       "      <td>1993-01-01</td>\n",
       "      <td>692</td>\n",
       "      <td>692</td>\n",
       "      <td>1</td>\n",
       "    </tr>\n",
       "    <tr>\n",
       "      <th>2</th>\n",
       "      <td>3818</td>\n",
       "      <td>74</td>\n",
       "      <td>monthly issuance</td>\n",
       "      <td>1993-01-01</td>\n",
       "      <td>4601</td>\n",
       "      <td>4601</td>\n",
       "      <td>1</td>\n",
       "    </tr>\n",
       "    <tr>\n",
       "      <th>4</th>\n",
       "      <td>704</td>\n",
       "      <td>55</td>\n",
       "      <td>monthly issuance</td>\n",
       "      <td>1993-01-01</td>\n",
       "      <td>844</td>\n",
       "      <td>844</td>\n",
       "      <td>1</td>\n",
       "    </tr>\n",
       "    <tr>\n",
       "      <th>6</th>\n",
       "      <td>2378</td>\n",
       "      <td>16</td>\n",
       "      <td>monthly issuance</td>\n",
       "      <td>1993-01-01</td>\n",
       "      <td>2873</td>\n",
       "      <td>2873</td>\n",
       "      <td>0</td>\n",
       "    </tr>\n",
       "    <tr>\n",
       "      <th>7</th>\n",
       "      <td>2632</td>\n",
       "      <td>24</td>\n",
       "      <td>monthly issuance</td>\n",
       "      <td>1993-02-01</td>\n",
       "      <td>3177</td>\n",
       "      <td>3177</td>\n",
       "      <td>0</td>\n",
       "    </tr>\n",
       "  </tbody>\n",
       "</table>\n",
       "</div>"
      ],
      "text/plain": [
       "   account_id  district_id     issuance_freq acc_creation_date  disp_id  \\\n",
       "0         576           55  monthly issuance        1993-01-01      692   \n",
       "2        3818           74  monthly issuance        1993-01-01     4601   \n",
       "4         704           55  monthly issuance        1993-01-01      844   \n",
       "6        2378           16  monthly issuance        1993-01-01     2873   \n",
       "7        2632           24  monthly issuance        1993-02-01     3177   \n",
       "\n",
       "   client_id  shared  \n",
       "0        692       1  \n",
       "2       4601       1  \n",
       "4        844       1  \n",
       "6       2873       0  \n",
       "7       3177       0  "
      ]
     },
     "execution_count": 423,
     "metadata": {},
     "output_type": "execute_result"
    }
   ],
   "source": [
    "joined_df = account_df.merge(disp_df, on='account_id', how='inner', suffixes=['', '_disp'])\n",
    "\n",
    "joined_df.rename(columns={\n",
    "    'type': 'account_type',\n",
    "    'frequency': 'issuance_freq'\n",
    "}, inplace=True)\n",
    "\n",
    "# Determine if account is shared or not\n",
    "owner_number_account = joined_df['account_id'].value_counts()\n",
    "\n",
    "joined_df['shared'] = joined_df.apply(lambda row: 1 if owner_number_account[row['account_id']] > 1 else 0, axis=1)\n",
    "\n",
    "# Drop rows with disponents so there are no duplicated account rows\n",
    "joined_df.drop(joined_df[joined_df['account_type'] == 'DISPONENT'].index, inplace=True)\n",
    "\n",
    "# Drop account_type and disp_id column\n",
    "joined_df.drop(columns=['account_type'], inplace=True)\n",
    "\n",
    "joined_df.head()"
   ]
  },
  {
   "cell_type": "markdown",
   "id": "8c7e16e6",
   "metadata": {},
   "source": [
    "## Join Clients"
   ]
  },
  {
   "cell_type": "code",
   "execution_count": 424,
   "id": "22cd7eca",
   "metadata": {},
   "outputs": [
    {
     "data": {
      "text/html": [
       "<div>\n",
       "<style scoped>\n",
       "    .dataframe tbody tr th:only-of-type {\n",
       "        vertical-align: middle;\n",
       "    }\n",
       "\n",
       "    .dataframe tbody tr th {\n",
       "        vertical-align: top;\n",
       "    }\n",
       "\n",
       "    .dataframe thead th {\n",
       "        text-align: right;\n",
       "    }\n",
       "</style>\n",
       "<table border=\"1\" class=\"dataframe\">\n",
       "  <thead>\n",
       "    <tr style=\"text-align: right;\">\n",
       "      <th></th>\n",
       "      <th>account_id</th>\n",
       "      <th>district_id</th>\n",
       "      <th>issuance_freq</th>\n",
       "      <th>acc_creation_date</th>\n",
       "      <th>disp_id</th>\n",
       "      <th>shared</th>\n",
       "      <th>district_id_client</th>\n",
       "      <th>birthday</th>\n",
       "      <th>sex</th>\n",
       "    </tr>\n",
       "  </thead>\n",
       "  <tbody>\n",
       "    <tr>\n",
       "      <th>0</th>\n",
       "      <td>576</td>\n",
       "      <td>55</td>\n",
       "      <td>monthly issuance</td>\n",
       "      <td>1993-01-01</td>\n",
       "      <td>692</td>\n",
       "      <td>1</td>\n",
       "      <td>74</td>\n",
       "      <td>1936-01-11</td>\n",
       "      <td>F</td>\n",
       "    </tr>\n",
       "    <tr>\n",
       "      <th>1</th>\n",
       "      <td>3818</td>\n",
       "      <td>74</td>\n",
       "      <td>monthly issuance</td>\n",
       "      <td>1993-01-01</td>\n",
       "      <td>4601</td>\n",
       "      <td>1</td>\n",
       "      <td>1</td>\n",
       "      <td>1935-04-02</td>\n",
       "      <td>M</td>\n",
       "    </tr>\n",
       "    <tr>\n",
       "      <th>2</th>\n",
       "      <td>704</td>\n",
       "      <td>55</td>\n",
       "      <td>monthly issuance</td>\n",
       "      <td>1993-01-01</td>\n",
       "      <td>844</td>\n",
       "      <td>1</td>\n",
       "      <td>22</td>\n",
       "      <td>1945-01-14</td>\n",
       "      <td>M</td>\n",
       "    </tr>\n",
       "    <tr>\n",
       "      <th>3</th>\n",
       "      <td>2378</td>\n",
       "      <td>16</td>\n",
       "      <td>monthly issuance</td>\n",
       "      <td>1993-01-01</td>\n",
       "      <td>2873</td>\n",
       "      <td>0</td>\n",
       "      <td>16</td>\n",
       "      <td>1975-03-24</td>\n",
       "      <td>F</td>\n",
       "    </tr>\n",
       "    <tr>\n",
       "      <th>4</th>\n",
       "      <td>2632</td>\n",
       "      <td>24</td>\n",
       "      <td>monthly issuance</td>\n",
       "      <td>1993-02-01</td>\n",
       "      <td>3177</td>\n",
       "      <td>0</td>\n",
       "      <td>24</td>\n",
       "      <td>1938-08-12</td>\n",
       "      <td>M</td>\n",
       "    </tr>\n",
       "  </tbody>\n",
       "</table>\n",
       "</div>"
      ],
      "text/plain": [
       "   account_id  district_id     issuance_freq acc_creation_date  disp_id  \\\n",
       "0         576           55  monthly issuance        1993-01-01      692   \n",
       "1        3818           74  monthly issuance        1993-01-01     4601   \n",
       "2         704           55  monthly issuance        1993-01-01      844   \n",
       "3        2378           16  monthly issuance        1993-01-01     2873   \n",
       "4        2632           24  monthly issuance        1993-02-01     3177   \n",
       "\n",
       "   shared  district_id_client   birthday sex  \n",
       "0       1                  74 1936-01-11   F  \n",
       "1       1                   1 1935-04-02   M  \n",
       "2       1                  22 1945-01-14   M  \n",
       "3       0                  16 1975-03-24   F  \n",
       "4       0                  24 1938-08-12   M  "
      ]
     },
     "execution_count": 424,
     "metadata": {},
     "output_type": "execute_result"
    }
   ],
   "source": [
    "joined_df = joined_df.merge(client_df, on='client_id', how='left', suffixes=['', '_client'])\n",
    "\n",
    "joined_df.drop(columns=['client_id'], inplace=True)\n",
    "\n",
    "joined_df.head()"
   ]
  },
  {
   "cell_type": "markdown",
   "id": "eab9cfbd",
   "metadata": {},
   "source": [
    "## Join District"
   ]
  },
  {
   "cell_type": "markdown",
   "id": "6d613f10",
   "metadata": {},
   "source": [
    "There are currently two District ids in the dataset for each row. We are going to join on the client's district id since we surmise this information will be more relevant to wheter they pay off the loan or not than the district the account was registered on."
   ]
  },
  {
   "cell_type": "code",
   "execution_count": 425,
   "id": "5bbae4ae",
   "metadata": {},
   "outputs": [
    {
     "data": {
      "text/html": [
       "<div>\n",
       "<style scoped>\n",
       "    .dataframe tbody tr th:only-of-type {\n",
       "        vertical-align: middle;\n",
       "    }\n",
       "\n",
       "    .dataframe tbody tr th {\n",
       "        vertical-align: top;\n",
       "    }\n",
       "\n",
       "    .dataframe thead th {\n",
       "        text-align: right;\n",
       "    }\n",
       "</style>\n",
       "<table border=\"1\" class=\"dataframe\">\n",
       "  <thead>\n",
       "    <tr style=\"text-align: right;\">\n",
       "      <th></th>\n",
       "      <th>account_id</th>\n",
       "      <th>issuance_freq</th>\n",
       "      <th>acc_creation_date</th>\n",
       "      <th>disp_id</th>\n",
       "      <th>shared</th>\n",
       "      <th>birthday</th>\n",
       "      <th>sex</th>\n",
       "      <th>district_code</th>\n",
       "      <th>district_name</th>\n",
       "      <th>region</th>\n",
       "      <th>...</th>\n",
       "      <th>no. of municipalities with inhabitants 2000-9999</th>\n",
       "      <th>no. of municipalities with inhabitants &gt;10000</th>\n",
       "      <th>no. of cities</th>\n",
       "      <th>ratio of urban inhabitants</th>\n",
       "      <th>average salary</th>\n",
       "      <th>unemploymant rate '95</th>\n",
       "      <th>unemploymant rate '96</th>\n",
       "      <th>no. of enterpreneurs per 1000 inhabitants</th>\n",
       "      <th>no. of commited crimes '95</th>\n",
       "      <th>no. of commited crimes '96</th>\n",
       "    </tr>\n",
       "  </thead>\n",
       "  <tbody>\n",
       "    <tr>\n",
       "      <th>0</th>\n",
       "      <td>576</td>\n",
       "      <td>monthly issuance</td>\n",
       "      <td>1993-01-01</td>\n",
       "      <td>692</td>\n",
       "      <td>1</td>\n",
       "      <td>1936-01-11</td>\n",
       "      <td>F</td>\n",
       "      <td>74</td>\n",
       "      <td>Ostrava - mesto</td>\n",
       "      <td>north Moravia</td>\n",
       "      <td>...</td>\n",
       "      <td>0</td>\n",
       "      <td>1</td>\n",
       "      <td>1</td>\n",
       "      <td>100.0</td>\n",
       "      <td>10673</td>\n",
       "      <td>4.75</td>\n",
       "      <td>5.44</td>\n",
       "      <td>100</td>\n",
       "      <td>18782.0</td>\n",
       "      <td>18347</td>\n",
       "    </tr>\n",
       "    <tr>\n",
       "      <th>1</th>\n",
       "      <td>2484</td>\n",
       "      <td>monthly issuance</td>\n",
       "      <td>1993-03-01</td>\n",
       "      <td>2999</td>\n",
       "      <td>0</td>\n",
       "      <td>1979-03-24</td>\n",
       "      <td>F</td>\n",
       "      <td>74</td>\n",
       "      <td>Ostrava - mesto</td>\n",
       "      <td>north Moravia</td>\n",
       "      <td>...</td>\n",
       "      <td>0</td>\n",
       "      <td>1</td>\n",
       "      <td>1</td>\n",
       "      <td>100.0</td>\n",
       "      <td>10673</td>\n",
       "      <td>4.75</td>\n",
       "      <td>5.44</td>\n",
       "      <td>100</td>\n",
       "      <td>18782.0</td>\n",
       "      <td>18347</td>\n",
       "    </tr>\n",
       "    <tr>\n",
       "      <th>2</th>\n",
       "      <td>1338</td>\n",
       "      <td>monthly issuance</td>\n",
       "      <td>1993-11-01</td>\n",
       "      <td>1619</td>\n",
       "      <td>1</td>\n",
       "      <td>1942-01-27</td>\n",
       "      <td>F</td>\n",
       "      <td>74</td>\n",
       "      <td>Ostrava - mesto</td>\n",
       "      <td>north Moravia</td>\n",
       "      <td>...</td>\n",
       "      <td>0</td>\n",
       "      <td>1</td>\n",
       "      <td>1</td>\n",
       "      <td>100.0</td>\n",
       "      <td>10673</td>\n",
       "      <td>4.75</td>\n",
       "      <td>5.44</td>\n",
       "      <td>100</td>\n",
       "      <td>18782.0</td>\n",
       "      <td>18347</td>\n",
       "    </tr>\n",
       "    <tr>\n",
       "      <th>3</th>\n",
       "      <td>1179</td>\n",
       "      <td>monthly issuance</td>\n",
       "      <td>1993-01-23</td>\n",
       "      <td>1419</td>\n",
       "      <td>1</td>\n",
       "      <td>1918-01-25</td>\n",
       "      <td>F</td>\n",
       "      <td>74</td>\n",
       "      <td>Ostrava - mesto</td>\n",
       "      <td>north Moravia</td>\n",
       "      <td>...</td>\n",
       "      <td>0</td>\n",
       "      <td>1</td>\n",
       "      <td>1</td>\n",
       "      <td>100.0</td>\n",
       "      <td>10673</td>\n",
       "      <td>4.75</td>\n",
       "      <td>5.44</td>\n",
       "      <td>100</td>\n",
       "      <td>18782.0</td>\n",
       "      <td>18347</td>\n",
       "    </tr>\n",
       "    <tr>\n",
       "      <th>4</th>\n",
       "      <td>1649</td>\n",
       "      <td>monthly issuance</td>\n",
       "      <td>1993-01-26</td>\n",
       "      <td>1999</td>\n",
       "      <td>0</td>\n",
       "      <td>1982-02-10</td>\n",
       "      <td>F</td>\n",
       "      <td>74</td>\n",
       "      <td>Ostrava - mesto</td>\n",
       "      <td>north Moravia</td>\n",
       "      <td>...</td>\n",
       "      <td>0</td>\n",
       "      <td>1</td>\n",
       "      <td>1</td>\n",
       "      <td>100.0</td>\n",
       "      <td>10673</td>\n",
       "      <td>4.75</td>\n",
       "      <td>5.44</td>\n",
       "      <td>100</td>\n",
       "      <td>18782.0</td>\n",
       "      <td>18347</td>\n",
       "    </tr>\n",
       "  </tbody>\n",
       "</table>\n",
       "<p>5 rows × 23 columns</p>\n",
       "</div>"
      ],
      "text/plain": [
       "   account_id     issuance_freq acc_creation_date  disp_id  shared   birthday  \\\n",
       "0         576  monthly issuance        1993-01-01      692       1 1936-01-11   \n",
       "1        2484  monthly issuance        1993-03-01     2999       0 1979-03-24   \n",
       "2        1338  monthly issuance        1993-11-01     1619       1 1942-01-27   \n",
       "3        1179  monthly issuance        1993-01-23     1419       1 1918-01-25   \n",
       "4        1649  monthly issuance        1993-01-26     1999       0 1982-02-10   \n",
       "\n",
       "  sex  district_code    district_name         region  ...  \\\n",
       "0   F             74  Ostrava - mesto  north Moravia  ...   \n",
       "1   F             74  Ostrava - mesto  north Moravia  ...   \n",
       "2   F             74  Ostrava - mesto  north Moravia  ...   \n",
       "3   F             74  Ostrava - mesto  north Moravia  ...   \n",
       "4   F             74  Ostrava - mesto  north Moravia  ...   \n",
       "\n",
       "   no. of municipalities with inhabitants 2000-9999  \\\n",
       "0                                                 0   \n",
       "1                                                 0   \n",
       "2                                                 0   \n",
       "3                                                 0   \n",
       "4                                                 0   \n",
       "\n",
       "   no. of municipalities with inhabitants >10000  no. of cities  \\\n",
       "0                                              1              1   \n",
       "1                                              1              1   \n",
       "2                                              1              1   \n",
       "3                                              1              1   \n",
       "4                                              1              1   \n",
       "\n",
       "   ratio of urban inhabitants  average salary  unemploymant rate '95  \\\n",
       "0                       100.0           10673                   4.75   \n",
       "1                       100.0           10673                   4.75   \n",
       "2                       100.0           10673                   4.75   \n",
       "3                       100.0           10673                   4.75   \n",
       "4                       100.0           10673                   4.75   \n",
       "\n",
       "   unemploymant rate '96  no. of enterpreneurs per 1000 inhabitants  \\\n",
       "0                   5.44                                        100   \n",
       "1                   5.44                                        100   \n",
       "2                   5.44                                        100   \n",
       "3                   5.44                                        100   \n",
       "4                   5.44                                        100   \n",
       "\n",
       "   no. of commited crimes '95  no. of commited crimes '96  \n",
       "0                     18782.0                       18347  \n",
       "1                     18782.0                       18347  \n",
       "2                     18782.0                       18347  \n",
       "3                     18782.0                       18347  \n",
       "4                     18782.0                       18347  \n",
       "\n",
       "[5 rows x 23 columns]"
      ]
     },
     "execution_count": 425,
     "metadata": {},
     "output_type": "execute_result"
    }
   ],
   "source": [
    "joined_df = joined_df.merge(district_df, left_on='district_id_client', right_on='code', how='inner', suffixes=['', '_district'])\n",
    "\n",
    "joined_df.rename(columns={\n",
    "    'code': 'district_code',\n",
    "    'name': 'district_name'\n",
    "}, inplace=True)\n",
    "\n",
    "joined_df.drop(columns=['district_id', 'district_id_client'], inplace=True)\n",
    "\n",
    "joined_df.head()"
   ]
  },
  {
   "cell_type": "markdown",
   "id": "755e1e50",
   "metadata": {},
   "source": [
    "## Join Loan"
   ]
  },
  {
   "cell_type": "code",
   "execution_count": 426,
   "id": "d50a234b",
   "metadata": {},
   "outputs": [
    {
     "data": {
      "text/html": [
       "<div>\n",
       "<style scoped>\n",
       "    .dataframe tbody tr th:only-of-type {\n",
       "        vertical-align: middle;\n",
       "    }\n",
       "\n",
       "    .dataframe tbody tr th {\n",
       "        vertical-align: top;\n",
       "    }\n",
       "\n",
       "    .dataframe thead th {\n",
       "        text-align: right;\n",
       "    }\n",
       "</style>\n",
       "<table border=\"1\" class=\"dataframe\">\n",
       "  <thead>\n",
       "    <tr style=\"text-align: right;\">\n",
       "      <th></th>\n",
       "      <th>account_id</th>\n",
       "      <th>issuance_freq</th>\n",
       "      <th>acc_creation_date</th>\n",
       "      <th>disp_id</th>\n",
       "      <th>shared</th>\n",
       "      <th>birthday</th>\n",
       "      <th>sex</th>\n",
       "      <th>district_code</th>\n",
       "      <th>district_name</th>\n",
       "      <th>region</th>\n",
       "      <th>...</th>\n",
       "      <th>unemploymant rate '96</th>\n",
       "      <th>no. of enterpreneurs per 1000 inhabitants</th>\n",
       "      <th>no. of commited crimes '95</th>\n",
       "      <th>no. of commited crimes '96</th>\n",
       "      <th>loan_date</th>\n",
       "      <th>amount</th>\n",
       "      <th>duration</th>\n",
       "      <th>payments</th>\n",
       "      <th>status</th>\n",
       "      <th>season_on_loan</th>\n",
       "    </tr>\n",
       "  </thead>\n",
       "  <tbody>\n",
       "    <tr>\n",
       "      <th>0</th>\n",
       "      <td>1787</td>\n",
       "      <td>weekly issuance</td>\n",
       "      <td>1993-03-22</td>\n",
       "      <td>2166</td>\n",
       "      <td>0</td>\n",
       "      <td>1947-07-22</td>\n",
       "      <td>F</td>\n",
       "      <td>30</td>\n",
       "      <td>Sokolov</td>\n",
       "      <td>west Bohemia</td>\n",
       "      <td>...</td>\n",
       "      <td>3.67</td>\n",
       "      <td>100</td>\n",
       "      <td>2985.0</td>\n",
       "      <td>2804</td>\n",
       "      <td>1993-05-07</td>\n",
       "      <td>96396</td>\n",
       "      <td>12</td>\n",
       "      <td>8033</td>\n",
       "      <td>-1</td>\n",
       "      <td>spring</td>\n",
       "    </tr>\n",
       "    <tr>\n",
       "      <th>1</th>\n",
       "      <td>1801</td>\n",
       "      <td>monthly issuance</td>\n",
       "      <td>1993-02-13</td>\n",
       "      <td>2181</td>\n",
       "      <td>0</td>\n",
       "      <td>1968-07-22</td>\n",
       "      <td>M</td>\n",
       "      <td>46</td>\n",
       "      <td>Nachod</td>\n",
       "      <td>east Bohemia</td>\n",
       "      <td>...</td>\n",
       "      <td>2.31</td>\n",
       "      <td>117</td>\n",
       "      <td>2854.0</td>\n",
       "      <td>2618</td>\n",
       "      <td>1993-11-07</td>\n",
       "      <td>165960</td>\n",
       "      <td>36</td>\n",
       "      <td>4610</td>\n",
       "      <td>1</td>\n",
       "      <td>autumn</td>\n",
       "    </tr>\n",
       "    <tr>\n",
       "      <th>2</th>\n",
       "      <td>9188</td>\n",
       "      <td>monthly issuance</td>\n",
       "      <td>1993-08-02</td>\n",
       "      <td>11006</td>\n",
       "      <td>0</td>\n",
       "      <td>1936-06-02</td>\n",
       "      <td>M</td>\n",
       "      <td>45</td>\n",
       "      <td>Jicin</td>\n",
       "      <td>east Bohemia</td>\n",
       "      <td>...</td>\n",
       "      <td>2.89</td>\n",
       "      <td>132</td>\n",
       "      <td>2080.0</td>\n",
       "      <td>2122</td>\n",
       "      <td>1993-07-28</td>\n",
       "      <td>127080</td>\n",
       "      <td>60</td>\n",
       "      <td>2118</td>\n",
       "      <td>1</td>\n",
       "      <td>summer</td>\n",
       "    </tr>\n",
       "    <tr>\n",
       "      <th>3</th>\n",
       "      <td>1843</td>\n",
       "      <td>monthly issuance</td>\n",
       "      <td>1993-01-30</td>\n",
       "      <td>2235</td>\n",
       "      <td>0</td>\n",
       "      <td>1940-04-20</td>\n",
       "      <td>F</td>\n",
       "      <td>14</td>\n",
       "      <td>Ceske Budejovice</td>\n",
       "      <td>south Bohemia</td>\n",
       "      <td>...</td>\n",
       "      <td>1.71</td>\n",
       "      <td>135</td>\n",
       "      <td>6604.0</td>\n",
       "      <td>6295</td>\n",
       "      <td>1993-03-08</td>\n",
       "      <td>105804</td>\n",
       "      <td>36</td>\n",
       "      <td>2939</td>\n",
       "      <td>1</td>\n",
       "      <td>winter</td>\n",
       "    </tr>\n",
       "    <tr>\n",
       "      <th>4</th>\n",
       "      <td>11013</td>\n",
       "      <td>weekly issuance</td>\n",
       "      <td>1993-02-14</td>\n",
       "      <td>13231</td>\n",
       "      <td>0</td>\n",
       "      <td>1978-09-07</td>\n",
       "      <td>M</td>\n",
       "      <td>63</td>\n",
       "      <td>Vyskov</td>\n",
       "      <td>south Moravia</td>\n",
       "      <td>...</td>\n",
       "      <td>4.52</td>\n",
       "      <td>110</td>\n",
       "      <td>1562.0</td>\n",
       "      <td>1460</td>\n",
       "      <td>1993-06-09</td>\n",
       "      <td>274740</td>\n",
       "      <td>60</td>\n",
       "      <td>4579</td>\n",
       "      <td>1</td>\n",
       "      <td>spring</td>\n",
       "    </tr>\n",
       "    <tr>\n",
       "      <th>...</th>\n",
       "      <td>...</td>\n",
       "      <td>...</td>\n",
       "      <td>...</td>\n",
       "      <td>...</td>\n",
       "      <td>...</td>\n",
       "      <td>...</td>\n",
       "      <td>...</td>\n",
       "      <td>...</td>\n",
       "      <td>...</td>\n",
       "      <td>...</td>\n",
       "      <td>...</td>\n",
       "      <td>...</td>\n",
       "      <td>...</td>\n",
       "      <td>...</td>\n",
       "      <td>...</td>\n",
       "      <td>...</td>\n",
       "      <td>...</td>\n",
       "      <td>...</td>\n",
       "      <td>...</td>\n",
       "      <td>...</td>\n",
       "      <td>...</td>\n",
       "    </tr>\n",
       "    <tr>\n",
       "      <th>95</th>\n",
       "      <td>8566</td>\n",
       "      <td>monthly issuance</td>\n",
       "      <td>1993-08-10</td>\n",
       "      <td>10258</td>\n",
       "      <td>0</td>\n",
       "      <td>1942-11-09</td>\n",
       "      <td>F</td>\n",
       "      <td>74</td>\n",
       "      <td>Ostrava - mesto</td>\n",
       "      <td>north Moravia</td>\n",
       "      <td>...</td>\n",
       "      <td>5.44</td>\n",
       "      <td>100</td>\n",
       "      <td>18782.0</td>\n",
       "      <td>18347</td>\n",
       "      <td>1994-09-29</td>\n",
       "      <td>230220</td>\n",
       "      <td>36</td>\n",
       "      <td>6395</td>\n",
       "      <td>-1</td>\n",
       "      <td>autumn</td>\n",
       "    </tr>\n",
       "    <tr>\n",
       "      <th>96</th>\n",
       "      <td>7965</td>\n",
       "      <td>monthly issuance</td>\n",
       "      <td>1993-08-11</td>\n",
       "      <td>9536</td>\n",
       "      <td>1</td>\n",
       "      <td>1945-08-03</td>\n",
       "      <td>M</td>\n",
       "      <td>55</td>\n",
       "      <td>Brno - venkov</td>\n",
       "      <td>south Moravia</td>\n",
       "      <td>...</td>\n",
       "      <td>2.43</td>\n",
       "      <td>111</td>\n",
       "      <td>3659.0</td>\n",
       "      <td>3894</td>\n",
       "      <td>1994-09-30</td>\n",
       "      <td>71460</td>\n",
       "      <td>12</td>\n",
       "      <td>5955</td>\n",
       "      <td>1</td>\n",
       "      <td>autumn</td>\n",
       "    </tr>\n",
       "    <tr>\n",
       "      <th>97</th>\n",
       "      <td>5952</td>\n",
       "      <td>monthly issuance</td>\n",
       "      <td>1993-07-09</td>\n",
       "      <td>7195</td>\n",
       "      <td>0</td>\n",
       "      <td>1962-09-11</td>\n",
       "      <td>M</td>\n",
       "      <td>50</td>\n",
       "      <td>Svitavy</td>\n",
       "      <td>east Bohemia</td>\n",
       "      <td>...</td>\n",
       "      <td>5.45</td>\n",
       "      <td>94</td>\n",
       "      <td>2123.0</td>\n",
       "      <td>2134</td>\n",
       "      <td>1994-09-30</td>\n",
       "      <td>141240</td>\n",
       "      <td>24</td>\n",
       "      <td>5885</td>\n",
       "      <td>1</td>\n",
       "      <td>autumn</td>\n",
       "    </tr>\n",
       "    <tr>\n",
       "      <th>98</th>\n",
       "      <td>6040</td>\n",
       "      <td>monthly issuance</td>\n",
       "      <td>1993-04-22</td>\n",
       "      <td>7299</td>\n",
       "      <td>0</td>\n",
       "      <td>1938-09-16</td>\n",
       "      <td>M</td>\n",
       "      <td>1</td>\n",
       "      <td>Hl.m. Praha</td>\n",
       "      <td>Prague</td>\n",
       "      <td>...</td>\n",
       "      <td>0.43</td>\n",
       "      <td>167</td>\n",
       "      <td>85677.0</td>\n",
       "      <td>99107</td>\n",
       "      <td>1994-02-10</td>\n",
       "      <td>11736</td>\n",
       "      <td>24</td>\n",
       "      <td>489</td>\n",
       "      <td>1</td>\n",
       "      <td>winter</td>\n",
       "    </tr>\n",
       "    <tr>\n",
       "      <th>99</th>\n",
       "      <td>4448</td>\n",
       "      <td>monthly issuance</td>\n",
       "      <td>1993-02-06</td>\n",
       "      <td>5366</td>\n",
       "      <td>1</td>\n",
       "      <td>1971-09-20</td>\n",
       "      <td>F</td>\n",
       "      <td>60</td>\n",
       "      <td>Prostejov</td>\n",
       "      <td>south Moravia</td>\n",
       "      <td>...</td>\n",
       "      <td>4.48</td>\n",
       "      <td>115</td>\n",
       "      <td>1879.0</td>\n",
       "      <td>2252</td>\n",
       "      <td>1994-03-10</td>\n",
       "      <td>192744</td>\n",
       "      <td>36</td>\n",
       "      <td>5354</td>\n",
       "      <td>1</td>\n",
       "      <td>winter</td>\n",
       "    </tr>\n",
       "  </tbody>\n",
       "</table>\n",
       "<p>100 rows × 29 columns</p>\n",
       "</div>"
      ],
      "text/plain": [
       "    account_id     issuance_freq acc_creation_date  disp_id  shared  \\\n",
       "0         1787   weekly issuance        1993-03-22     2166       0   \n",
       "1         1801  monthly issuance        1993-02-13     2181       0   \n",
       "2         9188  monthly issuance        1993-08-02    11006       0   \n",
       "3         1843  monthly issuance        1993-01-30     2235       0   \n",
       "4        11013   weekly issuance        1993-02-14    13231       0   \n",
       "..         ...               ...               ...      ...     ...   \n",
       "95        8566  monthly issuance        1993-08-10    10258       0   \n",
       "96        7965  monthly issuance        1993-08-11     9536       1   \n",
       "97        5952  monthly issuance        1993-07-09     7195       0   \n",
       "98        6040  monthly issuance        1993-04-22     7299       0   \n",
       "99        4448  monthly issuance        1993-02-06     5366       1   \n",
       "\n",
       "     birthday sex  district_code     district_name         region  ...  \\\n",
       "0  1947-07-22   F             30           Sokolov   west Bohemia  ...   \n",
       "1  1968-07-22   M             46            Nachod   east Bohemia  ...   \n",
       "2  1936-06-02   M             45             Jicin   east Bohemia  ...   \n",
       "3  1940-04-20   F             14  Ceske Budejovice  south Bohemia  ...   \n",
       "4  1978-09-07   M             63            Vyskov  south Moravia  ...   \n",
       "..        ...  ..            ...               ...            ...  ...   \n",
       "95 1942-11-09   F             74   Ostrava - mesto  north Moravia  ...   \n",
       "96 1945-08-03   M             55     Brno - venkov  south Moravia  ...   \n",
       "97 1962-09-11   M             50           Svitavy   east Bohemia  ...   \n",
       "98 1938-09-16   M              1       Hl.m. Praha         Prague  ...   \n",
       "99 1971-09-20   F             60         Prostejov  south Moravia  ...   \n",
       "\n",
       "    unemploymant rate '96  no. of enterpreneurs per 1000 inhabitants  \\\n",
       "0                    3.67                                        100   \n",
       "1                    2.31                                        117   \n",
       "2                    2.89                                        132   \n",
       "3                    1.71                                        135   \n",
       "4                    4.52                                        110   \n",
       "..                    ...                                        ...   \n",
       "95                   5.44                                        100   \n",
       "96                   2.43                                        111   \n",
       "97                   5.45                                         94   \n",
       "98                   0.43                                        167   \n",
       "99                   4.48                                        115   \n",
       "\n",
       "    no. of commited crimes '95  no. of commited crimes '96  loan_date  amount  \\\n",
       "0                       2985.0                        2804 1993-05-07   96396   \n",
       "1                       2854.0                        2618 1993-11-07  165960   \n",
       "2                       2080.0                        2122 1993-07-28  127080   \n",
       "3                       6604.0                        6295 1993-03-08  105804   \n",
       "4                       1562.0                        1460 1993-06-09  274740   \n",
       "..                         ...                         ...        ...     ...   \n",
       "95                     18782.0                       18347 1994-09-29  230220   \n",
       "96                      3659.0                        3894 1994-09-30   71460   \n",
       "97                      2123.0                        2134 1994-09-30  141240   \n",
       "98                     85677.0                       99107 1994-02-10   11736   \n",
       "99                      1879.0                        2252 1994-03-10  192744   \n",
       "\n",
       "    duration  payments  status  season_on_loan  \n",
       "0         12      8033      -1          spring  \n",
       "1         36      4610       1          autumn  \n",
       "2         60      2118       1          summer  \n",
       "3         36      2939       1          winter  \n",
       "4         60      4579       1          spring  \n",
       "..       ...       ...     ...             ...  \n",
       "95        36      6395      -1          autumn  \n",
       "96        12      5955       1          autumn  \n",
       "97        24      5885       1          autumn  \n",
       "98        24       489       1          winter  \n",
       "99        36      5354       1          winter  \n",
       "\n",
       "[100 rows x 29 columns]"
      ]
     },
     "execution_count": 426,
     "metadata": {},
     "output_type": "execute_result"
    }
   ],
   "source": [
    "joined_df = joined_df.merge(loan_dev_df, on='account_id', how='right', suffixes=['', '_loan'])\n",
    "\n",
    "joined_df.drop(columns=['loan_id'], inplace=True)\n",
    "\n",
    "joined_df.rename(columns={\n",
    "    'date': 'loan_date'\n",
    "}, inplace=True)\n",
    "\n",
    "# Add seasons\n",
    "joined_df['season_on_loan'] = joined_df['loan_date'].apply(get_season_from_Date)\n",
    "\n",
    "joined_df.head(100)"
   ]
  },
  {
   "cell_type": "markdown",
   "id": "18cbedc9",
   "metadata": {},
   "source": [
    "## Determine account owner age on loan request"
   ]
  },
  {
   "cell_type": "code",
   "execution_count": 427,
   "id": "7e83ec86",
   "metadata": {},
   "outputs": [
    {
     "data": {
      "text/html": [
       "<div>\n",
       "<style scoped>\n",
       "    .dataframe tbody tr th:only-of-type {\n",
       "        vertical-align: middle;\n",
       "    }\n",
       "\n",
       "    .dataframe tbody tr th {\n",
       "        vertical-align: top;\n",
       "    }\n",
       "\n",
       "    .dataframe thead th {\n",
       "        text-align: right;\n",
       "    }\n",
       "</style>\n",
       "<table border=\"1\" class=\"dataframe\">\n",
       "  <thead>\n",
       "    <tr style=\"text-align: right;\">\n",
       "      <th></th>\n",
       "      <th>account_id</th>\n",
       "      <th>issuance_freq</th>\n",
       "      <th>acc_creation_date</th>\n",
       "      <th>disp_id</th>\n",
       "      <th>shared</th>\n",
       "      <th>sex</th>\n",
       "      <th>district_code</th>\n",
       "      <th>district_name</th>\n",
       "      <th>region</th>\n",
       "      <th>no. of inhabitants</th>\n",
       "      <th>...</th>\n",
       "      <th>no. of enterpreneurs per 1000 inhabitants</th>\n",
       "      <th>no. of commited crimes '95</th>\n",
       "      <th>no. of commited crimes '96</th>\n",
       "      <th>loan_date</th>\n",
       "      <th>amount</th>\n",
       "      <th>duration</th>\n",
       "      <th>payments</th>\n",
       "      <th>status</th>\n",
       "      <th>season_on_loan</th>\n",
       "      <th>age_on_loan_request</th>\n",
       "    </tr>\n",
       "  </thead>\n",
       "  <tbody>\n",
       "    <tr>\n",
       "      <th>0</th>\n",
       "      <td>1787</td>\n",
       "      <td>weekly issuance</td>\n",
       "      <td>1993-03-22</td>\n",
       "      <td>2166</td>\n",
       "      <td>0</td>\n",
       "      <td>F</td>\n",
       "      <td>30</td>\n",
       "      <td>Sokolov</td>\n",
       "      <td>west Bohemia</td>\n",
       "      <td>94812</td>\n",
       "      <td>...</td>\n",
       "      <td>100</td>\n",
       "      <td>2985.0</td>\n",
       "      <td>2804</td>\n",
       "      <td>1993-05-07</td>\n",
       "      <td>96396</td>\n",
       "      <td>12</td>\n",
       "      <td>8033</td>\n",
       "      <td>-1</td>\n",
       "      <td>spring</td>\n",
       "      <td>45.794233</td>\n",
       "    </tr>\n",
       "    <tr>\n",
       "      <th>1</th>\n",
       "      <td>1801</td>\n",
       "      <td>monthly issuance</td>\n",
       "      <td>1993-02-13</td>\n",
       "      <td>2181</td>\n",
       "      <td>0</td>\n",
       "      <td>M</td>\n",
       "      <td>46</td>\n",
       "      <td>Nachod</td>\n",
       "      <td>east Bohemia</td>\n",
       "      <td>112709</td>\n",
       "      <td>...</td>\n",
       "      <td>117</td>\n",
       "      <td>2854.0</td>\n",
       "      <td>2618</td>\n",
       "      <td>1993-11-07</td>\n",
       "      <td>165960</td>\n",
       "      <td>36</td>\n",
       "      <td>4610</td>\n",
       "      <td>1</td>\n",
       "      <td>autumn</td>\n",
       "      <td>25.295523</td>\n",
       "    </tr>\n",
       "    <tr>\n",
       "      <th>2</th>\n",
       "      <td>9188</td>\n",
       "      <td>monthly issuance</td>\n",
       "      <td>1993-08-02</td>\n",
       "      <td>11006</td>\n",
       "      <td>0</td>\n",
       "      <td>M</td>\n",
       "      <td>45</td>\n",
       "      <td>Jicin</td>\n",
       "      <td>east Bohemia</td>\n",
       "      <td>77917</td>\n",
       "      <td>...</td>\n",
       "      <td>132</td>\n",
       "      <td>2080.0</td>\n",
       "      <td>2122</td>\n",
       "      <td>1993-07-28</td>\n",
       "      <td>127080</td>\n",
       "      <td>60</td>\n",
       "      <td>2118</td>\n",
       "      <td>1</td>\n",
       "      <td>summer</td>\n",
       "      <td>57.153809</td>\n",
       "    </tr>\n",
       "    <tr>\n",
       "      <th>3</th>\n",
       "      <td>1843</td>\n",
       "      <td>monthly issuance</td>\n",
       "      <td>1993-01-30</td>\n",
       "      <td>2235</td>\n",
       "      <td>0</td>\n",
       "      <td>F</td>\n",
       "      <td>14</td>\n",
       "      <td>Ceske Budejovice</td>\n",
       "      <td>south Bohemia</td>\n",
       "      <td>177686</td>\n",
       "      <td>...</td>\n",
       "      <td>135</td>\n",
       "      <td>6604.0</td>\n",
       "      <td>6295</td>\n",
       "      <td>1993-03-08</td>\n",
       "      <td>105804</td>\n",
       "      <td>36</td>\n",
       "      <td>2939</td>\n",
       "      <td>1</td>\n",
       "      <td>winter</td>\n",
       "      <td>52.882674</td>\n",
       "    </tr>\n",
       "    <tr>\n",
       "      <th>4</th>\n",
       "      <td>11013</td>\n",
       "      <td>weekly issuance</td>\n",
       "      <td>1993-02-14</td>\n",
       "      <td>13231</td>\n",
       "      <td>0</td>\n",
       "      <td>M</td>\n",
       "      <td>63</td>\n",
       "      <td>Vyskov</td>\n",
       "      <td>south Moravia</td>\n",
       "      <td>86513</td>\n",
       "      <td>...</td>\n",
       "      <td>110</td>\n",
       "      <td>1562.0</td>\n",
       "      <td>1460</td>\n",
       "      <td>1993-06-09</td>\n",
       "      <td>274740</td>\n",
       "      <td>60</td>\n",
       "      <td>4579</td>\n",
       "      <td>1</td>\n",
       "      <td>spring</td>\n",
       "      <td>14.754581</td>\n",
       "    </tr>\n",
       "  </tbody>\n",
       "</table>\n",
       "<p>5 rows × 29 columns</p>\n",
       "</div>"
      ],
      "text/plain": [
       "   account_id     issuance_freq acc_creation_date  disp_id  shared sex  \\\n",
       "0        1787   weekly issuance        1993-03-22     2166       0   F   \n",
       "1        1801  monthly issuance        1993-02-13     2181       0   M   \n",
       "2        9188  monthly issuance        1993-08-02    11006       0   M   \n",
       "3        1843  monthly issuance        1993-01-30     2235       0   F   \n",
       "4       11013   weekly issuance        1993-02-14    13231       0   M   \n",
       "\n",
       "   district_code     district_name         region  no. of inhabitants  ...  \\\n",
       "0             30           Sokolov   west Bohemia               94812  ...   \n",
       "1             46            Nachod   east Bohemia              112709  ...   \n",
       "2             45             Jicin   east Bohemia               77917  ...   \n",
       "3             14  Ceske Budejovice  south Bohemia              177686  ...   \n",
       "4             63            Vyskov  south Moravia               86513  ...   \n",
       "\n",
       "   no. of enterpreneurs per 1000 inhabitants  no. of commited crimes '95  \\\n",
       "0                                        100                      2985.0   \n",
       "1                                        117                      2854.0   \n",
       "2                                        132                      2080.0   \n",
       "3                                        135                      6604.0   \n",
       "4                                        110                      1562.0   \n",
       "\n",
       "   no. of commited crimes '96  loan_date  amount  duration  payments  status  \\\n",
       "0                        2804 1993-05-07   96396        12      8033      -1   \n",
       "1                        2618 1993-11-07  165960        36      4610       1   \n",
       "2                        2122 1993-07-28  127080        60      2118       1   \n",
       "3                        6295 1993-03-08  105804        36      2939       1   \n",
       "4                        1460 1993-06-09  274740        60      4579       1   \n",
       "\n",
       "   season_on_loan  age_on_loan_request  \n",
       "0          spring            45.794233  \n",
       "1          autumn            25.295523  \n",
       "2          summer            57.153809  \n",
       "3          winter            52.882674  \n",
       "4          spring            14.754581  \n",
       "\n",
       "[5 rows x 29 columns]"
      ]
     },
     "execution_count": 427,
     "metadata": {},
     "output_type": "execute_result"
    }
   ],
   "source": [
    "joined_df['age_on_loan_request'] = joined_df.apply(lambda row: (row['loan_date'] - row['birthday'])/np.timedelta64(1, 'Y'), axis=1)\n",
    "\n",
    "joined_df.drop(columns=['birthday'], inplace=True)\n",
    "\n",
    "joined_df.head()"
   ]
  },
  {
   "cell_type": "markdown",
   "id": "3ff5217a",
   "metadata": {},
   "source": [
    "## Join Cards"
   ]
  },
  {
   "cell_type": "markdown",
   "id": "0f00e278",
   "metadata": {},
   "source": [
    "There are a lot of clients without cards so simply joining the datasets would result in a large amount of null values. Instead we will record the card score attached to each account giving more weight to *classic* and *gold* cards. This is done beacause to have access to better credit cards the client must have a history of making and paying of loans in time."
   ]
  },
  {
   "cell_type": "code",
   "execution_count": 428,
   "id": "ff6494df",
   "metadata": {},
   "outputs": [
    {
     "data": {
      "text/html": [
       "<div>\n",
       "<style scoped>\n",
       "    .dataframe tbody tr th:only-of-type {\n",
       "        vertical-align: middle;\n",
       "    }\n",
       "\n",
       "    .dataframe tbody tr th {\n",
       "        vertical-align: top;\n",
       "    }\n",
       "\n",
       "    .dataframe thead th {\n",
       "        text-align: right;\n",
       "    }\n",
       "</style>\n",
       "<table border=\"1\" class=\"dataframe\">\n",
       "  <thead>\n",
       "    <tr style=\"text-align: right;\">\n",
       "      <th></th>\n",
       "      <th>account_id</th>\n",
       "      <th>issuance_freq</th>\n",
       "      <th>acc_creation_date</th>\n",
       "      <th>disp_id</th>\n",
       "      <th>shared</th>\n",
       "      <th>sex</th>\n",
       "      <th>district_code</th>\n",
       "      <th>district_name</th>\n",
       "      <th>region</th>\n",
       "      <th>no. of inhabitants</th>\n",
       "      <th>...</th>\n",
       "      <th>no. of commited crimes '95</th>\n",
       "      <th>no. of commited crimes '96</th>\n",
       "      <th>loan_date</th>\n",
       "      <th>amount</th>\n",
       "      <th>duration</th>\n",
       "      <th>payments</th>\n",
       "      <th>status</th>\n",
       "      <th>season_on_loan</th>\n",
       "      <th>age_on_loan_request</th>\n",
       "      <th>card_score</th>\n",
       "    </tr>\n",
       "  </thead>\n",
       "  <tbody>\n",
       "    <tr>\n",
       "      <th>0</th>\n",
       "      <td>1787</td>\n",
       "      <td>weekly issuance</td>\n",
       "      <td>1993-03-22</td>\n",
       "      <td>2166</td>\n",
       "      <td>0</td>\n",
       "      <td>F</td>\n",
       "      <td>30</td>\n",
       "      <td>Sokolov</td>\n",
       "      <td>west Bohemia</td>\n",
       "      <td>94812</td>\n",
       "      <td>...</td>\n",
       "      <td>2985.0</td>\n",
       "      <td>2804</td>\n",
       "      <td>1993-05-07</td>\n",
       "      <td>96396</td>\n",
       "      <td>12</td>\n",
       "      <td>8033</td>\n",
       "      <td>-1</td>\n",
       "      <td>spring</td>\n",
       "      <td>45.794233</td>\n",
       "      <td>0</td>\n",
       "    </tr>\n",
       "    <tr>\n",
       "      <th>1</th>\n",
       "      <td>1801</td>\n",
       "      <td>monthly issuance</td>\n",
       "      <td>1993-02-13</td>\n",
       "      <td>2181</td>\n",
       "      <td>0</td>\n",
       "      <td>M</td>\n",
       "      <td>46</td>\n",
       "      <td>Nachod</td>\n",
       "      <td>east Bohemia</td>\n",
       "      <td>112709</td>\n",
       "      <td>...</td>\n",
       "      <td>2854.0</td>\n",
       "      <td>2618</td>\n",
       "      <td>1993-11-07</td>\n",
       "      <td>165960</td>\n",
       "      <td>36</td>\n",
       "      <td>4610</td>\n",
       "      <td>1</td>\n",
       "      <td>autumn</td>\n",
       "      <td>25.295523</td>\n",
       "      <td>0</td>\n",
       "    </tr>\n",
       "    <tr>\n",
       "      <th>2</th>\n",
       "      <td>9188</td>\n",
       "      <td>monthly issuance</td>\n",
       "      <td>1993-08-02</td>\n",
       "      <td>11006</td>\n",
       "      <td>0</td>\n",
       "      <td>M</td>\n",
       "      <td>45</td>\n",
       "      <td>Jicin</td>\n",
       "      <td>east Bohemia</td>\n",
       "      <td>77917</td>\n",
       "      <td>...</td>\n",
       "      <td>2080.0</td>\n",
       "      <td>2122</td>\n",
       "      <td>1993-07-28</td>\n",
       "      <td>127080</td>\n",
       "      <td>60</td>\n",
       "      <td>2118</td>\n",
       "      <td>1</td>\n",
       "      <td>summer</td>\n",
       "      <td>57.153809</td>\n",
       "      <td>0</td>\n",
       "    </tr>\n",
       "    <tr>\n",
       "      <th>3</th>\n",
       "      <td>1843</td>\n",
       "      <td>monthly issuance</td>\n",
       "      <td>1993-01-30</td>\n",
       "      <td>2235</td>\n",
       "      <td>0</td>\n",
       "      <td>F</td>\n",
       "      <td>14</td>\n",
       "      <td>Ceske Budejovice</td>\n",
       "      <td>south Bohemia</td>\n",
       "      <td>177686</td>\n",
       "      <td>...</td>\n",
       "      <td>6604.0</td>\n",
       "      <td>6295</td>\n",
       "      <td>1993-03-08</td>\n",
       "      <td>105804</td>\n",
       "      <td>36</td>\n",
       "      <td>2939</td>\n",
       "      <td>1</td>\n",
       "      <td>winter</td>\n",
       "      <td>52.882674</td>\n",
       "      <td>0</td>\n",
       "    </tr>\n",
       "    <tr>\n",
       "      <th>4</th>\n",
       "      <td>11013</td>\n",
       "      <td>weekly issuance</td>\n",
       "      <td>1993-02-14</td>\n",
       "      <td>13231</td>\n",
       "      <td>0</td>\n",
       "      <td>M</td>\n",
       "      <td>63</td>\n",
       "      <td>Vyskov</td>\n",
       "      <td>south Moravia</td>\n",
       "      <td>86513</td>\n",
       "      <td>...</td>\n",
       "      <td>1562.0</td>\n",
       "      <td>1460</td>\n",
       "      <td>1993-06-09</td>\n",
       "      <td>274740</td>\n",
       "      <td>60</td>\n",
       "      <td>4579</td>\n",
       "      <td>1</td>\n",
       "      <td>spring</td>\n",
       "      <td>14.754581</td>\n",
       "      <td>0</td>\n",
       "    </tr>\n",
       "  </tbody>\n",
       "</table>\n",
       "<p>5 rows × 30 columns</p>\n",
       "</div>"
      ],
      "text/plain": [
       "   account_id     issuance_freq acc_creation_date  disp_id  shared sex  \\\n",
       "0        1787   weekly issuance        1993-03-22     2166       0   F   \n",
       "1        1801  monthly issuance        1993-02-13     2181       0   M   \n",
       "2        9188  monthly issuance        1993-08-02    11006       0   M   \n",
       "3        1843  monthly issuance        1993-01-30     2235       0   F   \n",
       "4       11013   weekly issuance        1993-02-14    13231       0   M   \n",
       "\n",
       "   district_code     district_name         region  no. of inhabitants  ...  \\\n",
       "0             30           Sokolov   west Bohemia               94812  ...   \n",
       "1             46            Nachod   east Bohemia              112709  ...   \n",
       "2             45             Jicin   east Bohemia               77917  ...   \n",
       "3             14  Ceske Budejovice  south Bohemia              177686  ...   \n",
       "4             63            Vyskov  south Moravia               86513  ...   \n",
       "\n",
       "   no. of commited crimes '95  no. of commited crimes '96  loan_date  amount  \\\n",
       "0                      2985.0                        2804 1993-05-07   96396   \n",
       "1                      2854.0                        2618 1993-11-07  165960   \n",
       "2                      2080.0                        2122 1993-07-28  127080   \n",
       "3                      6604.0                        6295 1993-03-08  105804   \n",
       "4                      1562.0                        1460 1993-06-09  274740   \n",
       "\n",
       "   duration  payments  status  season_on_loan  age_on_loan_request  card_score  \n",
       "0        12      8033      -1          spring            45.794233           0  \n",
       "1        36      4610       1          autumn            25.295523           0  \n",
       "2        60      2118       1          summer            57.153809           0  \n",
       "3        36      2939       1          winter            52.882674           0  \n",
       "4        60      4579       1          spring            14.754581           0  \n",
       "\n",
       "[5 rows x 30 columns]"
      ]
     },
     "execution_count": 428,
     "metadata": {},
     "output_type": "execute_result"
    }
   ],
   "source": [
    "card_disp_df = card_dev_df.merge(disp_df, on='disp_id', how='inner', suffixes=['_card', '_disp'])\n",
    "\n",
    "cards_per_user_df = card_disp_df.groupby(['account_id', 'type_card']).size().unstack(fill_value=0)\n",
    "\n",
    "joined_df = joined_df.merge(cards_per_user_df, on='account_id', how='left', suffixes=['', ''])\n",
    "\n",
    "joined_df.fillna(0, inplace=True)\n",
    "\n",
    "joined_df['card_score'] = (joined_df['junior'] + joined_df['classic'] * 3 + joined_df['gold'] * 10).astype(int)\n",
    "\n",
    "joined_df.drop(columns=['junior', 'classic', 'gold'], inplace=True)\n",
    "\n",
    "joined_df.head()"
   ]
  },
  {
   "cell_type": "markdown",
   "id": "b961cce3",
   "metadata": {},
   "source": [
    "## Join Transactions"
   ]
  },
  {
   "cell_type": "code",
   "execution_count": 429,
   "id": "e12db79a",
   "metadata": {},
   "outputs": [
    {
     "data": {
      "text/html": [
       "<div>\n",
       "<style scoped>\n",
       "    .dataframe tbody tr th:only-of-type {\n",
       "        vertical-align: middle;\n",
       "    }\n",
       "\n",
       "    .dataframe tbody tr th {\n",
       "        vertical-align: top;\n",
       "    }\n",
       "\n",
       "    .dataframe thead th {\n",
       "        text-align: right;\n",
       "    }\n",
       "</style>\n",
       "<table border=\"1\" class=\"dataframe\">\n",
       "  <thead>\n",
       "    <tr style=\"text-align: right;\">\n",
       "      <th></th>\n",
       "      <th>account_id</th>\n",
       "      <th>issuance_freq</th>\n",
       "      <th>acc_creation_date</th>\n",
       "      <th>disp_id</th>\n",
       "      <th>shared</th>\n",
       "      <th>sex</th>\n",
       "      <th>district_code</th>\n",
       "      <th>district_name</th>\n",
       "      <th>region</th>\n",
       "      <th>no. of inhabitants</th>\n",
       "      <th>...</th>\n",
       "      <th>amount</th>\n",
       "      <th>duration</th>\n",
       "      <th>payments</th>\n",
       "      <th>status</th>\n",
       "      <th>season_on_loan</th>\n",
       "      <th>age_on_loan_request</th>\n",
       "      <th>card_score</th>\n",
       "      <th>balance_at_loan</th>\n",
       "      <th>balance_three_months_before</th>\n",
       "      <th>balance_six_months_before</th>\n",
       "    </tr>\n",
       "  </thead>\n",
       "  <tbody>\n",
       "    <tr>\n",
       "      <th>0</th>\n",
       "      <td>1787</td>\n",
       "      <td>weekly issuance</td>\n",
       "      <td>1993-03-22</td>\n",
       "      <td>2166</td>\n",
       "      <td>0</td>\n",
       "      <td>F</td>\n",
       "      <td>30</td>\n",
       "      <td>Sokolov</td>\n",
       "      <td>west Bohemia</td>\n",
       "      <td>94812</td>\n",
       "      <td>...</td>\n",
       "      <td>96396</td>\n",
       "      <td>12</td>\n",
       "      <td>8033</td>\n",
       "      <td>-1</td>\n",
       "      <td>spring</td>\n",
       "      <td>45.794233</td>\n",
       "      <td>0</td>\n",
       "      <td>11000.0</td>\n",
       "      <td>0.0</td>\n",
       "      <td>0.0</td>\n",
       "    </tr>\n",
       "    <tr>\n",
       "      <th>1</th>\n",
       "      <td>1801</td>\n",
       "      <td>monthly issuance</td>\n",
       "      <td>1993-02-13</td>\n",
       "      <td>2181</td>\n",
       "      <td>0</td>\n",
       "      <td>M</td>\n",
       "      <td>46</td>\n",
       "      <td>Nachod</td>\n",
       "      <td>east Bohemia</td>\n",
       "      <td>112709</td>\n",
       "      <td>...</td>\n",
       "      <td>165960</td>\n",
       "      <td>36</td>\n",
       "      <td>4610</td>\n",
       "      <td>1</td>\n",
       "      <td>autumn</td>\n",
       "      <td>25.295523</td>\n",
       "      <td>0</td>\n",
       "      <td>52208.9</td>\n",
       "      <td>52208.9</td>\n",
       "      <td>106447.2</td>\n",
       "    </tr>\n",
       "    <tr>\n",
       "      <th>2</th>\n",
       "      <td>9188</td>\n",
       "      <td>monthly issuance</td>\n",
       "      <td>1993-08-02</td>\n",
       "      <td>11006</td>\n",
       "      <td>0</td>\n",
       "      <td>M</td>\n",
       "      <td>45</td>\n",
       "      <td>Jicin</td>\n",
       "      <td>east Bohemia</td>\n",
       "      <td>77917</td>\n",
       "      <td>...</td>\n",
       "      <td>127080</td>\n",
       "      <td>60</td>\n",
       "      <td>2118</td>\n",
       "      <td>1</td>\n",
       "      <td>summer</td>\n",
       "      <td>57.153809</td>\n",
       "      <td>0</td>\n",
       "      <td>20272.8</td>\n",
       "      <td>27619.5</td>\n",
       "      <td>0.0</td>\n",
       "    </tr>\n",
       "    <tr>\n",
       "      <th>3</th>\n",
       "      <td>1843</td>\n",
       "      <td>monthly issuance</td>\n",
       "      <td>1993-01-30</td>\n",
       "      <td>2235</td>\n",
       "      <td>0</td>\n",
       "      <td>F</td>\n",
       "      <td>14</td>\n",
       "      <td>Ceske Budejovice</td>\n",
       "      <td>south Bohemia</td>\n",
       "      <td>177686</td>\n",
       "      <td>...</td>\n",
       "      <td>105804</td>\n",
       "      <td>36</td>\n",
       "      <td>2939</td>\n",
       "      <td>1</td>\n",
       "      <td>winter</td>\n",
       "      <td>52.882674</td>\n",
       "      <td>0</td>\n",
       "      <td>40164.0</td>\n",
       "      <td>0.0</td>\n",
       "      <td>0.0</td>\n",
       "    </tr>\n",
       "    <tr>\n",
       "      <th>4</th>\n",
       "      <td>11013</td>\n",
       "      <td>weekly issuance</td>\n",
       "      <td>1993-02-14</td>\n",
       "      <td>13231</td>\n",
       "      <td>0</td>\n",
       "      <td>M</td>\n",
       "      <td>63</td>\n",
       "      <td>Vyskov</td>\n",
       "      <td>south Moravia</td>\n",
       "      <td>86513</td>\n",
       "      <td>...</td>\n",
       "      <td>274740</td>\n",
       "      <td>60</td>\n",
       "      <td>4579</td>\n",
       "      <td>1</td>\n",
       "      <td>spring</td>\n",
       "      <td>14.754581</td>\n",
       "      <td>0</td>\n",
       "      <td>59527.1</td>\n",
       "      <td>600.0</td>\n",
       "      <td>0.0</td>\n",
       "    </tr>\n",
       "  </tbody>\n",
       "</table>\n",
       "<p>5 rows × 33 columns</p>\n",
       "</div>"
      ],
      "text/plain": [
       "   account_id     issuance_freq acc_creation_date  disp_id  shared sex  \\\n",
       "0        1787   weekly issuance        1993-03-22     2166       0   F   \n",
       "1        1801  monthly issuance        1993-02-13     2181       0   M   \n",
       "2        9188  monthly issuance        1993-08-02    11006       0   M   \n",
       "3        1843  monthly issuance        1993-01-30     2235       0   F   \n",
       "4       11013   weekly issuance        1993-02-14    13231       0   M   \n",
       "\n",
       "   district_code     district_name         region  no. of inhabitants  ...  \\\n",
       "0             30           Sokolov   west Bohemia               94812  ...   \n",
       "1             46            Nachod   east Bohemia              112709  ...   \n",
       "2             45             Jicin   east Bohemia               77917  ...   \n",
       "3             14  Ceske Budejovice  south Bohemia              177686  ...   \n",
       "4             63            Vyskov  south Moravia               86513  ...   \n",
       "\n",
       "   amount  duration  payments  status  season_on_loan  age_on_loan_request  \\\n",
       "0   96396        12      8033      -1          spring            45.794233   \n",
       "1  165960        36      4610       1          autumn            25.295523   \n",
       "2  127080        60      2118       1          summer            57.153809   \n",
       "3  105804        36      2939       1          winter            52.882674   \n",
       "4  274740        60      4579       1          spring            14.754581   \n",
       "\n",
       "   card_score  balance_at_loan  balance_three_months_before  \\\n",
       "0           0          11000.0                          0.0   \n",
       "1           0          52208.9                      52208.9   \n",
       "2           0          20272.8                      27619.5   \n",
       "3           0          40164.0                          0.0   \n",
       "4           0          59527.1                        600.0   \n",
       "\n",
       "   balance_six_months_before  \n",
       "0                        0.0  \n",
       "1                   106447.2  \n",
       "2                        0.0  \n",
       "3                        0.0  \n",
       "4                        0.0  \n",
       "\n",
       "[5 rows x 33 columns]"
      ]
     },
     "execution_count": 429,
     "metadata": {},
     "output_type": "execute_result"
    }
   ],
   "source": [
    "from dateutil.relativedelta import relativedelta\n",
    "\n",
    "account_balance_df = trans_dev_df[['account_id', 'balance', 'trans_date']]\n",
    "\n",
    "def find_balance_at_date(joined_df_row):\n",
    "    # Get all balance information for account\n",
    "    account_balances = account_balance_df[account_balance_df['account_id'] == joined_df_row['account_id']]\n",
    "    \n",
    "    # Get balance at loan date\n",
    "    account_balances_at_loan_date = account_balances.copy()\n",
    "\n",
    "    account_balances_at_loan_date['days_since_trans'] = account_balances_at_loan_date.apply(lambda row: (joined_df_row['loan_date'] - row['trans_date']), axis=1)\n",
    "\n",
    "    account_balances_at_loan_date = account_balances_at_loan_date[account_balances_at_loan_date['days_since_trans'] >= pd.Timedelta(0)]\n",
    "\n",
    "    account_balances_at_loan_date = account_balances_at_loan_date[account_balances_at_loan_date['days_since_trans'] == account_balances_at_loan_date['days_since_trans'].min()]\n",
    "\n",
    "\n",
    "    # Get balance three months before loan date\n",
    "    three_months_ago = joined_df_row['loan_date'] - relativedelta(months=3)\n",
    "\n",
    "    account_balances_three_months_ago = account_balances.copy()\n",
    "\n",
    "    account_balances_three_months_ago['days_since_trans'] = account_balances_three_months_ago.apply(lambda row: (three_months_ago - row['trans_date']), axis=1)\n",
    "\n",
    "    account_balances_three_months_ago = account_balances_three_months_ago[account_balances_three_months_ago['days_since_trans'] >= pd.Timedelta(0)]\n",
    "\n",
    "    account_balances_three_months_ago = account_balances_three_months_ago[account_balances_three_months_ago['days_since_trans'] == account_balances_three_months_ago['days_since_trans'].min()]\n",
    "\n",
    "    # Get balance six months before loan date\n",
    "    six_months_ago = joined_df_row['loan_date'] - relativedelta(months=6)\n",
    "\n",
    "    account_balances_six_months_ago = account_balances.copy()\n",
    "\n",
    "    account_balances_six_months_ago['days_since_trans'] = account_balances_six_months_ago.apply(lambda row: (six_months_ago - row['trans_date']), axis=1)\n",
    "\n",
    "    account_balances_six_months_ago = account_balances_six_months_ago[account_balances_six_months_ago['days_since_trans'] >= pd.Timedelta(0)]\n",
    "\n",
    "    account_balances_six_months_ago = account_balances_six_months_ago[account_balances_six_months_ago['days_since_trans'] == account_balances_six_months_ago['days_since_trans'].min()]\n",
    "\n",
    "\n",
    "    joined_df_row['balance_at_loan'] = account_balances_at_loan_date.iloc[0]['balance'] if len(account_balances_at_loan_date.index) >= 1 else 0\n",
    "    joined_df_row['balance_three_months_before'] = account_balances_three_months_ago.iloc[0]['balance'] if len(account_balances_three_months_ago.index) >= 1 else 0\n",
    "    joined_df_row['balance_six_months_before'] = account_balances_six_months_ago.iloc[0]['balance'] if len(account_balances_six_months_ago.index) >= 1 else 0\n",
    "\n",
    "    return joined_df_row[['balance_at_loan', 'balance_three_months_before', 'balance_six_months_before']]\n",
    "\n",
    "joined_df[['balance_at_loan', 'balance_three_months_before', 'balance_six_months_before']] = joined_df.apply(find_balance_at_date, axis=1)\n",
    "\n",
    "joined_df.head()"
   ]
  },
  {
   "cell_type": "markdown",
   "id": "9c77bf28",
   "metadata": {},
   "source": [
    "## Outliers"
   ]
  },
  {
   "cell_type": "code",
   "execution_count": 430,
   "id": "a1141782",
   "metadata": {},
   "outputs": [
    {
     "data": {
      "text/html": [
       "<div>\n",
       "<style scoped>\n",
       "    .dataframe tbody tr th:only-of-type {\n",
       "        vertical-align: middle;\n",
       "    }\n",
       "\n",
       "    .dataframe tbody tr th {\n",
       "        vertical-align: top;\n",
       "    }\n",
       "\n",
       "    .dataframe thead th {\n",
       "        text-align: right;\n",
       "    }\n",
       "</style>\n",
       "<table border=\"1\" class=\"dataframe\">\n",
       "  <thead>\n",
       "    <tr style=\"text-align: right;\">\n",
       "      <th></th>\n",
       "      <th>no. of commited crimes '95</th>\n",
       "      <th>age_on_loan_request</th>\n",
       "      <th>duration</th>\n",
       "      <th>payments</th>\n",
       "    </tr>\n",
       "  </thead>\n",
       "  <tbody>\n",
       "    <tr>\n",
       "      <th>count</th>\n",
       "      <td>328.000000</td>\n",
       "      <td>328.000000</td>\n",
       "      <td>328.000000</td>\n",
       "      <td>328.000000</td>\n",
       "    </tr>\n",
       "    <tr>\n",
       "      <th>mean</th>\n",
       "      <td>14731.472419</td>\n",
       "      <td>36.242844</td>\n",
       "      <td>35.853659</td>\n",
       "      <td>4150.932927</td>\n",
       "    </tr>\n",
       "    <tr>\n",
       "      <th>std</th>\n",
       "      <td>27166.502446</td>\n",
       "      <td>12.559813</td>\n",
       "      <td>16.734752</td>\n",
       "      <td>2193.620989</td>\n",
       "    </tr>\n",
       "    <tr>\n",
       "      <th>min</th>\n",
       "      <td>818.000000</td>\n",
       "      <td>13.574543</td>\n",
       "      <td>12.000000</td>\n",
       "      <td>319.000000</td>\n",
       "    </tr>\n",
       "    <tr>\n",
       "      <th>25%</th>\n",
       "      <td>2157.000000</td>\n",
       "      <td>25.510449</td>\n",
       "      <td>24.000000</td>\n",
       "      <td>2368.750000</td>\n",
       "    </tr>\n",
       "    <tr>\n",
       "      <th>50%</th>\n",
       "      <td>3577.500000</td>\n",
       "      <td>35.536664</td>\n",
       "      <td>36.000000</td>\n",
       "      <td>3878.500000</td>\n",
       "    </tr>\n",
       "    <tr>\n",
       "      <th>75%</th>\n",
       "      <td>6949.000000</td>\n",
       "      <td>46.747709</td>\n",
       "      <td>48.000000</td>\n",
       "      <td>5907.750000</td>\n",
       "    </tr>\n",
       "    <tr>\n",
       "      <th>max</th>\n",
       "      <td>85677.000000</td>\n",
       "      <td>60.817128</td>\n",
       "      <td>60.000000</td>\n",
       "      <td>9689.000000</td>\n",
       "    </tr>\n",
       "  </tbody>\n",
       "</table>\n",
       "</div>"
      ],
      "text/plain": [
       "       no. of commited crimes '95  age_on_loan_request    duration  \\\n",
       "count                  328.000000           328.000000  328.000000   \n",
       "mean                 14731.472419            36.242844   35.853659   \n",
       "std                  27166.502446            12.559813   16.734752   \n",
       "min                    818.000000            13.574543   12.000000   \n",
       "25%                   2157.000000            25.510449   24.000000   \n",
       "50%                   3577.500000            35.536664   36.000000   \n",
       "75%                   6949.000000            46.747709   48.000000   \n",
       "max                  85677.000000            60.817128   60.000000   \n",
       "\n",
       "          payments  \n",
       "count   328.000000  \n",
       "mean   4150.932927  \n",
       "std    2193.620989  \n",
       "min     319.000000  \n",
       "25%    2368.750000  \n",
       "50%    3878.500000  \n",
       "75%    5907.750000  \n",
       "max    9689.000000  "
      ]
     },
     "execution_count": 430,
     "metadata": {},
     "output_type": "execute_result"
    }
   ],
   "source": [
    "joined_df.describe()[['no. of commited crimes \\'95', 'age_on_loan_request', 'duration', 'payments']]"
   ]
  },
  {
   "cell_type": "code",
   "execution_count": 431,
   "id": "216db2ca",
   "metadata": {},
   "outputs": [
    {
     "data": {
      "application/vnd.plotly.v1+json": {
       "config": {
        "plotlyServerURL": "https://plot.ly"
       },
       "data": [
        {
         "alignmentgroup": "True",
         "bingroup": "x",
         "hovertemplate": "no. of commited crimes '95=%{x}<br>count=%{y}<extra></extra>",
         "legendgroup": "",
         "marker": {
          "color": "#636efa",
          "pattern": {
           "shape": ""
          }
         },
         "name": "",
         "offsetgroup": "",
         "orientation": "v",
         "showlegend": false,
         "type": "histogram",
         "x": [
          2985,
          2854,
          2080,
          6604,
          1562,
          1597,
          1845,
          5198,
          1740,
          6604,
          3659,
          2166,
          3460,
          2616,
          1562,
          2854,
          5623,
          85677,
          3475,
          18721,
          85677,
          85677,
          85677,
          2564,
          1003,
          2595,
          1328,
          3475,
          5198,
          1597,
          6949,
          4063,
          2564,
          18782,
          4484,
          4947,
          1655,
          2653,
          2719,
          2166,
          2824,
          4947,
          3460,
          9672,
          1874,
          3810,
          85677,
          2299,
          2879,
          5244,
          1328,
          6445,
          2247,
          1328,
          2247,
          3475,
          3729,
          1029,
          1845,
          2653,
          2854,
          85677,
          2616,
          5623,
          4650,
          2212,
          1562,
          3475,
          2854,
          4340,
          3460,
          3475,
          1879,
          2123,
          18721,
          85677,
          2080,
          3244,
          2212,
          3659,
          85677,
          3810,
          85677,
          2879,
          9672,
          1328,
          2247,
          3659,
          1660,
          2653,
          85677,
          9878,
          85677,
          18721,
          1879,
          18782,
          3659,
          2123,
          85677,
          1879,
          4484,
          3804,
          2157,
          1874,
          3729,
          3729,
          2854,
          18782,
          3659,
          18782,
          1563,
          1328,
          85677,
          818,
          2564,
          85677,
          9878,
          18782,
          18721,
          85677,
          1328,
          85677,
          1562,
          2595,
          85677,
          6949,
          85677,
          9672,
          818,
          3384,
          4085,
          2653,
          85677,
          2112,
          18782,
          18782,
          6041,
          2616,
          1003,
          6079,
          85677,
          5623,
          2159,
          1658,
          2157,
          9878,
          85677,
          85677,
          5323,
          1580,
          85677,
          2564,
          4484,
          18782,
          6079,
          5623,
          2112,
          1580,
          85677,
          3736,
          5244,
          2653,
          85677,
          1655,
          818,
          1660,
          6041,
          2112,
          3496,
          6445,
          2080,
          2247,
          3810,
          2616,
          2987,
          2987,
          2159,
          1845,
          4484,
          999,
          2159,
          4484,
          9672,
          85677,
          2166,
          5323,
          1563,
          85677,
          3475,
          85677,
          2719,
          4947,
          4085,
          5623,
          1874,
          999,
          2157,
          18721,
          4947,
          3475,
          85677,
          9672,
          18782,
          2564,
          1328,
          1328,
          2299,
          18782,
          2080,
          85677,
          9672,
          999,
          2123,
          1658,
          2212,
          3496,
          9878,
          1563,
          4289,
          1597,
          1328,
          2157,
          18721,
          2564,
          2653,
          18782,
          6079,
          85677,
          1328,
          4980,
          9878,
          1597,
          1406.984461709212,
          2157,
          2166,
          6041,
          85677,
          2299,
          9878,
          2299,
          1874,
          9878,
          1563,
          4355,
          2719,
          9672,
          4147,
          6604,
          2247,
          2653,
          6949,
          4484,
          1580,
          4650,
          5623,
          5198,
          1003,
          4147,
          4085,
          85677,
          4484,
          18721,
          2653,
          2564,
          9672,
          4340,
          1879,
          1879,
          85677,
          2616,
          2824,
          2112,
          1845,
          4484,
          2595,
          4340,
          2564,
          1406.984461709212,
          5244,
          2595,
          85677,
          9672,
          3460,
          1655,
          85677,
          3804,
          6079,
          1406.984461709212,
          5179,
          5198,
          4484,
          4355,
          1879,
          3804,
          85677,
          85677,
          85677,
          1029,
          999,
          2987,
          1874,
          1597,
          4484,
          9878,
          9878,
          2719,
          4147,
          6949,
          1850,
          85677,
          4484,
          4085,
          6604,
          2719,
          6604,
          2564,
          85677,
          2719,
          1328,
          18721,
          3810,
          3659,
          4947,
          9672,
          818,
          9878,
          1874,
          3244
         ],
         "xaxis": "x",
         "yaxis": "y"
        }
       ],
       "layout": {
        "barmode": "relative",
        "legend": {
         "tracegroupgap": 0
        },
        "margin": {
         "t": 60
        },
        "template": {
         "data": {
          "bar": [
           {
            "error_x": {
             "color": "#2a3f5f"
            },
            "error_y": {
             "color": "#2a3f5f"
            },
            "marker": {
             "line": {
              "color": "#E5ECF6",
              "width": 0.5
             },
             "pattern": {
              "fillmode": "overlay",
              "size": 10,
              "solidity": 0.2
             }
            },
            "type": "bar"
           }
          ],
          "barpolar": [
           {
            "marker": {
             "line": {
              "color": "#E5ECF6",
              "width": 0.5
             },
             "pattern": {
              "fillmode": "overlay",
              "size": 10,
              "solidity": 0.2
             }
            },
            "type": "barpolar"
           }
          ],
          "carpet": [
           {
            "aaxis": {
             "endlinecolor": "#2a3f5f",
             "gridcolor": "white",
             "linecolor": "white",
             "minorgridcolor": "white",
             "startlinecolor": "#2a3f5f"
            },
            "baxis": {
             "endlinecolor": "#2a3f5f",
             "gridcolor": "white",
             "linecolor": "white",
             "minorgridcolor": "white",
             "startlinecolor": "#2a3f5f"
            },
            "type": "carpet"
           }
          ],
          "choropleth": [
           {
            "colorbar": {
             "outlinewidth": 0,
             "ticks": ""
            },
            "type": "choropleth"
           }
          ],
          "contour": [
           {
            "colorbar": {
             "outlinewidth": 0,
             "ticks": ""
            },
            "colorscale": [
             [
              0,
              "#0d0887"
             ],
             [
              0.1111111111111111,
              "#46039f"
             ],
             [
              0.2222222222222222,
              "#7201a8"
             ],
             [
              0.3333333333333333,
              "#9c179e"
             ],
             [
              0.4444444444444444,
              "#bd3786"
             ],
             [
              0.5555555555555556,
              "#d8576b"
             ],
             [
              0.6666666666666666,
              "#ed7953"
             ],
             [
              0.7777777777777778,
              "#fb9f3a"
             ],
             [
              0.8888888888888888,
              "#fdca26"
             ],
             [
              1,
              "#f0f921"
             ]
            ],
            "type": "contour"
           }
          ],
          "contourcarpet": [
           {
            "colorbar": {
             "outlinewidth": 0,
             "ticks": ""
            },
            "type": "contourcarpet"
           }
          ],
          "heatmap": [
           {
            "colorbar": {
             "outlinewidth": 0,
             "ticks": ""
            },
            "colorscale": [
             [
              0,
              "#0d0887"
             ],
             [
              0.1111111111111111,
              "#46039f"
             ],
             [
              0.2222222222222222,
              "#7201a8"
             ],
             [
              0.3333333333333333,
              "#9c179e"
             ],
             [
              0.4444444444444444,
              "#bd3786"
             ],
             [
              0.5555555555555556,
              "#d8576b"
             ],
             [
              0.6666666666666666,
              "#ed7953"
             ],
             [
              0.7777777777777778,
              "#fb9f3a"
             ],
             [
              0.8888888888888888,
              "#fdca26"
             ],
             [
              1,
              "#f0f921"
             ]
            ],
            "type": "heatmap"
           }
          ],
          "heatmapgl": [
           {
            "colorbar": {
             "outlinewidth": 0,
             "ticks": ""
            },
            "colorscale": [
             [
              0,
              "#0d0887"
             ],
             [
              0.1111111111111111,
              "#46039f"
             ],
             [
              0.2222222222222222,
              "#7201a8"
             ],
             [
              0.3333333333333333,
              "#9c179e"
             ],
             [
              0.4444444444444444,
              "#bd3786"
             ],
             [
              0.5555555555555556,
              "#d8576b"
             ],
             [
              0.6666666666666666,
              "#ed7953"
             ],
             [
              0.7777777777777778,
              "#fb9f3a"
             ],
             [
              0.8888888888888888,
              "#fdca26"
             ],
             [
              1,
              "#f0f921"
             ]
            ],
            "type": "heatmapgl"
           }
          ],
          "histogram": [
           {
            "marker": {
             "pattern": {
              "fillmode": "overlay",
              "size": 10,
              "solidity": 0.2
             }
            },
            "type": "histogram"
           }
          ],
          "histogram2d": [
           {
            "colorbar": {
             "outlinewidth": 0,
             "ticks": ""
            },
            "colorscale": [
             [
              0,
              "#0d0887"
             ],
             [
              0.1111111111111111,
              "#46039f"
             ],
             [
              0.2222222222222222,
              "#7201a8"
             ],
             [
              0.3333333333333333,
              "#9c179e"
             ],
             [
              0.4444444444444444,
              "#bd3786"
             ],
             [
              0.5555555555555556,
              "#d8576b"
             ],
             [
              0.6666666666666666,
              "#ed7953"
             ],
             [
              0.7777777777777778,
              "#fb9f3a"
             ],
             [
              0.8888888888888888,
              "#fdca26"
             ],
             [
              1,
              "#f0f921"
             ]
            ],
            "type": "histogram2d"
           }
          ],
          "histogram2dcontour": [
           {
            "colorbar": {
             "outlinewidth": 0,
             "ticks": ""
            },
            "colorscale": [
             [
              0,
              "#0d0887"
             ],
             [
              0.1111111111111111,
              "#46039f"
             ],
             [
              0.2222222222222222,
              "#7201a8"
             ],
             [
              0.3333333333333333,
              "#9c179e"
             ],
             [
              0.4444444444444444,
              "#bd3786"
             ],
             [
              0.5555555555555556,
              "#d8576b"
             ],
             [
              0.6666666666666666,
              "#ed7953"
             ],
             [
              0.7777777777777778,
              "#fb9f3a"
             ],
             [
              0.8888888888888888,
              "#fdca26"
             ],
             [
              1,
              "#f0f921"
             ]
            ],
            "type": "histogram2dcontour"
           }
          ],
          "mesh3d": [
           {
            "colorbar": {
             "outlinewidth": 0,
             "ticks": ""
            },
            "type": "mesh3d"
           }
          ],
          "parcoords": [
           {
            "line": {
             "colorbar": {
              "outlinewidth": 0,
              "ticks": ""
             }
            },
            "type": "parcoords"
           }
          ],
          "pie": [
           {
            "automargin": true,
            "type": "pie"
           }
          ],
          "scatter": [
           {
            "marker": {
             "colorbar": {
              "outlinewidth": 0,
              "ticks": ""
             }
            },
            "type": "scatter"
           }
          ],
          "scatter3d": [
           {
            "line": {
             "colorbar": {
              "outlinewidth": 0,
              "ticks": ""
             }
            },
            "marker": {
             "colorbar": {
              "outlinewidth": 0,
              "ticks": ""
             }
            },
            "type": "scatter3d"
           }
          ],
          "scattercarpet": [
           {
            "marker": {
             "colorbar": {
              "outlinewidth": 0,
              "ticks": ""
             }
            },
            "type": "scattercarpet"
           }
          ],
          "scattergeo": [
           {
            "marker": {
             "colorbar": {
              "outlinewidth": 0,
              "ticks": ""
             }
            },
            "type": "scattergeo"
           }
          ],
          "scattergl": [
           {
            "marker": {
             "colorbar": {
              "outlinewidth": 0,
              "ticks": ""
             }
            },
            "type": "scattergl"
           }
          ],
          "scattermapbox": [
           {
            "marker": {
             "colorbar": {
              "outlinewidth": 0,
              "ticks": ""
             }
            },
            "type": "scattermapbox"
           }
          ],
          "scatterpolar": [
           {
            "marker": {
             "colorbar": {
              "outlinewidth": 0,
              "ticks": ""
             }
            },
            "type": "scatterpolar"
           }
          ],
          "scatterpolargl": [
           {
            "marker": {
             "colorbar": {
              "outlinewidth": 0,
              "ticks": ""
             }
            },
            "type": "scatterpolargl"
           }
          ],
          "scatterternary": [
           {
            "marker": {
             "colorbar": {
              "outlinewidth": 0,
              "ticks": ""
             }
            },
            "type": "scatterternary"
           }
          ],
          "surface": [
           {
            "colorbar": {
             "outlinewidth": 0,
             "ticks": ""
            },
            "colorscale": [
             [
              0,
              "#0d0887"
             ],
             [
              0.1111111111111111,
              "#46039f"
             ],
             [
              0.2222222222222222,
              "#7201a8"
             ],
             [
              0.3333333333333333,
              "#9c179e"
             ],
             [
              0.4444444444444444,
              "#bd3786"
             ],
             [
              0.5555555555555556,
              "#d8576b"
             ],
             [
              0.6666666666666666,
              "#ed7953"
             ],
             [
              0.7777777777777778,
              "#fb9f3a"
             ],
             [
              0.8888888888888888,
              "#fdca26"
             ],
             [
              1,
              "#f0f921"
             ]
            ],
            "type": "surface"
           }
          ],
          "table": [
           {
            "cells": {
             "fill": {
              "color": "#EBF0F8"
             },
             "line": {
              "color": "white"
             }
            },
            "header": {
             "fill": {
              "color": "#C8D4E3"
             },
             "line": {
              "color": "white"
             }
            },
            "type": "table"
           }
          ]
         },
         "layout": {
          "annotationdefaults": {
           "arrowcolor": "#2a3f5f",
           "arrowhead": 0,
           "arrowwidth": 1
          },
          "autotypenumbers": "strict",
          "coloraxis": {
           "colorbar": {
            "outlinewidth": 0,
            "ticks": ""
           }
          },
          "colorscale": {
           "diverging": [
            [
             0,
             "#8e0152"
            ],
            [
             0.1,
             "#c51b7d"
            ],
            [
             0.2,
             "#de77ae"
            ],
            [
             0.3,
             "#f1b6da"
            ],
            [
             0.4,
             "#fde0ef"
            ],
            [
             0.5,
             "#f7f7f7"
            ],
            [
             0.6,
             "#e6f5d0"
            ],
            [
             0.7,
             "#b8e186"
            ],
            [
             0.8,
             "#7fbc41"
            ],
            [
             0.9,
             "#4d9221"
            ],
            [
             1,
             "#276419"
            ]
           ],
           "sequential": [
            [
             0,
             "#0d0887"
            ],
            [
             0.1111111111111111,
             "#46039f"
            ],
            [
             0.2222222222222222,
             "#7201a8"
            ],
            [
             0.3333333333333333,
             "#9c179e"
            ],
            [
             0.4444444444444444,
             "#bd3786"
            ],
            [
             0.5555555555555556,
             "#d8576b"
            ],
            [
             0.6666666666666666,
             "#ed7953"
            ],
            [
             0.7777777777777778,
             "#fb9f3a"
            ],
            [
             0.8888888888888888,
             "#fdca26"
            ],
            [
             1,
             "#f0f921"
            ]
           ],
           "sequentialminus": [
            [
             0,
             "#0d0887"
            ],
            [
             0.1111111111111111,
             "#46039f"
            ],
            [
             0.2222222222222222,
             "#7201a8"
            ],
            [
             0.3333333333333333,
             "#9c179e"
            ],
            [
             0.4444444444444444,
             "#bd3786"
            ],
            [
             0.5555555555555556,
             "#d8576b"
            ],
            [
             0.6666666666666666,
             "#ed7953"
            ],
            [
             0.7777777777777778,
             "#fb9f3a"
            ],
            [
             0.8888888888888888,
             "#fdca26"
            ],
            [
             1,
             "#f0f921"
            ]
           ]
          },
          "colorway": [
           "#636efa",
           "#EF553B",
           "#00cc96",
           "#ab63fa",
           "#FFA15A",
           "#19d3f3",
           "#FF6692",
           "#B6E880",
           "#FF97FF",
           "#FECB52"
          ],
          "font": {
           "color": "#2a3f5f"
          },
          "geo": {
           "bgcolor": "white",
           "lakecolor": "white",
           "landcolor": "#E5ECF6",
           "showlakes": true,
           "showland": true,
           "subunitcolor": "white"
          },
          "hoverlabel": {
           "align": "left"
          },
          "hovermode": "closest",
          "mapbox": {
           "style": "light"
          },
          "paper_bgcolor": "white",
          "plot_bgcolor": "#E5ECF6",
          "polar": {
           "angularaxis": {
            "gridcolor": "white",
            "linecolor": "white",
            "ticks": ""
           },
           "bgcolor": "#E5ECF6",
           "radialaxis": {
            "gridcolor": "white",
            "linecolor": "white",
            "ticks": ""
           }
          },
          "scene": {
           "xaxis": {
            "backgroundcolor": "#E5ECF6",
            "gridcolor": "white",
            "gridwidth": 2,
            "linecolor": "white",
            "showbackground": true,
            "ticks": "",
            "zerolinecolor": "white"
           },
           "yaxis": {
            "backgroundcolor": "#E5ECF6",
            "gridcolor": "white",
            "gridwidth": 2,
            "linecolor": "white",
            "showbackground": true,
            "ticks": "",
            "zerolinecolor": "white"
           },
           "zaxis": {
            "backgroundcolor": "#E5ECF6",
            "gridcolor": "white",
            "gridwidth": 2,
            "linecolor": "white",
            "showbackground": true,
            "ticks": "",
            "zerolinecolor": "white"
           }
          },
          "shapedefaults": {
           "line": {
            "color": "#2a3f5f"
           }
          },
          "ternary": {
           "aaxis": {
            "gridcolor": "white",
            "linecolor": "white",
            "ticks": ""
           },
           "baxis": {
            "gridcolor": "white",
            "linecolor": "white",
            "ticks": ""
           },
           "bgcolor": "#E5ECF6",
           "caxis": {
            "gridcolor": "white",
            "linecolor": "white",
            "ticks": ""
           }
          },
          "title": {
           "x": 0.05
          },
          "xaxis": {
           "automargin": true,
           "gridcolor": "white",
           "linecolor": "white",
           "ticks": "",
           "title": {
            "standoff": 15
           },
           "zerolinecolor": "white",
           "zerolinewidth": 2
          },
          "yaxis": {
           "automargin": true,
           "gridcolor": "white",
           "linecolor": "white",
           "ticks": "",
           "title": {
            "standoff": 15
           },
           "zerolinecolor": "white",
           "zerolinewidth": 2
          }
         }
        },
        "xaxis": {
         "anchor": "y",
         "domain": [
          0,
          1
         ],
         "title": {
          "text": "no. of commited crimes '95"
         }
        },
        "yaxis": {
         "anchor": "x",
         "domain": [
          0,
          1
         ],
         "title": {
          "text": "count"
         }
        }
       }
      }
     },
     "metadata": {},
     "output_type": "display_data"
    }
   ],
   "source": [
    "import plotly.express as px\n",
    "\n",
    "fig = px.histogram(joined_df, x='no. of commited crimes \\'95')\n",
    "fig.show()"
   ]
  },
  {
   "cell_type": "code",
   "execution_count": 432,
   "id": "a4ba4c5c",
   "metadata": {},
   "outputs": [
    {
     "name": "stdout",
     "output_type": "stream",
     "text": [
      "number of outliers: 60\n",
      "max outlier value: 85677.0\n",
      "min outlier value: 18721.0\n"
     ]
    }
   ],
   "source": [
    "def find_outliers_IQR(df):\n",
    "\n",
    "   q1=df.quantile(0.25)\n",
    "\n",
    "   q3=df.quantile(0.75)\n",
    "\n",
    "   IQR=q3-q1\n",
    "\n",
    "   outliers = df[((df<(q1-1.5*IQR)) | (df>(q3+1.5*IQR)))]\n",
    "\n",
    "   return outliers\n",
    "\n",
    "outliers = find_outliers_IQR(joined_df['no. of commited crimes \\'95'])\n",
    "\n",
    "print(\"number of outliers: \" + str(len(outliers)))\n",
    "\n",
    "print(\"max outlier value: \" + str(outliers.max()))\n",
    "\n",
    "print(\"min outlier value: \" + str(outliers.min()))"
   ]
  },
  {
   "cell_type": "markdown",
   "id": "d84b0a20",
   "metadata": {},
   "source": [
    "### Remove underage users"
   ]
  },
  {
   "cell_type": "code",
   "execution_count": 433,
   "id": "4e2de0da",
   "metadata": {},
   "outputs": [
    {
     "data": {
      "text/html": [
       "<div>\n",
       "<style scoped>\n",
       "    .dataframe tbody tr th:only-of-type {\n",
       "        vertical-align: middle;\n",
       "    }\n",
       "\n",
       "    .dataframe tbody tr th {\n",
       "        vertical-align: top;\n",
       "    }\n",
       "\n",
       "    .dataframe thead th {\n",
       "        text-align: right;\n",
       "    }\n",
       "</style>\n",
       "<table border=\"1\" class=\"dataframe\">\n",
       "  <thead>\n",
       "    <tr style=\"text-align: right;\">\n",
       "      <th></th>\n",
       "      <th>age_on_loan_request</th>\n",
       "    </tr>\n",
       "  </thead>\n",
       "  <tbody>\n",
       "    <tr>\n",
       "      <th>count</th>\n",
       "      <td>306.000000</td>\n",
       "    </tr>\n",
       "    <tr>\n",
       "      <th>mean</th>\n",
       "      <td>37.716602</td>\n",
       "    </tr>\n",
       "    <tr>\n",
       "      <th>std</th>\n",
       "      <td>11.685221</td>\n",
       "    </tr>\n",
       "    <tr>\n",
       "      <th>min</th>\n",
       "      <td>18.253626</td>\n",
       "    </tr>\n",
       "    <tr>\n",
       "      <th>25%</th>\n",
       "      <td>27.478319</td>\n",
       "    </tr>\n",
       "    <tr>\n",
       "      <th>50%</th>\n",
       "      <td>37.279342</td>\n",
       "    </tr>\n",
       "    <tr>\n",
       "      <th>75%</th>\n",
       "      <td>47.036558</td>\n",
       "    </tr>\n",
       "    <tr>\n",
       "      <th>max</th>\n",
       "      <td>60.817128</td>\n",
       "    </tr>\n",
       "  </tbody>\n",
       "</table>\n",
       "</div>"
      ],
      "text/plain": [
       "       age_on_loan_request\n",
       "count           306.000000\n",
       "mean             37.716602\n",
       "std              11.685221\n",
       "min              18.253626\n",
       "25%              27.478319\n",
       "50%              37.279342\n",
       "75%              47.036558\n",
       "max              60.817128"
      ]
     },
     "execution_count": 433,
     "metadata": {},
     "output_type": "execute_result"
    }
   ],
   "source": [
    "underage = joined_df.loc[joined_df['age_on_loan_request']<18]\n",
    "\n",
    "joined_df.drop(underage.index, inplace=True)\n",
    "\n",
    "joined_df.describe()[['age_on_loan_request']]\n"
   ]
  },
  {
   "cell_type": "markdown",
   "id": "1ff8bb4b",
   "metadata": {},
   "source": [
    "## Set Correct Data Types"
   ]
  },
  {
   "cell_type": "code",
   "execution_count": 434,
   "id": "f8cd4826",
   "metadata": {},
   "outputs": [],
   "source": [
    "joined_df['shared'] = joined_df['shared'].astype('bool')"
   ]
  },
  {
   "cell_type": "code",
   "execution_count": 435,
   "id": "efafbb91",
   "metadata": {},
   "outputs": [],
   "source": [
    "joined_df['status'] = joined_df['status'].apply(lambda x: 1 if x == 1 else 0)\n",
    "joined_df['status'] = joined_df['status'].astype('bool')"
   ]
  },
  {
   "cell_type": "code",
   "execution_count": 436,
   "id": "4ad78fe5",
   "metadata": {},
   "outputs": [],
   "source": [
    "joined_df.drop(columns=['district_name', 'account_id', 'disp_id'], inplace=True)"
   ]
  },
  {
   "cell_type": "markdown",
   "id": "7aa91567",
   "metadata": {},
   "source": [
    "# Feature Selection"
   ]
  },
  {
   "cell_type": "code",
   "execution_count": 437,
   "id": "d705785d",
   "metadata": {},
   "outputs": [],
   "source": [
    "features = [\n",
    "    'shared',\n",
    "    'no. of municipalities with inhabitants < 499',\n",
    "    'no. of municipalities with inhabitants 500-1999',\n",
    "    'no. of municipalities with inhabitants 2000-9999',\n",
    "    'no. of municipalities with inhabitants >10000', \n",
    "    'no. of cities',\n",
    "    'ratio of urban inhabitants', \n",
    "    'average salary', \n",
    "    'unemploymant rate \\'96', \n",
    "    'no. of enterpreneurs per 1000 inhabitants',\n",
    "    'amount', \n",
    "    'duration', \n",
    "    'payments',\n",
    "    'age_on_loan_request',\n",
    "    'card_score', \n",
    "    'balance_at_loan',\n",
    "    'balance_three_months_before',\n",
    "    'balance_six_months_before',\n",
    "    'issuance_freq',\n",
    "    'sex', \n",
    "    'district_code',\n",
    "    'region',\n",
    "    'season_on_loan'\n",
    "    ]\n",
    "    \n",
    "target = 'status'"
   ]
  },
  {
   "cell_type": "markdown",
   "id": "2add662f",
   "metadata": {},
   "source": [
    "### Remove Categorical Values"
   ]
  },
  {
   "cell_type": "code",
   "execution_count": 438,
   "id": "f25064b1",
   "metadata": {},
   "outputs": [],
   "source": [
    "cat = ['sex', 'region', 'issuance_freq', 'season_on_loan']\n",
    "\n",
    "joined_df[cat] = joined_df[cat].astype('category')\n",
    "\n",
    "joined_df[cat] = joined_df[cat].apply(lambda x : x.cat.codes)"
   ]
  },
  {
   "cell_type": "code",
   "execution_count": 439,
   "id": "0f4b41a0",
   "metadata": {},
   "outputs": [
    {
     "data": {
      "image/png": "[encoded data removed]",
      "text/plain": [
       "<Figure size 1440x1440 with 2 Axes>"
      ]
     },
     "metadata": {
      "needs_background": "light"
     },
     "output_type": "display_data"
    }
   ],
   "source": [
    "corr_matrix = joined_df[features].corr(method='spearman')\n",
    "\n",
    "mask = np.zeros_like(corr_matrix, dtype=bool)\n",
    "mask[np.triu_indices_from(mask)] = True\n",
    "\n",
    "plt.figure(figsize=(20, 20))\n",
    "plt.title('Correlation Matrix', fontsize=25)\n",
    "_ = sb.heatmap(corr_matrix, mask=mask, cmap='coolwarm', annot=True, fmt='.2f', linewidths=2)\n",
    "\n",
    "plt.show()"
   ]
  },
  {
   "cell_type": "code",
   "execution_count": 440,
   "id": "384edecc",
   "metadata": {},
   "outputs": [
    {
     "data": {
      "text/plain": [
       "<AxesSubplot:xlabel='season_on_loan', ylabel='duration'>"
      ]
     },
     "execution_count": 440,
     "metadata": {},
     "output_type": "execute_result"
    },
    {
     "data": {
      "image/png": "[encoded data removed]",
      "text/plain": [
       "<Figure size 1080x720 with 4 Axes>"
      ]
     },
     "metadata": {
      "needs_background": "light"
     },
     "output_type": "display_data"
    }
   ],
   "source": [
    "fig, ax = plt.subplots(2,2)\n",
    "fig.set_size_inches(15, 10)\n",
    "sb.countplot(x=\"season_on_loan\", data=joined_df[joined_df[\"status\"] == 1], ax=ax[0][0])\n",
    "sb.countplot(x=\"season_on_loan\", data=joined_df[joined_df[\"status\"] != 1], ax=ax[0][1])\n",
    "sb.violinplot(x=\"season_on_loan\", y=\"amount\", data=joined_df, hue=\"status\", ax=ax[1][0])\n",
    "sb.violinplot(x=\"season_on_loan\", y=\"duration\", data=joined_df, hue=\"status\", ax=ax[1][1])\n"
   ]
  },
  {
   "cell_type": "markdown",
   "id": "49a6a611",
   "metadata": {},
   "source": [
    "Throughout the year the amount of accepted loans is descreasing. We can also notice in autumn the lower bound of loans are higher."
   ]
  },
  {
   "cell_type": "code",
   "execution_count": 441,
   "id": "e2e22dc4",
   "metadata": {},
   "outputs": [
    {
     "name": "stdout",
     "output_type": "stream",
     "text": [
      "Index(['issuance_freq', 'acc_creation_date', 'shared', 'sex', 'district_code',\n",
      "       'region', 'no. of inhabitants',\n",
      "       'no. of municipalities with inhabitants < 499',\n",
      "       'no. of municipalities with inhabitants 500-1999',\n",
      "       'no. of municipalities with inhabitants 2000-9999',\n",
      "       'no. of municipalities with inhabitants >10000', 'no. of cities',\n",
      "       'ratio of urban inhabitants', 'average salary', 'unemploymant rate '95',\n",
      "       'unemploymant rate '96', 'no. of enterpreneurs per 1000 inhabitants',\n",
      "       'no. of commited crimes '95', 'no. of commited crimes '96', 'loan_date',\n",
      "       'amount', 'duration', 'payments', 'status', 'season_on_loan',\n",
      "       'age_on_loan_request', 'card_score', 'balance_at_loan',\n",
      "       'balance_three_months_before', 'balance_six_months_before'],\n",
      "      dtype='object')\n"
     ]
    },
    {
     "data": {
      "text/plain": [
       "<seaborn.axisgrid.FacetGrid at 0x234ca0bbd60>"
      ]
     },
     "execution_count": 441,
     "metadata": {},
     "output_type": "execute_result"
    },
    {
     "data": {
      "image/png": "[encoded data removed]",
      "text/plain": [
       "<Figure size 432x288 with 1 Axes>"
      ]
     },
     "metadata": {
      "needs_background": "light"
     },
     "output_type": "display_data"
    },
    {
     "data": {
      "image/png": "[encoded data removed]",
      "text/plain": [
       "<Figure size 421.25x360 with 1 Axes>"
      ]
     },
     "metadata": {
      "needs_background": "light"
     },
     "output_type": "display_data"
    }
   ],
   "source": [
    "print(joined_df.columns)\n",
    "sb.lineplot(x=\"age_on_loan_request\", y=\"balance_at_loan\", data=joined_df)\n",
    "sb.displot(x=\"age_on_loan_request\", data=joined_df, kde=True, hue=\"status\")"
   ]
  },
  {
   "cell_type": "markdown",
   "id": "5c642ed3",
   "metadata": {},
   "source": [
    "# ANOVA"
   ]
  },
  {
   "cell_type": "code",
   "execution_count": 442,
   "id": "d597bd78",
   "metadata": {},
   "outputs": [],
   "source": [
    "from sklearn.feature_selection import SelectKBest\n",
    "from sklearn.feature_selection import f_classif\n",
    "\n",
    "def do_anova(cols, k=\"all\"):\n",
    "    best_features = SelectKBest(score_func=f_classif, k=k)\n",
    "    df_cut = joined_df[cols]\n",
    "    fit = best_features.fit(df_cut, joined_df[\"status\"])\n",
    "    dfscores = pd.DataFrame(fit.scores_)\n",
    "    dfcolumns = pd.DataFrame(df_cut.columns)\n",
    "\n",
    "    # concat 2 dataFrame for better visualization\n",
    "    feature_score = pd.concat([dfcolumns, dfscores], axis=1)\n",
    "    feature_score.columns = [\"Features\", \"Score\"]\n",
    "    ret = feature_score.sort_values(by=\"Score\", ascending=False)\n",
    "    return ret.head(k) if k != \"all\" else ret"
   ]
  },
  {
   "cell_type": "code",
   "execution_count": 443,
   "id": "dcf78fde",
   "metadata": {},
   "outputs": [
    {
     "data": {
      "text/html": [
       "<div>\n",
       "<style scoped>\n",
       "    .dataframe tbody tr th:only-of-type {\n",
       "        vertical-align: middle;\n",
       "    }\n",
       "\n",
       "    .dataframe tbody tr th {\n",
       "        vertical-align: top;\n",
       "    }\n",
       "\n",
       "    .dataframe thead th {\n",
       "        text-align: right;\n",
       "    }\n",
       "</style>\n",
       "<table border=\"1\" class=\"dataframe\">\n",
       "  <thead>\n",
       "    <tr style=\"text-align: right;\">\n",
       "      <th></th>\n",
       "      <th>Features</th>\n",
       "      <th>Score</th>\n",
       "    </tr>\n",
       "  </thead>\n",
       "  <tbody>\n",
       "    <tr>\n",
       "      <th>0</th>\n",
       "      <td>shared</td>\n",
       "      <td>15.936819</td>\n",
       "    </tr>\n",
       "    <tr>\n",
       "      <th>15</th>\n",
       "      <td>balance_at_loan</td>\n",
       "      <td>10.143509</td>\n",
       "    </tr>\n",
       "    <tr>\n",
       "      <th>12</th>\n",
       "      <td>payments</td>\n",
       "      <td>7.425428</td>\n",
       "    </tr>\n",
       "    <tr>\n",
       "      <th>10</th>\n",
       "      <td>amount</td>\n",
       "      <td>5.545138</td>\n",
       "    </tr>\n",
       "    <tr>\n",
       "      <th>17</th>\n",
       "      <td>balance_six_months_before</td>\n",
       "      <td>4.132036</td>\n",
       "    </tr>\n",
       "    <tr>\n",
       "      <th>16</th>\n",
       "      <td>balance_three_months_before</td>\n",
       "      <td>3.381195</td>\n",
       "    </tr>\n",
       "    <tr>\n",
       "      <th>1</th>\n",
       "      <td>no. of municipalities with inhabitants &lt; 499</td>\n",
       "      <td>2.917119</td>\n",
       "    </tr>\n",
       "    <tr>\n",
       "      <th>5</th>\n",
       "      <td>no. of cities</td>\n",
       "      <td>2.661901</td>\n",
       "    </tr>\n",
       "    <tr>\n",
       "      <th>21</th>\n",
       "      <td>region</td>\n",
       "      <td>1.329378</td>\n",
       "    </tr>\n",
       "    <tr>\n",
       "      <th>14</th>\n",
       "      <td>card_score</td>\n",
       "      <td>1.273617</td>\n",
       "    </tr>\n",
       "    <tr>\n",
       "      <th>2</th>\n",
       "      <td>no. of municipalities with inhabitants 500-1999</td>\n",
       "      <td>0.564508</td>\n",
       "    </tr>\n",
       "    <tr>\n",
       "      <th>4</th>\n",
       "      <td>no. of municipalities with inhabitants &gt;10000</td>\n",
       "      <td>0.416849</td>\n",
       "    </tr>\n",
       "    <tr>\n",
       "      <th>20</th>\n",
       "      <td>district_code</td>\n",
       "      <td>0.364705</td>\n",
       "    </tr>\n",
       "    <tr>\n",
       "      <th>9</th>\n",
       "      <td>no. of enterpreneurs per 1000 inhabitants</td>\n",
       "      <td>0.266844</td>\n",
       "    </tr>\n",
       "    <tr>\n",
       "      <th>6</th>\n",
       "      <td>ratio of urban inhabitants</td>\n",
       "      <td>0.247983</td>\n",
       "    </tr>\n",
       "    <tr>\n",
       "      <th>8</th>\n",
       "      <td>unemploymant rate '96</td>\n",
       "      <td>0.224705</td>\n",
       "    </tr>\n",
       "    <tr>\n",
       "      <th>3</th>\n",
       "      <td>no. of municipalities with inhabitants 2000-9999</td>\n",
       "      <td>0.206184</td>\n",
       "    </tr>\n",
       "    <tr>\n",
       "      <th>18</th>\n",
       "      <td>issuance_freq</td>\n",
       "      <td>0.089339</td>\n",
       "    </tr>\n",
       "    <tr>\n",
       "      <th>13</th>\n",
       "      <td>age_on_loan_request</td>\n",
       "      <td>0.075104</td>\n",
       "    </tr>\n",
       "    <tr>\n",
       "      <th>22</th>\n",
       "      <td>season_on_loan</td>\n",
       "      <td>0.059650</td>\n",
       "    </tr>\n",
       "    <tr>\n",
       "      <th>11</th>\n",
       "      <td>duration</td>\n",
       "      <td>0.048797</td>\n",
       "    </tr>\n",
       "    <tr>\n",
       "      <th>19</th>\n",
       "      <td>sex</td>\n",
       "      <td>0.019637</td>\n",
       "    </tr>\n",
       "    <tr>\n",
       "      <th>7</th>\n",
       "      <td>average salary</td>\n",
       "      <td>0.003813</td>\n",
       "    </tr>\n",
       "  </tbody>\n",
       "</table>\n",
       "</div>"
      ],
      "text/plain": [
       "                                            Features      Score\n",
       "0                                             shared  15.936819\n",
       "15                                   balance_at_loan  10.143509\n",
       "12                                          payments   7.425428\n",
       "10                                            amount   5.545138\n",
       "17                         balance_six_months_before   4.132036\n",
       "16                       balance_three_months_before   3.381195\n",
       "1       no. of municipalities with inhabitants < 499   2.917119\n",
       "5                                      no. of cities   2.661901\n",
       "21                                            region   1.329378\n",
       "14                                        card_score   1.273617\n",
       "2    no. of municipalities with inhabitants 500-1999   0.564508\n",
       "4      no. of municipalities with inhabitants >10000   0.416849\n",
       "20                                     district_code   0.364705\n",
       "9          no. of enterpreneurs per 1000 inhabitants   0.266844\n",
       "6                         ratio of urban inhabitants   0.247983\n",
       "8                              unemploymant rate '96   0.224705\n",
       "3   no. of municipalities with inhabitants 2000-9999   0.206184\n",
       "18                                     issuance_freq   0.089339\n",
       "13                               age_on_loan_request   0.075104\n",
       "22                                    season_on_loan   0.059650\n",
       "11                                          duration   0.048797\n",
       "19                                               sex   0.019637\n",
       "7                                     average salary   0.003813"
      ]
     },
     "execution_count": 443,
     "metadata": {},
     "output_type": "execute_result"
    }
   ],
   "source": [
    "do_anova(features)"
   ]
  },
  {
   "cell_type": "code",
   "execution_count": 444,
   "id": "2fc3f43a",
   "metadata": {},
   "outputs": [],
   "source": [
    "selected_features = [\n",
    "    'shared',\n",
    "    'balance_at_loan',\n",
    "    'payments',\n",
    "    'amount',\n",
    "    'balance_six_months_before',\n",
    "    'balance_three_months_before',\n",
    "    'no. of municipalities with inhabitants < 499',\n",
    "    'no. of cities',\n",
    "    'season_on_loan',\n",
    "    ]"
   ]
  },
  {
   "cell_type": "markdown",
   "id": "aa5d1a1f",
   "metadata": {},
   "source": [
    "# Algorithms"
   ]
  },
  {
   "cell_type": "code",
   "execution_count": 445,
   "id": "a33620c1",
   "metadata": {},
   "outputs": [
    {
     "name": "stdout",
     "output_type": "stream",
     "text": [
      "Index(['issuance_freq', 'acc_creation_date', 'shared', 'sex', 'district_code',\n",
      "       'region', 'no. of inhabitants',\n",
      "       'no. of municipalities with inhabitants < 499',\n",
      "       'no. of municipalities with inhabitants 500-1999',\n",
      "       'no. of municipalities with inhabitants 2000-9999',\n",
      "       'no. of municipalities with inhabitants >10000', 'no. of cities',\n",
      "       'ratio of urban inhabitants', 'average salary', 'unemploymant rate '95',\n",
      "       'unemploymant rate '96', 'no. of enterpreneurs per 1000 inhabitants',\n",
      "       'no. of commited crimes '95', 'no. of commited crimes '96', 'loan_date',\n",
      "       'amount', 'duration', 'payments', 'status', 'season_on_loan',\n",
      "       'age_on_loan_request', 'card_score', 'balance_at_loan',\n",
      "       'balance_three_months_before', 'balance_six_months_before'],\n",
      "      dtype='object')\n"
     ]
    }
   ],
   "source": [
    "print(joined_df.columns)"
   ]
  },
  {
   "cell_type": "code",
   "execution_count": 446,
   "id": "cace7cfd",
   "metadata": {},
   "outputs": [
    {
     "name": "stdout",
     "output_type": "stream",
     "text": [
      "issuance_freq                                                 int8\n",
      "acc_creation_date                                   datetime64[ns]\n",
      "shared                                                        bool\n",
      "sex                                                           int8\n",
      "district_code                                                int64\n",
      "region                                                        int8\n",
      "no. of inhabitants                                           int64\n",
      "no. of municipalities with inhabitants < 499                 int64\n",
      "no. of municipalities with inhabitants 500-1999              int64\n",
      "no. of municipalities with inhabitants 2000-9999             int64\n",
      "no. of municipalities with inhabitants >10000                int64\n",
      "no. of cities                                                int64\n",
      "ratio of urban inhabitants                                 float64\n",
      "average salary                                               int64\n",
      "unemploymant rate '95                                      float64\n",
      "unemploymant rate '96                                      float64\n",
      "no. of enterpreneurs per 1000 inhabitants                    int64\n",
      "no. of commited crimes '95                                 float64\n",
      "no. of commited crimes '96                                   int64\n",
      "loan_date                                           datetime64[ns]\n",
      "amount                                                       int64\n",
      "duration                                                     int64\n",
      "payments                                                     int64\n",
      "status                                                        bool\n",
      "season_on_loan                                                int8\n",
      "age_on_loan_request                                        float64\n",
      "card_score                                                   int32\n",
      "balance_at_loan                                            float64\n",
      "balance_three_months_before                                float64\n",
      "balance_six_months_before                                  float64\n",
      "dtype: object\n"
     ]
    }
   ],
   "source": [
    "print(joined_df.dtypes)"
   ]
  },
  {
   "cell_type": "code",
   "execution_count": 456,
   "id": "b68af59e",
   "metadata": {},
   "outputs": [
    {
     "name": "stdout",
     "output_type": "stream",
     "text": [
      "0      1\n",
      "1      0\n",
      "2      0\n",
      "3      0\n",
      "6      0\n",
      "      ..\n",
      "323    0\n",
      "324    1\n",
      "325    0\n",
      "326    0\n",
      "327    0\n",
      "Name: status, Length: 306, dtype: int64\n"
     ]
    }
   ],
   "source": [
    "X = joined_df[selected_features]\n",
    "y = joined_df[target]\n",
    "y = y.map(lambda x: 0 if x == 1 else 1)\n"
   ]
  },
  {
   "cell_type": "code",
   "execution_count": 448,
   "id": "f3578526",
   "metadata": {},
   "outputs": [],
   "source": [
    "# Split dataset into training set and test set\n",
    "X_train, X_test, y_train, y_test = train_test_split(X, y, test_size=0.3, random_state=1, stratify=y) # 70% training and 30% test\n"
   ]
  },
  {
   "cell_type": "code",
   "execution_count": 449,
   "id": "cad928ea",
   "metadata": {},
   "outputs": [],
   "source": [
    "# Create Decision Tree classifer object\n",
    "clf = DecisionTreeClassifier()\n",
    "\n",
    "# Train Decision Tree Classifer\n",
    "clf = clf.fit(X_train,y_train)\n",
    "\n",
    "#Predict the response for test dataset\n",
    "y_pred = clf.predict(X_test)"
   ]
  },
  {
   "cell_type": "code",
   "execution_count": 458,
   "id": "3088ef88",
   "metadata": {},
   "outputs": [
    {
     "name": "stdout",
     "output_type": "stream",
     "text": [
      "Recall: 0.15384615384615385\n",
      "Recall: 0.4\n"
     ]
    },
    {
     "data": {
      "image/png": "[encoded data removed]",
      "text/plain": [
       "<Figure size 432x288 with 1 Axes>"
      ]
     },
     "metadata": {
      "needs_background": "light"
     },
     "output_type": "display_data"
    }
   ],
   "source": [
    "from imblearn.over_sampling import SMOTE\n",
    "from sklearn.metrics import PrecisionRecallDisplay\n",
    "\n",
    "print(\"Recall:\",metrics.recall_score(y_test, y_pred))\n",
    "print(\"Recall:\",metrics.precision_score(y_test, y_pred))\n",
    "\n",
    "display = PrecisionRecallDisplay.from_estimator(\n",
    "    clf, X_test, y_test, name=\"DecisionTree\"\n",
    ")\n",
    "_ = display.ax_.set_title(\"2-class Precision-Recall curve\")"
   ]
  },
  {
   "cell_type": "code",
   "execution_count": 451,
   "id": "a69b5251",
   "metadata": {},
   "outputs": [
    {
     "data": {
      "image/png": "[encoded data removed]",
      "text/plain": [
       "<Figure size 1800x1440 with 1 Axes>"
      ]
     },
     "metadata": {
      "needs_background": "light"
     },
     "output_type": "display_data"
    }
   ],
   "source": [
    "from sklearn import tree\n",
    "\n",
    "fig = plt.figure(figsize=(25,20))\n",
    "_ = tree.plot_tree(clf, \n",
    "                   feature_names=selected_features,  \n",
    "                   class_names=target,\n",
    "                   filled=True)\n"
   ]
  },
  {
   "cell_type": "code",
   "execution_count": 452,
   "id": "843a7525",
   "metadata": {},
   "outputs": [],
   "source": [
    "# import graphviz\n",
    "# # DOT data\n",
    "# dot_data = tree.export_graphviz(clf, out_file=None, \n",
    "#                                 feature_names=features,  \n",
    "#                                 class_names=target,\n",
    "#                                 filled=True)\n",
    "\n",
    "# # Draw graph\n",
    "# graph = graphviz.Source(dot_data, format=\"png\") \n",
    "# graph\n"
   ]
  },
  {
   "cell_type": "code",
   "execution_count": 463,
   "id": "f51c9b0a",
   "metadata": {},
   "outputs": [
    {
     "name": "stdout",
     "output_type": "stream",
     "text": [
      "0.8551401869158879\n",
      "REcall:  0.0\n",
      "Precison:  0.0\n"
     ]
    },
    {
     "name": "stderr",
     "output_type": "stream",
     "text": [
      "c:\\Users\\jljoa\\anaconda3\\lib\\site-packages\\sklearn\\metrics\\_classification.py:1334: UndefinedMetricWarning:\n",
      "\n",
      "Precision is ill-defined and being set to 0.0 due to no predicted samples. Use `zero_division` parameter to control this behavior.\n",
      "\n"
     ]
    },
    {
     "data": {
      "image/png": "[encoded data removed]",
      "text/plain": [
       "<Figure size 432x288 with 1 Axes>"
      ]
     },
     "metadata": {
      "needs_background": "light"
     },
     "output_type": "display_data"
    }
   ],
   "source": [
    "from sklearn.svm import SVC\n",
    "from imblearn.over_sampling import SMOTE\n",
    "from sklearn.metrics import PrecisionRecallDisplay\n",
    "\n",
    "lsvc = SVC(verbose=0)\n",
    "\n",
    "lsvc.fit(X_train, y_train)\n",
    "y_pred = lsvc.predict(X_test)\n",
    "\n",
    "score = lsvc.score(X_train, y_train)\n",
    "print(score)\n",
    "print(\"REcall: \", metrics.recall_score(y_test, y_pred))\n",
    "print(\"Precison: \", metrics.precision_score(y_test, y_pred))\n",
    "\n",
    "display = PrecisionRecallDisplay.from_estimator(\n",
    "    lsvc, X_test, y_test, name=\"SVC\"\n",
    ")\n",
    "_ = display.ax_.set_title(\"2-class Precision-Recall curve\")\n"
   ]
  },
  {
   "cell_type": "code",
   "execution_count": 471,
   "id": "d52f5de3",
   "metadata": {},
   "outputs": [
    {
     "name": "stdout",
     "output_type": "stream",
     "text": [
      "0.8598130841121495\n",
      "REcall:  0.15384615384615385\n",
      "Precison:  1.0\n",
      "Accuracy:  0.8804347826086957\n"
     ]
    },
    {
     "data": {
      "text/html": [
       "<div>\n",
       "<style scoped>\n",
       "    .dataframe tbody tr th:only-of-type {\n",
       "        vertical-align: middle;\n",
       "    }\n",
       "\n",
       "    .dataframe tbody tr th {\n",
       "        vertical-align: top;\n",
       "    }\n",
       "\n",
       "    .dataframe thead th {\n",
       "        text-align: right;\n",
       "    }\n",
       "</style>\n",
       "<table border=\"1\" class=\"dataframe\">\n",
       "  <thead>\n",
       "    <tr style=\"text-align: right;\">\n",
       "      <th></th>\n",
       "      <th>fit_time</th>\n",
       "      <th>score_time</th>\n",
       "      <th>test_accuracy</th>\n",
       "      <th>test_precision</th>\n",
       "      <th>test_recall</th>\n",
       "      <th>test_f1</th>\n",
       "      <th>test_roc_auc</th>\n",
       "    </tr>\n",
       "  </thead>\n",
       "  <tbody>\n",
       "    <tr>\n",
       "      <th>0</th>\n",
       "      <td>0.006989</td>\n",
       "      <td>0.005999</td>\n",
       "      <td>0.837209</td>\n",
       "      <td>0.0</td>\n",
       "      <td>0.000000</td>\n",
       "      <td>0.000000</td>\n",
       "      <td>0.630952</td>\n",
       "    </tr>\n",
       "    <tr>\n",
       "      <th>1</th>\n",
       "      <td>0.012001</td>\n",
       "      <td>0.011007</td>\n",
       "      <td>0.860465</td>\n",
       "      <td>0.0</td>\n",
       "      <td>0.000000</td>\n",
       "      <td>0.000000</td>\n",
       "      <td>0.702703</td>\n",
       "    </tr>\n",
       "    <tr>\n",
       "      <th>2</th>\n",
       "      <td>0.013002</td>\n",
       "      <td>0.010005</td>\n",
       "      <td>0.837209</td>\n",
       "      <td>0.0</td>\n",
       "      <td>0.000000</td>\n",
       "      <td>0.000000</td>\n",
       "      <td>0.761261</td>\n",
       "    </tr>\n",
       "    <tr>\n",
       "      <th>3</th>\n",
       "      <td>0.014002</td>\n",
       "      <td>0.010002</td>\n",
       "      <td>0.860465</td>\n",
       "      <td>0.5</td>\n",
       "      <td>0.166667</td>\n",
       "      <td>0.250000</td>\n",
       "      <td>0.500000</td>\n",
       "    </tr>\n",
       "    <tr>\n",
       "      <th>4</th>\n",
       "      <td>0.017006</td>\n",
       "      <td>0.011000</td>\n",
       "      <td>0.880952</td>\n",
       "      <td>1.0</td>\n",
       "      <td>0.166667</td>\n",
       "      <td>0.285714</td>\n",
       "      <td>0.606481</td>\n",
       "    </tr>\n",
       "  </tbody>\n",
       "</table>\n",
       "</div>"
      ],
      "text/plain": [
       "   fit_time  score_time  test_accuracy  test_precision  test_recall   test_f1  \\\n",
       "0  0.006989    0.005999       0.837209             0.0     0.000000  0.000000   \n",
       "1  0.012001    0.011007       0.860465             0.0     0.000000  0.000000   \n",
       "2  0.013002    0.010005       0.837209             0.0     0.000000  0.000000   \n",
       "3  0.014002    0.010002       0.860465             0.5     0.166667  0.250000   \n",
       "4  0.017006    0.011000       0.880952             1.0     0.166667  0.285714   \n",
       "\n",
       "   test_roc_auc  \n",
       "0      0.630952  \n",
       "1      0.702703  \n",
       "2      0.761261  \n",
       "3      0.500000  \n",
       "4      0.606481  "
      ]
     },
     "execution_count": 471,
     "metadata": {},
     "output_type": "execute_result"
    },
    {
     "data": {
      "image/png": "[encoded data removed]",
      "text/plain": [
       "<Figure size 432x288 with 1 Axes>"
      ]
     },
     "metadata": {
      "needs_background": "light"
     },
     "output_type": "display_data"
    }
   ],
   "source": [
    "from sklearn.linear_model import LogisticRegression\n",
    "from imblearn.over_sampling import SMOTE\n",
    "from sklearn.metrics import PrecisionRecallDisplay\n",
    "\n",
    "# oversample = SMOTE()\n",
    "# X_train_smote, y_train_smote = oversample.fit_resample(X_train, y_train)\n",
    "\n",
    "logisticRegr = LogisticRegression(solver = 'lbfgs')\n",
    "\n",
    "logisticRegr.fit(X_train, y_train)\n",
    "y_pred = logisticRegr.predict(X_test)\n",
    "\n",
    "score = logisticRegr.score(X_train, y_train)\n",
    "print(score)\n",
    "print(\"REcall: \", metrics.recall_score(y_test, y_pred))\n",
    "print(\"Precison: \", metrics.precision_score(y_test, y_pred))\n",
    "print(\"Accuracy: \", metrics.accuracy_score(y_test, y_pred))\n",
    "\n",
    "display = PrecisionRecallDisplay.from_estimator(\n",
    "    logisticRegr, X_test, y_test, name=\"LogisticRegression\"\n",
    ")\n",
    "_ = display.ax_.set_title(\"2-class Precision-Recall curve\")\n",
    "\n",
    "# NOT SURE HOW IT WORKS\n",
    "\n",
    "# from sklearn.model_selection import cross_validate\n",
    "# scoring = {\"accuracy\": \"accuracy\",\n",
    "#            \"precision\": \"precision\",\n",
    "#            \"recall\": \"recall\",\n",
    "#            \"f1\": \"f1\",\n",
    "#            \"roc_auc\": \"roc_auc\"}\n",
    "# from sklearn.model_selection import RepeatedStratifiedKFold\n",
    "\n",
    "# k = 5\n",
    "# kr = 3\n",
    "# kf = RepeatedStratifiedKFold(n_splits=k, n_repeats=kr, random_state=0)\n",
    "# info = cross_validate(logisticRegr, X_train, y_train, scoring=scoring, cv=kf, n_jobs=-1)\n",
    "# pd.DataFrame(info).head()\n",
    "\n"
   ]
  },
  {
   "cell_type": "code",
   "execution_count": 455,
   "id": "aa79e18e",
   "metadata": {},
   "outputs": [
    {
     "name": "stdout",
     "output_type": "stream",
     "text": [
      "1.0\n",
      "REcall:  0.15384615384615385\n",
      "Precison:  0.4\n"
     ]
    },
    {
     "data": {
      "image/png": "[encoded data removed]",
      "text/plain": [
       "<Figure size 432x288 with 1 Axes>"
      ]
     },
     "metadata": {
      "needs_background": "light"
     },
     "output_type": "display_data"
    }
   ],
   "source": [
    "from lightgbm import LGBMClassifier\n",
    "from sklearn.metrics import PrecisionRecallDisplay\n",
    "from sklearn.metrics import PrecisionRecallDisplay\n",
    "\n",
    "lgbm = LGBMClassifier(objective='binary', random_state=0)\n",
    "lgbm.fit(X_train, y_train)\n",
    "\n",
    "\n",
    "y_pred = lgbm.predict(X_test)   \n",
    "lgbm.f1\n",
    "score = lgbm.score(X_train, y_train)\n",
    "print(score)\n",
    "print(\"REcall: \", metrics.recall_score(y_test, y_pred))\n",
    "print(\"Precison: \", metrics.precision_score(y_test, y_pred))\n",
    "\n",
    "\n",
    "display = PrecisionRecallDisplay.from_estimator(\n",
    "    lgbm, X_test, y_test, name=\"LGBM\"\n",
    ")\n",
    "_ = display.ax_.set_title(\"2-class Precision-Recall curve\")"
   ]
  }
 ],
 "metadata": {
  "kernelspec": {
   "display_name": "Python 3.9.12 ('base')",
   "language": "python",
   "name": "python3"
  },
  "language_info": {
   "codemirror_mode": {
    "name": "ipython",
    "version": 3
   },
   "file_extension": ".py",
   "mimetype": "text/x-python",
   "name": "python",
   "nbconvert_exporter": "python",
   "pygments_lexer": "ipython3",
   "version": "3.9.12"
  },
  "vscode": {
   "interpreter": {
    "hash": "51c9c7fdbb767fed1a0348eb7377f8e410be7a40828323ee18943d7f7de9ca3c"
   }
  }
 },
 "nbformat": 4,
 "nbformat_minor": 5
}
